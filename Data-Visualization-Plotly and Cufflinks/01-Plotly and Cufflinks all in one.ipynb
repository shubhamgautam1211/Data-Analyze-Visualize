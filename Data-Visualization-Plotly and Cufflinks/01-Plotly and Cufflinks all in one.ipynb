{
 "cells": [
  {
   "cell_type": "markdown",
   "metadata": {},
   "source": [
    "# Plotly and Cufflinks"
   ]
  },
  {
   "cell_type": "markdown",
   "metadata": {},
   "source": [
    "Plotly is a library that allows you to create interactive plots that you can use in dashboards or websites (you can save them as html files or static images).\n",
    "\n",
    "## Installation\n",
    "\n",
    "In order for this all to work, you'll need to install plotly and cufflinks to call plots directly off of a pandas dataframe. These libraries are not currently available through **conda** but are available through **pip**. Install the libraries at your command line/terminal using:\n",
    "\n",
    "    pip install plotly\n",
    "    pip install cufflinks\n",
    "\n",
    "** NOTE: Make sure you only have one installation of Python on your computer when you do this, otherwise the installation may not work. **\n",
    "\n",
    "## Imports and Set-up"
   ]
  },
  {
   "cell_type": "code",
   "execution_count": 3,
   "metadata": {},
   "outputs": [],
   "source": [
    "import pandas as pd\n",
    "import numpy as np\n",
    "%matplotlib inline"
   ]
  },
  {
   "cell_type": "code",
   "execution_count": 4,
   "metadata": {},
   "outputs": [
    {
     "name": "stdout",
     "output_type": "stream",
     "text": [
      "4.14.3\n"
     ]
    }
   ],
   "source": [
    "from plotly import __version__\n",
    "from plotly.offline import download_plotlyjs, init_notebook_mode, plot, iplot\n",
    "\n",
    "print(__version__) # requires version >= 1.9.0"
   ]
  },
  {
   "cell_type": "code",
   "execution_count": 5,
   "metadata": {},
   "outputs": [],
   "source": [
    "import cufflinks as cf"
   ]
  },
  {
   "cell_type": "code",
   "execution_count": 6,
   "metadata": {},
   "outputs": [
    {
     "data": {
      "text/html": [
       "        <script type=\"text/javascript\">\n",
       "        window.PlotlyConfig = {MathJaxConfig: 'local'};\n",
       "        if (window.MathJax) {MathJax.Hub.Config({SVG: {font: \"STIX-Web\"}});}\n",
       "        if (typeof require !== 'undefined') {\n",
       "        require.undef(\"plotly\");\n",
       "        requirejs.config({\n",
       "            paths: {\n",
       "                'plotly': ['https://cdn.plot.ly/plotly-latest.min']\n",
       "            }\n",
       "        });\n",
       "        require(['plotly'], function(Plotly) {\n",
       "            window._Plotly = Plotly;\n",
       "        });\n",
       "        }\n",
       "        </script>\n",
       "        "
      ]
     },
     "metadata": {},
     "output_type": "display_data"
    }
   ],
   "source": [
    "# For Notebooks\n",
    "init_notebook_mode(connected=True)"
   ]
  },
  {
   "cell_type": "code",
   "execution_count": 7,
   "metadata": {},
   "outputs": [
    {
     "data": {
      "text/html": [
       "        <script type=\"text/javascript\">\n",
       "        window.PlotlyConfig = {MathJaxConfig: 'local'};\n",
       "        if (window.MathJax) {MathJax.Hub.Config({SVG: {font: \"STIX-Web\"}});}\n",
       "        if (typeof require !== 'undefined') {\n",
       "        require.undef(\"plotly\");\n",
       "        requirejs.config({\n",
       "            paths: {\n",
       "                'plotly': ['https://cdn.plot.ly/plotly-latest.min']\n",
       "            }\n",
       "        });\n",
       "        require(['plotly'], function(Plotly) {\n",
       "            window._Plotly = Plotly;\n",
       "        });\n",
       "        }\n",
       "        </script>\n",
       "        "
      ]
     },
     "metadata": {},
     "output_type": "display_data"
    }
   ],
   "source": [
    "# For offline use\n",
    "cf.go_offline()"
   ]
  },
  {
   "cell_type": "markdown",
   "metadata": {},
   "source": [
    "### Fake Data"
   ]
  },
  {
   "cell_type": "code",
   "execution_count": 8,
   "metadata": {},
   "outputs": [],
   "source": [
    "df = pd.DataFrame(np.random.randn(100,4),columns='A B C D'.split())"
   ]
  },
  {
   "cell_type": "code",
   "execution_count": 9,
   "metadata": {},
   "outputs": [
    {
     "data": {
      "text/html": [
       "<div>\n",
       "<style scoped>\n",
       "    .dataframe tbody tr th:only-of-type {\n",
       "        vertical-align: middle;\n",
       "    }\n",
       "\n",
       "    .dataframe tbody tr th {\n",
       "        vertical-align: top;\n",
       "    }\n",
       "\n",
       "    .dataframe thead th {\n",
       "        text-align: right;\n",
       "    }\n",
       "</style>\n",
       "<table border=\"1\" class=\"dataframe\">\n",
       "  <thead>\n",
       "    <tr style=\"text-align: right;\">\n",
       "      <th></th>\n",
       "      <th>A</th>\n",
       "      <th>B</th>\n",
       "      <th>C</th>\n",
       "      <th>D</th>\n",
       "    </tr>\n",
       "  </thead>\n",
       "  <tbody>\n",
       "    <tr>\n",
       "      <th>0</th>\n",
       "      <td>-0.194130</td>\n",
       "      <td>-1.361107</td>\n",
       "      <td>1.114000</td>\n",
       "      <td>0.532075</td>\n",
       "    </tr>\n",
       "    <tr>\n",
       "      <th>1</th>\n",
       "      <td>1.687345</td>\n",
       "      <td>-0.940493</td>\n",
       "      <td>0.917911</td>\n",
       "      <td>-0.449759</td>\n",
       "    </tr>\n",
       "    <tr>\n",
       "      <th>2</th>\n",
       "      <td>-0.060338</td>\n",
       "      <td>1.372212</td>\n",
       "      <td>-1.188894</td>\n",
       "      <td>-1.677166</td>\n",
       "    </tr>\n",
       "    <tr>\n",
       "      <th>3</th>\n",
       "      <td>1.127242</td>\n",
       "      <td>1.732235</td>\n",
       "      <td>-0.131141</td>\n",
       "      <td>-0.440916</td>\n",
       "    </tr>\n",
       "    <tr>\n",
       "      <th>4</th>\n",
       "      <td>0.424948</td>\n",
       "      <td>-0.306941</td>\n",
       "      <td>-0.507307</td>\n",
       "      <td>-1.285131</td>\n",
       "    </tr>\n",
       "  </tbody>\n",
       "</table>\n",
       "</div>"
      ],
      "text/plain": [
       "          A         B         C         D\n",
       "0 -0.194130 -1.361107  1.114000  0.532075\n",
       "1  1.687345 -0.940493  0.917911 -0.449759\n",
       "2 -0.060338  1.372212 -1.188894 -1.677166\n",
       "3  1.127242  1.732235 -0.131141 -0.440916\n",
       "4  0.424948 -0.306941 -0.507307 -1.285131"
      ]
     },
     "execution_count": 9,
     "metadata": {},
     "output_type": "execute_result"
    }
   ],
   "source": [
    "df.head()"
   ]
  },
  {
   "cell_type": "code",
   "execution_count": 10,
   "metadata": {},
   "outputs": [],
   "source": [
    "df2 = pd.DataFrame({'Category':['A','B','C'],'Values':[32,43,50]})"
   ]
  },
  {
   "cell_type": "code",
   "execution_count": 11,
   "metadata": {},
   "outputs": [
    {
     "data": {
      "text/html": [
       "<div>\n",
       "<style scoped>\n",
       "    .dataframe tbody tr th:only-of-type {\n",
       "        vertical-align: middle;\n",
       "    }\n",
       "\n",
       "    .dataframe tbody tr th {\n",
       "        vertical-align: top;\n",
       "    }\n",
       "\n",
       "    .dataframe thead th {\n",
       "        text-align: right;\n",
       "    }\n",
       "</style>\n",
       "<table border=\"1\" class=\"dataframe\">\n",
       "  <thead>\n",
       "    <tr style=\"text-align: right;\">\n",
       "      <th></th>\n",
       "      <th>Category</th>\n",
       "      <th>Values</th>\n",
       "    </tr>\n",
       "  </thead>\n",
       "  <tbody>\n",
       "    <tr>\n",
       "      <th>0</th>\n",
       "      <td>A</td>\n",
       "      <td>32</td>\n",
       "    </tr>\n",
       "    <tr>\n",
       "      <th>1</th>\n",
       "      <td>B</td>\n",
       "      <td>43</td>\n",
       "    </tr>\n",
       "    <tr>\n",
       "      <th>2</th>\n",
       "      <td>C</td>\n",
       "      <td>50</td>\n",
       "    </tr>\n",
       "  </tbody>\n",
       "</table>\n",
       "</div>"
      ],
      "text/plain": [
       "  Category  Values\n",
       "0        A      32\n",
       "1        B      43\n",
       "2        C      50"
      ]
     },
     "execution_count": 11,
     "metadata": {},
     "output_type": "execute_result"
    }
   ],
   "source": [
    "df2.head()"
   ]
  },
  {
   "cell_type": "markdown",
   "metadata": {},
   "source": [
    "## Using Cufflinks and iplot()\n",
    "\n",
    "* scatter\n",
    "* bar\n",
    "* box\n",
    "* spread\n",
    "* ratio\n",
    "* heatmap\n",
    "* surface\n",
    "* histogram\n",
    "* bubble"
   ]
  },
  {
   "cell_type": "markdown",
   "metadata": {},
   "source": [
    "## Scatter"
   ]
  },
  {
   "cell_type": "code",
   "execution_count": 12,
   "metadata": {},
   "outputs": [
    {
     "data": {
      "application/vnd.plotly.v1+json": {
       "config": {
        "linkText": "Export to plot.ly",
        "plotlyServerURL": "https://plot.ly",
        "showLink": true
       },
       "data": [
        {
         "line": {
          "color": "rgba(255, 153, 51, 1.0)",
          "dash": "solid",
          "shape": "linear",
          "width": 1.3
         },
         "marker": {
          "size": 10,
          "symbol": "circle"
         },
         "mode": "markers",
         "name": "B",
         "text": "",
         "type": "scatter",
         "x": [
          -0.19413006811794645,
          1.6873452436372878,
          -0.06033814051572481,
          1.127241606699178,
          0.4249481578883776,
          -0.474771738742198,
          0.698211057555185,
          2.3585197847599058,
          0.2525076034946605,
          -1.0036563379066212,
          0.6536456432532819,
          -0.49369169397422796,
          -0.040726414634479166,
          -1.2885506743387969,
          -0.6020672152154837,
          -0.3648634665112078,
          0.8550055279946877,
          -0.17651701401783582,
          -0.19397655363332744,
          -0.5974369876080038,
          1.0008277559296812,
          1.3800382984728465,
          1.842995649951157,
          -0.3934532452291988,
          1.775188837143746,
          -0.10482980330404865,
          1.4332963698722747,
          2.104609929509668,
          -1.3107212075382997,
          -1.4251183393240168,
          -1.7439730133074343,
          0.13983069925649397,
          -0.1489846483553503,
          1.2371640170336395,
          1.4546617303712968,
          -1.9221666452059851,
          1.1196152585742165,
          -1.5414060431672485,
          0.23091464060285513,
          -0.1795998073426502,
          0.3568798660024454,
          0.07031144664084961,
          -0.2847388574307799,
          -2.0255021671344045,
          -0.8162924399503177,
          -1.1554189247537237,
          0.3272815669839693,
          1.2433458954860341,
          -0.8592310438158935,
          -0.12255589607043708,
          -2.9330462306596297,
          0.825075419527729,
          -1.3838364250794792,
          0.47002291759059917,
          0.16019366964864235,
          -0.6695497233597274,
          0.6571492065201427,
          -1.0362928866265888,
          0.6000371947768279,
          -1.0852365770917878,
          0.6699417739632818,
          -0.7799693098199959,
          -2.0855814299603646,
          -0.44145574032885965,
          -1.2931539005533357,
          0.2526285871877972,
          0.43845672549827974,
          -2.308093329442031,
          -1.0337271695209675,
          -1.3010430922089382,
          -0.7449131497770748,
          1.2401792295516962,
          0.6122413017452012,
          0.8534369987201077,
          1.312831009581544,
          1.662951815482871,
          -0.3316120266169116,
          1.743694974660214,
          -0.13013299703260145,
          -0.29376058235490393,
          -1.0956253739601314,
          -0.8838304978530539,
          -1.8595140265346404,
          0.9873673295542541,
          -1.169455618514835,
          -1.3958825951619405,
          0.934004187216018,
          0.5383689930416583,
          0.8591407374766785,
          -0.720859277854418,
          0.42481480563062385,
          0.853917076970644,
          -0.49934487596276067,
          -1.3070911630905448,
          -0.48970691464979793,
          -0.4844952353948526,
          -0.5719609784077725,
          -1.1871246172535055,
          1.3930489740217789,
          1.0687185676705941
         ],
         "y": [
          -1.3611066114771493,
          -0.9404925242020148,
          1.3722116473992234,
          1.7322354728534157,
          -0.30694083887020157,
          1.309104354467893,
          0.5167954353662241,
          1.6441571752434938,
          -0.4134000317423506,
          0.5862823464153141,
          -0.3656583696810447,
          -0.40036097875741194,
          -1.9283670925827068,
          -0.0708327897680354,
          1.1470858843451797,
          0.5255863969656889,
          2.068481598216057,
          -0.49383691804073476,
          -1.487171100606758,
          0.4061167279907759,
          -0.8039282604159369,
          -0.6138178483047706,
          -1.9994750228413507,
          -0.004233993427505336,
          -0.49269365124873,
          1.237631824582306,
          -0.2949322231299584,
          2.1918300320617243,
          0.07799139301538806,
          -1.1305133413357529,
          1.0476162128924136,
          0.3538543745858851,
          -0.6868036177964602,
          -0.11308818102274441,
          0.038389249561694566,
          -0.4257780082736259,
          0.30863654237506444,
          -0.9622296623279092,
          -1.4032359603804845,
          0.17011448873309684,
          -0.35102564009368653,
          1.6472531050230457,
          -0.0017095784216665632,
          -0.0802585463635855,
          -0.575165817878663,
          -0.1657590963488005,
          -0.3027385815977633,
          -1.9616424942909296,
          -1.0595263589326296,
          0.28209798325173263,
          -2.0820126828445544,
          1.8275024342636472,
          0.5621274107848366,
          1.2420771711415866,
          0.7722407212744912,
          -0.9751223011313264,
          -1.102383352433531,
          0.4918739774394961,
          0.3487522046764612,
          -1.54710965071441,
          -0.8007558152026161,
          -0.9175078799164796,
          -0.7142573010425983,
          0.07227775378214862,
          0.9006310625650061,
          0.5780860324163493,
          -0.6580487515865606,
          -0.9596497293206537,
          0.9447780056152655,
          0.22755580790266747,
          -0.9266910380099435,
          0.623537292539532,
          1.5961122826254042,
          1.625671033487804,
          0.20979766304248096,
          0.997780750833331,
          -0.2060883820505985,
          -1.0512210349747726,
          -0.5917818884538694,
          0.14740204061721746,
          1.108594612789978,
          -0.7950490675748462,
          1.0228236643021653,
          -0.6954751231068863,
          0.6351958883736164,
          0.5992249242207415,
          -1.1854834697675771,
          -0.9681946986435691,
          1.2351166042413806,
          -0.5123916078822467,
          0.3585394032102082,
          1.4113603363595246,
          -0.41841125808042157,
          -1.113792321118681,
          0.6698608955320294,
          -1.0729019997914118,
          0.7960213296027061,
          0.016233231262760002,
          -0.8170973228582855,
          0.9156937186180036
         ]
        }
       ],
       "layout": {
        "legend": {
         "bgcolor": "#F5F6F9",
         "font": {
          "color": "#4D5663"
         }
        },
        "paper_bgcolor": "#F5F6F9",
        "plot_bgcolor": "#F5F6F9",
        "template": {
         "data": {
          "bar": [
           {
            "error_x": {
             "color": "#2a3f5f"
            },
            "error_y": {
             "color": "#2a3f5f"
            },
            "marker": {
             "line": {
              "color": "#E5ECF6",
              "width": 0.5
             }
            },
            "type": "bar"
           }
          ],
          "barpolar": [
           {
            "marker": {
             "line": {
              "color": "#E5ECF6",
              "width": 0.5
             }
            },
            "type": "barpolar"
           }
          ],
          "carpet": [
           {
            "aaxis": {
             "endlinecolor": "#2a3f5f",
             "gridcolor": "white",
             "linecolor": "white",
             "minorgridcolor": "white",
             "startlinecolor": "#2a3f5f"
            },
            "baxis": {
             "endlinecolor": "#2a3f5f",
             "gridcolor": "white",
             "linecolor": "white",
             "minorgridcolor": "white",
             "startlinecolor": "#2a3f5f"
            },
            "type": "carpet"
           }
          ],
          "choropleth": [
           {
            "colorbar": {
             "outlinewidth": 0,
             "ticks": ""
            },
            "type": "choropleth"
           }
          ],
          "contour": [
           {
            "colorbar": {
             "outlinewidth": 0,
             "ticks": ""
            },
            "colorscale": [
             [
              0,
              "#0d0887"
             ],
             [
              0.1111111111111111,
              "#46039f"
             ],
             [
              0.2222222222222222,
              "#7201a8"
             ],
             [
              0.3333333333333333,
              "#9c179e"
             ],
             [
              0.4444444444444444,
              "#bd3786"
             ],
             [
              0.5555555555555556,
              "#d8576b"
             ],
             [
              0.6666666666666666,
              "#ed7953"
             ],
             [
              0.7777777777777778,
              "#fb9f3a"
             ],
             [
              0.8888888888888888,
              "#fdca26"
             ],
             [
              1,
              "#f0f921"
             ]
            ],
            "type": "contour"
           }
          ],
          "contourcarpet": [
           {
            "colorbar": {
             "outlinewidth": 0,
             "ticks": ""
            },
            "type": "contourcarpet"
           }
          ],
          "heatmap": [
           {
            "colorbar": {
             "outlinewidth": 0,
             "ticks": ""
            },
            "colorscale": [
             [
              0,
              "#0d0887"
             ],
             [
              0.1111111111111111,
              "#46039f"
             ],
             [
              0.2222222222222222,
              "#7201a8"
             ],
             [
              0.3333333333333333,
              "#9c179e"
             ],
             [
              0.4444444444444444,
              "#bd3786"
             ],
             [
              0.5555555555555556,
              "#d8576b"
             ],
             [
              0.6666666666666666,
              "#ed7953"
             ],
             [
              0.7777777777777778,
              "#fb9f3a"
             ],
             [
              0.8888888888888888,
              "#fdca26"
             ],
             [
              1,
              "#f0f921"
             ]
            ],
            "type": "heatmap"
           }
          ],
          "heatmapgl": [
           {
            "colorbar": {
             "outlinewidth": 0,
             "ticks": ""
            },
            "colorscale": [
             [
              0,
              "#0d0887"
             ],
             [
              0.1111111111111111,
              "#46039f"
             ],
             [
              0.2222222222222222,
              "#7201a8"
             ],
             [
              0.3333333333333333,
              "#9c179e"
             ],
             [
              0.4444444444444444,
              "#bd3786"
             ],
             [
              0.5555555555555556,
              "#d8576b"
             ],
             [
              0.6666666666666666,
              "#ed7953"
             ],
             [
              0.7777777777777778,
              "#fb9f3a"
             ],
             [
              0.8888888888888888,
              "#fdca26"
             ],
             [
              1,
              "#f0f921"
             ]
            ],
            "type": "heatmapgl"
           }
          ],
          "histogram": [
           {
            "marker": {
             "colorbar": {
              "outlinewidth": 0,
              "ticks": ""
             }
            },
            "type": "histogram"
           }
          ],
          "histogram2d": [
           {
            "colorbar": {
             "outlinewidth": 0,
             "ticks": ""
            },
            "colorscale": [
             [
              0,
              "#0d0887"
             ],
             [
              0.1111111111111111,
              "#46039f"
             ],
             [
              0.2222222222222222,
              "#7201a8"
             ],
             [
              0.3333333333333333,
              "#9c179e"
             ],
             [
              0.4444444444444444,
              "#bd3786"
             ],
             [
              0.5555555555555556,
              "#d8576b"
             ],
             [
              0.6666666666666666,
              "#ed7953"
             ],
             [
              0.7777777777777778,
              "#fb9f3a"
             ],
             [
              0.8888888888888888,
              "#fdca26"
             ],
             [
              1,
              "#f0f921"
             ]
            ],
            "type": "histogram2d"
           }
          ],
          "histogram2dcontour": [
           {
            "colorbar": {
             "outlinewidth": 0,
             "ticks": ""
            },
            "colorscale": [
             [
              0,
              "#0d0887"
             ],
             [
              0.1111111111111111,
              "#46039f"
             ],
             [
              0.2222222222222222,
              "#7201a8"
             ],
             [
              0.3333333333333333,
              "#9c179e"
             ],
             [
              0.4444444444444444,
              "#bd3786"
             ],
             [
              0.5555555555555556,
              "#d8576b"
             ],
             [
              0.6666666666666666,
              "#ed7953"
             ],
             [
              0.7777777777777778,
              "#fb9f3a"
             ],
             [
              0.8888888888888888,
              "#fdca26"
             ],
             [
              1,
              "#f0f921"
             ]
            ],
            "type": "histogram2dcontour"
           }
          ],
          "mesh3d": [
           {
            "colorbar": {
             "outlinewidth": 0,
             "ticks": ""
            },
            "type": "mesh3d"
           }
          ],
          "parcoords": [
           {
            "line": {
             "colorbar": {
              "outlinewidth": 0,
              "ticks": ""
             }
            },
            "type": "parcoords"
           }
          ],
          "pie": [
           {
            "automargin": true,
            "type": "pie"
           }
          ],
          "scatter": [
           {
            "marker": {
             "colorbar": {
              "outlinewidth": 0,
              "ticks": ""
             }
            },
            "type": "scatter"
           }
          ],
          "scatter3d": [
           {
            "line": {
             "colorbar": {
              "outlinewidth": 0,
              "ticks": ""
             }
            },
            "marker": {
             "colorbar": {
              "outlinewidth": 0,
              "ticks": ""
             }
            },
            "type": "scatter3d"
           }
          ],
          "scattercarpet": [
           {
            "marker": {
             "colorbar": {
              "outlinewidth": 0,
              "ticks": ""
             }
            },
            "type": "scattercarpet"
           }
          ],
          "scattergeo": [
           {
            "marker": {
             "colorbar": {
              "outlinewidth": 0,
              "ticks": ""
             }
            },
            "type": "scattergeo"
           }
          ],
          "scattergl": [
           {
            "marker": {
             "colorbar": {
              "outlinewidth": 0,
              "ticks": ""
             }
            },
            "type": "scattergl"
           }
          ],
          "scattermapbox": [
           {
            "marker": {
             "colorbar": {
              "outlinewidth": 0,
              "ticks": ""
             }
            },
            "type": "scattermapbox"
           }
          ],
          "scatterpolar": [
           {
            "marker": {
             "colorbar": {
              "outlinewidth": 0,
              "ticks": ""
             }
            },
            "type": "scatterpolar"
           }
          ],
          "scatterpolargl": [
           {
            "marker": {
             "colorbar": {
              "outlinewidth": 0,
              "ticks": ""
             }
            },
            "type": "scatterpolargl"
           }
          ],
          "scatterternary": [
           {
            "marker": {
             "colorbar": {
              "outlinewidth": 0,
              "ticks": ""
             }
            },
            "type": "scatterternary"
           }
          ],
          "surface": [
           {
            "colorbar": {
             "outlinewidth": 0,
             "ticks": ""
            },
            "colorscale": [
             [
              0,
              "#0d0887"
             ],
             [
              0.1111111111111111,
              "#46039f"
             ],
             [
              0.2222222222222222,
              "#7201a8"
             ],
             [
              0.3333333333333333,
              "#9c179e"
             ],
             [
              0.4444444444444444,
              "#bd3786"
             ],
             [
              0.5555555555555556,
              "#d8576b"
             ],
             [
              0.6666666666666666,
              "#ed7953"
             ],
             [
              0.7777777777777778,
              "#fb9f3a"
             ],
             [
              0.8888888888888888,
              "#fdca26"
             ],
             [
              1,
              "#f0f921"
             ]
            ],
            "type": "surface"
           }
          ],
          "table": [
           {
            "cells": {
             "fill": {
              "color": "#EBF0F8"
             },
             "line": {
              "color": "white"
             }
            },
            "header": {
             "fill": {
              "color": "#C8D4E3"
             },
             "line": {
              "color": "white"
             }
            },
            "type": "table"
           }
          ]
         },
         "layout": {
          "annotationdefaults": {
           "arrowcolor": "#2a3f5f",
           "arrowhead": 0,
           "arrowwidth": 1
          },
          "autotypenumbers": "strict",
          "coloraxis": {
           "colorbar": {
            "outlinewidth": 0,
            "ticks": ""
           }
          },
          "colorscale": {
           "diverging": [
            [
             0,
             "#8e0152"
            ],
            [
             0.1,
             "#c51b7d"
            ],
            [
             0.2,
             "#de77ae"
            ],
            [
             0.3,
             "#f1b6da"
            ],
            [
             0.4,
             "#fde0ef"
            ],
            [
             0.5,
             "#f7f7f7"
            ],
            [
             0.6,
             "#e6f5d0"
            ],
            [
             0.7,
             "#b8e186"
            ],
            [
             0.8,
             "#7fbc41"
            ],
            [
             0.9,
             "#4d9221"
            ],
            [
             1,
             "#276419"
            ]
           ],
           "sequential": [
            [
             0,
             "#0d0887"
            ],
            [
             0.1111111111111111,
             "#46039f"
            ],
            [
             0.2222222222222222,
             "#7201a8"
            ],
            [
             0.3333333333333333,
             "#9c179e"
            ],
            [
             0.4444444444444444,
             "#bd3786"
            ],
            [
             0.5555555555555556,
             "#d8576b"
            ],
            [
             0.6666666666666666,
             "#ed7953"
            ],
            [
             0.7777777777777778,
             "#fb9f3a"
            ],
            [
             0.8888888888888888,
             "#fdca26"
            ],
            [
             1,
             "#f0f921"
            ]
           ],
           "sequentialminus": [
            [
             0,
             "#0d0887"
            ],
            [
             0.1111111111111111,
             "#46039f"
            ],
            [
             0.2222222222222222,
             "#7201a8"
            ],
            [
             0.3333333333333333,
             "#9c179e"
            ],
            [
             0.4444444444444444,
             "#bd3786"
            ],
            [
             0.5555555555555556,
             "#d8576b"
            ],
            [
             0.6666666666666666,
             "#ed7953"
            ],
            [
             0.7777777777777778,
             "#fb9f3a"
            ],
            [
             0.8888888888888888,
             "#fdca26"
            ],
            [
             1,
             "#f0f921"
            ]
           ]
          },
          "colorway": [
           "#636efa",
           "#EF553B",
           "#00cc96",
           "#ab63fa",
           "#FFA15A",
           "#19d3f3",
           "#FF6692",
           "#B6E880",
           "#FF97FF",
           "#FECB52"
          ],
          "font": {
           "color": "#2a3f5f"
          },
          "geo": {
           "bgcolor": "white",
           "lakecolor": "white",
           "landcolor": "#E5ECF6",
           "showlakes": true,
           "showland": true,
           "subunitcolor": "white"
          },
          "hoverlabel": {
           "align": "left"
          },
          "hovermode": "closest",
          "mapbox": {
           "style": "light"
          },
          "paper_bgcolor": "white",
          "plot_bgcolor": "#E5ECF6",
          "polar": {
           "angularaxis": {
            "gridcolor": "white",
            "linecolor": "white",
            "ticks": ""
           },
           "bgcolor": "#E5ECF6",
           "radialaxis": {
            "gridcolor": "white",
            "linecolor": "white",
            "ticks": ""
           }
          },
          "scene": {
           "xaxis": {
            "backgroundcolor": "#E5ECF6",
            "gridcolor": "white",
            "gridwidth": 2,
            "linecolor": "white",
            "showbackground": true,
            "ticks": "",
            "zerolinecolor": "white"
           },
           "yaxis": {
            "backgroundcolor": "#E5ECF6",
            "gridcolor": "white",
            "gridwidth": 2,
            "linecolor": "white",
            "showbackground": true,
            "ticks": "",
            "zerolinecolor": "white"
           },
           "zaxis": {
            "backgroundcolor": "#E5ECF6",
            "gridcolor": "white",
            "gridwidth": 2,
            "linecolor": "white",
            "showbackground": true,
            "ticks": "",
            "zerolinecolor": "white"
           }
          },
          "shapedefaults": {
           "line": {
            "color": "#2a3f5f"
           }
          },
          "ternary": {
           "aaxis": {
            "gridcolor": "white",
            "linecolor": "white",
            "ticks": ""
           },
           "baxis": {
            "gridcolor": "white",
            "linecolor": "white",
            "ticks": ""
           },
           "bgcolor": "#E5ECF6",
           "caxis": {
            "gridcolor": "white",
            "linecolor": "white",
            "ticks": ""
           }
          },
          "title": {
           "x": 0.05
          },
          "xaxis": {
           "automargin": true,
           "gridcolor": "white",
           "linecolor": "white",
           "ticks": "",
           "title": {
            "standoff": 15
           },
           "zerolinecolor": "white",
           "zerolinewidth": 2
          },
          "yaxis": {
           "automargin": true,
           "gridcolor": "white",
           "linecolor": "white",
           "ticks": "",
           "title": {
            "standoff": 15
           },
           "zerolinecolor": "white",
           "zerolinewidth": 2
          }
         }
        },
        "title": {
         "font": {
          "color": "#4D5663"
         }
        },
        "xaxis": {
         "gridcolor": "#E1E5ED",
         "showgrid": true,
         "tickfont": {
          "color": "#4D5663"
         },
         "title": {
          "font": {
           "color": "#4D5663"
          },
          "text": ""
         },
         "zerolinecolor": "#E1E5ED"
        },
        "yaxis": {
         "gridcolor": "#E1E5ED",
         "showgrid": true,
         "tickfont": {
          "color": "#4D5663"
         },
         "title": {
          "font": {
           "color": "#4D5663"
          },
          "text": ""
         },
         "zerolinecolor": "#E1E5ED"
        }
       }
      },
      "text/html": [
       "<div>                            <div id=\"21e418fc-fd4d-47a0-8904-499e96652040\" class=\"plotly-graph-div\" style=\"height:525px; width:100%;\"></div>            <script type=\"text/javascript\">                require([\"plotly\"], function(Plotly) {                    window.PLOTLYENV=window.PLOTLYENV || {};\n",
       "                    window.PLOTLYENV.BASE_URL='https://plot.ly';                                    if (document.getElementById(\"21e418fc-fd4d-47a0-8904-499e96652040\")) {                    Plotly.newPlot(                        \"21e418fc-fd4d-47a0-8904-499e96652040\",                        [{\"line\": {\"color\": \"rgba(255, 153, 51, 1.0)\", \"dash\": \"solid\", \"shape\": \"linear\", \"width\": 1.3}, \"marker\": {\"size\": 10, \"symbol\": \"circle\"}, \"mode\": \"markers\", \"name\": \"B\", \"text\": \"\", \"type\": \"scatter\", \"x\": [-0.19413006811794645, 1.6873452436372878, -0.06033814051572481, 1.127241606699178, 0.4249481578883776, -0.474771738742198, 0.698211057555185, 2.3585197847599058, 0.2525076034946605, -1.0036563379066212, 0.6536456432532819, -0.49369169397422796, -0.040726414634479166, -1.2885506743387969, -0.6020672152154837, -0.3648634665112078, 0.8550055279946877, -0.17651701401783582, -0.19397655363332744, -0.5974369876080038, 1.0008277559296812, 1.3800382984728465, 1.842995649951157, -0.3934532452291988, 1.775188837143746, -0.10482980330404865, 1.4332963698722747, 2.104609929509668, -1.3107212075382997, -1.4251183393240168, -1.7439730133074343, 0.13983069925649397, -0.1489846483553503, 1.2371640170336395, 1.4546617303712968, -1.9221666452059851, 1.1196152585742165, -1.5414060431672485, 0.23091464060285513, -0.1795998073426502, 0.3568798660024454, 0.07031144664084961, -0.2847388574307799, -2.0255021671344045, -0.8162924399503177, -1.1554189247537237, 0.3272815669839693, 1.2433458954860341, -0.8592310438158935, -0.12255589607043708, -2.9330462306596297, 0.825075419527729, -1.3838364250794792, 0.47002291759059917, 0.16019366964864235, -0.6695497233597274, 0.6571492065201427, -1.0362928866265888, 0.6000371947768279, -1.0852365770917878, 0.6699417739632818, -0.7799693098199959, -2.0855814299603646, -0.44145574032885965, -1.2931539005533357, 0.2526285871877972, 0.43845672549827974, -2.308093329442031, -1.0337271695209675, -1.3010430922089382, -0.7449131497770748, 1.2401792295516962, 0.6122413017452012, 0.8534369987201077, 1.312831009581544, 1.662951815482871, -0.3316120266169116, 1.743694974660214, -0.13013299703260145, -0.29376058235490393, -1.0956253739601314, -0.8838304978530539, -1.8595140265346404, 0.9873673295542541, -1.169455618514835, -1.3958825951619405, 0.934004187216018, 0.5383689930416583, 0.8591407374766785, -0.720859277854418, 0.42481480563062385, 0.853917076970644, -0.49934487596276067, -1.3070911630905448, -0.48970691464979793, -0.4844952353948526, -0.5719609784077725, -1.1871246172535055, 1.3930489740217789, 1.0687185676705941], \"y\": [-1.3611066114771493, -0.9404925242020148, 1.3722116473992234, 1.7322354728534157, -0.30694083887020157, 1.309104354467893, 0.5167954353662241, 1.6441571752434938, -0.4134000317423506, 0.5862823464153141, -0.3656583696810447, -0.40036097875741194, -1.9283670925827068, -0.0708327897680354, 1.1470858843451797, 0.5255863969656889, 2.068481598216057, -0.49383691804073476, -1.487171100606758, 0.4061167279907759, -0.8039282604159369, -0.6138178483047706, -1.9994750228413507, -0.004233993427505336, -0.49269365124873, 1.237631824582306, -0.2949322231299584, 2.1918300320617243, 0.07799139301538806, -1.1305133413357529, 1.0476162128924136, 0.3538543745858851, -0.6868036177964602, -0.11308818102274441, 0.038389249561694566, -0.4257780082736259, 0.30863654237506444, -0.9622296623279092, -1.4032359603804845, 0.17011448873309684, -0.35102564009368653, 1.6472531050230457, -0.0017095784216665632, -0.0802585463635855, -0.575165817878663, -0.1657590963488005, -0.3027385815977633, -1.9616424942909296, -1.0595263589326296, 0.28209798325173263, -2.0820126828445544, 1.8275024342636472, 0.5621274107848366, 1.2420771711415866, 0.7722407212744912, -0.9751223011313264, -1.102383352433531, 0.4918739774394961, 0.3487522046764612, -1.54710965071441, -0.8007558152026161, -0.9175078799164796, -0.7142573010425983, 0.07227775378214862, 0.9006310625650061, 0.5780860324163493, -0.6580487515865606, -0.9596497293206537, 0.9447780056152655, 0.22755580790266747, -0.9266910380099435, 0.623537292539532, 1.5961122826254042, 1.625671033487804, 0.20979766304248096, 0.997780750833331, -0.2060883820505985, -1.0512210349747726, -0.5917818884538694, 0.14740204061721746, 1.108594612789978, -0.7950490675748462, 1.0228236643021653, -0.6954751231068863, 0.6351958883736164, 0.5992249242207415, -1.1854834697675771, -0.9681946986435691, 1.2351166042413806, -0.5123916078822467, 0.3585394032102082, 1.4113603363595246, -0.41841125808042157, -1.113792321118681, 0.6698608955320294, -1.0729019997914118, 0.7960213296027061, 0.016233231262760002, -0.8170973228582855, 0.9156937186180036]}],                        {\"legend\": {\"bgcolor\": \"#F5F6F9\", \"font\": {\"color\": \"#4D5663\"}}, \"paper_bgcolor\": \"#F5F6F9\", \"plot_bgcolor\": \"#F5F6F9\", \"template\": {\"data\": {\"bar\": [{\"error_x\": {\"color\": \"#2a3f5f\"}, \"error_y\": {\"color\": \"#2a3f5f\"}, \"marker\": {\"line\": {\"color\": \"#E5ECF6\", \"width\": 0.5}}, \"type\": \"bar\"}], \"barpolar\": [{\"marker\": {\"line\": {\"color\": \"#E5ECF6\", \"width\": 0.5}}, \"type\": \"barpolar\"}], \"carpet\": [{\"aaxis\": {\"endlinecolor\": \"#2a3f5f\", \"gridcolor\": \"white\", \"linecolor\": \"white\", \"minorgridcolor\": \"white\", \"startlinecolor\": \"#2a3f5f\"}, \"baxis\": {\"endlinecolor\": \"#2a3f5f\", \"gridcolor\": \"white\", \"linecolor\": \"white\", \"minorgridcolor\": \"white\", \"startlinecolor\": \"#2a3f5f\"}, \"type\": \"carpet\"}], \"choropleth\": [{\"colorbar\": {\"outlinewidth\": 0, \"ticks\": \"\"}, \"type\": \"choropleth\"}], \"contour\": [{\"colorbar\": {\"outlinewidth\": 0, \"ticks\": \"\"}, \"colorscale\": [[0.0, \"#0d0887\"], [0.1111111111111111, \"#46039f\"], [0.2222222222222222, \"#7201a8\"], [0.3333333333333333, \"#9c179e\"], [0.4444444444444444, \"#bd3786\"], [0.5555555555555556, \"#d8576b\"], [0.6666666666666666, \"#ed7953\"], [0.7777777777777778, \"#fb9f3a\"], [0.8888888888888888, \"#fdca26\"], [1.0, \"#f0f921\"]], \"type\": \"contour\"}], \"contourcarpet\": [{\"colorbar\": {\"outlinewidth\": 0, \"ticks\": \"\"}, \"type\": \"contourcarpet\"}], \"heatmap\": [{\"colorbar\": {\"outlinewidth\": 0, \"ticks\": \"\"}, \"colorscale\": [[0.0, \"#0d0887\"], [0.1111111111111111, \"#46039f\"], [0.2222222222222222, \"#7201a8\"], [0.3333333333333333, \"#9c179e\"], [0.4444444444444444, \"#bd3786\"], [0.5555555555555556, \"#d8576b\"], [0.6666666666666666, \"#ed7953\"], [0.7777777777777778, \"#fb9f3a\"], [0.8888888888888888, \"#fdca26\"], [1.0, \"#f0f921\"]], \"type\": \"heatmap\"}], \"heatmapgl\": [{\"colorbar\": {\"outlinewidth\": 0, \"ticks\": \"\"}, \"colorscale\": [[0.0, \"#0d0887\"], [0.1111111111111111, \"#46039f\"], [0.2222222222222222, \"#7201a8\"], [0.3333333333333333, \"#9c179e\"], [0.4444444444444444, \"#bd3786\"], [0.5555555555555556, \"#d8576b\"], [0.6666666666666666, \"#ed7953\"], [0.7777777777777778, \"#fb9f3a\"], [0.8888888888888888, \"#fdca26\"], [1.0, \"#f0f921\"]], \"type\": \"heatmapgl\"}], \"histogram\": [{\"marker\": {\"colorbar\": {\"outlinewidth\": 0, \"ticks\": \"\"}}, \"type\": \"histogram\"}], \"histogram2d\": [{\"colorbar\": {\"outlinewidth\": 0, \"ticks\": \"\"}, \"colorscale\": [[0.0, \"#0d0887\"], [0.1111111111111111, \"#46039f\"], [0.2222222222222222, \"#7201a8\"], [0.3333333333333333, \"#9c179e\"], [0.4444444444444444, \"#bd3786\"], [0.5555555555555556, \"#d8576b\"], [0.6666666666666666, \"#ed7953\"], [0.7777777777777778, \"#fb9f3a\"], [0.8888888888888888, \"#fdca26\"], [1.0, \"#f0f921\"]], \"type\": \"histogram2d\"}], \"histogram2dcontour\": [{\"colorbar\": {\"outlinewidth\": 0, \"ticks\": \"\"}, \"colorscale\": [[0.0, \"#0d0887\"], [0.1111111111111111, \"#46039f\"], [0.2222222222222222, \"#7201a8\"], [0.3333333333333333, \"#9c179e\"], [0.4444444444444444, \"#bd3786\"], [0.5555555555555556, \"#d8576b\"], [0.6666666666666666, \"#ed7953\"], [0.7777777777777778, \"#fb9f3a\"], [0.8888888888888888, \"#fdca26\"], [1.0, \"#f0f921\"]], \"type\": \"histogram2dcontour\"}], \"mesh3d\": [{\"colorbar\": {\"outlinewidth\": 0, \"ticks\": \"\"}, \"type\": \"mesh3d\"}], \"parcoords\": [{\"line\": {\"colorbar\": {\"outlinewidth\": 0, \"ticks\": \"\"}}, \"type\": \"parcoords\"}], \"pie\": [{\"automargin\": true, \"type\": \"pie\"}], \"scatter\": [{\"marker\": {\"colorbar\": {\"outlinewidth\": 0, \"ticks\": \"\"}}, \"type\": \"scatter\"}], \"scatter3d\": [{\"line\": {\"colorbar\": {\"outlinewidth\": 0, \"ticks\": \"\"}}, \"marker\": {\"colorbar\": {\"outlinewidth\": 0, \"ticks\": \"\"}}, \"type\": \"scatter3d\"}], \"scattercarpet\": [{\"marker\": {\"colorbar\": {\"outlinewidth\": 0, \"ticks\": \"\"}}, \"type\": \"scattercarpet\"}], \"scattergeo\": [{\"marker\": {\"colorbar\": {\"outlinewidth\": 0, \"ticks\": \"\"}}, \"type\": \"scattergeo\"}], \"scattergl\": [{\"marker\": {\"colorbar\": {\"outlinewidth\": 0, \"ticks\": \"\"}}, \"type\": \"scattergl\"}], \"scattermapbox\": [{\"marker\": {\"colorbar\": {\"outlinewidth\": 0, \"ticks\": \"\"}}, \"type\": \"scattermapbox\"}], \"scatterpolar\": [{\"marker\": {\"colorbar\": {\"outlinewidth\": 0, \"ticks\": \"\"}}, \"type\": \"scatterpolar\"}], \"scatterpolargl\": [{\"marker\": {\"colorbar\": {\"outlinewidth\": 0, \"ticks\": \"\"}}, \"type\": \"scatterpolargl\"}], \"scatterternary\": [{\"marker\": {\"colorbar\": {\"outlinewidth\": 0, \"ticks\": \"\"}}, \"type\": \"scatterternary\"}], \"surface\": [{\"colorbar\": {\"outlinewidth\": 0, \"ticks\": \"\"}, \"colorscale\": [[0.0, \"#0d0887\"], [0.1111111111111111, \"#46039f\"], [0.2222222222222222, \"#7201a8\"], [0.3333333333333333, \"#9c179e\"], [0.4444444444444444, \"#bd3786\"], [0.5555555555555556, \"#d8576b\"], [0.6666666666666666, \"#ed7953\"], [0.7777777777777778, \"#fb9f3a\"], [0.8888888888888888, \"#fdca26\"], [1.0, \"#f0f921\"]], \"type\": \"surface\"}], \"table\": [{\"cells\": {\"fill\": {\"color\": \"#EBF0F8\"}, \"line\": {\"color\": \"white\"}}, \"header\": {\"fill\": {\"color\": \"#C8D4E3\"}, \"line\": {\"color\": \"white\"}}, \"type\": \"table\"}]}, \"layout\": {\"annotationdefaults\": {\"arrowcolor\": \"#2a3f5f\", \"arrowhead\": 0, \"arrowwidth\": 1}, \"autotypenumbers\": \"strict\", \"coloraxis\": {\"colorbar\": {\"outlinewidth\": 0, \"ticks\": \"\"}}, \"colorscale\": {\"diverging\": [[0, \"#8e0152\"], [0.1, \"#c51b7d\"], [0.2, \"#de77ae\"], [0.3, \"#f1b6da\"], [0.4, \"#fde0ef\"], [0.5, \"#f7f7f7\"], [0.6, \"#e6f5d0\"], [0.7, \"#b8e186\"], [0.8, \"#7fbc41\"], [0.9, \"#4d9221\"], [1, \"#276419\"]], \"sequential\": [[0.0, \"#0d0887\"], [0.1111111111111111, \"#46039f\"], [0.2222222222222222, \"#7201a8\"], [0.3333333333333333, \"#9c179e\"], [0.4444444444444444, \"#bd3786\"], [0.5555555555555556, \"#d8576b\"], [0.6666666666666666, \"#ed7953\"], [0.7777777777777778, \"#fb9f3a\"], [0.8888888888888888, \"#fdca26\"], [1.0, \"#f0f921\"]], \"sequentialminus\": [[0.0, \"#0d0887\"], [0.1111111111111111, \"#46039f\"], [0.2222222222222222, \"#7201a8\"], [0.3333333333333333, \"#9c179e\"], [0.4444444444444444, \"#bd3786\"], [0.5555555555555556, \"#d8576b\"], [0.6666666666666666, \"#ed7953\"], [0.7777777777777778, \"#fb9f3a\"], [0.8888888888888888, \"#fdca26\"], [1.0, \"#f0f921\"]]}, \"colorway\": [\"#636efa\", \"#EF553B\", \"#00cc96\", \"#ab63fa\", \"#FFA15A\", \"#19d3f3\", \"#FF6692\", \"#B6E880\", \"#FF97FF\", \"#FECB52\"], \"font\": {\"color\": \"#2a3f5f\"}, \"geo\": {\"bgcolor\": \"white\", \"lakecolor\": \"white\", \"landcolor\": \"#E5ECF6\", \"showlakes\": true, \"showland\": true, \"subunitcolor\": \"white\"}, \"hoverlabel\": {\"align\": \"left\"}, \"hovermode\": \"closest\", \"mapbox\": {\"style\": \"light\"}, \"paper_bgcolor\": \"white\", \"plot_bgcolor\": \"#E5ECF6\", \"polar\": {\"angularaxis\": {\"gridcolor\": \"white\", \"linecolor\": \"white\", \"ticks\": \"\"}, \"bgcolor\": \"#E5ECF6\", \"radialaxis\": {\"gridcolor\": \"white\", \"linecolor\": \"white\", \"ticks\": \"\"}}, \"scene\": {\"xaxis\": {\"backgroundcolor\": \"#E5ECF6\", \"gridcolor\": \"white\", \"gridwidth\": 2, \"linecolor\": \"white\", \"showbackground\": true, \"ticks\": \"\", \"zerolinecolor\": \"white\"}, \"yaxis\": {\"backgroundcolor\": \"#E5ECF6\", \"gridcolor\": \"white\", \"gridwidth\": 2, \"linecolor\": \"white\", \"showbackground\": true, \"ticks\": \"\", \"zerolinecolor\": \"white\"}, \"zaxis\": {\"backgroundcolor\": \"#E5ECF6\", \"gridcolor\": \"white\", \"gridwidth\": 2, \"linecolor\": \"white\", \"showbackground\": true, \"ticks\": \"\", \"zerolinecolor\": \"white\"}}, \"shapedefaults\": {\"line\": {\"color\": \"#2a3f5f\"}}, \"ternary\": {\"aaxis\": {\"gridcolor\": \"white\", \"linecolor\": \"white\", \"ticks\": \"\"}, \"baxis\": {\"gridcolor\": \"white\", \"linecolor\": \"white\", \"ticks\": \"\"}, \"bgcolor\": \"#E5ECF6\", \"caxis\": {\"gridcolor\": \"white\", \"linecolor\": \"white\", \"ticks\": \"\"}}, \"title\": {\"x\": 0.05}, \"xaxis\": {\"automargin\": true, \"gridcolor\": \"white\", \"linecolor\": \"white\", \"ticks\": \"\", \"title\": {\"standoff\": 15}, \"zerolinecolor\": \"white\", \"zerolinewidth\": 2}, \"yaxis\": {\"automargin\": true, \"gridcolor\": \"white\", \"linecolor\": \"white\", \"ticks\": \"\", \"title\": {\"standoff\": 15}, \"zerolinecolor\": \"white\", \"zerolinewidth\": 2}}}, \"title\": {\"font\": {\"color\": \"#4D5663\"}}, \"xaxis\": {\"gridcolor\": \"#E1E5ED\", \"showgrid\": true, \"tickfont\": {\"color\": \"#4D5663\"}, \"title\": {\"font\": {\"color\": \"#4D5663\"}, \"text\": \"\"}, \"zerolinecolor\": \"#E1E5ED\"}, \"yaxis\": {\"gridcolor\": \"#E1E5ED\", \"showgrid\": true, \"tickfont\": {\"color\": \"#4D5663\"}, \"title\": {\"font\": {\"color\": \"#4D5663\"}, \"text\": \"\"}, \"zerolinecolor\": \"#E1E5ED\"}},                        {\"showLink\": true, \"linkText\": \"Export to plot.ly\", \"plotlyServerURL\": \"https://plot.ly\", \"responsive\": true}                    ).then(function(){\n",
       "                            \n",
       "var gd = document.getElementById('21e418fc-fd4d-47a0-8904-499e96652040');\n",
       "var x = new MutationObserver(function (mutations, observer) {{\n",
       "        var display = window.getComputedStyle(gd).display;\n",
       "        if (!display || display === 'none') {{\n",
       "            console.log([gd, 'removed!']);\n",
       "            Plotly.purge(gd);\n",
       "            observer.disconnect();\n",
       "        }}\n",
       "}});\n",
       "\n",
       "// Listen for the removal of the full notebook cells\n",
       "var notebookContainer = gd.closest('#notebook-container');\n",
       "if (notebookContainer) {{\n",
       "    x.observe(notebookContainer, {childList: true});\n",
       "}}\n",
       "\n",
       "// Listen for the clearing of the current output cell\n",
       "var outputEl = gd.closest('.output');\n",
       "if (outputEl) {{\n",
       "    x.observe(outputEl, {childList: true});\n",
       "}}\n",
       "\n",
       "                        })                };                });            </script>        </div>"
      ]
     },
     "metadata": {},
     "output_type": "display_data"
    }
   ],
   "source": [
    "df.iplot(kind='scatter',x='A',y='B',mode='markers',size=10)"
   ]
  },
  {
   "cell_type": "markdown",
   "metadata": {},
   "source": [
    "## Bar Plots"
   ]
  },
  {
   "cell_type": "code",
   "execution_count": 13,
   "metadata": {},
   "outputs": [
    {
     "data": {
      "application/vnd.plotly.v1+json": {
       "config": {
        "linkText": "Export to plot.ly",
        "plotlyServerURL": "https://plot.ly",
        "showLink": true
       },
       "data": [
        {
         "marker": {
          "color": "rgba(255, 153, 51, 0.6)",
          "line": {
           "color": "rgba(255, 153, 51, 1.0)",
           "width": 1
          }
         },
         "name": "Values",
         "orientation": "v",
         "text": "",
         "type": "bar",
         "x": [
          "A",
          "B",
          "C"
         ],
         "y": [
          32,
          43,
          50
         ]
        }
       ],
       "layout": {
        "legend": {
         "bgcolor": "#F5F6F9",
         "font": {
          "color": "#4D5663"
         }
        },
        "paper_bgcolor": "#F5F6F9",
        "plot_bgcolor": "#F5F6F9",
        "template": {
         "data": {
          "bar": [
           {
            "error_x": {
             "color": "#2a3f5f"
            },
            "error_y": {
             "color": "#2a3f5f"
            },
            "marker": {
             "line": {
              "color": "#E5ECF6",
              "width": 0.5
             }
            },
            "type": "bar"
           }
          ],
          "barpolar": [
           {
            "marker": {
             "line": {
              "color": "#E5ECF6",
              "width": 0.5
             }
            },
            "type": "barpolar"
           }
          ],
          "carpet": [
           {
            "aaxis": {
             "endlinecolor": "#2a3f5f",
             "gridcolor": "white",
             "linecolor": "white",
             "minorgridcolor": "white",
             "startlinecolor": "#2a3f5f"
            },
            "baxis": {
             "endlinecolor": "#2a3f5f",
             "gridcolor": "white",
             "linecolor": "white",
             "minorgridcolor": "white",
             "startlinecolor": "#2a3f5f"
            },
            "type": "carpet"
           }
          ],
          "choropleth": [
           {
            "colorbar": {
             "outlinewidth": 0,
             "ticks": ""
            },
            "type": "choropleth"
           }
          ],
          "contour": [
           {
            "colorbar": {
             "outlinewidth": 0,
             "ticks": ""
            },
            "colorscale": [
             [
              0,
              "#0d0887"
             ],
             [
              0.1111111111111111,
              "#46039f"
             ],
             [
              0.2222222222222222,
              "#7201a8"
             ],
             [
              0.3333333333333333,
              "#9c179e"
             ],
             [
              0.4444444444444444,
              "#bd3786"
             ],
             [
              0.5555555555555556,
              "#d8576b"
             ],
             [
              0.6666666666666666,
              "#ed7953"
             ],
             [
              0.7777777777777778,
              "#fb9f3a"
             ],
             [
              0.8888888888888888,
              "#fdca26"
             ],
             [
              1,
              "#f0f921"
             ]
            ],
            "type": "contour"
           }
          ],
          "contourcarpet": [
           {
            "colorbar": {
             "outlinewidth": 0,
             "ticks": ""
            },
            "type": "contourcarpet"
           }
          ],
          "heatmap": [
           {
            "colorbar": {
             "outlinewidth": 0,
             "ticks": ""
            },
            "colorscale": [
             [
              0,
              "#0d0887"
             ],
             [
              0.1111111111111111,
              "#46039f"
             ],
             [
              0.2222222222222222,
              "#7201a8"
             ],
             [
              0.3333333333333333,
              "#9c179e"
             ],
             [
              0.4444444444444444,
              "#bd3786"
             ],
             [
              0.5555555555555556,
              "#d8576b"
             ],
             [
              0.6666666666666666,
              "#ed7953"
             ],
             [
              0.7777777777777778,
              "#fb9f3a"
             ],
             [
              0.8888888888888888,
              "#fdca26"
             ],
             [
              1,
              "#f0f921"
             ]
            ],
            "type": "heatmap"
           }
          ],
          "heatmapgl": [
           {
            "colorbar": {
             "outlinewidth": 0,
             "ticks": ""
            },
            "colorscale": [
             [
              0,
              "#0d0887"
             ],
             [
              0.1111111111111111,
              "#46039f"
             ],
             [
              0.2222222222222222,
              "#7201a8"
             ],
             [
              0.3333333333333333,
              "#9c179e"
             ],
             [
              0.4444444444444444,
              "#bd3786"
             ],
             [
              0.5555555555555556,
              "#d8576b"
             ],
             [
              0.6666666666666666,
              "#ed7953"
             ],
             [
              0.7777777777777778,
              "#fb9f3a"
             ],
             [
              0.8888888888888888,
              "#fdca26"
             ],
             [
              1,
              "#f0f921"
             ]
            ],
            "type": "heatmapgl"
           }
          ],
          "histogram": [
           {
            "marker": {
             "colorbar": {
              "outlinewidth": 0,
              "ticks": ""
             }
            },
            "type": "histogram"
           }
          ],
          "histogram2d": [
           {
            "colorbar": {
             "outlinewidth": 0,
             "ticks": ""
            },
            "colorscale": [
             [
              0,
              "#0d0887"
             ],
             [
              0.1111111111111111,
              "#46039f"
             ],
             [
              0.2222222222222222,
              "#7201a8"
             ],
             [
              0.3333333333333333,
              "#9c179e"
             ],
             [
              0.4444444444444444,
              "#bd3786"
             ],
             [
              0.5555555555555556,
              "#d8576b"
             ],
             [
              0.6666666666666666,
              "#ed7953"
             ],
             [
              0.7777777777777778,
              "#fb9f3a"
             ],
             [
              0.8888888888888888,
              "#fdca26"
             ],
             [
              1,
              "#f0f921"
             ]
            ],
            "type": "histogram2d"
           }
          ],
          "histogram2dcontour": [
           {
            "colorbar": {
             "outlinewidth": 0,
             "ticks": ""
            },
            "colorscale": [
             [
              0,
              "#0d0887"
             ],
             [
              0.1111111111111111,
              "#46039f"
             ],
             [
              0.2222222222222222,
              "#7201a8"
             ],
             [
              0.3333333333333333,
              "#9c179e"
             ],
             [
              0.4444444444444444,
              "#bd3786"
             ],
             [
              0.5555555555555556,
              "#d8576b"
             ],
             [
              0.6666666666666666,
              "#ed7953"
             ],
             [
              0.7777777777777778,
              "#fb9f3a"
             ],
             [
              0.8888888888888888,
              "#fdca26"
             ],
             [
              1,
              "#f0f921"
             ]
            ],
            "type": "histogram2dcontour"
           }
          ],
          "mesh3d": [
           {
            "colorbar": {
             "outlinewidth": 0,
             "ticks": ""
            },
            "type": "mesh3d"
           }
          ],
          "parcoords": [
           {
            "line": {
             "colorbar": {
              "outlinewidth": 0,
              "ticks": ""
             }
            },
            "type": "parcoords"
           }
          ],
          "pie": [
           {
            "automargin": true,
            "type": "pie"
           }
          ],
          "scatter": [
           {
            "marker": {
             "colorbar": {
              "outlinewidth": 0,
              "ticks": ""
             }
            },
            "type": "scatter"
           }
          ],
          "scatter3d": [
           {
            "line": {
             "colorbar": {
              "outlinewidth": 0,
              "ticks": ""
             }
            },
            "marker": {
             "colorbar": {
              "outlinewidth": 0,
              "ticks": ""
             }
            },
            "type": "scatter3d"
           }
          ],
          "scattercarpet": [
           {
            "marker": {
             "colorbar": {
              "outlinewidth": 0,
              "ticks": ""
             }
            },
            "type": "scattercarpet"
           }
          ],
          "scattergeo": [
           {
            "marker": {
             "colorbar": {
              "outlinewidth": 0,
              "ticks": ""
             }
            },
            "type": "scattergeo"
           }
          ],
          "scattergl": [
           {
            "marker": {
             "colorbar": {
              "outlinewidth": 0,
              "ticks": ""
             }
            },
            "type": "scattergl"
           }
          ],
          "scattermapbox": [
           {
            "marker": {
             "colorbar": {
              "outlinewidth": 0,
              "ticks": ""
             }
            },
            "type": "scattermapbox"
           }
          ],
          "scatterpolar": [
           {
            "marker": {
             "colorbar": {
              "outlinewidth": 0,
              "ticks": ""
             }
            },
            "type": "scatterpolar"
           }
          ],
          "scatterpolargl": [
           {
            "marker": {
             "colorbar": {
              "outlinewidth": 0,
              "ticks": ""
             }
            },
            "type": "scatterpolargl"
           }
          ],
          "scatterternary": [
           {
            "marker": {
             "colorbar": {
              "outlinewidth": 0,
              "ticks": ""
             }
            },
            "type": "scatterternary"
           }
          ],
          "surface": [
           {
            "colorbar": {
             "outlinewidth": 0,
             "ticks": ""
            },
            "colorscale": [
             [
              0,
              "#0d0887"
             ],
             [
              0.1111111111111111,
              "#46039f"
             ],
             [
              0.2222222222222222,
              "#7201a8"
             ],
             [
              0.3333333333333333,
              "#9c179e"
             ],
             [
              0.4444444444444444,
              "#bd3786"
             ],
             [
              0.5555555555555556,
              "#d8576b"
             ],
             [
              0.6666666666666666,
              "#ed7953"
             ],
             [
              0.7777777777777778,
              "#fb9f3a"
             ],
             [
              0.8888888888888888,
              "#fdca26"
             ],
             [
              1,
              "#f0f921"
             ]
            ],
            "type": "surface"
           }
          ],
          "table": [
           {
            "cells": {
             "fill": {
              "color": "#EBF0F8"
             },
             "line": {
              "color": "white"
             }
            },
            "header": {
             "fill": {
              "color": "#C8D4E3"
             },
             "line": {
              "color": "white"
             }
            },
            "type": "table"
           }
          ]
         },
         "layout": {
          "annotationdefaults": {
           "arrowcolor": "#2a3f5f",
           "arrowhead": 0,
           "arrowwidth": 1
          },
          "autotypenumbers": "strict",
          "coloraxis": {
           "colorbar": {
            "outlinewidth": 0,
            "ticks": ""
           }
          },
          "colorscale": {
           "diverging": [
            [
             0,
             "#8e0152"
            ],
            [
             0.1,
             "#c51b7d"
            ],
            [
             0.2,
             "#de77ae"
            ],
            [
             0.3,
             "#f1b6da"
            ],
            [
             0.4,
             "#fde0ef"
            ],
            [
             0.5,
             "#f7f7f7"
            ],
            [
             0.6,
             "#e6f5d0"
            ],
            [
             0.7,
             "#b8e186"
            ],
            [
             0.8,
             "#7fbc41"
            ],
            [
             0.9,
             "#4d9221"
            ],
            [
             1,
             "#276419"
            ]
           ],
           "sequential": [
            [
             0,
             "#0d0887"
            ],
            [
             0.1111111111111111,
             "#46039f"
            ],
            [
             0.2222222222222222,
             "#7201a8"
            ],
            [
             0.3333333333333333,
             "#9c179e"
            ],
            [
             0.4444444444444444,
             "#bd3786"
            ],
            [
             0.5555555555555556,
             "#d8576b"
            ],
            [
             0.6666666666666666,
             "#ed7953"
            ],
            [
             0.7777777777777778,
             "#fb9f3a"
            ],
            [
             0.8888888888888888,
             "#fdca26"
            ],
            [
             1,
             "#f0f921"
            ]
           ],
           "sequentialminus": [
            [
             0,
             "#0d0887"
            ],
            [
             0.1111111111111111,
             "#46039f"
            ],
            [
             0.2222222222222222,
             "#7201a8"
            ],
            [
             0.3333333333333333,
             "#9c179e"
            ],
            [
             0.4444444444444444,
             "#bd3786"
            ],
            [
             0.5555555555555556,
             "#d8576b"
            ],
            [
             0.6666666666666666,
             "#ed7953"
            ],
            [
             0.7777777777777778,
             "#fb9f3a"
            ],
            [
             0.8888888888888888,
             "#fdca26"
            ],
            [
             1,
             "#f0f921"
            ]
           ]
          },
          "colorway": [
           "#636efa",
           "#EF553B",
           "#00cc96",
           "#ab63fa",
           "#FFA15A",
           "#19d3f3",
           "#FF6692",
           "#B6E880",
           "#FF97FF",
           "#FECB52"
          ],
          "font": {
           "color": "#2a3f5f"
          },
          "geo": {
           "bgcolor": "white",
           "lakecolor": "white",
           "landcolor": "#E5ECF6",
           "showlakes": true,
           "showland": true,
           "subunitcolor": "white"
          },
          "hoverlabel": {
           "align": "left"
          },
          "hovermode": "closest",
          "mapbox": {
           "style": "light"
          },
          "paper_bgcolor": "white",
          "plot_bgcolor": "#E5ECF6",
          "polar": {
           "angularaxis": {
            "gridcolor": "white",
            "linecolor": "white",
            "ticks": ""
           },
           "bgcolor": "#E5ECF6",
           "radialaxis": {
            "gridcolor": "white",
            "linecolor": "white",
            "ticks": ""
           }
          },
          "scene": {
           "xaxis": {
            "backgroundcolor": "#E5ECF6",
            "gridcolor": "white",
            "gridwidth": 2,
            "linecolor": "white",
            "showbackground": true,
            "ticks": "",
            "zerolinecolor": "white"
           },
           "yaxis": {
            "backgroundcolor": "#E5ECF6",
            "gridcolor": "white",
            "gridwidth": 2,
            "linecolor": "white",
            "showbackground": true,
            "ticks": "",
            "zerolinecolor": "white"
           },
           "zaxis": {
            "backgroundcolor": "#E5ECF6",
            "gridcolor": "white",
            "gridwidth": 2,
            "linecolor": "white",
            "showbackground": true,
            "ticks": "",
            "zerolinecolor": "white"
           }
          },
          "shapedefaults": {
           "line": {
            "color": "#2a3f5f"
           }
          },
          "ternary": {
           "aaxis": {
            "gridcolor": "white",
            "linecolor": "white",
            "ticks": ""
           },
           "baxis": {
            "gridcolor": "white",
            "linecolor": "white",
            "ticks": ""
           },
           "bgcolor": "#E5ECF6",
           "caxis": {
            "gridcolor": "white",
            "linecolor": "white",
            "ticks": ""
           }
          },
          "title": {
           "x": 0.05
          },
          "xaxis": {
           "automargin": true,
           "gridcolor": "white",
           "linecolor": "white",
           "ticks": "",
           "title": {
            "standoff": 15
           },
           "zerolinecolor": "white",
           "zerolinewidth": 2
          },
          "yaxis": {
           "automargin": true,
           "gridcolor": "white",
           "linecolor": "white",
           "ticks": "",
           "title": {
            "standoff": 15
           },
           "zerolinecolor": "white",
           "zerolinewidth": 2
          }
         }
        },
        "title": {
         "font": {
          "color": "#4D5663"
         }
        },
        "xaxis": {
         "gridcolor": "#E1E5ED",
         "showgrid": true,
         "tickfont": {
          "color": "#4D5663"
         },
         "title": {
          "font": {
           "color": "#4D5663"
          },
          "text": ""
         },
         "zerolinecolor": "#E1E5ED"
        },
        "yaxis": {
         "gridcolor": "#E1E5ED",
         "showgrid": true,
         "tickfont": {
          "color": "#4D5663"
         },
         "title": {
          "font": {
           "color": "#4D5663"
          },
          "text": ""
         },
         "zerolinecolor": "#E1E5ED"
        }
       }
      },
      "text/html": [
       "<div>                            <div id=\"3e0794d7-ce21-4e11-b8df-dc9e6b6878e1\" class=\"plotly-graph-div\" style=\"height:525px; width:100%;\"></div>            <script type=\"text/javascript\">                require([\"plotly\"], function(Plotly) {                    window.PLOTLYENV=window.PLOTLYENV || {};\n",
       "                    window.PLOTLYENV.BASE_URL='https://plot.ly';                                    if (document.getElementById(\"3e0794d7-ce21-4e11-b8df-dc9e6b6878e1\")) {                    Plotly.newPlot(                        \"3e0794d7-ce21-4e11-b8df-dc9e6b6878e1\",                        [{\"marker\": {\"color\": \"rgba(255, 153, 51, 0.6)\", \"line\": {\"color\": \"rgba(255, 153, 51, 1.0)\", \"width\": 1}}, \"name\": \"Values\", \"orientation\": \"v\", \"text\": \"\", \"type\": \"bar\", \"x\": [\"A\", \"B\", \"C\"], \"y\": [32, 43, 50]}],                        {\"legend\": {\"bgcolor\": \"#F5F6F9\", \"font\": {\"color\": \"#4D5663\"}}, \"paper_bgcolor\": \"#F5F6F9\", \"plot_bgcolor\": \"#F5F6F9\", \"template\": {\"data\": {\"bar\": [{\"error_x\": {\"color\": \"#2a3f5f\"}, \"error_y\": {\"color\": \"#2a3f5f\"}, \"marker\": {\"line\": {\"color\": \"#E5ECF6\", \"width\": 0.5}}, \"type\": \"bar\"}], \"barpolar\": [{\"marker\": {\"line\": {\"color\": \"#E5ECF6\", \"width\": 0.5}}, \"type\": \"barpolar\"}], \"carpet\": [{\"aaxis\": {\"endlinecolor\": \"#2a3f5f\", \"gridcolor\": \"white\", \"linecolor\": \"white\", \"minorgridcolor\": \"white\", \"startlinecolor\": \"#2a3f5f\"}, \"baxis\": {\"endlinecolor\": \"#2a3f5f\", \"gridcolor\": \"white\", \"linecolor\": \"white\", \"minorgridcolor\": \"white\", \"startlinecolor\": \"#2a3f5f\"}, \"type\": \"carpet\"}], \"choropleth\": [{\"colorbar\": {\"outlinewidth\": 0, \"ticks\": \"\"}, \"type\": \"choropleth\"}], \"contour\": [{\"colorbar\": {\"outlinewidth\": 0, \"ticks\": \"\"}, \"colorscale\": [[0.0, \"#0d0887\"], [0.1111111111111111, \"#46039f\"], [0.2222222222222222, \"#7201a8\"], [0.3333333333333333, \"#9c179e\"], [0.4444444444444444, \"#bd3786\"], [0.5555555555555556, \"#d8576b\"], [0.6666666666666666, \"#ed7953\"], [0.7777777777777778, \"#fb9f3a\"], [0.8888888888888888, \"#fdca26\"], [1.0, \"#f0f921\"]], \"type\": \"contour\"}], \"contourcarpet\": [{\"colorbar\": {\"outlinewidth\": 0, \"ticks\": \"\"}, \"type\": \"contourcarpet\"}], \"heatmap\": [{\"colorbar\": {\"outlinewidth\": 0, \"ticks\": \"\"}, \"colorscale\": [[0.0, \"#0d0887\"], [0.1111111111111111, \"#46039f\"], [0.2222222222222222, \"#7201a8\"], [0.3333333333333333, \"#9c179e\"], [0.4444444444444444, \"#bd3786\"], [0.5555555555555556, \"#d8576b\"], [0.6666666666666666, \"#ed7953\"], [0.7777777777777778, \"#fb9f3a\"], [0.8888888888888888, \"#fdca26\"], [1.0, \"#f0f921\"]], \"type\": \"heatmap\"}], \"heatmapgl\": [{\"colorbar\": {\"outlinewidth\": 0, \"ticks\": \"\"}, \"colorscale\": [[0.0, \"#0d0887\"], [0.1111111111111111, \"#46039f\"], [0.2222222222222222, \"#7201a8\"], [0.3333333333333333, \"#9c179e\"], [0.4444444444444444, \"#bd3786\"], [0.5555555555555556, \"#d8576b\"], [0.6666666666666666, \"#ed7953\"], [0.7777777777777778, \"#fb9f3a\"], [0.8888888888888888, \"#fdca26\"], [1.0, \"#f0f921\"]], \"type\": \"heatmapgl\"}], \"histogram\": [{\"marker\": {\"colorbar\": {\"outlinewidth\": 0, \"ticks\": \"\"}}, \"type\": \"histogram\"}], \"histogram2d\": [{\"colorbar\": {\"outlinewidth\": 0, \"ticks\": \"\"}, \"colorscale\": [[0.0, \"#0d0887\"], [0.1111111111111111, \"#46039f\"], [0.2222222222222222, \"#7201a8\"], [0.3333333333333333, \"#9c179e\"], [0.4444444444444444, \"#bd3786\"], [0.5555555555555556, \"#d8576b\"], [0.6666666666666666, \"#ed7953\"], [0.7777777777777778, \"#fb9f3a\"], [0.8888888888888888, \"#fdca26\"], [1.0, \"#f0f921\"]], \"type\": \"histogram2d\"}], \"histogram2dcontour\": [{\"colorbar\": {\"outlinewidth\": 0, \"ticks\": \"\"}, \"colorscale\": [[0.0, \"#0d0887\"], [0.1111111111111111, \"#46039f\"], [0.2222222222222222, \"#7201a8\"], [0.3333333333333333, \"#9c179e\"], [0.4444444444444444, \"#bd3786\"], [0.5555555555555556, \"#d8576b\"], [0.6666666666666666, \"#ed7953\"], [0.7777777777777778, \"#fb9f3a\"], [0.8888888888888888, \"#fdca26\"], [1.0, \"#f0f921\"]], \"type\": \"histogram2dcontour\"}], \"mesh3d\": [{\"colorbar\": {\"outlinewidth\": 0, \"ticks\": \"\"}, \"type\": \"mesh3d\"}], \"parcoords\": [{\"line\": {\"colorbar\": {\"outlinewidth\": 0, \"ticks\": \"\"}}, \"type\": \"parcoords\"}], \"pie\": [{\"automargin\": true, \"type\": \"pie\"}], \"scatter\": [{\"marker\": {\"colorbar\": {\"outlinewidth\": 0, \"ticks\": \"\"}}, \"type\": \"scatter\"}], \"scatter3d\": [{\"line\": {\"colorbar\": {\"outlinewidth\": 0, \"ticks\": \"\"}}, \"marker\": {\"colorbar\": {\"outlinewidth\": 0, \"ticks\": \"\"}}, \"type\": \"scatter3d\"}], \"scattercarpet\": [{\"marker\": {\"colorbar\": {\"outlinewidth\": 0, \"ticks\": \"\"}}, \"type\": \"scattercarpet\"}], \"scattergeo\": [{\"marker\": {\"colorbar\": {\"outlinewidth\": 0, \"ticks\": \"\"}}, \"type\": \"scattergeo\"}], \"scattergl\": [{\"marker\": {\"colorbar\": {\"outlinewidth\": 0, \"ticks\": \"\"}}, \"type\": \"scattergl\"}], \"scattermapbox\": [{\"marker\": {\"colorbar\": {\"outlinewidth\": 0, \"ticks\": \"\"}}, \"type\": \"scattermapbox\"}], \"scatterpolar\": [{\"marker\": {\"colorbar\": {\"outlinewidth\": 0, \"ticks\": \"\"}}, \"type\": \"scatterpolar\"}], \"scatterpolargl\": [{\"marker\": {\"colorbar\": {\"outlinewidth\": 0, \"ticks\": \"\"}}, \"type\": \"scatterpolargl\"}], \"scatterternary\": [{\"marker\": {\"colorbar\": {\"outlinewidth\": 0, \"ticks\": \"\"}}, \"type\": \"scatterternary\"}], \"surface\": [{\"colorbar\": {\"outlinewidth\": 0, \"ticks\": \"\"}, \"colorscale\": [[0.0, \"#0d0887\"], [0.1111111111111111, \"#46039f\"], [0.2222222222222222, \"#7201a8\"], [0.3333333333333333, \"#9c179e\"], [0.4444444444444444, \"#bd3786\"], [0.5555555555555556, \"#d8576b\"], [0.6666666666666666, \"#ed7953\"], [0.7777777777777778, \"#fb9f3a\"], [0.8888888888888888, \"#fdca26\"], [1.0, \"#f0f921\"]], \"type\": \"surface\"}], \"table\": [{\"cells\": {\"fill\": {\"color\": \"#EBF0F8\"}, \"line\": {\"color\": \"white\"}}, \"header\": {\"fill\": {\"color\": \"#C8D4E3\"}, \"line\": {\"color\": \"white\"}}, \"type\": \"table\"}]}, \"layout\": {\"annotationdefaults\": {\"arrowcolor\": \"#2a3f5f\", \"arrowhead\": 0, \"arrowwidth\": 1}, \"autotypenumbers\": \"strict\", \"coloraxis\": {\"colorbar\": {\"outlinewidth\": 0, \"ticks\": \"\"}}, \"colorscale\": {\"diverging\": [[0, \"#8e0152\"], [0.1, \"#c51b7d\"], [0.2, \"#de77ae\"], [0.3, \"#f1b6da\"], [0.4, \"#fde0ef\"], [0.5, \"#f7f7f7\"], [0.6, \"#e6f5d0\"], [0.7, \"#b8e186\"], [0.8, \"#7fbc41\"], [0.9, \"#4d9221\"], [1, \"#276419\"]], \"sequential\": [[0.0, \"#0d0887\"], [0.1111111111111111, \"#46039f\"], [0.2222222222222222, \"#7201a8\"], [0.3333333333333333, \"#9c179e\"], [0.4444444444444444, \"#bd3786\"], [0.5555555555555556, \"#d8576b\"], [0.6666666666666666, \"#ed7953\"], [0.7777777777777778, \"#fb9f3a\"], [0.8888888888888888, \"#fdca26\"], [1.0, \"#f0f921\"]], \"sequentialminus\": [[0.0, \"#0d0887\"], [0.1111111111111111, \"#46039f\"], [0.2222222222222222, \"#7201a8\"], [0.3333333333333333, \"#9c179e\"], [0.4444444444444444, \"#bd3786\"], [0.5555555555555556, \"#d8576b\"], [0.6666666666666666, \"#ed7953\"], [0.7777777777777778, \"#fb9f3a\"], [0.8888888888888888, \"#fdca26\"], [1.0, \"#f0f921\"]]}, \"colorway\": [\"#636efa\", \"#EF553B\", \"#00cc96\", \"#ab63fa\", \"#FFA15A\", \"#19d3f3\", \"#FF6692\", \"#B6E880\", \"#FF97FF\", \"#FECB52\"], \"font\": {\"color\": \"#2a3f5f\"}, \"geo\": {\"bgcolor\": \"white\", \"lakecolor\": \"white\", \"landcolor\": \"#E5ECF6\", \"showlakes\": true, \"showland\": true, \"subunitcolor\": \"white\"}, \"hoverlabel\": {\"align\": \"left\"}, \"hovermode\": \"closest\", \"mapbox\": {\"style\": \"light\"}, \"paper_bgcolor\": \"white\", \"plot_bgcolor\": \"#E5ECF6\", \"polar\": {\"angularaxis\": {\"gridcolor\": \"white\", \"linecolor\": \"white\", \"ticks\": \"\"}, \"bgcolor\": \"#E5ECF6\", \"radialaxis\": {\"gridcolor\": \"white\", \"linecolor\": \"white\", \"ticks\": \"\"}}, \"scene\": {\"xaxis\": {\"backgroundcolor\": \"#E5ECF6\", \"gridcolor\": \"white\", \"gridwidth\": 2, \"linecolor\": \"white\", \"showbackground\": true, \"ticks\": \"\", \"zerolinecolor\": \"white\"}, \"yaxis\": {\"backgroundcolor\": \"#E5ECF6\", \"gridcolor\": \"white\", \"gridwidth\": 2, \"linecolor\": \"white\", \"showbackground\": true, \"ticks\": \"\", \"zerolinecolor\": \"white\"}, \"zaxis\": {\"backgroundcolor\": \"#E5ECF6\", \"gridcolor\": \"white\", \"gridwidth\": 2, \"linecolor\": \"white\", \"showbackground\": true, \"ticks\": \"\", \"zerolinecolor\": \"white\"}}, \"shapedefaults\": {\"line\": {\"color\": \"#2a3f5f\"}}, \"ternary\": {\"aaxis\": {\"gridcolor\": \"white\", \"linecolor\": \"white\", \"ticks\": \"\"}, \"baxis\": {\"gridcolor\": \"white\", \"linecolor\": \"white\", \"ticks\": \"\"}, \"bgcolor\": \"#E5ECF6\", \"caxis\": {\"gridcolor\": \"white\", \"linecolor\": \"white\", \"ticks\": \"\"}}, \"title\": {\"x\": 0.05}, \"xaxis\": {\"automargin\": true, \"gridcolor\": \"white\", \"linecolor\": \"white\", \"ticks\": \"\", \"title\": {\"standoff\": 15}, \"zerolinecolor\": \"white\", \"zerolinewidth\": 2}, \"yaxis\": {\"automargin\": true, \"gridcolor\": \"white\", \"linecolor\": \"white\", \"ticks\": \"\", \"title\": {\"standoff\": 15}, \"zerolinecolor\": \"white\", \"zerolinewidth\": 2}}}, \"title\": {\"font\": {\"color\": \"#4D5663\"}}, \"xaxis\": {\"gridcolor\": \"#E1E5ED\", \"showgrid\": true, \"tickfont\": {\"color\": \"#4D5663\"}, \"title\": {\"font\": {\"color\": \"#4D5663\"}, \"text\": \"\"}, \"zerolinecolor\": \"#E1E5ED\"}, \"yaxis\": {\"gridcolor\": \"#E1E5ED\", \"showgrid\": true, \"tickfont\": {\"color\": \"#4D5663\"}, \"title\": {\"font\": {\"color\": \"#4D5663\"}, \"text\": \"\"}, \"zerolinecolor\": \"#E1E5ED\"}},                        {\"showLink\": true, \"linkText\": \"Export to plot.ly\", \"plotlyServerURL\": \"https://plot.ly\", \"responsive\": true}                    ).then(function(){\n",
       "                            \n",
       "var gd = document.getElementById('3e0794d7-ce21-4e11-b8df-dc9e6b6878e1');\n",
       "var x = new MutationObserver(function (mutations, observer) {{\n",
       "        var display = window.getComputedStyle(gd).display;\n",
       "        if (!display || display === 'none') {{\n",
       "            console.log([gd, 'removed!']);\n",
       "            Plotly.purge(gd);\n",
       "            observer.disconnect();\n",
       "        }}\n",
       "}});\n",
       "\n",
       "// Listen for the removal of the full notebook cells\n",
       "var notebookContainer = gd.closest('#notebook-container');\n",
       "if (notebookContainer) {{\n",
       "    x.observe(notebookContainer, {childList: true});\n",
       "}}\n",
       "\n",
       "// Listen for the clearing of the current output cell\n",
       "var outputEl = gd.closest('.output');\n",
       "if (outputEl) {{\n",
       "    x.observe(outputEl, {childList: true});\n",
       "}}\n",
       "\n",
       "                        })                };                });            </script>        </div>"
      ]
     },
     "metadata": {},
     "output_type": "display_data"
    }
   ],
   "source": [
    "df2.iplot(kind='bar',x='Category',y='Values')"
   ]
  },
  {
   "cell_type": "code",
   "execution_count": 14,
   "metadata": {},
   "outputs": [
    {
     "data": {
      "application/vnd.plotly.v1+json": {
       "config": {
        "linkText": "Export to plot.ly",
        "plotlyServerURL": "https://plot.ly",
        "showLink": true
       },
       "data": [
        {
         "marker": {
          "color": "rgba(255, 153, 51, 0.6)",
          "line": {
           "color": "rgba(255, 153, 51, 1.0)",
           "width": 1
          }
         },
         "name": "None",
         "orientation": "v",
         "text": "",
         "type": "bar",
         "x": [
          "A",
          "B",
          "C",
          "D"
         ],
         "y": [
          100,
          100,
          100,
          100
         ]
        }
       ],
       "layout": {
        "legend": {
         "bgcolor": "#F5F6F9",
         "font": {
          "color": "#4D5663"
         }
        },
        "paper_bgcolor": "#F5F6F9",
        "plot_bgcolor": "#F5F6F9",
        "template": {
         "data": {
          "bar": [
           {
            "error_x": {
             "color": "#2a3f5f"
            },
            "error_y": {
             "color": "#2a3f5f"
            },
            "marker": {
             "line": {
              "color": "#E5ECF6",
              "width": 0.5
             }
            },
            "type": "bar"
           }
          ],
          "barpolar": [
           {
            "marker": {
             "line": {
              "color": "#E5ECF6",
              "width": 0.5
             }
            },
            "type": "barpolar"
           }
          ],
          "carpet": [
           {
            "aaxis": {
             "endlinecolor": "#2a3f5f",
             "gridcolor": "white",
             "linecolor": "white",
             "minorgridcolor": "white",
             "startlinecolor": "#2a3f5f"
            },
            "baxis": {
             "endlinecolor": "#2a3f5f",
             "gridcolor": "white",
             "linecolor": "white",
             "minorgridcolor": "white",
             "startlinecolor": "#2a3f5f"
            },
            "type": "carpet"
           }
          ],
          "choropleth": [
           {
            "colorbar": {
             "outlinewidth": 0,
             "ticks": ""
            },
            "type": "choropleth"
           }
          ],
          "contour": [
           {
            "colorbar": {
             "outlinewidth": 0,
             "ticks": ""
            },
            "colorscale": [
             [
              0,
              "#0d0887"
             ],
             [
              0.1111111111111111,
              "#46039f"
             ],
             [
              0.2222222222222222,
              "#7201a8"
             ],
             [
              0.3333333333333333,
              "#9c179e"
             ],
             [
              0.4444444444444444,
              "#bd3786"
             ],
             [
              0.5555555555555556,
              "#d8576b"
             ],
             [
              0.6666666666666666,
              "#ed7953"
             ],
             [
              0.7777777777777778,
              "#fb9f3a"
             ],
             [
              0.8888888888888888,
              "#fdca26"
             ],
             [
              1,
              "#f0f921"
             ]
            ],
            "type": "contour"
           }
          ],
          "contourcarpet": [
           {
            "colorbar": {
             "outlinewidth": 0,
             "ticks": ""
            },
            "type": "contourcarpet"
           }
          ],
          "heatmap": [
           {
            "colorbar": {
             "outlinewidth": 0,
             "ticks": ""
            },
            "colorscale": [
             [
              0,
              "#0d0887"
             ],
             [
              0.1111111111111111,
              "#46039f"
             ],
             [
              0.2222222222222222,
              "#7201a8"
             ],
             [
              0.3333333333333333,
              "#9c179e"
             ],
             [
              0.4444444444444444,
              "#bd3786"
             ],
             [
              0.5555555555555556,
              "#d8576b"
             ],
             [
              0.6666666666666666,
              "#ed7953"
             ],
             [
              0.7777777777777778,
              "#fb9f3a"
             ],
             [
              0.8888888888888888,
              "#fdca26"
             ],
             [
              1,
              "#f0f921"
             ]
            ],
            "type": "heatmap"
           }
          ],
          "heatmapgl": [
           {
            "colorbar": {
             "outlinewidth": 0,
             "ticks": ""
            },
            "colorscale": [
             [
              0,
              "#0d0887"
             ],
             [
              0.1111111111111111,
              "#46039f"
             ],
             [
              0.2222222222222222,
              "#7201a8"
             ],
             [
              0.3333333333333333,
              "#9c179e"
             ],
             [
              0.4444444444444444,
              "#bd3786"
             ],
             [
              0.5555555555555556,
              "#d8576b"
             ],
             [
              0.6666666666666666,
              "#ed7953"
             ],
             [
              0.7777777777777778,
              "#fb9f3a"
             ],
             [
              0.8888888888888888,
              "#fdca26"
             ],
             [
              1,
              "#f0f921"
             ]
            ],
            "type": "heatmapgl"
           }
          ],
          "histogram": [
           {
            "marker": {
             "colorbar": {
              "outlinewidth": 0,
              "ticks": ""
             }
            },
            "type": "histogram"
           }
          ],
          "histogram2d": [
           {
            "colorbar": {
             "outlinewidth": 0,
             "ticks": ""
            },
            "colorscale": [
             [
              0,
              "#0d0887"
             ],
             [
              0.1111111111111111,
              "#46039f"
             ],
             [
              0.2222222222222222,
              "#7201a8"
             ],
             [
              0.3333333333333333,
              "#9c179e"
             ],
             [
              0.4444444444444444,
              "#bd3786"
             ],
             [
              0.5555555555555556,
              "#d8576b"
             ],
             [
              0.6666666666666666,
              "#ed7953"
             ],
             [
              0.7777777777777778,
              "#fb9f3a"
             ],
             [
              0.8888888888888888,
              "#fdca26"
             ],
             [
              1,
              "#f0f921"
             ]
            ],
            "type": "histogram2d"
           }
          ],
          "histogram2dcontour": [
           {
            "colorbar": {
             "outlinewidth": 0,
             "ticks": ""
            },
            "colorscale": [
             [
              0,
              "#0d0887"
             ],
             [
              0.1111111111111111,
              "#46039f"
             ],
             [
              0.2222222222222222,
              "#7201a8"
             ],
             [
              0.3333333333333333,
              "#9c179e"
             ],
             [
              0.4444444444444444,
              "#bd3786"
             ],
             [
              0.5555555555555556,
              "#d8576b"
             ],
             [
              0.6666666666666666,
              "#ed7953"
             ],
             [
              0.7777777777777778,
              "#fb9f3a"
             ],
             [
              0.8888888888888888,
              "#fdca26"
             ],
             [
              1,
              "#f0f921"
             ]
            ],
            "type": "histogram2dcontour"
           }
          ],
          "mesh3d": [
           {
            "colorbar": {
             "outlinewidth": 0,
             "ticks": ""
            },
            "type": "mesh3d"
           }
          ],
          "parcoords": [
           {
            "line": {
             "colorbar": {
              "outlinewidth": 0,
              "ticks": ""
             }
            },
            "type": "parcoords"
           }
          ],
          "pie": [
           {
            "automargin": true,
            "type": "pie"
           }
          ],
          "scatter": [
           {
            "marker": {
             "colorbar": {
              "outlinewidth": 0,
              "ticks": ""
             }
            },
            "type": "scatter"
           }
          ],
          "scatter3d": [
           {
            "line": {
             "colorbar": {
              "outlinewidth": 0,
              "ticks": ""
             }
            },
            "marker": {
             "colorbar": {
              "outlinewidth": 0,
              "ticks": ""
             }
            },
            "type": "scatter3d"
           }
          ],
          "scattercarpet": [
           {
            "marker": {
             "colorbar": {
              "outlinewidth": 0,
              "ticks": ""
             }
            },
            "type": "scattercarpet"
           }
          ],
          "scattergeo": [
           {
            "marker": {
             "colorbar": {
              "outlinewidth": 0,
              "ticks": ""
             }
            },
            "type": "scattergeo"
           }
          ],
          "scattergl": [
           {
            "marker": {
             "colorbar": {
              "outlinewidth": 0,
              "ticks": ""
             }
            },
            "type": "scattergl"
           }
          ],
          "scattermapbox": [
           {
            "marker": {
             "colorbar": {
              "outlinewidth": 0,
              "ticks": ""
             }
            },
            "type": "scattermapbox"
           }
          ],
          "scatterpolar": [
           {
            "marker": {
             "colorbar": {
              "outlinewidth": 0,
              "ticks": ""
             }
            },
            "type": "scatterpolar"
           }
          ],
          "scatterpolargl": [
           {
            "marker": {
             "colorbar": {
              "outlinewidth": 0,
              "ticks": ""
             }
            },
            "type": "scatterpolargl"
           }
          ],
          "scatterternary": [
           {
            "marker": {
             "colorbar": {
              "outlinewidth": 0,
              "ticks": ""
             }
            },
            "type": "scatterternary"
           }
          ],
          "surface": [
           {
            "colorbar": {
             "outlinewidth": 0,
             "ticks": ""
            },
            "colorscale": [
             [
              0,
              "#0d0887"
             ],
             [
              0.1111111111111111,
              "#46039f"
             ],
             [
              0.2222222222222222,
              "#7201a8"
             ],
             [
              0.3333333333333333,
              "#9c179e"
             ],
             [
              0.4444444444444444,
              "#bd3786"
             ],
             [
              0.5555555555555556,
              "#d8576b"
             ],
             [
              0.6666666666666666,
              "#ed7953"
             ],
             [
              0.7777777777777778,
              "#fb9f3a"
             ],
             [
              0.8888888888888888,
              "#fdca26"
             ],
             [
              1,
              "#f0f921"
             ]
            ],
            "type": "surface"
           }
          ],
          "table": [
           {
            "cells": {
             "fill": {
              "color": "#EBF0F8"
             },
             "line": {
              "color": "white"
             }
            },
            "header": {
             "fill": {
              "color": "#C8D4E3"
             },
             "line": {
              "color": "white"
             }
            },
            "type": "table"
           }
          ]
         },
         "layout": {
          "annotationdefaults": {
           "arrowcolor": "#2a3f5f",
           "arrowhead": 0,
           "arrowwidth": 1
          },
          "autotypenumbers": "strict",
          "coloraxis": {
           "colorbar": {
            "outlinewidth": 0,
            "ticks": ""
           }
          },
          "colorscale": {
           "diverging": [
            [
             0,
             "#8e0152"
            ],
            [
             0.1,
             "#c51b7d"
            ],
            [
             0.2,
             "#de77ae"
            ],
            [
             0.3,
             "#f1b6da"
            ],
            [
             0.4,
             "#fde0ef"
            ],
            [
             0.5,
             "#f7f7f7"
            ],
            [
             0.6,
             "#e6f5d0"
            ],
            [
             0.7,
             "#b8e186"
            ],
            [
             0.8,
             "#7fbc41"
            ],
            [
             0.9,
             "#4d9221"
            ],
            [
             1,
             "#276419"
            ]
           ],
           "sequential": [
            [
             0,
             "#0d0887"
            ],
            [
             0.1111111111111111,
             "#46039f"
            ],
            [
             0.2222222222222222,
             "#7201a8"
            ],
            [
             0.3333333333333333,
             "#9c179e"
            ],
            [
             0.4444444444444444,
             "#bd3786"
            ],
            [
             0.5555555555555556,
             "#d8576b"
            ],
            [
             0.6666666666666666,
             "#ed7953"
            ],
            [
             0.7777777777777778,
             "#fb9f3a"
            ],
            [
             0.8888888888888888,
             "#fdca26"
            ],
            [
             1,
             "#f0f921"
            ]
           ],
           "sequentialminus": [
            [
             0,
             "#0d0887"
            ],
            [
             0.1111111111111111,
             "#46039f"
            ],
            [
             0.2222222222222222,
             "#7201a8"
            ],
            [
             0.3333333333333333,
             "#9c179e"
            ],
            [
             0.4444444444444444,
             "#bd3786"
            ],
            [
             0.5555555555555556,
             "#d8576b"
            ],
            [
             0.6666666666666666,
             "#ed7953"
            ],
            [
             0.7777777777777778,
             "#fb9f3a"
            ],
            [
             0.8888888888888888,
             "#fdca26"
            ],
            [
             1,
             "#f0f921"
            ]
           ]
          },
          "colorway": [
           "#636efa",
           "#EF553B",
           "#00cc96",
           "#ab63fa",
           "#FFA15A",
           "#19d3f3",
           "#FF6692",
           "#B6E880",
           "#FF97FF",
           "#FECB52"
          ],
          "font": {
           "color": "#2a3f5f"
          },
          "geo": {
           "bgcolor": "white",
           "lakecolor": "white",
           "landcolor": "#E5ECF6",
           "showlakes": true,
           "showland": true,
           "subunitcolor": "white"
          },
          "hoverlabel": {
           "align": "left"
          },
          "hovermode": "closest",
          "mapbox": {
           "style": "light"
          },
          "paper_bgcolor": "white",
          "plot_bgcolor": "#E5ECF6",
          "polar": {
           "angularaxis": {
            "gridcolor": "white",
            "linecolor": "white",
            "ticks": ""
           },
           "bgcolor": "#E5ECF6",
           "radialaxis": {
            "gridcolor": "white",
            "linecolor": "white",
            "ticks": ""
           }
          },
          "scene": {
           "xaxis": {
            "backgroundcolor": "#E5ECF6",
            "gridcolor": "white",
            "gridwidth": 2,
            "linecolor": "white",
            "showbackground": true,
            "ticks": "",
            "zerolinecolor": "white"
           },
           "yaxis": {
            "backgroundcolor": "#E5ECF6",
            "gridcolor": "white",
            "gridwidth": 2,
            "linecolor": "white",
            "showbackground": true,
            "ticks": "",
            "zerolinecolor": "white"
           },
           "zaxis": {
            "backgroundcolor": "#E5ECF6",
            "gridcolor": "white",
            "gridwidth": 2,
            "linecolor": "white",
            "showbackground": true,
            "ticks": "",
            "zerolinecolor": "white"
           }
          },
          "shapedefaults": {
           "line": {
            "color": "#2a3f5f"
           }
          },
          "ternary": {
           "aaxis": {
            "gridcolor": "white",
            "linecolor": "white",
            "ticks": ""
           },
           "baxis": {
            "gridcolor": "white",
            "linecolor": "white",
            "ticks": ""
           },
           "bgcolor": "#E5ECF6",
           "caxis": {
            "gridcolor": "white",
            "linecolor": "white",
            "ticks": ""
           }
          },
          "title": {
           "x": 0.05
          },
          "xaxis": {
           "automargin": true,
           "gridcolor": "white",
           "linecolor": "white",
           "ticks": "",
           "title": {
            "standoff": 15
           },
           "zerolinecolor": "white",
           "zerolinewidth": 2
          },
          "yaxis": {
           "automargin": true,
           "gridcolor": "white",
           "linecolor": "white",
           "ticks": "",
           "title": {
            "standoff": 15
           },
           "zerolinecolor": "white",
           "zerolinewidth": 2
          }
         }
        },
        "title": {
         "font": {
          "color": "#4D5663"
         }
        },
        "xaxis": {
         "gridcolor": "#E1E5ED",
         "showgrid": true,
         "tickfont": {
          "color": "#4D5663"
         },
         "title": {
          "font": {
           "color": "#4D5663"
          },
          "text": ""
         },
         "zerolinecolor": "#E1E5ED"
        },
        "yaxis": {
         "gridcolor": "#E1E5ED",
         "showgrid": true,
         "tickfont": {
          "color": "#4D5663"
         },
         "title": {
          "font": {
           "color": "#4D5663"
          },
          "text": ""
         },
         "zerolinecolor": "#E1E5ED"
        }
       }
      },
      "text/html": [
       "<div>                            <div id=\"2acb025c-795f-4238-908f-113caf41ee81\" class=\"plotly-graph-div\" style=\"height:525px; width:100%;\"></div>            <script type=\"text/javascript\">                require([\"plotly\"], function(Plotly) {                    window.PLOTLYENV=window.PLOTLYENV || {};\n",
       "                    window.PLOTLYENV.BASE_URL='https://plot.ly';                                    if (document.getElementById(\"2acb025c-795f-4238-908f-113caf41ee81\")) {                    Plotly.newPlot(                        \"2acb025c-795f-4238-908f-113caf41ee81\",                        [{\"marker\": {\"color\": \"rgba(255, 153, 51, 0.6)\", \"line\": {\"color\": \"rgba(255, 153, 51, 1.0)\", \"width\": 1}}, \"name\": \"None\", \"orientation\": \"v\", \"text\": \"\", \"type\": \"bar\", \"x\": [\"A\", \"B\", \"C\", \"D\"], \"y\": [100, 100, 100, 100]}],                        {\"legend\": {\"bgcolor\": \"#F5F6F9\", \"font\": {\"color\": \"#4D5663\"}}, \"paper_bgcolor\": \"#F5F6F9\", \"plot_bgcolor\": \"#F5F6F9\", \"template\": {\"data\": {\"bar\": [{\"error_x\": {\"color\": \"#2a3f5f\"}, \"error_y\": {\"color\": \"#2a3f5f\"}, \"marker\": {\"line\": {\"color\": \"#E5ECF6\", \"width\": 0.5}}, \"type\": \"bar\"}], \"barpolar\": [{\"marker\": {\"line\": {\"color\": \"#E5ECF6\", \"width\": 0.5}}, \"type\": \"barpolar\"}], \"carpet\": [{\"aaxis\": {\"endlinecolor\": \"#2a3f5f\", \"gridcolor\": \"white\", \"linecolor\": \"white\", \"minorgridcolor\": \"white\", \"startlinecolor\": \"#2a3f5f\"}, \"baxis\": {\"endlinecolor\": \"#2a3f5f\", \"gridcolor\": \"white\", \"linecolor\": \"white\", \"minorgridcolor\": \"white\", \"startlinecolor\": \"#2a3f5f\"}, \"type\": \"carpet\"}], \"choropleth\": [{\"colorbar\": {\"outlinewidth\": 0, \"ticks\": \"\"}, \"type\": \"choropleth\"}], \"contour\": [{\"colorbar\": {\"outlinewidth\": 0, \"ticks\": \"\"}, \"colorscale\": [[0.0, \"#0d0887\"], [0.1111111111111111, \"#46039f\"], [0.2222222222222222, \"#7201a8\"], [0.3333333333333333, \"#9c179e\"], [0.4444444444444444, \"#bd3786\"], [0.5555555555555556, \"#d8576b\"], [0.6666666666666666, \"#ed7953\"], [0.7777777777777778, \"#fb9f3a\"], [0.8888888888888888, \"#fdca26\"], [1.0, \"#f0f921\"]], \"type\": \"contour\"}], \"contourcarpet\": [{\"colorbar\": {\"outlinewidth\": 0, \"ticks\": \"\"}, \"type\": \"contourcarpet\"}], \"heatmap\": [{\"colorbar\": {\"outlinewidth\": 0, \"ticks\": \"\"}, \"colorscale\": [[0.0, \"#0d0887\"], [0.1111111111111111, \"#46039f\"], [0.2222222222222222, \"#7201a8\"], [0.3333333333333333, \"#9c179e\"], [0.4444444444444444, \"#bd3786\"], [0.5555555555555556, \"#d8576b\"], [0.6666666666666666, \"#ed7953\"], [0.7777777777777778, \"#fb9f3a\"], [0.8888888888888888, \"#fdca26\"], [1.0, \"#f0f921\"]], \"type\": \"heatmap\"}], \"heatmapgl\": [{\"colorbar\": {\"outlinewidth\": 0, \"ticks\": \"\"}, \"colorscale\": [[0.0, \"#0d0887\"], [0.1111111111111111, \"#46039f\"], [0.2222222222222222, \"#7201a8\"], [0.3333333333333333, \"#9c179e\"], [0.4444444444444444, \"#bd3786\"], [0.5555555555555556, \"#d8576b\"], [0.6666666666666666, \"#ed7953\"], [0.7777777777777778, \"#fb9f3a\"], [0.8888888888888888, \"#fdca26\"], [1.0, \"#f0f921\"]], \"type\": \"heatmapgl\"}], \"histogram\": [{\"marker\": {\"colorbar\": {\"outlinewidth\": 0, \"ticks\": \"\"}}, \"type\": \"histogram\"}], \"histogram2d\": [{\"colorbar\": {\"outlinewidth\": 0, \"ticks\": \"\"}, \"colorscale\": [[0.0, \"#0d0887\"], [0.1111111111111111, \"#46039f\"], [0.2222222222222222, \"#7201a8\"], [0.3333333333333333, \"#9c179e\"], [0.4444444444444444, \"#bd3786\"], [0.5555555555555556, \"#d8576b\"], [0.6666666666666666, \"#ed7953\"], [0.7777777777777778, \"#fb9f3a\"], [0.8888888888888888, \"#fdca26\"], [1.0, \"#f0f921\"]], \"type\": \"histogram2d\"}], \"histogram2dcontour\": [{\"colorbar\": {\"outlinewidth\": 0, \"ticks\": \"\"}, \"colorscale\": [[0.0, \"#0d0887\"], [0.1111111111111111, \"#46039f\"], [0.2222222222222222, \"#7201a8\"], [0.3333333333333333, \"#9c179e\"], [0.4444444444444444, \"#bd3786\"], [0.5555555555555556, \"#d8576b\"], [0.6666666666666666, \"#ed7953\"], [0.7777777777777778, \"#fb9f3a\"], [0.8888888888888888, \"#fdca26\"], [1.0, \"#f0f921\"]], \"type\": \"histogram2dcontour\"}], \"mesh3d\": [{\"colorbar\": {\"outlinewidth\": 0, \"ticks\": \"\"}, \"type\": \"mesh3d\"}], \"parcoords\": [{\"line\": {\"colorbar\": {\"outlinewidth\": 0, \"ticks\": \"\"}}, \"type\": \"parcoords\"}], \"pie\": [{\"automargin\": true, \"type\": \"pie\"}], \"scatter\": [{\"marker\": {\"colorbar\": {\"outlinewidth\": 0, \"ticks\": \"\"}}, \"type\": \"scatter\"}], \"scatter3d\": [{\"line\": {\"colorbar\": {\"outlinewidth\": 0, \"ticks\": \"\"}}, \"marker\": {\"colorbar\": {\"outlinewidth\": 0, \"ticks\": \"\"}}, \"type\": \"scatter3d\"}], \"scattercarpet\": [{\"marker\": {\"colorbar\": {\"outlinewidth\": 0, \"ticks\": \"\"}}, \"type\": \"scattercarpet\"}], \"scattergeo\": [{\"marker\": {\"colorbar\": {\"outlinewidth\": 0, \"ticks\": \"\"}}, \"type\": \"scattergeo\"}], \"scattergl\": [{\"marker\": {\"colorbar\": {\"outlinewidth\": 0, \"ticks\": \"\"}}, \"type\": \"scattergl\"}], \"scattermapbox\": [{\"marker\": {\"colorbar\": {\"outlinewidth\": 0, \"ticks\": \"\"}}, \"type\": \"scattermapbox\"}], \"scatterpolar\": [{\"marker\": {\"colorbar\": {\"outlinewidth\": 0, \"ticks\": \"\"}}, \"type\": \"scatterpolar\"}], \"scatterpolargl\": [{\"marker\": {\"colorbar\": {\"outlinewidth\": 0, \"ticks\": \"\"}}, \"type\": \"scatterpolargl\"}], \"scatterternary\": [{\"marker\": {\"colorbar\": {\"outlinewidth\": 0, \"ticks\": \"\"}}, \"type\": \"scatterternary\"}], \"surface\": [{\"colorbar\": {\"outlinewidth\": 0, \"ticks\": \"\"}, \"colorscale\": [[0.0, \"#0d0887\"], [0.1111111111111111, \"#46039f\"], [0.2222222222222222, \"#7201a8\"], [0.3333333333333333, \"#9c179e\"], [0.4444444444444444, \"#bd3786\"], [0.5555555555555556, \"#d8576b\"], [0.6666666666666666, \"#ed7953\"], [0.7777777777777778, \"#fb9f3a\"], [0.8888888888888888, \"#fdca26\"], [1.0, \"#f0f921\"]], \"type\": \"surface\"}], \"table\": [{\"cells\": {\"fill\": {\"color\": \"#EBF0F8\"}, \"line\": {\"color\": \"white\"}}, \"header\": {\"fill\": {\"color\": \"#C8D4E3\"}, \"line\": {\"color\": \"white\"}}, \"type\": \"table\"}]}, \"layout\": {\"annotationdefaults\": {\"arrowcolor\": \"#2a3f5f\", \"arrowhead\": 0, \"arrowwidth\": 1}, \"autotypenumbers\": \"strict\", \"coloraxis\": {\"colorbar\": {\"outlinewidth\": 0, \"ticks\": \"\"}}, \"colorscale\": {\"diverging\": [[0, \"#8e0152\"], [0.1, \"#c51b7d\"], [0.2, \"#de77ae\"], [0.3, \"#f1b6da\"], [0.4, \"#fde0ef\"], [0.5, \"#f7f7f7\"], [0.6, \"#e6f5d0\"], [0.7, \"#b8e186\"], [0.8, \"#7fbc41\"], [0.9, \"#4d9221\"], [1, \"#276419\"]], \"sequential\": [[0.0, \"#0d0887\"], [0.1111111111111111, \"#46039f\"], [0.2222222222222222, \"#7201a8\"], [0.3333333333333333, \"#9c179e\"], [0.4444444444444444, \"#bd3786\"], [0.5555555555555556, \"#d8576b\"], [0.6666666666666666, \"#ed7953\"], [0.7777777777777778, \"#fb9f3a\"], [0.8888888888888888, \"#fdca26\"], [1.0, \"#f0f921\"]], \"sequentialminus\": [[0.0, \"#0d0887\"], [0.1111111111111111, \"#46039f\"], [0.2222222222222222, \"#7201a8\"], [0.3333333333333333, \"#9c179e\"], [0.4444444444444444, \"#bd3786\"], [0.5555555555555556, \"#d8576b\"], [0.6666666666666666, \"#ed7953\"], [0.7777777777777778, \"#fb9f3a\"], [0.8888888888888888, \"#fdca26\"], [1.0, \"#f0f921\"]]}, \"colorway\": [\"#636efa\", \"#EF553B\", \"#00cc96\", \"#ab63fa\", \"#FFA15A\", \"#19d3f3\", \"#FF6692\", \"#B6E880\", \"#FF97FF\", \"#FECB52\"], \"font\": {\"color\": \"#2a3f5f\"}, \"geo\": {\"bgcolor\": \"white\", \"lakecolor\": \"white\", \"landcolor\": \"#E5ECF6\", \"showlakes\": true, \"showland\": true, \"subunitcolor\": \"white\"}, \"hoverlabel\": {\"align\": \"left\"}, \"hovermode\": \"closest\", \"mapbox\": {\"style\": \"light\"}, \"paper_bgcolor\": \"white\", \"plot_bgcolor\": \"#E5ECF6\", \"polar\": {\"angularaxis\": {\"gridcolor\": \"white\", \"linecolor\": \"white\", \"ticks\": \"\"}, \"bgcolor\": \"#E5ECF6\", \"radialaxis\": {\"gridcolor\": \"white\", \"linecolor\": \"white\", \"ticks\": \"\"}}, \"scene\": {\"xaxis\": {\"backgroundcolor\": \"#E5ECF6\", \"gridcolor\": \"white\", \"gridwidth\": 2, \"linecolor\": \"white\", \"showbackground\": true, \"ticks\": \"\", \"zerolinecolor\": \"white\"}, \"yaxis\": {\"backgroundcolor\": \"#E5ECF6\", \"gridcolor\": \"white\", \"gridwidth\": 2, \"linecolor\": \"white\", \"showbackground\": true, \"ticks\": \"\", \"zerolinecolor\": \"white\"}, \"zaxis\": {\"backgroundcolor\": \"#E5ECF6\", \"gridcolor\": \"white\", \"gridwidth\": 2, \"linecolor\": \"white\", \"showbackground\": true, \"ticks\": \"\", \"zerolinecolor\": \"white\"}}, \"shapedefaults\": {\"line\": {\"color\": \"#2a3f5f\"}}, \"ternary\": {\"aaxis\": {\"gridcolor\": \"white\", \"linecolor\": \"white\", \"ticks\": \"\"}, \"baxis\": {\"gridcolor\": \"white\", \"linecolor\": \"white\", \"ticks\": \"\"}, \"bgcolor\": \"#E5ECF6\", \"caxis\": {\"gridcolor\": \"white\", \"linecolor\": \"white\", \"ticks\": \"\"}}, \"title\": {\"x\": 0.05}, \"xaxis\": {\"automargin\": true, \"gridcolor\": \"white\", \"linecolor\": \"white\", \"ticks\": \"\", \"title\": {\"standoff\": 15}, \"zerolinecolor\": \"white\", \"zerolinewidth\": 2}, \"yaxis\": {\"automargin\": true, \"gridcolor\": \"white\", \"linecolor\": \"white\", \"ticks\": \"\", \"title\": {\"standoff\": 15}, \"zerolinecolor\": \"white\", \"zerolinewidth\": 2}}}, \"title\": {\"font\": {\"color\": \"#4D5663\"}}, \"xaxis\": {\"gridcolor\": \"#E1E5ED\", \"showgrid\": true, \"tickfont\": {\"color\": \"#4D5663\"}, \"title\": {\"font\": {\"color\": \"#4D5663\"}, \"text\": \"\"}, \"zerolinecolor\": \"#E1E5ED\"}, \"yaxis\": {\"gridcolor\": \"#E1E5ED\", \"showgrid\": true, \"tickfont\": {\"color\": \"#4D5663\"}, \"title\": {\"font\": {\"color\": \"#4D5663\"}, \"text\": \"\"}, \"zerolinecolor\": \"#E1E5ED\"}},                        {\"showLink\": true, \"linkText\": \"Export to plot.ly\", \"plotlyServerURL\": \"https://plot.ly\", \"responsive\": true}                    ).then(function(){\n",
       "                            \n",
       "var gd = document.getElementById('2acb025c-795f-4238-908f-113caf41ee81');\n",
       "var x = new MutationObserver(function (mutations, observer) {{\n",
       "        var display = window.getComputedStyle(gd).display;\n",
       "        if (!display || display === 'none') {{\n",
       "            console.log([gd, 'removed!']);\n",
       "            Plotly.purge(gd);\n",
       "            observer.disconnect();\n",
       "        }}\n",
       "}});\n",
       "\n",
       "// Listen for the removal of the full notebook cells\n",
       "var notebookContainer = gd.closest('#notebook-container');\n",
       "if (notebookContainer) {{\n",
       "    x.observe(notebookContainer, {childList: true});\n",
       "}}\n",
       "\n",
       "// Listen for the clearing of the current output cell\n",
       "var outputEl = gd.closest('.output');\n",
       "if (outputEl) {{\n",
       "    x.observe(outputEl, {childList: true});\n",
       "}}\n",
       "\n",
       "                        })                };                });            </script>        </div>"
      ]
     },
     "metadata": {},
     "output_type": "display_data"
    }
   ],
   "source": [
    "df.count().iplot(kind='bar')"
   ]
  },
  {
   "cell_type": "markdown",
   "metadata": {},
   "source": [
    "## Boxplots"
   ]
  },
  {
   "cell_type": "code",
   "execution_count": 15,
   "metadata": {},
   "outputs": [
    {
     "data": {
      "application/vnd.plotly.v1+json": {
       "config": {
        "linkText": "Export to plot.ly",
        "plotlyServerURL": "https://plot.ly",
        "showLink": true
       },
       "data": [
        {
         "boxpoints": false,
         "line": {
          "width": 1.3
         },
         "marker": {
          "color": "rgba(255, 153, 51, 1.0)"
         },
         "name": "A",
         "orientation": "v",
         "type": "box",
         "y": [
          -0.19413006811794645,
          1.6873452436372878,
          -0.06033814051572481,
          1.127241606699178,
          0.4249481578883776,
          -0.474771738742198,
          0.698211057555185,
          2.3585197847599058,
          0.2525076034946605,
          -1.0036563379066212,
          0.6536456432532819,
          -0.49369169397422796,
          -0.040726414634479166,
          -1.2885506743387969,
          -0.6020672152154837,
          -0.3648634665112078,
          0.8550055279946877,
          -0.17651701401783582,
          -0.19397655363332744,
          -0.5974369876080038,
          1.0008277559296812,
          1.3800382984728465,
          1.842995649951157,
          -0.3934532452291988,
          1.775188837143746,
          -0.10482980330404865,
          1.4332963698722747,
          2.104609929509668,
          -1.3107212075382997,
          -1.4251183393240168,
          -1.7439730133074343,
          0.13983069925649397,
          -0.1489846483553503,
          1.2371640170336395,
          1.4546617303712968,
          -1.9221666452059851,
          1.1196152585742165,
          -1.5414060431672485,
          0.23091464060285513,
          -0.1795998073426502,
          0.3568798660024454,
          0.07031144664084961,
          -0.2847388574307799,
          -2.0255021671344045,
          -0.8162924399503177,
          -1.1554189247537237,
          0.3272815669839693,
          1.2433458954860341,
          -0.8592310438158935,
          -0.12255589607043708,
          -2.9330462306596297,
          0.825075419527729,
          -1.3838364250794792,
          0.47002291759059917,
          0.16019366964864235,
          -0.6695497233597274,
          0.6571492065201427,
          -1.0362928866265888,
          0.6000371947768279,
          -1.0852365770917878,
          0.6699417739632818,
          -0.7799693098199959,
          -2.0855814299603646,
          -0.44145574032885965,
          -1.2931539005533357,
          0.2526285871877972,
          0.43845672549827974,
          -2.308093329442031,
          -1.0337271695209675,
          -1.3010430922089382,
          -0.7449131497770748,
          1.2401792295516962,
          0.6122413017452012,
          0.8534369987201077,
          1.312831009581544,
          1.662951815482871,
          -0.3316120266169116,
          1.743694974660214,
          -0.13013299703260145,
          -0.29376058235490393,
          -1.0956253739601314,
          -0.8838304978530539,
          -1.8595140265346404,
          0.9873673295542541,
          -1.169455618514835,
          -1.3958825951619405,
          0.934004187216018,
          0.5383689930416583,
          0.8591407374766785,
          -0.720859277854418,
          0.42481480563062385,
          0.853917076970644,
          -0.49934487596276067,
          -1.3070911630905448,
          -0.48970691464979793,
          -0.4844952353948526,
          -0.5719609784077725,
          -1.1871246172535055,
          1.3930489740217789,
          1.0687185676705941
         ]
        },
        {
         "boxpoints": false,
         "line": {
          "width": 1.3
         },
         "marker": {
          "color": "rgba(55, 128, 191, 1.0)"
         },
         "name": "B",
         "orientation": "v",
         "type": "box",
         "y": [
          -1.3611066114771493,
          -0.9404925242020148,
          1.3722116473992234,
          1.7322354728534157,
          -0.30694083887020157,
          1.309104354467893,
          0.5167954353662241,
          1.6441571752434938,
          -0.4134000317423506,
          0.5862823464153141,
          -0.3656583696810447,
          -0.40036097875741194,
          -1.9283670925827068,
          -0.0708327897680354,
          1.1470858843451797,
          0.5255863969656889,
          2.068481598216057,
          -0.49383691804073476,
          -1.487171100606758,
          0.4061167279907759,
          -0.8039282604159369,
          -0.6138178483047706,
          -1.9994750228413507,
          -0.004233993427505336,
          -0.49269365124873,
          1.237631824582306,
          -0.2949322231299584,
          2.1918300320617243,
          0.07799139301538806,
          -1.1305133413357529,
          1.0476162128924136,
          0.3538543745858851,
          -0.6868036177964602,
          -0.11308818102274441,
          0.038389249561694566,
          -0.4257780082736259,
          0.30863654237506444,
          -0.9622296623279092,
          -1.4032359603804845,
          0.17011448873309684,
          -0.35102564009368653,
          1.6472531050230457,
          -0.0017095784216665632,
          -0.0802585463635855,
          -0.575165817878663,
          -0.1657590963488005,
          -0.3027385815977633,
          -1.9616424942909296,
          -1.0595263589326296,
          0.28209798325173263,
          -2.0820126828445544,
          1.8275024342636472,
          0.5621274107848366,
          1.2420771711415866,
          0.7722407212744912,
          -0.9751223011313264,
          -1.102383352433531,
          0.4918739774394961,
          0.3487522046764612,
          -1.54710965071441,
          -0.8007558152026161,
          -0.9175078799164796,
          -0.7142573010425983,
          0.07227775378214862,
          0.9006310625650061,
          0.5780860324163493,
          -0.6580487515865606,
          -0.9596497293206537,
          0.9447780056152655,
          0.22755580790266747,
          -0.9266910380099435,
          0.623537292539532,
          1.5961122826254042,
          1.625671033487804,
          0.20979766304248096,
          0.997780750833331,
          -0.2060883820505985,
          -1.0512210349747726,
          -0.5917818884538694,
          0.14740204061721746,
          1.108594612789978,
          -0.7950490675748462,
          1.0228236643021653,
          -0.6954751231068863,
          0.6351958883736164,
          0.5992249242207415,
          -1.1854834697675771,
          -0.9681946986435691,
          1.2351166042413806,
          -0.5123916078822467,
          0.3585394032102082,
          1.4113603363595246,
          -0.41841125808042157,
          -1.113792321118681,
          0.6698608955320294,
          -1.0729019997914118,
          0.7960213296027061,
          0.016233231262760002,
          -0.8170973228582855,
          0.9156937186180036
         ]
        },
        {
         "boxpoints": false,
         "line": {
          "width": 1.3
         },
         "marker": {
          "color": "rgba(50, 171, 96, 1.0)"
         },
         "name": "C",
         "orientation": "v",
         "type": "box",
         "y": [
          1.1140000563102914,
          0.9179111192891231,
          -1.188893946688415,
          -0.13114065312801368,
          -0.5073065118302527,
          -0.09311221148029948,
          -0.40309858035619506,
          -1.2941013357609827,
          0.1522616172187679,
          -0.5686042910003242,
          -1.4286613086018733,
          -0.3781713795523727,
          0.9331227361823387,
          -0.37323223165875363,
          -1.2944234062713793,
          0.37687384815416897,
          0.5383864472562093,
          0.9195673961256198,
          -0.3235223820041577,
          1.8727485081926467,
          -1.1795816875266778,
          -0.8449949840723888,
          -0.08170021400646502,
          -0.286192565615934,
          -1.3748756883851165,
          0.010926462554086724,
          -1.2328496843628618,
          2.0348838456214176,
          0.7000633511884815,
          -0.35531942399480254,
          -1.3406610705744013,
          0.01864999286216511,
          0.5094391286396842,
          -1.5836916726094383,
          -0.3451019978525569,
          0.20728312534209858,
          -0.47075281728892493,
          -0.8495495198337799,
          -2.27462312634757,
          1.079188580241099,
          1.3734873349909233,
          -0.9887079292764147,
          -0.19846970539638176,
          0.05555537080006787,
          1.0484174095692995,
          0.8413944546834128,
          -0.7442255295790747,
          1.35177853019317,
          -0.9227955558679611,
          -1.7848428894509274,
          -0.5376159353749289,
          0.42513207851628615,
          -1.1757641125658604,
          2.181435776931965,
          -1.3438381707387712,
          0.8337444045407011,
          -1.5632258506764016,
          -2.005299736675884,
          -0.512145200699896,
          -1.53512757582114,
          1.1256314278115334,
          -0.6368906250105119,
          1.012714720029981,
          1.14227675351933,
          0.6768707978526404,
          0.7408747509514002,
          1.208987844444804,
          -0.1696233626484463,
          0.533747518286306,
          -0.3238050911571481,
          1.4373066693923289,
          -1.3749462604913611,
          -0.47634446509526457,
          -1.2352209629271114,
          -0.7201741134971659,
          -0.5644507478376956,
          -0.8185475418091991,
          -0.2373988288623339,
          0.0525329787130495,
          0.7152312336106041,
          0.7515669310370038,
          2.1725115233636845,
          0.6709486950696367,
          -0.061786962023700744,
          1.99790878884932,
          -0.950474140726602,
          0.10347883137981151,
          -1.2619653553943295,
          0.9560693039796121,
          -0.24808316128268526,
          -0.5646307550129808,
          1.2111527593269058,
          -0.9052042719227168,
          -1.5476361898746265,
          0.7908770935839322,
          -0.19067333565555433,
          -0.696414490205117,
          -1.2008177650951006,
          -0.6279644058254207,
          1.2065146144924799
         ]
        },
        {
         "boxpoints": false,
         "line": {
          "width": 1.3
         },
         "marker": {
          "color": "rgba(128, 0, 128, 1.0)"
         },
         "name": "D",
         "orientation": "v",
         "type": "box",
         "y": [
          0.5320751007912108,
          -0.44975930030199057,
          -1.6771656542045301,
          -0.44091591284909243,
          -1.2851308015526384,
          -0.7672921960404369,
          -0.6840520694104756,
          -0.6289566167996111,
          0.6170199863296312,
          1.5550761236361315,
          -1.1446406031185345,
          0.7479360181353207,
          -0.6950321487313877,
          0.5142116978702493,
          -0.05006610246305449,
          -1.2706903369398972,
          0.9337105505915513,
          0.02165987886009008,
          -1.2383746732693224,
          1.01583752659063,
          -1.5344942838895572,
          -1.7971611010933033,
          0.012282015431504915,
          -1.248470325798801,
          -0.751727321058121,
          -2.273936072897154,
          1.7158873760344808,
          0.7321212780290757,
          -0.8102477927166142,
          1.1576824094414746,
          1.0583851117702763,
          0.49939834857688903,
          -1.971629393028559,
          -0.19322930214937295,
          0.0012406867894250626,
          -0.4342478017479121,
          1.095708912865221,
          0.2670904432193301,
          -1.190003807101934,
          -1.824817137720109,
          0.6501051336568515,
          -0.7750100630892506,
          -2.6817732386921604,
          1.3755485210745413,
          -0.4566373399656553,
          0.21588239064332343,
          -0.3475715417473595,
          1.335959388515564,
          0.39092724768516396,
          -1.8090022241329922,
          -0.05083863408104635,
          0.19966595619373337,
          0.18988135074015444,
          1.5879808284339636,
          2.7361373772078283,
          -1.0197215028317126,
          -1.6130798488874252,
          0.5008144907488354,
          -0.9054816200020326,
          -0.35278425688605897,
          0.07276996573600186,
          -0.11367312835682204,
          -0.4706793706580518,
          -0.7936352667864787,
          -0.073325399871544,
          -0.43098695473405396,
          -0.0021861177911710124,
          0.5205942760047915,
          1.125066587272659,
          -0.2653476580169145,
          1.230584153756348,
          0.5793011352848095,
          0.029628537268579048,
          -1.4374169864346782,
          -0.5203916972600846,
          -0.4696135290321071,
          -0.39830013019241006,
          0.9383185262511324,
          0.7502574495111625,
          -0.6580610391754727,
          -1.1133388387574064,
          0.548548678120502,
          -1.0798445834426695,
          -0.041307743482665464,
          0.23662982761887102,
          0.42647950801796736,
          1.08235850983857,
          -0.9200774076240209,
          0.6218461906103815,
          -0.23433028578862783,
          -0.8251050806726193,
          0.9333061973048289,
          -0.38522662207844394,
          -0.06723256007858268,
          -0.12573699866268626,
          0.7054772877188187,
          -0.22895083135905175,
          -0.15635726896667954,
          -0.4138384484948669,
          0.7292057746683822
         ]
        }
       ],
       "layout": {
        "legend": {
         "bgcolor": "#F5F6F9",
         "font": {
          "color": "#4D5663"
         }
        },
        "paper_bgcolor": "#F5F6F9",
        "plot_bgcolor": "#F5F6F9",
        "template": {
         "data": {
          "bar": [
           {
            "error_x": {
             "color": "#2a3f5f"
            },
            "error_y": {
             "color": "#2a3f5f"
            },
            "marker": {
             "line": {
              "color": "#E5ECF6",
              "width": 0.5
             }
            },
            "type": "bar"
           }
          ],
          "barpolar": [
           {
            "marker": {
             "line": {
              "color": "#E5ECF6",
              "width": 0.5
             }
            },
            "type": "barpolar"
           }
          ],
          "carpet": [
           {
            "aaxis": {
             "endlinecolor": "#2a3f5f",
             "gridcolor": "white",
             "linecolor": "white",
             "minorgridcolor": "white",
             "startlinecolor": "#2a3f5f"
            },
            "baxis": {
             "endlinecolor": "#2a3f5f",
             "gridcolor": "white",
             "linecolor": "white",
             "minorgridcolor": "white",
             "startlinecolor": "#2a3f5f"
            },
            "type": "carpet"
           }
          ],
          "choropleth": [
           {
            "colorbar": {
             "outlinewidth": 0,
             "ticks": ""
            },
            "type": "choropleth"
           }
          ],
          "contour": [
           {
            "colorbar": {
             "outlinewidth": 0,
             "ticks": ""
            },
            "colorscale": [
             [
              0,
              "#0d0887"
             ],
             [
              0.1111111111111111,
              "#46039f"
             ],
             [
              0.2222222222222222,
              "#7201a8"
             ],
             [
              0.3333333333333333,
              "#9c179e"
             ],
             [
              0.4444444444444444,
              "#bd3786"
             ],
             [
              0.5555555555555556,
              "#d8576b"
             ],
             [
              0.6666666666666666,
              "#ed7953"
             ],
             [
              0.7777777777777778,
              "#fb9f3a"
             ],
             [
              0.8888888888888888,
              "#fdca26"
             ],
             [
              1,
              "#f0f921"
             ]
            ],
            "type": "contour"
           }
          ],
          "contourcarpet": [
           {
            "colorbar": {
             "outlinewidth": 0,
             "ticks": ""
            },
            "type": "contourcarpet"
           }
          ],
          "heatmap": [
           {
            "colorbar": {
             "outlinewidth": 0,
             "ticks": ""
            },
            "colorscale": [
             [
              0,
              "#0d0887"
             ],
             [
              0.1111111111111111,
              "#46039f"
             ],
             [
              0.2222222222222222,
              "#7201a8"
             ],
             [
              0.3333333333333333,
              "#9c179e"
             ],
             [
              0.4444444444444444,
              "#bd3786"
             ],
             [
              0.5555555555555556,
              "#d8576b"
             ],
             [
              0.6666666666666666,
              "#ed7953"
             ],
             [
              0.7777777777777778,
              "#fb9f3a"
             ],
             [
              0.8888888888888888,
              "#fdca26"
             ],
             [
              1,
              "#f0f921"
             ]
            ],
            "type": "heatmap"
           }
          ],
          "heatmapgl": [
           {
            "colorbar": {
             "outlinewidth": 0,
             "ticks": ""
            },
            "colorscale": [
             [
              0,
              "#0d0887"
             ],
             [
              0.1111111111111111,
              "#46039f"
             ],
             [
              0.2222222222222222,
              "#7201a8"
             ],
             [
              0.3333333333333333,
              "#9c179e"
             ],
             [
              0.4444444444444444,
              "#bd3786"
             ],
             [
              0.5555555555555556,
              "#d8576b"
             ],
             [
              0.6666666666666666,
              "#ed7953"
             ],
             [
              0.7777777777777778,
              "#fb9f3a"
             ],
             [
              0.8888888888888888,
              "#fdca26"
             ],
             [
              1,
              "#f0f921"
             ]
            ],
            "type": "heatmapgl"
           }
          ],
          "histogram": [
           {
            "marker": {
             "colorbar": {
              "outlinewidth": 0,
              "ticks": ""
             }
            },
            "type": "histogram"
           }
          ],
          "histogram2d": [
           {
            "colorbar": {
             "outlinewidth": 0,
             "ticks": ""
            },
            "colorscale": [
             [
              0,
              "#0d0887"
             ],
             [
              0.1111111111111111,
              "#46039f"
             ],
             [
              0.2222222222222222,
              "#7201a8"
             ],
             [
              0.3333333333333333,
              "#9c179e"
             ],
             [
              0.4444444444444444,
              "#bd3786"
             ],
             [
              0.5555555555555556,
              "#d8576b"
             ],
             [
              0.6666666666666666,
              "#ed7953"
             ],
             [
              0.7777777777777778,
              "#fb9f3a"
             ],
             [
              0.8888888888888888,
              "#fdca26"
             ],
             [
              1,
              "#f0f921"
             ]
            ],
            "type": "histogram2d"
           }
          ],
          "histogram2dcontour": [
           {
            "colorbar": {
             "outlinewidth": 0,
             "ticks": ""
            },
            "colorscale": [
             [
              0,
              "#0d0887"
             ],
             [
              0.1111111111111111,
              "#46039f"
             ],
             [
              0.2222222222222222,
              "#7201a8"
             ],
             [
              0.3333333333333333,
              "#9c179e"
             ],
             [
              0.4444444444444444,
              "#bd3786"
             ],
             [
              0.5555555555555556,
              "#d8576b"
             ],
             [
              0.6666666666666666,
              "#ed7953"
             ],
             [
              0.7777777777777778,
              "#fb9f3a"
             ],
             [
              0.8888888888888888,
              "#fdca26"
             ],
             [
              1,
              "#f0f921"
             ]
            ],
            "type": "histogram2dcontour"
           }
          ],
          "mesh3d": [
           {
            "colorbar": {
             "outlinewidth": 0,
             "ticks": ""
            },
            "type": "mesh3d"
           }
          ],
          "parcoords": [
           {
            "line": {
             "colorbar": {
              "outlinewidth": 0,
              "ticks": ""
             }
            },
            "type": "parcoords"
           }
          ],
          "pie": [
           {
            "automargin": true,
            "type": "pie"
           }
          ],
          "scatter": [
           {
            "marker": {
             "colorbar": {
              "outlinewidth": 0,
              "ticks": ""
             }
            },
            "type": "scatter"
           }
          ],
          "scatter3d": [
           {
            "line": {
             "colorbar": {
              "outlinewidth": 0,
              "ticks": ""
             }
            },
            "marker": {
             "colorbar": {
              "outlinewidth": 0,
              "ticks": ""
             }
            },
            "type": "scatter3d"
           }
          ],
          "scattercarpet": [
           {
            "marker": {
             "colorbar": {
              "outlinewidth": 0,
              "ticks": ""
             }
            },
            "type": "scattercarpet"
           }
          ],
          "scattergeo": [
           {
            "marker": {
             "colorbar": {
              "outlinewidth": 0,
              "ticks": ""
             }
            },
            "type": "scattergeo"
           }
          ],
          "scattergl": [
           {
            "marker": {
             "colorbar": {
              "outlinewidth": 0,
              "ticks": ""
             }
            },
            "type": "scattergl"
           }
          ],
          "scattermapbox": [
           {
            "marker": {
             "colorbar": {
              "outlinewidth": 0,
              "ticks": ""
             }
            },
            "type": "scattermapbox"
           }
          ],
          "scatterpolar": [
           {
            "marker": {
             "colorbar": {
              "outlinewidth": 0,
              "ticks": ""
             }
            },
            "type": "scatterpolar"
           }
          ],
          "scatterpolargl": [
           {
            "marker": {
             "colorbar": {
              "outlinewidth": 0,
              "ticks": ""
             }
            },
            "type": "scatterpolargl"
           }
          ],
          "scatterternary": [
           {
            "marker": {
             "colorbar": {
              "outlinewidth": 0,
              "ticks": ""
             }
            },
            "type": "scatterternary"
           }
          ],
          "surface": [
           {
            "colorbar": {
             "outlinewidth": 0,
             "ticks": ""
            },
            "colorscale": [
             [
              0,
              "#0d0887"
             ],
             [
              0.1111111111111111,
              "#46039f"
             ],
             [
              0.2222222222222222,
              "#7201a8"
             ],
             [
              0.3333333333333333,
              "#9c179e"
             ],
             [
              0.4444444444444444,
              "#bd3786"
             ],
             [
              0.5555555555555556,
              "#d8576b"
             ],
             [
              0.6666666666666666,
              "#ed7953"
             ],
             [
              0.7777777777777778,
              "#fb9f3a"
             ],
             [
              0.8888888888888888,
              "#fdca26"
             ],
             [
              1,
              "#f0f921"
             ]
            ],
            "type": "surface"
           }
          ],
          "table": [
           {
            "cells": {
             "fill": {
              "color": "#EBF0F8"
             },
             "line": {
              "color": "white"
             }
            },
            "header": {
             "fill": {
              "color": "#C8D4E3"
             },
             "line": {
              "color": "white"
             }
            },
            "type": "table"
           }
          ]
         },
         "layout": {
          "annotationdefaults": {
           "arrowcolor": "#2a3f5f",
           "arrowhead": 0,
           "arrowwidth": 1
          },
          "autotypenumbers": "strict",
          "coloraxis": {
           "colorbar": {
            "outlinewidth": 0,
            "ticks": ""
           }
          },
          "colorscale": {
           "diverging": [
            [
             0,
             "#8e0152"
            ],
            [
             0.1,
             "#c51b7d"
            ],
            [
             0.2,
             "#de77ae"
            ],
            [
             0.3,
             "#f1b6da"
            ],
            [
             0.4,
             "#fde0ef"
            ],
            [
             0.5,
             "#f7f7f7"
            ],
            [
             0.6,
             "#e6f5d0"
            ],
            [
             0.7,
             "#b8e186"
            ],
            [
             0.8,
             "#7fbc41"
            ],
            [
             0.9,
             "#4d9221"
            ],
            [
             1,
             "#276419"
            ]
           ],
           "sequential": [
            [
             0,
             "#0d0887"
            ],
            [
             0.1111111111111111,
             "#46039f"
            ],
            [
             0.2222222222222222,
             "#7201a8"
            ],
            [
             0.3333333333333333,
             "#9c179e"
            ],
            [
             0.4444444444444444,
             "#bd3786"
            ],
            [
             0.5555555555555556,
             "#d8576b"
            ],
            [
             0.6666666666666666,
             "#ed7953"
            ],
            [
             0.7777777777777778,
             "#fb9f3a"
            ],
            [
             0.8888888888888888,
             "#fdca26"
            ],
            [
             1,
             "#f0f921"
            ]
           ],
           "sequentialminus": [
            [
             0,
             "#0d0887"
            ],
            [
             0.1111111111111111,
             "#46039f"
            ],
            [
             0.2222222222222222,
             "#7201a8"
            ],
            [
             0.3333333333333333,
             "#9c179e"
            ],
            [
             0.4444444444444444,
             "#bd3786"
            ],
            [
             0.5555555555555556,
             "#d8576b"
            ],
            [
             0.6666666666666666,
             "#ed7953"
            ],
            [
             0.7777777777777778,
             "#fb9f3a"
            ],
            [
             0.8888888888888888,
             "#fdca26"
            ],
            [
             1,
             "#f0f921"
            ]
           ]
          },
          "colorway": [
           "#636efa",
           "#EF553B",
           "#00cc96",
           "#ab63fa",
           "#FFA15A",
           "#19d3f3",
           "#FF6692",
           "#B6E880",
           "#FF97FF",
           "#FECB52"
          ],
          "font": {
           "color": "#2a3f5f"
          },
          "geo": {
           "bgcolor": "white",
           "lakecolor": "white",
           "landcolor": "#E5ECF6",
           "showlakes": true,
           "showland": true,
           "subunitcolor": "white"
          },
          "hoverlabel": {
           "align": "left"
          },
          "hovermode": "closest",
          "mapbox": {
           "style": "light"
          },
          "paper_bgcolor": "white",
          "plot_bgcolor": "#E5ECF6",
          "polar": {
           "angularaxis": {
            "gridcolor": "white",
            "linecolor": "white",
            "ticks": ""
           },
           "bgcolor": "#E5ECF6",
           "radialaxis": {
            "gridcolor": "white",
            "linecolor": "white",
            "ticks": ""
           }
          },
          "scene": {
           "xaxis": {
            "backgroundcolor": "#E5ECF6",
            "gridcolor": "white",
            "gridwidth": 2,
            "linecolor": "white",
            "showbackground": true,
            "ticks": "",
            "zerolinecolor": "white"
           },
           "yaxis": {
            "backgroundcolor": "#E5ECF6",
            "gridcolor": "white",
            "gridwidth": 2,
            "linecolor": "white",
            "showbackground": true,
            "ticks": "",
            "zerolinecolor": "white"
           },
           "zaxis": {
            "backgroundcolor": "#E5ECF6",
            "gridcolor": "white",
            "gridwidth": 2,
            "linecolor": "white",
            "showbackground": true,
            "ticks": "",
            "zerolinecolor": "white"
           }
          },
          "shapedefaults": {
           "line": {
            "color": "#2a3f5f"
           }
          },
          "ternary": {
           "aaxis": {
            "gridcolor": "white",
            "linecolor": "white",
            "ticks": ""
           },
           "baxis": {
            "gridcolor": "white",
            "linecolor": "white",
            "ticks": ""
           },
           "bgcolor": "#E5ECF6",
           "caxis": {
            "gridcolor": "white",
            "linecolor": "white",
            "ticks": ""
           }
          },
          "title": {
           "x": 0.05
          },
          "xaxis": {
           "automargin": true,
           "gridcolor": "white",
           "linecolor": "white",
           "ticks": "",
           "title": {
            "standoff": 15
           },
           "zerolinecolor": "white",
           "zerolinewidth": 2
          },
          "yaxis": {
           "automargin": true,
           "gridcolor": "white",
           "linecolor": "white",
           "ticks": "",
           "title": {
            "standoff": 15
           },
           "zerolinecolor": "white",
           "zerolinewidth": 2
          }
         }
        },
        "title": {
         "font": {
          "color": "#4D5663"
         }
        },
        "xaxis": {
         "gridcolor": "#E1E5ED",
         "showgrid": true,
         "tickfont": {
          "color": "#4D5663"
         },
         "title": {
          "font": {
           "color": "#4D5663"
          },
          "text": ""
         },
         "zerolinecolor": "#E1E5ED"
        },
        "yaxis": {
         "gridcolor": "#E1E5ED",
         "showgrid": true,
         "tickfont": {
          "color": "#4D5663"
         },
         "title": {
          "font": {
           "color": "#4D5663"
          },
          "text": ""
         },
         "zerolinecolor": "#E1E5ED"
        }
       }
      },
      "text/html": [
       "<div>                            <div id=\"a56d9315-c959-4171-8dc1-c4f618370fa3\" class=\"plotly-graph-div\" style=\"height:525px; width:100%;\"></div>            <script type=\"text/javascript\">                require([\"plotly\"], function(Plotly) {                    window.PLOTLYENV=window.PLOTLYENV || {};\n",
       "                    window.PLOTLYENV.BASE_URL='https://plot.ly';                                    if (document.getElementById(\"a56d9315-c959-4171-8dc1-c4f618370fa3\")) {                    Plotly.newPlot(                        \"a56d9315-c959-4171-8dc1-c4f618370fa3\",                        [{\"boxpoints\": false, \"line\": {\"width\": 1.3}, \"marker\": {\"color\": \"rgba(255, 153, 51, 1.0)\"}, \"name\": \"A\", \"orientation\": \"v\", \"type\": \"box\", \"y\": [-0.19413006811794645, 1.6873452436372878, -0.06033814051572481, 1.127241606699178, 0.4249481578883776, -0.474771738742198, 0.698211057555185, 2.3585197847599058, 0.2525076034946605, -1.0036563379066212, 0.6536456432532819, -0.49369169397422796, -0.040726414634479166, -1.2885506743387969, -0.6020672152154837, -0.3648634665112078, 0.8550055279946877, -0.17651701401783582, -0.19397655363332744, -0.5974369876080038, 1.0008277559296812, 1.3800382984728465, 1.842995649951157, -0.3934532452291988, 1.775188837143746, -0.10482980330404865, 1.4332963698722747, 2.104609929509668, -1.3107212075382997, -1.4251183393240168, -1.7439730133074343, 0.13983069925649397, -0.1489846483553503, 1.2371640170336395, 1.4546617303712968, -1.9221666452059851, 1.1196152585742165, -1.5414060431672485, 0.23091464060285513, -0.1795998073426502, 0.3568798660024454, 0.07031144664084961, -0.2847388574307799, -2.0255021671344045, -0.8162924399503177, -1.1554189247537237, 0.3272815669839693, 1.2433458954860341, -0.8592310438158935, -0.12255589607043708, -2.9330462306596297, 0.825075419527729, -1.3838364250794792, 0.47002291759059917, 0.16019366964864235, -0.6695497233597274, 0.6571492065201427, -1.0362928866265888, 0.6000371947768279, -1.0852365770917878, 0.6699417739632818, -0.7799693098199959, -2.0855814299603646, -0.44145574032885965, -1.2931539005533357, 0.2526285871877972, 0.43845672549827974, -2.308093329442031, -1.0337271695209675, -1.3010430922089382, -0.7449131497770748, 1.2401792295516962, 0.6122413017452012, 0.8534369987201077, 1.312831009581544, 1.662951815482871, -0.3316120266169116, 1.743694974660214, -0.13013299703260145, -0.29376058235490393, -1.0956253739601314, -0.8838304978530539, -1.8595140265346404, 0.9873673295542541, -1.169455618514835, -1.3958825951619405, 0.934004187216018, 0.5383689930416583, 0.8591407374766785, -0.720859277854418, 0.42481480563062385, 0.853917076970644, -0.49934487596276067, -1.3070911630905448, -0.48970691464979793, -0.4844952353948526, -0.5719609784077725, -1.1871246172535055, 1.3930489740217789, 1.0687185676705941]}, {\"boxpoints\": false, \"line\": {\"width\": 1.3}, \"marker\": {\"color\": \"rgba(55, 128, 191, 1.0)\"}, \"name\": \"B\", \"orientation\": \"v\", \"type\": \"box\", \"y\": [-1.3611066114771493, -0.9404925242020148, 1.3722116473992234, 1.7322354728534157, -0.30694083887020157, 1.309104354467893, 0.5167954353662241, 1.6441571752434938, -0.4134000317423506, 0.5862823464153141, -0.3656583696810447, -0.40036097875741194, -1.9283670925827068, -0.0708327897680354, 1.1470858843451797, 0.5255863969656889, 2.068481598216057, -0.49383691804073476, -1.487171100606758, 0.4061167279907759, -0.8039282604159369, -0.6138178483047706, -1.9994750228413507, -0.004233993427505336, -0.49269365124873, 1.237631824582306, -0.2949322231299584, 2.1918300320617243, 0.07799139301538806, -1.1305133413357529, 1.0476162128924136, 0.3538543745858851, -0.6868036177964602, -0.11308818102274441, 0.038389249561694566, -0.4257780082736259, 0.30863654237506444, -0.9622296623279092, -1.4032359603804845, 0.17011448873309684, -0.35102564009368653, 1.6472531050230457, -0.0017095784216665632, -0.0802585463635855, -0.575165817878663, -0.1657590963488005, -0.3027385815977633, -1.9616424942909296, -1.0595263589326296, 0.28209798325173263, -2.0820126828445544, 1.8275024342636472, 0.5621274107848366, 1.2420771711415866, 0.7722407212744912, -0.9751223011313264, -1.102383352433531, 0.4918739774394961, 0.3487522046764612, -1.54710965071441, -0.8007558152026161, -0.9175078799164796, -0.7142573010425983, 0.07227775378214862, 0.9006310625650061, 0.5780860324163493, -0.6580487515865606, -0.9596497293206537, 0.9447780056152655, 0.22755580790266747, -0.9266910380099435, 0.623537292539532, 1.5961122826254042, 1.625671033487804, 0.20979766304248096, 0.997780750833331, -0.2060883820505985, -1.0512210349747726, -0.5917818884538694, 0.14740204061721746, 1.108594612789978, -0.7950490675748462, 1.0228236643021653, -0.6954751231068863, 0.6351958883736164, 0.5992249242207415, -1.1854834697675771, -0.9681946986435691, 1.2351166042413806, -0.5123916078822467, 0.3585394032102082, 1.4113603363595246, -0.41841125808042157, -1.113792321118681, 0.6698608955320294, -1.0729019997914118, 0.7960213296027061, 0.016233231262760002, -0.8170973228582855, 0.9156937186180036]}, {\"boxpoints\": false, \"line\": {\"width\": 1.3}, \"marker\": {\"color\": \"rgba(50, 171, 96, 1.0)\"}, \"name\": \"C\", \"orientation\": \"v\", \"type\": \"box\", \"y\": [1.1140000563102914, 0.9179111192891231, -1.188893946688415, -0.13114065312801368, -0.5073065118302527, -0.09311221148029948, -0.40309858035619506, -1.2941013357609827, 0.1522616172187679, -0.5686042910003242, -1.4286613086018733, -0.3781713795523727, 0.9331227361823387, -0.37323223165875363, -1.2944234062713793, 0.37687384815416897, 0.5383864472562093, 0.9195673961256198, -0.3235223820041577, 1.8727485081926467, -1.1795816875266778, -0.8449949840723888, -0.08170021400646502, -0.286192565615934, -1.3748756883851165, 0.010926462554086724, -1.2328496843628618, 2.0348838456214176, 0.7000633511884815, -0.35531942399480254, -1.3406610705744013, 0.01864999286216511, 0.5094391286396842, -1.5836916726094383, -0.3451019978525569, 0.20728312534209858, -0.47075281728892493, -0.8495495198337799, -2.27462312634757, 1.079188580241099, 1.3734873349909233, -0.9887079292764147, -0.19846970539638176, 0.05555537080006787, 1.0484174095692995, 0.8413944546834128, -0.7442255295790747, 1.35177853019317, -0.9227955558679611, -1.7848428894509274, -0.5376159353749289, 0.42513207851628615, -1.1757641125658604, 2.181435776931965, -1.3438381707387712, 0.8337444045407011, -1.5632258506764016, -2.005299736675884, -0.512145200699896, -1.53512757582114, 1.1256314278115334, -0.6368906250105119, 1.012714720029981, 1.14227675351933, 0.6768707978526404, 0.7408747509514002, 1.208987844444804, -0.1696233626484463, 0.533747518286306, -0.3238050911571481, 1.4373066693923289, -1.3749462604913611, -0.47634446509526457, -1.2352209629271114, -0.7201741134971659, -0.5644507478376956, -0.8185475418091991, -0.2373988288623339, 0.0525329787130495, 0.7152312336106041, 0.7515669310370038, 2.1725115233636845, 0.6709486950696367, -0.061786962023700744, 1.99790878884932, -0.950474140726602, 0.10347883137981151, -1.2619653553943295, 0.9560693039796121, -0.24808316128268526, -0.5646307550129808, 1.2111527593269058, -0.9052042719227168, -1.5476361898746265, 0.7908770935839322, -0.19067333565555433, -0.696414490205117, -1.2008177650951006, -0.6279644058254207, 1.2065146144924799]}, {\"boxpoints\": false, \"line\": {\"width\": 1.3}, \"marker\": {\"color\": \"rgba(128, 0, 128, 1.0)\"}, \"name\": \"D\", \"orientation\": \"v\", \"type\": \"box\", \"y\": [0.5320751007912108, -0.44975930030199057, -1.6771656542045301, -0.44091591284909243, -1.2851308015526384, -0.7672921960404369, -0.6840520694104756, -0.6289566167996111, 0.6170199863296312, 1.5550761236361315, -1.1446406031185345, 0.7479360181353207, -0.6950321487313877, 0.5142116978702493, -0.05006610246305449, -1.2706903369398972, 0.9337105505915513, 0.02165987886009008, -1.2383746732693224, 1.01583752659063, -1.5344942838895572, -1.7971611010933033, 0.012282015431504915, -1.248470325798801, -0.751727321058121, -2.273936072897154, 1.7158873760344808, 0.7321212780290757, -0.8102477927166142, 1.1576824094414746, 1.0583851117702763, 0.49939834857688903, -1.971629393028559, -0.19322930214937295, 0.0012406867894250626, -0.4342478017479121, 1.095708912865221, 0.2670904432193301, -1.190003807101934, -1.824817137720109, 0.6501051336568515, -0.7750100630892506, -2.6817732386921604, 1.3755485210745413, -0.4566373399656553, 0.21588239064332343, -0.3475715417473595, 1.335959388515564, 0.39092724768516396, -1.8090022241329922, -0.05083863408104635, 0.19966595619373337, 0.18988135074015444, 1.5879808284339636, 2.7361373772078283, -1.0197215028317126, -1.6130798488874252, 0.5008144907488354, -0.9054816200020326, -0.35278425688605897, 0.07276996573600186, -0.11367312835682204, -0.4706793706580518, -0.7936352667864787, -0.073325399871544, -0.43098695473405396, -0.0021861177911710124, 0.5205942760047915, 1.125066587272659, -0.2653476580169145, 1.230584153756348, 0.5793011352848095, 0.029628537268579048, -1.4374169864346782, -0.5203916972600846, -0.4696135290321071, -0.39830013019241006, 0.9383185262511324, 0.7502574495111625, -0.6580610391754727, -1.1133388387574064, 0.548548678120502, -1.0798445834426695, -0.041307743482665464, 0.23662982761887102, 0.42647950801796736, 1.08235850983857, -0.9200774076240209, 0.6218461906103815, -0.23433028578862783, -0.8251050806726193, 0.9333061973048289, -0.38522662207844394, -0.06723256007858268, -0.12573699866268626, 0.7054772877188187, -0.22895083135905175, -0.15635726896667954, -0.4138384484948669, 0.7292057746683822]}],                        {\"legend\": {\"bgcolor\": \"#F5F6F9\", \"font\": {\"color\": \"#4D5663\"}}, \"paper_bgcolor\": \"#F5F6F9\", \"plot_bgcolor\": \"#F5F6F9\", \"template\": {\"data\": {\"bar\": [{\"error_x\": {\"color\": \"#2a3f5f\"}, \"error_y\": {\"color\": \"#2a3f5f\"}, \"marker\": {\"line\": {\"color\": \"#E5ECF6\", \"width\": 0.5}}, \"type\": \"bar\"}], \"barpolar\": [{\"marker\": {\"line\": {\"color\": \"#E5ECF6\", \"width\": 0.5}}, \"type\": \"barpolar\"}], \"carpet\": [{\"aaxis\": {\"endlinecolor\": \"#2a3f5f\", \"gridcolor\": \"white\", \"linecolor\": \"white\", \"minorgridcolor\": \"white\", \"startlinecolor\": \"#2a3f5f\"}, \"baxis\": {\"endlinecolor\": \"#2a3f5f\", \"gridcolor\": \"white\", \"linecolor\": \"white\", \"minorgridcolor\": \"white\", \"startlinecolor\": \"#2a3f5f\"}, \"type\": \"carpet\"}], \"choropleth\": [{\"colorbar\": {\"outlinewidth\": 0, \"ticks\": \"\"}, \"type\": \"choropleth\"}], \"contour\": [{\"colorbar\": {\"outlinewidth\": 0, \"ticks\": \"\"}, \"colorscale\": [[0.0, \"#0d0887\"], [0.1111111111111111, \"#46039f\"], [0.2222222222222222, \"#7201a8\"], [0.3333333333333333, \"#9c179e\"], [0.4444444444444444, \"#bd3786\"], [0.5555555555555556, \"#d8576b\"], [0.6666666666666666, \"#ed7953\"], [0.7777777777777778, \"#fb9f3a\"], [0.8888888888888888, \"#fdca26\"], [1.0, \"#f0f921\"]], \"type\": \"contour\"}], \"contourcarpet\": [{\"colorbar\": {\"outlinewidth\": 0, \"ticks\": \"\"}, \"type\": \"contourcarpet\"}], \"heatmap\": [{\"colorbar\": {\"outlinewidth\": 0, \"ticks\": \"\"}, \"colorscale\": [[0.0, \"#0d0887\"], [0.1111111111111111, \"#46039f\"], [0.2222222222222222, \"#7201a8\"], [0.3333333333333333, \"#9c179e\"], [0.4444444444444444, \"#bd3786\"], [0.5555555555555556, \"#d8576b\"], [0.6666666666666666, \"#ed7953\"], [0.7777777777777778, \"#fb9f3a\"], [0.8888888888888888, \"#fdca26\"], [1.0, \"#f0f921\"]], \"type\": \"heatmap\"}], \"heatmapgl\": [{\"colorbar\": {\"outlinewidth\": 0, \"ticks\": \"\"}, \"colorscale\": [[0.0, \"#0d0887\"], [0.1111111111111111, \"#46039f\"], [0.2222222222222222, \"#7201a8\"], [0.3333333333333333, \"#9c179e\"], [0.4444444444444444, \"#bd3786\"], [0.5555555555555556, \"#d8576b\"], [0.6666666666666666, \"#ed7953\"], [0.7777777777777778, \"#fb9f3a\"], [0.8888888888888888, \"#fdca26\"], [1.0, \"#f0f921\"]], \"type\": \"heatmapgl\"}], \"histogram\": [{\"marker\": {\"colorbar\": {\"outlinewidth\": 0, \"ticks\": \"\"}}, \"type\": \"histogram\"}], \"histogram2d\": [{\"colorbar\": {\"outlinewidth\": 0, \"ticks\": \"\"}, \"colorscale\": [[0.0, \"#0d0887\"], [0.1111111111111111, \"#46039f\"], [0.2222222222222222, \"#7201a8\"], [0.3333333333333333, \"#9c179e\"], [0.4444444444444444, \"#bd3786\"], [0.5555555555555556, \"#d8576b\"], [0.6666666666666666, \"#ed7953\"], [0.7777777777777778, \"#fb9f3a\"], [0.8888888888888888, \"#fdca26\"], [1.0, \"#f0f921\"]], \"type\": \"histogram2d\"}], \"histogram2dcontour\": [{\"colorbar\": {\"outlinewidth\": 0, \"ticks\": \"\"}, \"colorscale\": [[0.0, \"#0d0887\"], [0.1111111111111111, \"#46039f\"], [0.2222222222222222, \"#7201a8\"], [0.3333333333333333, \"#9c179e\"], [0.4444444444444444, \"#bd3786\"], [0.5555555555555556, \"#d8576b\"], [0.6666666666666666, \"#ed7953\"], [0.7777777777777778, \"#fb9f3a\"], [0.8888888888888888, \"#fdca26\"], [1.0, \"#f0f921\"]], \"type\": \"histogram2dcontour\"}], \"mesh3d\": [{\"colorbar\": {\"outlinewidth\": 0, \"ticks\": \"\"}, \"type\": \"mesh3d\"}], \"parcoords\": [{\"line\": {\"colorbar\": {\"outlinewidth\": 0, \"ticks\": \"\"}}, \"type\": \"parcoords\"}], \"pie\": [{\"automargin\": true, \"type\": \"pie\"}], \"scatter\": [{\"marker\": {\"colorbar\": {\"outlinewidth\": 0, \"ticks\": \"\"}}, \"type\": \"scatter\"}], \"scatter3d\": [{\"line\": {\"colorbar\": {\"outlinewidth\": 0, \"ticks\": \"\"}}, \"marker\": {\"colorbar\": {\"outlinewidth\": 0, \"ticks\": \"\"}}, \"type\": \"scatter3d\"}], \"scattercarpet\": [{\"marker\": {\"colorbar\": {\"outlinewidth\": 0, \"ticks\": \"\"}}, \"type\": \"scattercarpet\"}], \"scattergeo\": [{\"marker\": {\"colorbar\": {\"outlinewidth\": 0, \"ticks\": \"\"}}, \"type\": \"scattergeo\"}], \"scattergl\": [{\"marker\": {\"colorbar\": {\"outlinewidth\": 0, \"ticks\": \"\"}}, \"type\": \"scattergl\"}], \"scattermapbox\": [{\"marker\": {\"colorbar\": {\"outlinewidth\": 0, \"ticks\": \"\"}}, \"type\": \"scattermapbox\"}], \"scatterpolar\": [{\"marker\": {\"colorbar\": {\"outlinewidth\": 0, \"ticks\": \"\"}}, \"type\": \"scatterpolar\"}], \"scatterpolargl\": [{\"marker\": {\"colorbar\": {\"outlinewidth\": 0, \"ticks\": \"\"}}, \"type\": \"scatterpolargl\"}], \"scatterternary\": [{\"marker\": {\"colorbar\": {\"outlinewidth\": 0, \"ticks\": \"\"}}, \"type\": \"scatterternary\"}], \"surface\": [{\"colorbar\": {\"outlinewidth\": 0, \"ticks\": \"\"}, \"colorscale\": [[0.0, \"#0d0887\"], [0.1111111111111111, \"#46039f\"], [0.2222222222222222, \"#7201a8\"], [0.3333333333333333, \"#9c179e\"], [0.4444444444444444, \"#bd3786\"], [0.5555555555555556, \"#d8576b\"], [0.6666666666666666, \"#ed7953\"], [0.7777777777777778, \"#fb9f3a\"], [0.8888888888888888, \"#fdca26\"], [1.0, \"#f0f921\"]], \"type\": \"surface\"}], \"table\": [{\"cells\": {\"fill\": {\"color\": \"#EBF0F8\"}, \"line\": {\"color\": \"white\"}}, \"header\": {\"fill\": {\"color\": \"#C8D4E3\"}, \"line\": {\"color\": \"white\"}}, \"type\": \"table\"}]}, \"layout\": {\"annotationdefaults\": {\"arrowcolor\": \"#2a3f5f\", \"arrowhead\": 0, \"arrowwidth\": 1}, \"autotypenumbers\": \"strict\", \"coloraxis\": {\"colorbar\": {\"outlinewidth\": 0, \"ticks\": \"\"}}, \"colorscale\": {\"diverging\": [[0, \"#8e0152\"], [0.1, \"#c51b7d\"], [0.2, \"#de77ae\"], [0.3, \"#f1b6da\"], [0.4, \"#fde0ef\"], [0.5, \"#f7f7f7\"], [0.6, \"#e6f5d0\"], [0.7, \"#b8e186\"], [0.8, \"#7fbc41\"], [0.9, \"#4d9221\"], [1, \"#276419\"]], \"sequential\": [[0.0, \"#0d0887\"], [0.1111111111111111, \"#46039f\"], [0.2222222222222222, \"#7201a8\"], [0.3333333333333333, \"#9c179e\"], [0.4444444444444444, \"#bd3786\"], [0.5555555555555556, \"#d8576b\"], [0.6666666666666666, \"#ed7953\"], [0.7777777777777778, \"#fb9f3a\"], [0.8888888888888888, \"#fdca26\"], [1.0, \"#f0f921\"]], \"sequentialminus\": [[0.0, \"#0d0887\"], [0.1111111111111111, \"#46039f\"], [0.2222222222222222, \"#7201a8\"], [0.3333333333333333, \"#9c179e\"], [0.4444444444444444, \"#bd3786\"], [0.5555555555555556, \"#d8576b\"], [0.6666666666666666, \"#ed7953\"], [0.7777777777777778, \"#fb9f3a\"], [0.8888888888888888, \"#fdca26\"], [1.0, \"#f0f921\"]]}, \"colorway\": [\"#636efa\", \"#EF553B\", \"#00cc96\", \"#ab63fa\", \"#FFA15A\", \"#19d3f3\", \"#FF6692\", \"#B6E880\", \"#FF97FF\", \"#FECB52\"], \"font\": {\"color\": \"#2a3f5f\"}, \"geo\": {\"bgcolor\": \"white\", \"lakecolor\": \"white\", \"landcolor\": \"#E5ECF6\", \"showlakes\": true, \"showland\": true, \"subunitcolor\": \"white\"}, \"hoverlabel\": {\"align\": \"left\"}, \"hovermode\": \"closest\", \"mapbox\": {\"style\": \"light\"}, \"paper_bgcolor\": \"white\", \"plot_bgcolor\": \"#E5ECF6\", \"polar\": {\"angularaxis\": {\"gridcolor\": \"white\", \"linecolor\": \"white\", \"ticks\": \"\"}, \"bgcolor\": \"#E5ECF6\", \"radialaxis\": {\"gridcolor\": \"white\", \"linecolor\": \"white\", \"ticks\": \"\"}}, \"scene\": {\"xaxis\": {\"backgroundcolor\": \"#E5ECF6\", \"gridcolor\": \"white\", \"gridwidth\": 2, \"linecolor\": \"white\", \"showbackground\": true, \"ticks\": \"\", \"zerolinecolor\": \"white\"}, \"yaxis\": {\"backgroundcolor\": \"#E5ECF6\", \"gridcolor\": \"white\", \"gridwidth\": 2, \"linecolor\": \"white\", \"showbackground\": true, \"ticks\": \"\", \"zerolinecolor\": \"white\"}, \"zaxis\": {\"backgroundcolor\": \"#E5ECF6\", \"gridcolor\": \"white\", \"gridwidth\": 2, \"linecolor\": \"white\", \"showbackground\": true, \"ticks\": \"\", \"zerolinecolor\": \"white\"}}, \"shapedefaults\": {\"line\": {\"color\": \"#2a3f5f\"}}, \"ternary\": {\"aaxis\": {\"gridcolor\": \"white\", \"linecolor\": \"white\", \"ticks\": \"\"}, \"baxis\": {\"gridcolor\": \"white\", \"linecolor\": \"white\", \"ticks\": \"\"}, \"bgcolor\": \"#E5ECF6\", \"caxis\": {\"gridcolor\": \"white\", \"linecolor\": \"white\", \"ticks\": \"\"}}, \"title\": {\"x\": 0.05}, \"xaxis\": {\"automargin\": true, \"gridcolor\": \"white\", \"linecolor\": \"white\", \"ticks\": \"\", \"title\": {\"standoff\": 15}, \"zerolinecolor\": \"white\", \"zerolinewidth\": 2}, \"yaxis\": {\"automargin\": true, \"gridcolor\": \"white\", \"linecolor\": \"white\", \"ticks\": \"\", \"title\": {\"standoff\": 15}, \"zerolinecolor\": \"white\", \"zerolinewidth\": 2}}}, \"title\": {\"font\": {\"color\": \"#4D5663\"}}, \"xaxis\": {\"gridcolor\": \"#E1E5ED\", \"showgrid\": true, \"tickfont\": {\"color\": \"#4D5663\"}, \"title\": {\"font\": {\"color\": \"#4D5663\"}, \"text\": \"\"}, \"zerolinecolor\": \"#E1E5ED\"}, \"yaxis\": {\"gridcolor\": \"#E1E5ED\", \"showgrid\": true, \"tickfont\": {\"color\": \"#4D5663\"}, \"title\": {\"font\": {\"color\": \"#4D5663\"}, \"text\": \"\"}, \"zerolinecolor\": \"#E1E5ED\"}},                        {\"showLink\": true, \"linkText\": \"Export to plot.ly\", \"plotlyServerURL\": \"https://plot.ly\", \"responsive\": true}                    ).then(function(){\n",
       "                            \n",
       "var gd = document.getElementById('a56d9315-c959-4171-8dc1-c4f618370fa3');\n",
       "var x = new MutationObserver(function (mutations, observer) {{\n",
       "        var display = window.getComputedStyle(gd).display;\n",
       "        if (!display || display === 'none') {{\n",
       "            console.log([gd, 'removed!']);\n",
       "            Plotly.purge(gd);\n",
       "            observer.disconnect();\n",
       "        }}\n",
       "}});\n",
       "\n",
       "// Listen for the removal of the full notebook cells\n",
       "var notebookContainer = gd.closest('#notebook-container');\n",
       "if (notebookContainer) {{\n",
       "    x.observe(notebookContainer, {childList: true});\n",
       "}}\n",
       "\n",
       "// Listen for the clearing of the current output cell\n",
       "var outputEl = gd.closest('.output');\n",
       "if (outputEl) {{\n",
       "    x.observe(outputEl, {childList: true});\n",
       "}}\n",
       "\n",
       "                        })                };                });            </script>        </div>"
      ]
     },
     "metadata": {},
     "output_type": "display_data"
    }
   ],
   "source": [
    "df.iplot(kind='box')"
   ]
  },
  {
   "cell_type": "markdown",
   "metadata": {},
   "source": [
    "## 3d Surface"
   ]
  },
  {
   "cell_type": "code",
   "execution_count": 16,
   "metadata": {},
   "outputs": [
    {
     "data": {
      "application/vnd.plotly.v1+json": {
       "config": {
        "linkText": "Export to plot.ly",
        "plotlyServerURL": "https://plot.ly",
        "showLink": true
       },
       "data": [
        {
         "colorscale": [
          [
           0,
           "rgb(165,0,38)"
          ],
          [
           0.1,
           "rgb(215,48,39)"
          ],
          [
           0.2,
           "rgb(244,109,67)"
          ],
          [
           0.3,
           "rgb(253,174,97)"
          ],
          [
           0.4,
           "rgb(254,224,144)"
          ],
          [
           0.5,
           "rgb(255,255,191)"
          ],
          [
           0.6,
           "rgb(224,243,248)"
          ],
          [
           0.7,
           "rgb(171,217,233)"
          ],
          [
           0.8,
           "rgb(116,173,209)"
          ],
          [
           0.9,
           "rgb(69,117,180)"
          ],
          [
           1,
           "rgb(49,54,149)"
          ]
         ],
         "type": "surface",
         "x": [
          0,
          1,
          2,
          3,
          4
         ],
         "y": [
          "x",
          "y",
          "z"
         ],
         "z": [
          [
           1,
           2,
           3,
           4,
           5
          ],
          [
           10,
           20,
           30,
           20,
           10
          ],
          [
           5,
           4,
           3,
           2,
           1
          ]
         ]
        }
       ],
       "layout": {
        "legend": {
         "bgcolor": "#F5F6F9",
         "font": {
          "color": "#4D5663"
         }
        },
        "paper_bgcolor": "#F5F6F9",
        "plot_bgcolor": "#F5F6F9",
        "template": {
         "data": {
          "bar": [
           {
            "error_x": {
             "color": "#2a3f5f"
            },
            "error_y": {
             "color": "#2a3f5f"
            },
            "marker": {
             "line": {
              "color": "#E5ECF6",
              "width": 0.5
             }
            },
            "type": "bar"
           }
          ],
          "barpolar": [
           {
            "marker": {
             "line": {
              "color": "#E5ECF6",
              "width": 0.5
             }
            },
            "type": "barpolar"
           }
          ],
          "carpet": [
           {
            "aaxis": {
             "endlinecolor": "#2a3f5f",
             "gridcolor": "white",
             "linecolor": "white",
             "minorgridcolor": "white",
             "startlinecolor": "#2a3f5f"
            },
            "baxis": {
             "endlinecolor": "#2a3f5f",
             "gridcolor": "white",
             "linecolor": "white",
             "minorgridcolor": "white",
             "startlinecolor": "#2a3f5f"
            },
            "type": "carpet"
           }
          ],
          "choropleth": [
           {
            "colorbar": {
             "outlinewidth": 0,
             "ticks": ""
            },
            "type": "choropleth"
           }
          ],
          "contour": [
           {
            "colorbar": {
             "outlinewidth": 0,
             "ticks": ""
            },
            "colorscale": [
             [
              0,
              "#0d0887"
             ],
             [
              0.1111111111111111,
              "#46039f"
             ],
             [
              0.2222222222222222,
              "#7201a8"
             ],
             [
              0.3333333333333333,
              "#9c179e"
             ],
             [
              0.4444444444444444,
              "#bd3786"
             ],
             [
              0.5555555555555556,
              "#d8576b"
             ],
             [
              0.6666666666666666,
              "#ed7953"
             ],
             [
              0.7777777777777778,
              "#fb9f3a"
             ],
             [
              0.8888888888888888,
              "#fdca26"
             ],
             [
              1,
              "#f0f921"
             ]
            ],
            "type": "contour"
           }
          ],
          "contourcarpet": [
           {
            "colorbar": {
             "outlinewidth": 0,
             "ticks": ""
            },
            "type": "contourcarpet"
           }
          ],
          "heatmap": [
           {
            "colorbar": {
             "outlinewidth": 0,
             "ticks": ""
            },
            "colorscale": [
             [
              0,
              "#0d0887"
             ],
             [
              0.1111111111111111,
              "#46039f"
             ],
             [
              0.2222222222222222,
              "#7201a8"
             ],
             [
              0.3333333333333333,
              "#9c179e"
             ],
             [
              0.4444444444444444,
              "#bd3786"
             ],
             [
              0.5555555555555556,
              "#d8576b"
             ],
             [
              0.6666666666666666,
              "#ed7953"
             ],
             [
              0.7777777777777778,
              "#fb9f3a"
             ],
             [
              0.8888888888888888,
              "#fdca26"
             ],
             [
              1,
              "#f0f921"
             ]
            ],
            "type": "heatmap"
           }
          ],
          "heatmapgl": [
           {
            "colorbar": {
             "outlinewidth": 0,
             "ticks": ""
            },
            "colorscale": [
             [
              0,
              "#0d0887"
             ],
             [
              0.1111111111111111,
              "#46039f"
             ],
             [
              0.2222222222222222,
              "#7201a8"
             ],
             [
              0.3333333333333333,
              "#9c179e"
             ],
             [
              0.4444444444444444,
              "#bd3786"
             ],
             [
              0.5555555555555556,
              "#d8576b"
             ],
             [
              0.6666666666666666,
              "#ed7953"
             ],
             [
              0.7777777777777778,
              "#fb9f3a"
             ],
             [
              0.8888888888888888,
              "#fdca26"
             ],
             [
              1,
              "#f0f921"
             ]
            ],
            "type": "heatmapgl"
           }
          ],
          "histogram": [
           {
            "marker": {
             "colorbar": {
              "outlinewidth": 0,
              "ticks": ""
             }
            },
            "type": "histogram"
           }
          ],
          "histogram2d": [
           {
            "colorbar": {
             "outlinewidth": 0,
             "ticks": ""
            },
            "colorscale": [
             [
              0,
              "#0d0887"
             ],
             [
              0.1111111111111111,
              "#46039f"
             ],
             [
              0.2222222222222222,
              "#7201a8"
             ],
             [
              0.3333333333333333,
              "#9c179e"
             ],
             [
              0.4444444444444444,
              "#bd3786"
             ],
             [
              0.5555555555555556,
              "#d8576b"
             ],
             [
              0.6666666666666666,
              "#ed7953"
             ],
             [
              0.7777777777777778,
              "#fb9f3a"
             ],
             [
              0.8888888888888888,
              "#fdca26"
             ],
             [
              1,
              "#f0f921"
             ]
            ],
            "type": "histogram2d"
           }
          ],
          "histogram2dcontour": [
           {
            "colorbar": {
             "outlinewidth": 0,
             "ticks": ""
            },
            "colorscale": [
             [
              0,
              "#0d0887"
             ],
             [
              0.1111111111111111,
              "#46039f"
             ],
             [
              0.2222222222222222,
              "#7201a8"
             ],
             [
              0.3333333333333333,
              "#9c179e"
             ],
             [
              0.4444444444444444,
              "#bd3786"
             ],
             [
              0.5555555555555556,
              "#d8576b"
             ],
             [
              0.6666666666666666,
              "#ed7953"
             ],
             [
              0.7777777777777778,
              "#fb9f3a"
             ],
             [
              0.8888888888888888,
              "#fdca26"
             ],
             [
              1,
              "#f0f921"
             ]
            ],
            "type": "histogram2dcontour"
           }
          ],
          "mesh3d": [
           {
            "colorbar": {
             "outlinewidth": 0,
             "ticks": ""
            },
            "type": "mesh3d"
           }
          ],
          "parcoords": [
           {
            "line": {
             "colorbar": {
              "outlinewidth": 0,
              "ticks": ""
             }
            },
            "type": "parcoords"
           }
          ],
          "pie": [
           {
            "automargin": true,
            "type": "pie"
           }
          ],
          "scatter": [
           {
            "marker": {
             "colorbar": {
              "outlinewidth": 0,
              "ticks": ""
             }
            },
            "type": "scatter"
           }
          ],
          "scatter3d": [
           {
            "line": {
             "colorbar": {
              "outlinewidth": 0,
              "ticks": ""
             }
            },
            "marker": {
             "colorbar": {
              "outlinewidth": 0,
              "ticks": ""
             }
            },
            "type": "scatter3d"
           }
          ],
          "scattercarpet": [
           {
            "marker": {
             "colorbar": {
              "outlinewidth": 0,
              "ticks": ""
             }
            },
            "type": "scattercarpet"
           }
          ],
          "scattergeo": [
           {
            "marker": {
             "colorbar": {
              "outlinewidth": 0,
              "ticks": ""
             }
            },
            "type": "scattergeo"
           }
          ],
          "scattergl": [
           {
            "marker": {
             "colorbar": {
              "outlinewidth": 0,
              "ticks": ""
             }
            },
            "type": "scattergl"
           }
          ],
          "scattermapbox": [
           {
            "marker": {
             "colorbar": {
              "outlinewidth": 0,
              "ticks": ""
             }
            },
            "type": "scattermapbox"
           }
          ],
          "scatterpolar": [
           {
            "marker": {
             "colorbar": {
              "outlinewidth": 0,
              "ticks": ""
             }
            },
            "type": "scatterpolar"
           }
          ],
          "scatterpolargl": [
           {
            "marker": {
             "colorbar": {
              "outlinewidth": 0,
              "ticks": ""
             }
            },
            "type": "scatterpolargl"
           }
          ],
          "scatterternary": [
           {
            "marker": {
             "colorbar": {
              "outlinewidth": 0,
              "ticks": ""
             }
            },
            "type": "scatterternary"
           }
          ],
          "surface": [
           {
            "colorbar": {
             "outlinewidth": 0,
             "ticks": ""
            },
            "colorscale": [
             [
              0,
              "#0d0887"
             ],
             [
              0.1111111111111111,
              "#46039f"
             ],
             [
              0.2222222222222222,
              "#7201a8"
             ],
             [
              0.3333333333333333,
              "#9c179e"
             ],
             [
              0.4444444444444444,
              "#bd3786"
             ],
             [
              0.5555555555555556,
              "#d8576b"
             ],
             [
              0.6666666666666666,
              "#ed7953"
             ],
             [
              0.7777777777777778,
              "#fb9f3a"
             ],
             [
              0.8888888888888888,
              "#fdca26"
             ],
             [
              1,
              "#f0f921"
             ]
            ],
            "type": "surface"
           }
          ],
          "table": [
           {
            "cells": {
             "fill": {
              "color": "#EBF0F8"
             },
             "line": {
              "color": "white"
             }
            },
            "header": {
             "fill": {
              "color": "#C8D4E3"
             },
             "line": {
              "color": "white"
             }
            },
            "type": "table"
           }
          ]
         },
         "layout": {
          "annotationdefaults": {
           "arrowcolor": "#2a3f5f",
           "arrowhead": 0,
           "arrowwidth": 1
          },
          "autotypenumbers": "strict",
          "coloraxis": {
           "colorbar": {
            "outlinewidth": 0,
            "ticks": ""
           }
          },
          "colorscale": {
           "diverging": [
            [
             0,
             "#8e0152"
            ],
            [
             0.1,
             "#c51b7d"
            ],
            [
             0.2,
             "#de77ae"
            ],
            [
             0.3,
             "#f1b6da"
            ],
            [
             0.4,
             "#fde0ef"
            ],
            [
             0.5,
             "#f7f7f7"
            ],
            [
             0.6,
             "#e6f5d0"
            ],
            [
             0.7,
             "#b8e186"
            ],
            [
             0.8,
             "#7fbc41"
            ],
            [
             0.9,
             "#4d9221"
            ],
            [
             1,
             "#276419"
            ]
           ],
           "sequential": [
            [
             0,
             "#0d0887"
            ],
            [
             0.1111111111111111,
             "#46039f"
            ],
            [
             0.2222222222222222,
             "#7201a8"
            ],
            [
             0.3333333333333333,
             "#9c179e"
            ],
            [
             0.4444444444444444,
             "#bd3786"
            ],
            [
             0.5555555555555556,
             "#d8576b"
            ],
            [
             0.6666666666666666,
             "#ed7953"
            ],
            [
             0.7777777777777778,
             "#fb9f3a"
            ],
            [
             0.8888888888888888,
             "#fdca26"
            ],
            [
             1,
             "#f0f921"
            ]
           ],
           "sequentialminus": [
            [
             0,
             "#0d0887"
            ],
            [
             0.1111111111111111,
             "#46039f"
            ],
            [
             0.2222222222222222,
             "#7201a8"
            ],
            [
             0.3333333333333333,
             "#9c179e"
            ],
            [
             0.4444444444444444,
             "#bd3786"
            ],
            [
             0.5555555555555556,
             "#d8576b"
            ],
            [
             0.6666666666666666,
             "#ed7953"
            ],
            [
             0.7777777777777778,
             "#fb9f3a"
            ],
            [
             0.8888888888888888,
             "#fdca26"
            ],
            [
             1,
             "#f0f921"
            ]
           ]
          },
          "colorway": [
           "#636efa",
           "#EF553B",
           "#00cc96",
           "#ab63fa",
           "#FFA15A",
           "#19d3f3",
           "#FF6692",
           "#B6E880",
           "#FF97FF",
           "#FECB52"
          ],
          "font": {
           "color": "#2a3f5f"
          },
          "geo": {
           "bgcolor": "white",
           "lakecolor": "white",
           "landcolor": "#E5ECF6",
           "showlakes": true,
           "showland": true,
           "subunitcolor": "white"
          },
          "hoverlabel": {
           "align": "left"
          },
          "hovermode": "closest",
          "mapbox": {
           "style": "light"
          },
          "paper_bgcolor": "white",
          "plot_bgcolor": "#E5ECF6",
          "polar": {
           "angularaxis": {
            "gridcolor": "white",
            "linecolor": "white",
            "ticks": ""
           },
           "bgcolor": "#E5ECF6",
           "radialaxis": {
            "gridcolor": "white",
            "linecolor": "white",
            "ticks": ""
           }
          },
          "scene": {
           "xaxis": {
            "backgroundcolor": "#E5ECF6",
            "gridcolor": "white",
            "gridwidth": 2,
            "linecolor": "white",
            "showbackground": true,
            "ticks": "",
            "zerolinecolor": "white"
           },
           "yaxis": {
            "backgroundcolor": "#E5ECF6",
            "gridcolor": "white",
            "gridwidth": 2,
            "linecolor": "white",
            "showbackground": true,
            "ticks": "",
            "zerolinecolor": "white"
           },
           "zaxis": {
            "backgroundcolor": "#E5ECF6",
            "gridcolor": "white",
            "gridwidth": 2,
            "linecolor": "white",
            "showbackground": true,
            "ticks": "",
            "zerolinecolor": "white"
           }
          },
          "shapedefaults": {
           "line": {
            "color": "#2a3f5f"
           }
          },
          "ternary": {
           "aaxis": {
            "gridcolor": "white",
            "linecolor": "white",
            "ticks": ""
           },
           "baxis": {
            "gridcolor": "white",
            "linecolor": "white",
            "ticks": ""
           },
           "bgcolor": "#E5ECF6",
           "caxis": {
            "gridcolor": "white",
            "linecolor": "white",
            "ticks": ""
           }
          },
          "title": {
           "x": 0.05
          },
          "xaxis": {
           "automargin": true,
           "gridcolor": "white",
           "linecolor": "white",
           "ticks": "",
           "title": {
            "standoff": 15
           },
           "zerolinecolor": "white",
           "zerolinewidth": 2
          },
          "yaxis": {
           "automargin": true,
           "gridcolor": "white",
           "linecolor": "white",
           "ticks": "",
           "title": {
            "standoff": 15
           },
           "zerolinecolor": "white",
           "zerolinewidth": 2
          }
         }
        },
        "title": {
         "font": {
          "color": "#4D5663"
         }
        },
        "xaxis": {
         "gridcolor": "#E1E5ED",
         "showgrid": true,
         "tickfont": {
          "color": "#4D5663"
         },
         "title": {
          "font": {
           "color": "#4D5663"
          },
          "text": ""
         },
         "zerolinecolor": "#E1E5ED"
        },
        "yaxis": {
         "gridcolor": "#E1E5ED",
         "showgrid": true,
         "tickfont": {
          "color": "#4D5663"
         },
         "title": {
          "font": {
           "color": "#4D5663"
          },
          "text": ""
         },
         "zerolinecolor": "#E1E5ED"
        }
       }
      },
      "text/html": [
       "<div>                            <div id=\"aa2070fc-bf92-4840-80bf-cf4cf1f41ca3\" class=\"plotly-graph-div\" style=\"height:525px; width:100%;\"></div>            <script type=\"text/javascript\">                require([\"plotly\"], function(Plotly) {                    window.PLOTLYENV=window.PLOTLYENV || {};\n",
       "                    window.PLOTLYENV.BASE_URL='https://plot.ly';                                    if (document.getElementById(\"aa2070fc-bf92-4840-80bf-cf4cf1f41ca3\")) {                    Plotly.newPlot(                        \"aa2070fc-bf92-4840-80bf-cf4cf1f41ca3\",                        [{\"colorscale\": [[0.0, \"rgb(165,0,38)\"], [0.1, \"rgb(215,48,39)\"], [0.2, \"rgb(244,109,67)\"], [0.3, \"rgb(253,174,97)\"], [0.4, \"rgb(254,224,144)\"], [0.5, \"rgb(255,255,191)\"], [0.6, \"rgb(224,243,248)\"], [0.7, \"rgb(171,217,233)\"], [0.8, \"rgb(116,173,209)\"], [0.9, \"rgb(69,117,180)\"], [1.0, \"rgb(49,54,149)\"]], \"type\": \"surface\", \"x\": [0, 1, 2, 3, 4], \"y\": [\"x\", \"y\", \"z\"], \"z\": [[1, 2, 3, 4, 5], [10, 20, 30, 20, 10], [5, 4, 3, 2, 1]]}],                        {\"legend\": {\"bgcolor\": \"#F5F6F9\", \"font\": {\"color\": \"#4D5663\"}}, \"paper_bgcolor\": \"#F5F6F9\", \"plot_bgcolor\": \"#F5F6F9\", \"template\": {\"data\": {\"bar\": [{\"error_x\": {\"color\": \"#2a3f5f\"}, \"error_y\": {\"color\": \"#2a3f5f\"}, \"marker\": {\"line\": {\"color\": \"#E5ECF6\", \"width\": 0.5}}, \"type\": \"bar\"}], \"barpolar\": [{\"marker\": {\"line\": {\"color\": \"#E5ECF6\", \"width\": 0.5}}, \"type\": \"barpolar\"}], \"carpet\": [{\"aaxis\": {\"endlinecolor\": \"#2a3f5f\", \"gridcolor\": \"white\", \"linecolor\": \"white\", \"minorgridcolor\": \"white\", \"startlinecolor\": \"#2a3f5f\"}, \"baxis\": {\"endlinecolor\": \"#2a3f5f\", \"gridcolor\": \"white\", \"linecolor\": \"white\", \"minorgridcolor\": \"white\", \"startlinecolor\": \"#2a3f5f\"}, \"type\": \"carpet\"}], \"choropleth\": [{\"colorbar\": {\"outlinewidth\": 0, \"ticks\": \"\"}, \"type\": \"choropleth\"}], \"contour\": [{\"colorbar\": {\"outlinewidth\": 0, \"ticks\": \"\"}, \"colorscale\": [[0.0, \"#0d0887\"], [0.1111111111111111, \"#46039f\"], [0.2222222222222222, \"#7201a8\"], [0.3333333333333333, \"#9c179e\"], [0.4444444444444444, \"#bd3786\"], [0.5555555555555556, \"#d8576b\"], [0.6666666666666666, \"#ed7953\"], [0.7777777777777778, \"#fb9f3a\"], [0.8888888888888888, \"#fdca26\"], [1.0, \"#f0f921\"]], \"type\": \"contour\"}], \"contourcarpet\": [{\"colorbar\": {\"outlinewidth\": 0, \"ticks\": \"\"}, \"type\": \"contourcarpet\"}], \"heatmap\": [{\"colorbar\": {\"outlinewidth\": 0, \"ticks\": \"\"}, \"colorscale\": [[0.0, \"#0d0887\"], [0.1111111111111111, \"#46039f\"], [0.2222222222222222, \"#7201a8\"], [0.3333333333333333, \"#9c179e\"], [0.4444444444444444, \"#bd3786\"], [0.5555555555555556, \"#d8576b\"], [0.6666666666666666, \"#ed7953\"], [0.7777777777777778, \"#fb9f3a\"], [0.8888888888888888, \"#fdca26\"], [1.0, \"#f0f921\"]], \"type\": \"heatmap\"}], \"heatmapgl\": [{\"colorbar\": {\"outlinewidth\": 0, \"ticks\": \"\"}, \"colorscale\": [[0.0, \"#0d0887\"], [0.1111111111111111, \"#46039f\"], [0.2222222222222222, \"#7201a8\"], [0.3333333333333333, \"#9c179e\"], [0.4444444444444444, \"#bd3786\"], [0.5555555555555556, \"#d8576b\"], [0.6666666666666666, \"#ed7953\"], [0.7777777777777778, \"#fb9f3a\"], [0.8888888888888888, \"#fdca26\"], [1.0, \"#f0f921\"]], \"type\": \"heatmapgl\"}], \"histogram\": [{\"marker\": {\"colorbar\": {\"outlinewidth\": 0, \"ticks\": \"\"}}, \"type\": \"histogram\"}], \"histogram2d\": [{\"colorbar\": {\"outlinewidth\": 0, \"ticks\": \"\"}, \"colorscale\": [[0.0, \"#0d0887\"], [0.1111111111111111, \"#46039f\"], [0.2222222222222222, \"#7201a8\"], [0.3333333333333333, \"#9c179e\"], [0.4444444444444444, \"#bd3786\"], [0.5555555555555556, \"#d8576b\"], [0.6666666666666666, \"#ed7953\"], [0.7777777777777778, \"#fb9f3a\"], [0.8888888888888888, \"#fdca26\"], [1.0, \"#f0f921\"]], \"type\": \"histogram2d\"}], \"histogram2dcontour\": [{\"colorbar\": {\"outlinewidth\": 0, \"ticks\": \"\"}, \"colorscale\": [[0.0, \"#0d0887\"], [0.1111111111111111, \"#46039f\"], [0.2222222222222222, \"#7201a8\"], [0.3333333333333333, \"#9c179e\"], [0.4444444444444444, \"#bd3786\"], [0.5555555555555556, \"#d8576b\"], [0.6666666666666666, \"#ed7953\"], [0.7777777777777778, \"#fb9f3a\"], [0.8888888888888888, \"#fdca26\"], [1.0, \"#f0f921\"]], \"type\": \"histogram2dcontour\"}], \"mesh3d\": [{\"colorbar\": {\"outlinewidth\": 0, \"ticks\": \"\"}, \"type\": \"mesh3d\"}], \"parcoords\": [{\"line\": {\"colorbar\": {\"outlinewidth\": 0, \"ticks\": \"\"}}, \"type\": \"parcoords\"}], \"pie\": [{\"automargin\": true, \"type\": \"pie\"}], \"scatter\": [{\"marker\": {\"colorbar\": {\"outlinewidth\": 0, \"ticks\": \"\"}}, \"type\": \"scatter\"}], \"scatter3d\": [{\"line\": {\"colorbar\": {\"outlinewidth\": 0, \"ticks\": \"\"}}, \"marker\": {\"colorbar\": {\"outlinewidth\": 0, \"ticks\": \"\"}}, \"type\": \"scatter3d\"}], \"scattercarpet\": [{\"marker\": {\"colorbar\": {\"outlinewidth\": 0, \"ticks\": \"\"}}, \"type\": \"scattercarpet\"}], \"scattergeo\": [{\"marker\": {\"colorbar\": {\"outlinewidth\": 0, \"ticks\": \"\"}}, \"type\": \"scattergeo\"}], \"scattergl\": [{\"marker\": {\"colorbar\": {\"outlinewidth\": 0, \"ticks\": \"\"}}, \"type\": \"scattergl\"}], \"scattermapbox\": [{\"marker\": {\"colorbar\": {\"outlinewidth\": 0, \"ticks\": \"\"}}, \"type\": \"scattermapbox\"}], \"scatterpolar\": [{\"marker\": {\"colorbar\": {\"outlinewidth\": 0, \"ticks\": \"\"}}, \"type\": \"scatterpolar\"}], \"scatterpolargl\": [{\"marker\": {\"colorbar\": {\"outlinewidth\": 0, \"ticks\": \"\"}}, \"type\": \"scatterpolargl\"}], \"scatterternary\": [{\"marker\": {\"colorbar\": {\"outlinewidth\": 0, \"ticks\": \"\"}}, \"type\": \"scatterternary\"}], \"surface\": [{\"colorbar\": {\"outlinewidth\": 0, \"ticks\": \"\"}, \"colorscale\": [[0.0, \"#0d0887\"], [0.1111111111111111, \"#46039f\"], [0.2222222222222222, \"#7201a8\"], [0.3333333333333333, \"#9c179e\"], [0.4444444444444444, \"#bd3786\"], [0.5555555555555556, \"#d8576b\"], [0.6666666666666666, \"#ed7953\"], [0.7777777777777778, \"#fb9f3a\"], [0.8888888888888888, \"#fdca26\"], [1.0, \"#f0f921\"]], \"type\": \"surface\"}], \"table\": [{\"cells\": {\"fill\": {\"color\": \"#EBF0F8\"}, \"line\": {\"color\": \"white\"}}, \"header\": {\"fill\": {\"color\": \"#C8D4E3\"}, \"line\": {\"color\": \"white\"}}, \"type\": \"table\"}]}, \"layout\": {\"annotationdefaults\": {\"arrowcolor\": \"#2a3f5f\", \"arrowhead\": 0, \"arrowwidth\": 1}, \"autotypenumbers\": \"strict\", \"coloraxis\": {\"colorbar\": {\"outlinewidth\": 0, \"ticks\": \"\"}}, \"colorscale\": {\"diverging\": [[0, \"#8e0152\"], [0.1, \"#c51b7d\"], [0.2, \"#de77ae\"], [0.3, \"#f1b6da\"], [0.4, \"#fde0ef\"], [0.5, \"#f7f7f7\"], [0.6, \"#e6f5d0\"], [0.7, \"#b8e186\"], [0.8, \"#7fbc41\"], [0.9, \"#4d9221\"], [1, \"#276419\"]], \"sequential\": [[0.0, \"#0d0887\"], [0.1111111111111111, \"#46039f\"], [0.2222222222222222, \"#7201a8\"], [0.3333333333333333, \"#9c179e\"], [0.4444444444444444, \"#bd3786\"], [0.5555555555555556, \"#d8576b\"], [0.6666666666666666, \"#ed7953\"], [0.7777777777777778, \"#fb9f3a\"], [0.8888888888888888, \"#fdca26\"], [1.0, \"#f0f921\"]], \"sequentialminus\": [[0.0, \"#0d0887\"], [0.1111111111111111, \"#46039f\"], [0.2222222222222222, \"#7201a8\"], [0.3333333333333333, \"#9c179e\"], [0.4444444444444444, \"#bd3786\"], [0.5555555555555556, \"#d8576b\"], [0.6666666666666666, \"#ed7953\"], [0.7777777777777778, \"#fb9f3a\"], [0.8888888888888888, \"#fdca26\"], [1.0, \"#f0f921\"]]}, \"colorway\": [\"#636efa\", \"#EF553B\", \"#00cc96\", \"#ab63fa\", \"#FFA15A\", \"#19d3f3\", \"#FF6692\", \"#B6E880\", \"#FF97FF\", \"#FECB52\"], \"font\": {\"color\": \"#2a3f5f\"}, \"geo\": {\"bgcolor\": \"white\", \"lakecolor\": \"white\", \"landcolor\": \"#E5ECF6\", \"showlakes\": true, \"showland\": true, \"subunitcolor\": \"white\"}, \"hoverlabel\": {\"align\": \"left\"}, \"hovermode\": \"closest\", \"mapbox\": {\"style\": \"light\"}, \"paper_bgcolor\": \"white\", \"plot_bgcolor\": \"#E5ECF6\", \"polar\": {\"angularaxis\": {\"gridcolor\": \"white\", \"linecolor\": \"white\", \"ticks\": \"\"}, \"bgcolor\": \"#E5ECF6\", \"radialaxis\": {\"gridcolor\": \"white\", \"linecolor\": \"white\", \"ticks\": \"\"}}, \"scene\": {\"xaxis\": {\"backgroundcolor\": \"#E5ECF6\", \"gridcolor\": \"white\", \"gridwidth\": 2, \"linecolor\": \"white\", \"showbackground\": true, \"ticks\": \"\", \"zerolinecolor\": \"white\"}, \"yaxis\": {\"backgroundcolor\": \"#E5ECF6\", \"gridcolor\": \"white\", \"gridwidth\": 2, \"linecolor\": \"white\", \"showbackground\": true, \"ticks\": \"\", \"zerolinecolor\": \"white\"}, \"zaxis\": {\"backgroundcolor\": \"#E5ECF6\", \"gridcolor\": \"white\", \"gridwidth\": 2, \"linecolor\": \"white\", \"showbackground\": true, \"ticks\": \"\", \"zerolinecolor\": \"white\"}}, \"shapedefaults\": {\"line\": {\"color\": \"#2a3f5f\"}}, \"ternary\": {\"aaxis\": {\"gridcolor\": \"white\", \"linecolor\": \"white\", \"ticks\": \"\"}, \"baxis\": {\"gridcolor\": \"white\", \"linecolor\": \"white\", \"ticks\": \"\"}, \"bgcolor\": \"#E5ECF6\", \"caxis\": {\"gridcolor\": \"white\", \"linecolor\": \"white\", \"ticks\": \"\"}}, \"title\": {\"x\": 0.05}, \"xaxis\": {\"automargin\": true, \"gridcolor\": \"white\", \"linecolor\": \"white\", \"ticks\": \"\", \"title\": {\"standoff\": 15}, \"zerolinecolor\": \"white\", \"zerolinewidth\": 2}, \"yaxis\": {\"automargin\": true, \"gridcolor\": \"white\", \"linecolor\": \"white\", \"ticks\": \"\", \"title\": {\"standoff\": 15}, \"zerolinecolor\": \"white\", \"zerolinewidth\": 2}}}, \"title\": {\"font\": {\"color\": \"#4D5663\"}}, \"xaxis\": {\"gridcolor\": \"#E1E5ED\", \"showgrid\": true, \"tickfont\": {\"color\": \"#4D5663\"}, \"title\": {\"font\": {\"color\": \"#4D5663\"}, \"text\": \"\"}, \"zerolinecolor\": \"#E1E5ED\"}, \"yaxis\": {\"gridcolor\": \"#E1E5ED\", \"showgrid\": true, \"tickfont\": {\"color\": \"#4D5663\"}, \"title\": {\"font\": {\"color\": \"#4D5663\"}, \"text\": \"\"}, \"zerolinecolor\": \"#E1E5ED\"}},                        {\"showLink\": true, \"linkText\": \"Export to plot.ly\", \"plotlyServerURL\": \"https://plot.ly\", \"responsive\": true}                    ).then(function(){\n",
       "                            \n",
       "var gd = document.getElementById('aa2070fc-bf92-4840-80bf-cf4cf1f41ca3');\n",
       "var x = new MutationObserver(function (mutations, observer) {{\n",
       "        var display = window.getComputedStyle(gd).display;\n",
       "        if (!display || display === 'none') {{\n",
       "            console.log([gd, 'removed!']);\n",
       "            Plotly.purge(gd);\n",
       "            observer.disconnect();\n",
       "        }}\n",
       "}});\n",
       "\n",
       "// Listen for the removal of the full notebook cells\n",
       "var notebookContainer = gd.closest('#notebook-container');\n",
       "if (notebookContainer) {{\n",
       "    x.observe(notebookContainer, {childList: true});\n",
       "}}\n",
       "\n",
       "// Listen for the clearing of the current output cell\n",
       "var outputEl = gd.closest('.output');\n",
       "if (outputEl) {{\n",
       "    x.observe(outputEl, {childList: true});\n",
       "}}\n",
       "\n",
       "                        })                };                });            </script>        </div>"
      ]
     },
     "metadata": {},
     "output_type": "display_data"
    }
   ],
   "source": [
    "df3 = pd.DataFrame({'x':[1,2,3,4,5],'y':[10,20,30,20,10],'z':[5,4,3,2,1]})\n",
    "df3.iplot(kind='surface',colorscale='rdylbu')"
   ]
  },
  {
   "cell_type": "markdown",
   "metadata": {},
   "source": [
    "## Spread"
   ]
  },
  {
   "cell_type": "code",
   "execution_count": 17,
   "metadata": {},
   "outputs": [
    {
     "name": "stderr",
     "output_type": "stream",
     "text": [
      "C:\\Anaconda\\lib\\site-packages\\cufflinks\\plotlytools.py:849: FutureWarning:\n",
      "\n",
      "The pandas.np module is deprecated and will be removed from pandas in a future version. Import numpy directly instead\n",
      "\n",
      "C:\\Anaconda\\lib\\site-packages\\cufflinks\\plotlytools.py:850: FutureWarning:\n",
      "\n",
      "The pandas.np module is deprecated and will be removed from pandas in a future version. Import numpy directly instead\n",
      "\n"
     ]
    },
    {
     "data": {
      "application/vnd.plotly.v1+json": {
       "config": {
        "linkText": "Export to plot.ly",
        "plotlyServerURL": "https://plot.ly",
        "showLink": true
       },
       "data": [
        {
         "line": {
          "color": "rgba(255, 153, 51, 1.0)",
          "dash": "solid",
          "shape": "linear",
          "width": 1.3
         },
         "mode": "lines",
         "name": "A",
         "text": "",
         "type": "scatter",
         "x": [
          0,
          1,
          2,
          3,
          4,
          5,
          6,
          7,
          8,
          9,
          10,
          11,
          12,
          13,
          14,
          15,
          16,
          17,
          18,
          19,
          20,
          21,
          22,
          23,
          24,
          25,
          26,
          27,
          28,
          29,
          30,
          31,
          32,
          33,
          34,
          35,
          36,
          37,
          38,
          39,
          40,
          41,
          42,
          43,
          44,
          45,
          46,
          47,
          48,
          49,
          50,
          51,
          52,
          53,
          54,
          55,
          56,
          57,
          58,
          59,
          60,
          61,
          62,
          63,
          64,
          65,
          66,
          67,
          68,
          69,
          70,
          71,
          72,
          73,
          74,
          75,
          76,
          77,
          78,
          79,
          80,
          81,
          82,
          83,
          84,
          85,
          86,
          87,
          88,
          89,
          90,
          91,
          92,
          93,
          94,
          95,
          96,
          97,
          98,
          99
         ],
         "y": [
          -0.19413006811794645,
          1.6873452436372878,
          -0.06033814051572481,
          1.127241606699178,
          0.4249481578883776,
          -0.474771738742198,
          0.698211057555185,
          2.3585197847599058,
          0.2525076034946605,
          -1.0036563379066212,
          0.6536456432532819,
          -0.49369169397422796,
          -0.040726414634479166,
          -1.2885506743387969,
          -0.6020672152154837,
          -0.3648634665112078,
          0.8550055279946877,
          -0.17651701401783582,
          -0.19397655363332744,
          -0.5974369876080038,
          1.0008277559296812,
          1.3800382984728465,
          1.842995649951157,
          -0.3934532452291988,
          1.775188837143746,
          -0.10482980330404865,
          1.4332963698722747,
          2.104609929509668,
          -1.3107212075382997,
          -1.4251183393240168,
          -1.7439730133074343,
          0.13983069925649397,
          -0.1489846483553503,
          1.2371640170336395,
          1.4546617303712968,
          -1.9221666452059851,
          1.1196152585742165,
          -1.5414060431672485,
          0.23091464060285513,
          -0.1795998073426502,
          0.3568798660024454,
          0.07031144664084961,
          -0.2847388574307799,
          -2.0255021671344045,
          -0.8162924399503177,
          -1.1554189247537237,
          0.3272815669839693,
          1.2433458954860341,
          -0.8592310438158935,
          -0.12255589607043708,
          -2.9330462306596297,
          0.825075419527729,
          -1.3838364250794792,
          0.47002291759059917,
          0.16019366964864235,
          -0.6695497233597274,
          0.6571492065201427,
          -1.0362928866265888,
          0.6000371947768279,
          -1.0852365770917878,
          0.6699417739632818,
          -0.7799693098199959,
          -2.0855814299603646,
          -0.44145574032885965,
          -1.2931539005533357,
          0.2526285871877972,
          0.43845672549827974,
          -2.308093329442031,
          -1.0337271695209675,
          -1.3010430922089382,
          -0.7449131497770748,
          1.2401792295516962,
          0.6122413017452012,
          0.8534369987201077,
          1.312831009581544,
          1.662951815482871,
          -0.3316120266169116,
          1.743694974660214,
          -0.13013299703260145,
          -0.29376058235490393,
          -1.0956253739601314,
          -0.8838304978530539,
          -1.8595140265346404,
          0.9873673295542541,
          -1.169455618514835,
          -1.3958825951619405,
          0.934004187216018,
          0.5383689930416583,
          0.8591407374766785,
          -0.720859277854418,
          0.42481480563062385,
          0.853917076970644,
          -0.49934487596276067,
          -1.3070911630905448,
          -0.48970691464979793,
          -0.4844952353948526,
          -0.5719609784077725,
          -1.1871246172535055,
          1.3930489740217789,
          1.0687185676705941
         ]
        },
        {
         "line": {
          "color": "rgba(55, 128, 191, 1.0)",
          "dash": "solid",
          "shape": "linear",
          "width": 1.3
         },
         "mode": "lines",
         "name": "B",
         "text": "",
         "type": "scatter",
         "x": [
          0,
          1,
          2,
          3,
          4,
          5,
          6,
          7,
          8,
          9,
          10,
          11,
          12,
          13,
          14,
          15,
          16,
          17,
          18,
          19,
          20,
          21,
          22,
          23,
          24,
          25,
          26,
          27,
          28,
          29,
          30,
          31,
          32,
          33,
          34,
          35,
          36,
          37,
          38,
          39,
          40,
          41,
          42,
          43,
          44,
          45,
          46,
          47,
          48,
          49,
          50,
          51,
          52,
          53,
          54,
          55,
          56,
          57,
          58,
          59,
          60,
          61,
          62,
          63,
          64,
          65,
          66,
          67,
          68,
          69,
          70,
          71,
          72,
          73,
          74,
          75,
          76,
          77,
          78,
          79,
          80,
          81,
          82,
          83,
          84,
          85,
          86,
          87,
          88,
          89,
          90,
          91,
          92,
          93,
          94,
          95,
          96,
          97,
          98,
          99
         ],
         "y": [
          -1.3611066114771493,
          -0.9404925242020148,
          1.3722116473992234,
          1.7322354728534157,
          -0.30694083887020157,
          1.309104354467893,
          0.5167954353662241,
          1.6441571752434938,
          -0.4134000317423506,
          0.5862823464153141,
          -0.3656583696810447,
          -0.40036097875741194,
          -1.9283670925827068,
          -0.0708327897680354,
          1.1470858843451797,
          0.5255863969656889,
          2.068481598216057,
          -0.49383691804073476,
          -1.487171100606758,
          0.4061167279907759,
          -0.8039282604159369,
          -0.6138178483047706,
          -1.9994750228413507,
          -0.004233993427505336,
          -0.49269365124873,
          1.237631824582306,
          -0.2949322231299584,
          2.1918300320617243,
          0.07799139301538806,
          -1.1305133413357529,
          1.0476162128924136,
          0.3538543745858851,
          -0.6868036177964602,
          -0.11308818102274441,
          0.038389249561694566,
          -0.4257780082736259,
          0.30863654237506444,
          -0.9622296623279092,
          -1.4032359603804845,
          0.17011448873309684,
          -0.35102564009368653,
          1.6472531050230457,
          -0.0017095784216665632,
          -0.0802585463635855,
          -0.575165817878663,
          -0.1657590963488005,
          -0.3027385815977633,
          -1.9616424942909296,
          -1.0595263589326296,
          0.28209798325173263,
          -2.0820126828445544,
          1.8275024342636472,
          0.5621274107848366,
          1.2420771711415866,
          0.7722407212744912,
          -0.9751223011313264,
          -1.102383352433531,
          0.4918739774394961,
          0.3487522046764612,
          -1.54710965071441,
          -0.8007558152026161,
          -0.9175078799164796,
          -0.7142573010425983,
          0.07227775378214862,
          0.9006310625650061,
          0.5780860324163493,
          -0.6580487515865606,
          -0.9596497293206537,
          0.9447780056152655,
          0.22755580790266747,
          -0.9266910380099435,
          0.623537292539532,
          1.5961122826254042,
          1.625671033487804,
          0.20979766304248096,
          0.997780750833331,
          -0.2060883820505985,
          -1.0512210349747726,
          -0.5917818884538694,
          0.14740204061721746,
          1.108594612789978,
          -0.7950490675748462,
          1.0228236643021653,
          -0.6954751231068863,
          0.6351958883736164,
          0.5992249242207415,
          -1.1854834697675771,
          -0.9681946986435691,
          1.2351166042413806,
          -0.5123916078822467,
          0.3585394032102082,
          1.4113603363595246,
          -0.41841125808042157,
          -1.113792321118681,
          0.6698608955320294,
          -1.0729019997914118,
          0.7960213296027061,
          0.016233231262760002,
          -0.8170973228582855,
          0.9156937186180036
         ]
        },
        {
         "connectgaps": false,
         "fill": "tozeroy",
         "line": {
          "color": "green",
          "dash": "solid",
          "shape": "linear",
          "width": 0.5
         },
         "mode": "lines",
         "name": "Spread",
         "showlegend": false,
         "type": "scatter",
         "x": [
          0,
          1,
          2,
          3,
          4,
          5,
          6,
          7,
          8,
          9,
          10,
          11,
          12,
          13,
          14,
          15,
          16,
          17,
          18,
          19,
          20,
          21,
          22,
          23,
          24,
          25,
          26,
          27,
          28,
          29,
          30,
          31,
          32,
          33,
          34,
          35,
          36,
          37,
          38,
          39,
          40,
          41,
          42,
          43,
          44,
          45,
          46,
          47,
          48,
          49,
          50,
          51,
          52,
          53,
          54,
          55,
          56,
          57,
          58,
          59,
          60,
          61,
          62,
          63,
          64,
          65,
          66,
          67,
          68,
          69,
          70,
          71,
          72,
          73,
          74,
          75,
          76,
          77,
          78,
          79,
          80,
          81,
          82,
          83,
          84,
          85,
          86,
          87,
          88,
          89,
          90,
          91,
          92,
          93,
          94,
          95,
          96,
          97,
          98,
          99
         ],
         "xaxis": "x2",
         "y": [
          1.1669765433592028,
          2.627837767839303,
          "",
          "",
          0.7318889967585791,
          "",
          0.1814156221889609,
          0.714362609516412,
          0.6659076352370111,
          "",
          1.0193040129343265,
          "",
          1.8876406779482275,
          "",
          "",
          "",
          "",
          0.31731990402289895,
          1.2931945469734307,
          "",
          1.804756016345618,
          1.9938561467776172,
          3.8424706727925075,
          "",
          2.267882488392476,
          "",
          1.7282285930022332,
          "",
          "",
          "",
          "",
          "",
          0.5378189694411099,
          1.350252198056384,
          1.416272480809602,
          "",
          0.8109787161991521,
          "",
          1.6341506009833395,
          "",
          0.7079055060961319,
          "",
          "",
          "",
          "",
          "",
          0.6300201485817326,
          3.2049883897769638,
          0.20029531511673604,
          "",
          "",
          "",
          "",
          "",
          "",
          0.30557257777159896,
          1.7595325589536737,
          "",
          0.25128499010036676,
          0.4618730736226222,
          1.4706975891658978,
          0.13753857009648374,
          "",
          "",
          "",
          "",
          1.0965054770848404,
          "",
          "",
          "",
          0.18177788823286867,
          0.6166419370121642,
          "",
          "",
          1.1030333465390632,
          0.6651710646495401,
          "",
          2.7949160096349868,
          0.4616488914212679,
          "",
          "",
          "",
          "",
          1.6828424526611405,
          "",
          "",
          2.119487656983595,
          1.5065636916852274,
          "",
          "",
          0.06627540242041563,
          "",
          "",
          "",
          "",
          0.5884067643965591,
          "",
          "",
          2.2101462968800645,
          0.1530248490525905
         ],
         "yaxis": "y2"
        },
        {
         "connectgaps": false,
         "fill": "tozeroy",
         "line": {
          "color": "red",
          "dash": "solid",
          "shape": "linear",
          "width": 0.5
         },
         "mode": "lines",
         "name": "Spread",
         "showlegend": false,
         "type": "scatter",
         "x": [
          0,
          1,
          2,
          3,
          4,
          5,
          6,
          7,
          8,
          9,
          10,
          11,
          12,
          13,
          14,
          15,
          16,
          17,
          18,
          19,
          20,
          21,
          22,
          23,
          24,
          25,
          26,
          27,
          28,
          29,
          30,
          31,
          32,
          33,
          34,
          35,
          36,
          37,
          38,
          39,
          40,
          41,
          42,
          43,
          44,
          45,
          46,
          47,
          48,
          49,
          50,
          51,
          52,
          53,
          54,
          55,
          56,
          57,
          58,
          59,
          60,
          61,
          62,
          63,
          64,
          65,
          66,
          67,
          68,
          69,
          70,
          71,
          72,
          73,
          74,
          75,
          76,
          77,
          78,
          79,
          80,
          81,
          82,
          83,
          84,
          85,
          86,
          87,
          88,
          89,
          90,
          91,
          92,
          93,
          94,
          95,
          96,
          97,
          98,
          99
         ],
         "xaxis": "x2",
         "y": [
          "",
          "",
          -1.4325497879149482,
          -0.6049938661542378,
          "",
          -1.783876093210091,
          "",
          "",
          "",
          -1.5899386843219352,
          "",
          -0.09333071521681602,
          "",
          -1.2177178845707615,
          -1.7491530995606634,
          -0.8904498634768967,
          -1.2134760702213692,
          "",
          "",
          -1.0035537155987797,
          "",
          "",
          "",
          -0.3892192518016934,
          "",
          -1.3424616278863546,
          "",
          -0.08722010255205648,
          -1.3887126005536878,
          -0.2946049979882639,
          -2.791589226199848,
          -0.21402367532939112,
          "",
          "",
          "",
          -1.4963886369323594,
          "",
          -0.5791763808393393,
          "",
          -0.349714296075747,
          "",
          -1.576941658382196,
          -0.28302927900911334,
          -1.945243620770819,
          -0.2411266220716547,
          -0.9896598284049232,
          "",
          "",
          "",
          -0.40465387932216973,
          -0.8510335478150752,
          -1.0024270147359182,
          -1.9459638358643159,
          -0.7720542535509873,
          -0.6120470516258488,
          "",
          "",
          -1.528166864066085,
          "",
          "",
          "",
          "",
          -1.3713241289177662,
          -0.5137334941110083,
          -2.193784963118342,
          -0.3254574452285521,
          "",
          -1.348443600121377,
          -1.978505175136233,
          -1.5285989001116056,
          "",
          "",
          -0.983870980880203,
          -0.7722340347676963,
          "",
          "",
          -0.12552364456631307,
          "",
          "",
          -0.4411626229721214,
          -2.2042199867501093,
          -0.08878143027820773,
          -2.8823376908368057,
          "",
          -1.8046515068884514,
          -1.995107519382682,
          "",
          "",
          -0.37597586676470207,
          -0.20846766997217125,
          "",
          -0.5574432593888806,
          -0.0809336178823391,
          -0.19329884197186376,
          -1.1595678101818274,
          "",
          -1.3679823080104785,
          -1.2033578485162655,
          "",
          ""
         ],
         "yaxis": "y2"
        }
       ],
       "layout": {
        "hovermode": "x",
        "legend": {
         "bgcolor": "#F5F6F9",
         "font": {
          "color": "#4D5663"
         }
        },
        "paper_bgcolor": "#F5F6F9",
        "plot_bgcolor": "#F5F6F9",
        "template": {
         "data": {
          "bar": [
           {
            "error_x": {
             "color": "#2a3f5f"
            },
            "error_y": {
             "color": "#2a3f5f"
            },
            "marker": {
             "line": {
              "color": "#E5ECF6",
              "width": 0.5
             }
            },
            "type": "bar"
           }
          ],
          "barpolar": [
           {
            "marker": {
             "line": {
              "color": "#E5ECF6",
              "width": 0.5
             }
            },
            "type": "barpolar"
           }
          ],
          "carpet": [
           {
            "aaxis": {
             "endlinecolor": "#2a3f5f",
             "gridcolor": "white",
             "linecolor": "white",
             "minorgridcolor": "white",
             "startlinecolor": "#2a3f5f"
            },
            "baxis": {
             "endlinecolor": "#2a3f5f",
             "gridcolor": "white",
             "linecolor": "white",
             "minorgridcolor": "white",
             "startlinecolor": "#2a3f5f"
            },
            "type": "carpet"
           }
          ],
          "choropleth": [
           {
            "colorbar": {
             "outlinewidth": 0,
             "ticks": ""
            },
            "type": "choropleth"
           }
          ],
          "contour": [
           {
            "colorbar": {
             "outlinewidth": 0,
             "ticks": ""
            },
            "colorscale": [
             [
              0,
              "#0d0887"
             ],
             [
              0.1111111111111111,
              "#46039f"
             ],
             [
              0.2222222222222222,
              "#7201a8"
             ],
             [
              0.3333333333333333,
              "#9c179e"
             ],
             [
              0.4444444444444444,
              "#bd3786"
             ],
             [
              0.5555555555555556,
              "#d8576b"
             ],
             [
              0.6666666666666666,
              "#ed7953"
             ],
             [
              0.7777777777777778,
              "#fb9f3a"
             ],
             [
              0.8888888888888888,
              "#fdca26"
             ],
             [
              1,
              "#f0f921"
             ]
            ],
            "type": "contour"
           }
          ],
          "contourcarpet": [
           {
            "colorbar": {
             "outlinewidth": 0,
             "ticks": ""
            },
            "type": "contourcarpet"
           }
          ],
          "heatmap": [
           {
            "colorbar": {
             "outlinewidth": 0,
             "ticks": ""
            },
            "colorscale": [
             [
              0,
              "#0d0887"
             ],
             [
              0.1111111111111111,
              "#46039f"
             ],
             [
              0.2222222222222222,
              "#7201a8"
             ],
             [
              0.3333333333333333,
              "#9c179e"
             ],
             [
              0.4444444444444444,
              "#bd3786"
             ],
             [
              0.5555555555555556,
              "#d8576b"
             ],
             [
              0.6666666666666666,
              "#ed7953"
             ],
             [
              0.7777777777777778,
              "#fb9f3a"
             ],
             [
              0.8888888888888888,
              "#fdca26"
             ],
             [
              1,
              "#f0f921"
             ]
            ],
            "type": "heatmap"
           }
          ],
          "heatmapgl": [
           {
            "colorbar": {
             "outlinewidth": 0,
             "ticks": ""
            },
            "colorscale": [
             [
              0,
              "#0d0887"
             ],
             [
              0.1111111111111111,
              "#46039f"
             ],
             [
              0.2222222222222222,
              "#7201a8"
             ],
             [
              0.3333333333333333,
              "#9c179e"
             ],
             [
              0.4444444444444444,
              "#bd3786"
             ],
             [
              0.5555555555555556,
              "#d8576b"
             ],
             [
              0.6666666666666666,
              "#ed7953"
             ],
             [
              0.7777777777777778,
              "#fb9f3a"
             ],
             [
              0.8888888888888888,
              "#fdca26"
             ],
             [
              1,
              "#f0f921"
             ]
            ],
            "type": "heatmapgl"
           }
          ],
          "histogram": [
           {
            "marker": {
             "colorbar": {
              "outlinewidth": 0,
              "ticks": ""
             }
            },
            "type": "histogram"
           }
          ],
          "histogram2d": [
           {
            "colorbar": {
             "outlinewidth": 0,
             "ticks": ""
            },
            "colorscale": [
             [
              0,
              "#0d0887"
             ],
             [
              0.1111111111111111,
              "#46039f"
             ],
             [
              0.2222222222222222,
              "#7201a8"
             ],
             [
              0.3333333333333333,
              "#9c179e"
             ],
             [
              0.4444444444444444,
              "#bd3786"
             ],
             [
              0.5555555555555556,
              "#d8576b"
             ],
             [
              0.6666666666666666,
              "#ed7953"
             ],
             [
              0.7777777777777778,
              "#fb9f3a"
             ],
             [
              0.8888888888888888,
              "#fdca26"
             ],
             [
              1,
              "#f0f921"
             ]
            ],
            "type": "histogram2d"
           }
          ],
          "histogram2dcontour": [
           {
            "colorbar": {
             "outlinewidth": 0,
             "ticks": ""
            },
            "colorscale": [
             [
              0,
              "#0d0887"
             ],
             [
              0.1111111111111111,
              "#46039f"
             ],
             [
              0.2222222222222222,
              "#7201a8"
             ],
             [
              0.3333333333333333,
              "#9c179e"
             ],
             [
              0.4444444444444444,
              "#bd3786"
             ],
             [
              0.5555555555555556,
              "#d8576b"
             ],
             [
              0.6666666666666666,
              "#ed7953"
             ],
             [
              0.7777777777777778,
              "#fb9f3a"
             ],
             [
              0.8888888888888888,
              "#fdca26"
             ],
             [
              1,
              "#f0f921"
             ]
            ],
            "type": "histogram2dcontour"
           }
          ],
          "mesh3d": [
           {
            "colorbar": {
             "outlinewidth": 0,
             "ticks": ""
            },
            "type": "mesh3d"
           }
          ],
          "parcoords": [
           {
            "line": {
             "colorbar": {
              "outlinewidth": 0,
              "ticks": ""
             }
            },
            "type": "parcoords"
           }
          ],
          "pie": [
           {
            "automargin": true,
            "type": "pie"
           }
          ],
          "scatter": [
           {
            "marker": {
             "colorbar": {
              "outlinewidth": 0,
              "ticks": ""
             }
            },
            "type": "scatter"
           }
          ],
          "scatter3d": [
           {
            "line": {
             "colorbar": {
              "outlinewidth": 0,
              "ticks": ""
             }
            },
            "marker": {
             "colorbar": {
              "outlinewidth": 0,
              "ticks": ""
             }
            },
            "type": "scatter3d"
           }
          ],
          "scattercarpet": [
           {
            "marker": {
             "colorbar": {
              "outlinewidth": 0,
              "ticks": ""
             }
            },
            "type": "scattercarpet"
           }
          ],
          "scattergeo": [
           {
            "marker": {
             "colorbar": {
              "outlinewidth": 0,
              "ticks": ""
             }
            },
            "type": "scattergeo"
           }
          ],
          "scattergl": [
           {
            "marker": {
             "colorbar": {
              "outlinewidth": 0,
              "ticks": ""
             }
            },
            "type": "scattergl"
           }
          ],
          "scattermapbox": [
           {
            "marker": {
             "colorbar": {
              "outlinewidth": 0,
              "ticks": ""
             }
            },
            "type": "scattermapbox"
           }
          ],
          "scatterpolar": [
           {
            "marker": {
             "colorbar": {
              "outlinewidth": 0,
              "ticks": ""
             }
            },
            "type": "scatterpolar"
           }
          ],
          "scatterpolargl": [
           {
            "marker": {
             "colorbar": {
              "outlinewidth": 0,
              "ticks": ""
             }
            },
            "type": "scatterpolargl"
           }
          ],
          "scatterternary": [
           {
            "marker": {
             "colorbar": {
              "outlinewidth": 0,
              "ticks": ""
             }
            },
            "type": "scatterternary"
           }
          ],
          "surface": [
           {
            "colorbar": {
             "outlinewidth": 0,
             "ticks": ""
            },
            "colorscale": [
             [
              0,
              "#0d0887"
             ],
             [
              0.1111111111111111,
              "#46039f"
             ],
             [
              0.2222222222222222,
              "#7201a8"
             ],
             [
              0.3333333333333333,
              "#9c179e"
             ],
             [
              0.4444444444444444,
              "#bd3786"
             ],
             [
              0.5555555555555556,
              "#d8576b"
             ],
             [
              0.6666666666666666,
              "#ed7953"
             ],
             [
              0.7777777777777778,
              "#fb9f3a"
             ],
             [
              0.8888888888888888,
              "#fdca26"
             ],
             [
              1,
              "#f0f921"
             ]
            ],
            "type": "surface"
           }
          ],
          "table": [
           {
            "cells": {
             "fill": {
              "color": "#EBF0F8"
             },
             "line": {
              "color": "white"
             }
            },
            "header": {
             "fill": {
              "color": "#C8D4E3"
             },
             "line": {
              "color": "white"
             }
            },
            "type": "table"
           }
          ]
         },
         "layout": {
          "annotationdefaults": {
           "arrowcolor": "#2a3f5f",
           "arrowhead": 0,
           "arrowwidth": 1
          },
          "autotypenumbers": "strict",
          "coloraxis": {
           "colorbar": {
            "outlinewidth": 0,
            "ticks": ""
           }
          },
          "colorscale": {
           "diverging": [
            [
             0,
             "#8e0152"
            ],
            [
             0.1,
             "#c51b7d"
            ],
            [
             0.2,
             "#de77ae"
            ],
            [
             0.3,
             "#f1b6da"
            ],
            [
             0.4,
             "#fde0ef"
            ],
            [
             0.5,
             "#f7f7f7"
            ],
            [
             0.6,
             "#e6f5d0"
            ],
            [
             0.7,
             "#b8e186"
            ],
            [
             0.8,
             "#7fbc41"
            ],
            [
             0.9,
             "#4d9221"
            ],
            [
             1,
             "#276419"
            ]
           ],
           "sequential": [
            [
             0,
             "#0d0887"
            ],
            [
             0.1111111111111111,
             "#46039f"
            ],
            [
             0.2222222222222222,
             "#7201a8"
            ],
            [
             0.3333333333333333,
             "#9c179e"
            ],
            [
             0.4444444444444444,
             "#bd3786"
            ],
            [
             0.5555555555555556,
             "#d8576b"
            ],
            [
             0.6666666666666666,
             "#ed7953"
            ],
            [
             0.7777777777777778,
             "#fb9f3a"
            ],
            [
             0.8888888888888888,
             "#fdca26"
            ],
            [
             1,
             "#f0f921"
            ]
           ],
           "sequentialminus": [
            [
             0,
             "#0d0887"
            ],
            [
             0.1111111111111111,
             "#46039f"
            ],
            [
             0.2222222222222222,
             "#7201a8"
            ],
            [
             0.3333333333333333,
             "#9c179e"
            ],
            [
             0.4444444444444444,
             "#bd3786"
            ],
            [
             0.5555555555555556,
             "#d8576b"
            ],
            [
             0.6666666666666666,
             "#ed7953"
            ],
            [
             0.7777777777777778,
             "#fb9f3a"
            ],
            [
             0.8888888888888888,
             "#fdca26"
            ],
            [
             1,
             "#f0f921"
            ]
           ]
          },
          "colorway": [
           "#636efa",
           "#EF553B",
           "#00cc96",
           "#ab63fa",
           "#FFA15A",
           "#19d3f3",
           "#FF6692",
           "#B6E880",
           "#FF97FF",
           "#FECB52"
          ],
          "font": {
           "color": "#2a3f5f"
          },
          "geo": {
           "bgcolor": "white",
           "lakecolor": "white",
           "landcolor": "#E5ECF6",
           "showlakes": true,
           "showland": true,
           "subunitcolor": "white"
          },
          "hoverlabel": {
           "align": "left"
          },
          "hovermode": "closest",
          "mapbox": {
           "style": "light"
          },
          "paper_bgcolor": "white",
          "plot_bgcolor": "#E5ECF6",
          "polar": {
           "angularaxis": {
            "gridcolor": "white",
            "linecolor": "white",
            "ticks": ""
           },
           "bgcolor": "#E5ECF6",
           "radialaxis": {
            "gridcolor": "white",
            "linecolor": "white",
            "ticks": ""
           }
          },
          "scene": {
           "xaxis": {
            "backgroundcolor": "#E5ECF6",
            "gridcolor": "white",
            "gridwidth": 2,
            "linecolor": "white",
            "showbackground": true,
            "ticks": "",
            "zerolinecolor": "white"
           },
           "yaxis": {
            "backgroundcolor": "#E5ECF6",
            "gridcolor": "white",
            "gridwidth": 2,
            "linecolor": "white",
            "showbackground": true,
            "ticks": "",
            "zerolinecolor": "white"
           },
           "zaxis": {
            "backgroundcolor": "#E5ECF6",
            "gridcolor": "white",
            "gridwidth": 2,
            "linecolor": "white",
            "showbackground": true,
            "ticks": "",
            "zerolinecolor": "white"
           }
          },
          "shapedefaults": {
           "line": {
            "color": "#2a3f5f"
           }
          },
          "ternary": {
           "aaxis": {
            "gridcolor": "white",
            "linecolor": "white",
            "ticks": ""
           },
           "baxis": {
            "gridcolor": "white",
            "linecolor": "white",
            "ticks": ""
           },
           "bgcolor": "#E5ECF6",
           "caxis": {
            "gridcolor": "white",
            "linecolor": "white",
            "ticks": ""
           }
          },
          "title": {
           "x": 0.05
          },
          "xaxis": {
           "automargin": true,
           "gridcolor": "white",
           "linecolor": "white",
           "ticks": "",
           "title": {
            "standoff": 15
           },
           "zerolinecolor": "white",
           "zerolinewidth": 2
          },
          "yaxis": {
           "automargin": true,
           "gridcolor": "white",
           "linecolor": "white",
           "ticks": "",
           "title": {
            "standoff": 15
           },
           "zerolinecolor": "white",
           "zerolinewidth": 2
          }
         }
        },
        "title": {
         "font": {
          "color": "#4D5663"
         }
        },
        "xaxis": {
         "gridcolor": "#E1E5ED",
         "showgrid": true,
         "tickfont": {
          "color": "#4D5663"
         },
         "title": {
          "font": {
           "color": "#4D5663"
          },
          "text": ""
         },
         "zerolinecolor": "#E1E5ED"
        },
        "xaxis2": {
         "anchor": "y2",
         "gridcolor": "#E1E5ED",
         "showgrid": true,
         "showticklabels": false,
         "tickfont": {
          "color": "#4D5663"
         },
         "title": {
          "font": {
           "color": "#4D5663"
          },
          "text": ""
         },
         "zerolinecolor": "#E1E5ED"
        },
        "yaxis": {
         "domain": [
          0.3,
          1
         ],
         "gridcolor": "#E1E5ED",
         "showgrid": true,
         "tickfont": {
          "color": "#4D5663"
         },
         "title": {
          "font": {
           "color": "#4D5663"
          },
          "text": ""
         },
         "zerolinecolor": "#E1E5ED"
        },
        "yaxis2": {
         "domain": [
          0,
          0.25
         ],
         "gridcolor": "#E1E5ED",
         "showgrid": true,
         "tickfont": {
          "color": "#4D5663"
         },
         "title": {
          "font": {
           "color": "#4D5663"
          },
          "text": "Spread"
         },
         "zerolinecolor": "#E1E5ED"
        }
       }
      },
      "text/html": [
       "<div>                            <div id=\"b99c3797-5e41-4aa7-8502-372af16a81e5\" class=\"plotly-graph-div\" style=\"height:525px; width:100%;\"></div>            <script type=\"text/javascript\">                require([\"plotly\"], function(Plotly) {                    window.PLOTLYENV=window.PLOTLYENV || {};\n",
       "                    window.PLOTLYENV.BASE_URL='https://plot.ly';                                    if (document.getElementById(\"b99c3797-5e41-4aa7-8502-372af16a81e5\")) {                    Plotly.newPlot(                        \"b99c3797-5e41-4aa7-8502-372af16a81e5\",                        [{\"line\": {\"color\": \"rgba(255, 153, 51, 1.0)\", \"dash\": \"solid\", \"shape\": \"linear\", \"width\": 1.3}, \"mode\": \"lines\", \"name\": \"A\", \"text\": \"\", \"type\": \"scatter\", \"x\": [0, 1, 2, 3, 4, 5, 6, 7, 8, 9, 10, 11, 12, 13, 14, 15, 16, 17, 18, 19, 20, 21, 22, 23, 24, 25, 26, 27, 28, 29, 30, 31, 32, 33, 34, 35, 36, 37, 38, 39, 40, 41, 42, 43, 44, 45, 46, 47, 48, 49, 50, 51, 52, 53, 54, 55, 56, 57, 58, 59, 60, 61, 62, 63, 64, 65, 66, 67, 68, 69, 70, 71, 72, 73, 74, 75, 76, 77, 78, 79, 80, 81, 82, 83, 84, 85, 86, 87, 88, 89, 90, 91, 92, 93, 94, 95, 96, 97, 98, 99], \"y\": [-0.19413006811794645, 1.6873452436372878, -0.06033814051572481, 1.127241606699178, 0.4249481578883776, -0.474771738742198, 0.698211057555185, 2.3585197847599058, 0.2525076034946605, -1.0036563379066212, 0.6536456432532819, -0.49369169397422796, -0.040726414634479166, -1.2885506743387969, -0.6020672152154837, -0.3648634665112078, 0.8550055279946877, -0.17651701401783582, -0.19397655363332744, -0.5974369876080038, 1.0008277559296812, 1.3800382984728465, 1.842995649951157, -0.3934532452291988, 1.775188837143746, -0.10482980330404865, 1.4332963698722747, 2.104609929509668, -1.3107212075382997, -1.4251183393240168, -1.7439730133074343, 0.13983069925649397, -0.1489846483553503, 1.2371640170336395, 1.4546617303712968, -1.9221666452059851, 1.1196152585742165, -1.5414060431672485, 0.23091464060285513, -0.1795998073426502, 0.3568798660024454, 0.07031144664084961, -0.2847388574307799, -2.0255021671344045, -0.8162924399503177, -1.1554189247537237, 0.3272815669839693, 1.2433458954860341, -0.8592310438158935, -0.12255589607043708, -2.9330462306596297, 0.825075419527729, -1.3838364250794792, 0.47002291759059917, 0.16019366964864235, -0.6695497233597274, 0.6571492065201427, -1.0362928866265888, 0.6000371947768279, -1.0852365770917878, 0.6699417739632818, -0.7799693098199959, -2.0855814299603646, -0.44145574032885965, -1.2931539005533357, 0.2526285871877972, 0.43845672549827974, -2.308093329442031, -1.0337271695209675, -1.3010430922089382, -0.7449131497770748, 1.2401792295516962, 0.6122413017452012, 0.8534369987201077, 1.312831009581544, 1.662951815482871, -0.3316120266169116, 1.743694974660214, -0.13013299703260145, -0.29376058235490393, -1.0956253739601314, -0.8838304978530539, -1.8595140265346404, 0.9873673295542541, -1.169455618514835, -1.3958825951619405, 0.934004187216018, 0.5383689930416583, 0.8591407374766785, -0.720859277854418, 0.42481480563062385, 0.853917076970644, -0.49934487596276067, -1.3070911630905448, -0.48970691464979793, -0.4844952353948526, -0.5719609784077725, -1.1871246172535055, 1.3930489740217789, 1.0687185676705941]}, {\"line\": {\"color\": \"rgba(55, 128, 191, 1.0)\", \"dash\": \"solid\", \"shape\": \"linear\", \"width\": 1.3}, \"mode\": \"lines\", \"name\": \"B\", \"text\": \"\", \"type\": \"scatter\", \"x\": [0, 1, 2, 3, 4, 5, 6, 7, 8, 9, 10, 11, 12, 13, 14, 15, 16, 17, 18, 19, 20, 21, 22, 23, 24, 25, 26, 27, 28, 29, 30, 31, 32, 33, 34, 35, 36, 37, 38, 39, 40, 41, 42, 43, 44, 45, 46, 47, 48, 49, 50, 51, 52, 53, 54, 55, 56, 57, 58, 59, 60, 61, 62, 63, 64, 65, 66, 67, 68, 69, 70, 71, 72, 73, 74, 75, 76, 77, 78, 79, 80, 81, 82, 83, 84, 85, 86, 87, 88, 89, 90, 91, 92, 93, 94, 95, 96, 97, 98, 99], \"y\": [-1.3611066114771493, -0.9404925242020148, 1.3722116473992234, 1.7322354728534157, -0.30694083887020157, 1.309104354467893, 0.5167954353662241, 1.6441571752434938, -0.4134000317423506, 0.5862823464153141, -0.3656583696810447, -0.40036097875741194, -1.9283670925827068, -0.0708327897680354, 1.1470858843451797, 0.5255863969656889, 2.068481598216057, -0.49383691804073476, -1.487171100606758, 0.4061167279907759, -0.8039282604159369, -0.6138178483047706, -1.9994750228413507, -0.004233993427505336, -0.49269365124873, 1.237631824582306, -0.2949322231299584, 2.1918300320617243, 0.07799139301538806, -1.1305133413357529, 1.0476162128924136, 0.3538543745858851, -0.6868036177964602, -0.11308818102274441, 0.038389249561694566, -0.4257780082736259, 0.30863654237506444, -0.9622296623279092, -1.4032359603804845, 0.17011448873309684, -0.35102564009368653, 1.6472531050230457, -0.0017095784216665632, -0.0802585463635855, -0.575165817878663, -0.1657590963488005, -0.3027385815977633, -1.9616424942909296, -1.0595263589326296, 0.28209798325173263, -2.0820126828445544, 1.8275024342636472, 0.5621274107848366, 1.2420771711415866, 0.7722407212744912, -0.9751223011313264, -1.102383352433531, 0.4918739774394961, 0.3487522046764612, -1.54710965071441, -0.8007558152026161, -0.9175078799164796, -0.7142573010425983, 0.07227775378214862, 0.9006310625650061, 0.5780860324163493, -0.6580487515865606, -0.9596497293206537, 0.9447780056152655, 0.22755580790266747, -0.9266910380099435, 0.623537292539532, 1.5961122826254042, 1.625671033487804, 0.20979766304248096, 0.997780750833331, -0.2060883820505985, -1.0512210349747726, -0.5917818884538694, 0.14740204061721746, 1.108594612789978, -0.7950490675748462, 1.0228236643021653, -0.6954751231068863, 0.6351958883736164, 0.5992249242207415, -1.1854834697675771, -0.9681946986435691, 1.2351166042413806, -0.5123916078822467, 0.3585394032102082, 1.4113603363595246, -0.41841125808042157, -1.113792321118681, 0.6698608955320294, -1.0729019997914118, 0.7960213296027061, 0.016233231262760002, -0.8170973228582855, 0.9156937186180036]}, {\"connectgaps\": false, \"fill\": \"tozeroy\", \"line\": {\"color\": \"green\", \"dash\": \"solid\", \"shape\": \"linear\", \"width\": 0.5}, \"mode\": \"lines\", \"name\": \"Spread\", \"showlegend\": false, \"type\": \"scatter\", \"x\": [0, 1, 2, 3, 4, 5, 6, 7, 8, 9, 10, 11, 12, 13, 14, 15, 16, 17, 18, 19, 20, 21, 22, 23, 24, 25, 26, 27, 28, 29, 30, 31, 32, 33, 34, 35, 36, 37, 38, 39, 40, 41, 42, 43, 44, 45, 46, 47, 48, 49, 50, 51, 52, 53, 54, 55, 56, 57, 58, 59, 60, 61, 62, 63, 64, 65, 66, 67, 68, 69, 70, 71, 72, 73, 74, 75, 76, 77, 78, 79, 80, 81, 82, 83, 84, 85, 86, 87, 88, 89, 90, 91, 92, 93, 94, 95, 96, 97, 98, 99], \"xaxis\": \"x2\", \"y\": [1.1669765433592028, 2.627837767839303, \"\", \"\", 0.7318889967585791, \"\", 0.1814156221889609, 0.714362609516412, 0.6659076352370111, \"\", 1.0193040129343265, \"\", 1.8876406779482275, \"\", \"\", \"\", \"\", 0.31731990402289895, 1.2931945469734307, \"\", 1.804756016345618, 1.9938561467776172, 3.8424706727925075, \"\", 2.267882488392476, \"\", 1.7282285930022332, \"\", \"\", \"\", \"\", \"\", 0.5378189694411099, 1.350252198056384, 1.416272480809602, \"\", 0.8109787161991521, \"\", 1.6341506009833395, \"\", 0.7079055060961319, \"\", \"\", \"\", \"\", \"\", 0.6300201485817326, 3.2049883897769638, 0.20029531511673604, \"\", \"\", \"\", \"\", \"\", \"\", 0.30557257777159896, 1.7595325589536737, \"\", 0.25128499010036676, 0.4618730736226222, 1.4706975891658978, 0.13753857009648374, \"\", \"\", \"\", \"\", 1.0965054770848404, \"\", \"\", \"\", 0.18177788823286867, 0.6166419370121642, \"\", \"\", 1.1030333465390632, 0.6651710646495401, \"\", 2.7949160096349868, 0.4616488914212679, \"\", \"\", \"\", \"\", 1.6828424526611405, \"\", \"\", 2.119487656983595, 1.5065636916852274, \"\", \"\", 0.06627540242041563, \"\", \"\", \"\", \"\", 0.5884067643965591, \"\", \"\", 2.2101462968800645, 0.1530248490525905], \"yaxis\": \"y2\"}, {\"connectgaps\": false, \"fill\": \"tozeroy\", \"line\": {\"color\": \"red\", \"dash\": \"solid\", \"shape\": \"linear\", \"width\": 0.5}, \"mode\": \"lines\", \"name\": \"Spread\", \"showlegend\": false, \"type\": \"scatter\", \"x\": [0, 1, 2, 3, 4, 5, 6, 7, 8, 9, 10, 11, 12, 13, 14, 15, 16, 17, 18, 19, 20, 21, 22, 23, 24, 25, 26, 27, 28, 29, 30, 31, 32, 33, 34, 35, 36, 37, 38, 39, 40, 41, 42, 43, 44, 45, 46, 47, 48, 49, 50, 51, 52, 53, 54, 55, 56, 57, 58, 59, 60, 61, 62, 63, 64, 65, 66, 67, 68, 69, 70, 71, 72, 73, 74, 75, 76, 77, 78, 79, 80, 81, 82, 83, 84, 85, 86, 87, 88, 89, 90, 91, 92, 93, 94, 95, 96, 97, 98, 99], \"xaxis\": \"x2\", \"y\": [\"\", \"\", -1.4325497879149482, -0.6049938661542378, \"\", -1.783876093210091, \"\", \"\", \"\", -1.5899386843219352, \"\", -0.09333071521681602, \"\", -1.2177178845707615, -1.7491530995606634, -0.8904498634768967, -1.2134760702213692, \"\", \"\", -1.0035537155987797, \"\", \"\", \"\", -0.3892192518016934, \"\", -1.3424616278863546, \"\", -0.08722010255205648, -1.3887126005536878, -0.2946049979882639, -2.791589226199848, -0.21402367532939112, \"\", \"\", \"\", -1.4963886369323594, \"\", -0.5791763808393393, \"\", -0.349714296075747, \"\", -1.576941658382196, -0.28302927900911334, -1.945243620770819, -0.2411266220716547, -0.9896598284049232, \"\", \"\", \"\", -0.40465387932216973, -0.8510335478150752, -1.0024270147359182, -1.9459638358643159, -0.7720542535509873, -0.6120470516258488, \"\", \"\", -1.528166864066085, \"\", \"\", \"\", \"\", -1.3713241289177662, -0.5137334941110083, -2.193784963118342, -0.3254574452285521, \"\", -1.348443600121377, -1.978505175136233, -1.5285989001116056, \"\", \"\", -0.983870980880203, -0.7722340347676963, \"\", \"\", -0.12552364456631307, \"\", \"\", -0.4411626229721214, -2.2042199867501093, -0.08878143027820773, -2.8823376908368057, \"\", -1.8046515068884514, -1.995107519382682, \"\", \"\", -0.37597586676470207, -0.20846766997217125, \"\", -0.5574432593888806, -0.0809336178823391, -0.19329884197186376, -1.1595678101818274, \"\", -1.3679823080104785, -1.2033578485162655, \"\", \"\"], \"yaxis\": \"y2\"}],                        {\"hovermode\": \"x\", \"legend\": {\"bgcolor\": \"#F5F6F9\", \"font\": {\"color\": \"#4D5663\"}}, \"paper_bgcolor\": \"#F5F6F9\", \"plot_bgcolor\": \"#F5F6F9\", \"template\": {\"data\": {\"bar\": [{\"error_x\": {\"color\": \"#2a3f5f\"}, \"error_y\": {\"color\": \"#2a3f5f\"}, \"marker\": {\"line\": {\"color\": \"#E5ECF6\", \"width\": 0.5}}, \"type\": \"bar\"}], \"barpolar\": [{\"marker\": {\"line\": {\"color\": \"#E5ECF6\", \"width\": 0.5}}, \"type\": \"barpolar\"}], \"carpet\": [{\"aaxis\": {\"endlinecolor\": \"#2a3f5f\", \"gridcolor\": \"white\", \"linecolor\": \"white\", \"minorgridcolor\": \"white\", \"startlinecolor\": \"#2a3f5f\"}, \"baxis\": {\"endlinecolor\": \"#2a3f5f\", \"gridcolor\": \"white\", \"linecolor\": \"white\", \"minorgridcolor\": \"white\", \"startlinecolor\": \"#2a3f5f\"}, \"type\": \"carpet\"}], \"choropleth\": [{\"colorbar\": {\"outlinewidth\": 0, \"ticks\": \"\"}, \"type\": \"choropleth\"}], \"contour\": [{\"colorbar\": {\"outlinewidth\": 0, \"ticks\": \"\"}, \"colorscale\": [[0.0, \"#0d0887\"], [0.1111111111111111, \"#46039f\"], [0.2222222222222222, \"#7201a8\"], [0.3333333333333333, \"#9c179e\"], [0.4444444444444444, \"#bd3786\"], [0.5555555555555556, \"#d8576b\"], [0.6666666666666666, \"#ed7953\"], [0.7777777777777778, \"#fb9f3a\"], [0.8888888888888888, \"#fdca26\"], [1.0, \"#f0f921\"]], \"type\": \"contour\"}], \"contourcarpet\": [{\"colorbar\": {\"outlinewidth\": 0, \"ticks\": \"\"}, \"type\": \"contourcarpet\"}], \"heatmap\": [{\"colorbar\": {\"outlinewidth\": 0, \"ticks\": \"\"}, \"colorscale\": [[0.0, \"#0d0887\"], [0.1111111111111111, \"#46039f\"], [0.2222222222222222, \"#7201a8\"], [0.3333333333333333, \"#9c179e\"], [0.4444444444444444, \"#bd3786\"], [0.5555555555555556, \"#d8576b\"], [0.6666666666666666, \"#ed7953\"], [0.7777777777777778, \"#fb9f3a\"], [0.8888888888888888, \"#fdca26\"], [1.0, \"#f0f921\"]], \"type\": \"heatmap\"}], \"heatmapgl\": [{\"colorbar\": {\"outlinewidth\": 0, \"ticks\": \"\"}, \"colorscale\": [[0.0, \"#0d0887\"], [0.1111111111111111, \"#46039f\"], [0.2222222222222222, \"#7201a8\"], [0.3333333333333333, \"#9c179e\"], [0.4444444444444444, \"#bd3786\"], [0.5555555555555556, \"#d8576b\"], [0.6666666666666666, \"#ed7953\"], [0.7777777777777778, \"#fb9f3a\"], [0.8888888888888888, \"#fdca26\"], [1.0, \"#f0f921\"]], \"type\": \"heatmapgl\"}], \"histogram\": [{\"marker\": {\"colorbar\": {\"outlinewidth\": 0, \"ticks\": \"\"}}, \"type\": \"histogram\"}], \"histogram2d\": [{\"colorbar\": {\"outlinewidth\": 0, \"ticks\": \"\"}, \"colorscale\": [[0.0, \"#0d0887\"], [0.1111111111111111, \"#46039f\"], [0.2222222222222222, \"#7201a8\"], [0.3333333333333333, \"#9c179e\"], [0.4444444444444444, \"#bd3786\"], [0.5555555555555556, \"#d8576b\"], [0.6666666666666666, \"#ed7953\"], [0.7777777777777778, \"#fb9f3a\"], [0.8888888888888888, \"#fdca26\"], [1.0, \"#f0f921\"]], \"type\": \"histogram2d\"}], \"histogram2dcontour\": [{\"colorbar\": {\"outlinewidth\": 0, \"ticks\": \"\"}, \"colorscale\": [[0.0, \"#0d0887\"], [0.1111111111111111, \"#46039f\"], [0.2222222222222222, \"#7201a8\"], [0.3333333333333333, \"#9c179e\"], [0.4444444444444444, \"#bd3786\"], [0.5555555555555556, \"#d8576b\"], [0.6666666666666666, \"#ed7953\"], [0.7777777777777778, \"#fb9f3a\"], [0.8888888888888888, \"#fdca26\"], [1.0, \"#f0f921\"]], \"type\": \"histogram2dcontour\"}], \"mesh3d\": [{\"colorbar\": {\"outlinewidth\": 0, \"ticks\": \"\"}, \"type\": \"mesh3d\"}], \"parcoords\": [{\"line\": {\"colorbar\": {\"outlinewidth\": 0, \"ticks\": \"\"}}, \"type\": \"parcoords\"}], \"pie\": [{\"automargin\": true, \"type\": \"pie\"}], \"scatter\": [{\"marker\": {\"colorbar\": {\"outlinewidth\": 0, \"ticks\": \"\"}}, \"type\": \"scatter\"}], \"scatter3d\": [{\"line\": {\"colorbar\": {\"outlinewidth\": 0, \"ticks\": \"\"}}, \"marker\": {\"colorbar\": {\"outlinewidth\": 0, \"ticks\": \"\"}}, \"type\": \"scatter3d\"}], \"scattercarpet\": [{\"marker\": {\"colorbar\": {\"outlinewidth\": 0, \"ticks\": \"\"}}, \"type\": \"scattercarpet\"}], \"scattergeo\": [{\"marker\": {\"colorbar\": {\"outlinewidth\": 0, \"ticks\": \"\"}}, \"type\": \"scattergeo\"}], \"scattergl\": [{\"marker\": {\"colorbar\": {\"outlinewidth\": 0, \"ticks\": \"\"}}, \"type\": \"scattergl\"}], \"scattermapbox\": [{\"marker\": {\"colorbar\": {\"outlinewidth\": 0, \"ticks\": \"\"}}, \"type\": \"scattermapbox\"}], \"scatterpolar\": [{\"marker\": {\"colorbar\": {\"outlinewidth\": 0, \"ticks\": \"\"}}, \"type\": \"scatterpolar\"}], \"scatterpolargl\": [{\"marker\": {\"colorbar\": {\"outlinewidth\": 0, \"ticks\": \"\"}}, \"type\": \"scatterpolargl\"}], \"scatterternary\": [{\"marker\": {\"colorbar\": {\"outlinewidth\": 0, \"ticks\": \"\"}}, \"type\": \"scatterternary\"}], \"surface\": [{\"colorbar\": {\"outlinewidth\": 0, \"ticks\": \"\"}, \"colorscale\": [[0.0, \"#0d0887\"], [0.1111111111111111, \"#46039f\"], [0.2222222222222222, \"#7201a8\"], [0.3333333333333333, \"#9c179e\"], [0.4444444444444444, \"#bd3786\"], [0.5555555555555556, \"#d8576b\"], [0.6666666666666666, \"#ed7953\"], [0.7777777777777778, \"#fb9f3a\"], [0.8888888888888888, \"#fdca26\"], [1.0, \"#f0f921\"]], \"type\": \"surface\"}], \"table\": [{\"cells\": {\"fill\": {\"color\": \"#EBF0F8\"}, \"line\": {\"color\": \"white\"}}, \"header\": {\"fill\": {\"color\": \"#C8D4E3\"}, \"line\": {\"color\": \"white\"}}, \"type\": \"table\"}]}, \"layout\": {\"annotationdefaults\": {\"arrowcolor\": \"#2a3f5f\", \"arrowhead\": 0, \"arrowwidth\": 1}, \"autotypenumbers\": \"strict\", \"coloraxis\": {\"colorbar\": {\"outlinewidth\": 0, \"ticks\": \"\"}}, \"colorscale\": {\"diverging\": [[0, \"#8e0152\"], [0.1, \"#c51b7d\"], [0.2, \"#de77ae\"], [0.3, \"#f1b6da\"], [0.4, \"#fde0ef\"], [0.5, \"#f7f7f7\"], [0.6, \"#e6f5d0\"], [0.7, \"#b8e186\"], [0.8, \"#7fbc41\"], [0.9, \"#4d9221\"], [1, \"#276419\"]], \"sequential\": [[0.0, \"#0d0887\"], [0.1111111111111111, \"#46039f\"], [0.2222222222222222, \"#7201a8\"], [0.3333333333333333, \"#9c179e\"], [0.4444444444444444, \"#bd3786\"], [0.5555555555555556, \"#d8576b\"], [0.6666666666666666, \"#ed7953\"], [0.7777777777777778, \"#fb9f3a\"], [0.8888888888888888, \"#fdca26\"], [1.0, \"#f0f921\"]], \"sequentialminus\": [[0.0, \"#0d0887\"], [0.1111111111111111, \"#46039f\"], [0.2222222222222222, \"#7201a8\"], [0.3333333333333333, \"#9c179e\"], [0.4444444444444444, \"#bd3786\"], [0.5555555555555556, \"#d8576b\"], [0.6666666666666666, \"#ed7953\"], [0.7777777777777778, \"#fb9f3a\"], [0.8888888888888888, \"#fdca26\"], [1.0, \"#f0f921\"]]}, \"colorway\": [\"#636efa\", \"#EF553B\", \"#00cc96\", \"#ab63fa\", \"#FFA15A\", \"#19d3f3\", \"#FF6692\", \"#B6E880\", \"#FF97FF\", \"#FECB52\"], \"font\": {\"color\": \"#2a3f5f\"}, \"geo\": {\"bgcolor\": \"white\", \"lakecolor\": \"white\", \"landcolor\": \"#E5ECF6\", \"showlakes\": true, \"showland\": true, \"subunitcolor\": \"white\"}, \"hoverlabel\": {\"align\": \"left\"}, \"hovermode\": \"closest\", \"mapbox\": {\"style\": \"light\"}, \"paper_bgcolor\": \"white\", \"plot_bgcolor\": \"#E5ECF6\", \"polar\": {\"angularaxis\": {\"gridcolor\": \"white\", \"linecolor\": \"white\", \"ticks\": \"\"}, \"bgcolor\": \"#E5ECF6\", \"radialaxis\": {\"gridcolor\": \"white\", \"linecolor\": \"white\", \"ticks\": \"\"}}, \"scene\": {\"xaxis\": {\"backgroundcolor\": \"#E5ECF6\", \"gridcolor\": \"white\", \"gridwidth\": 2, \"linecolor\": \"white\", \"showbackground\": true, \"ticks\": \"\", \"zerolinecolor\": \"white\"}, \"yaxis\": {\"backgroundcolor\": \"#E5ECF6\", \"gridcolor\": \"white\", \"gridwidth\": 2, \"linecolor\": \"white\", \"showbackground\": true, \"ticks\": \"\", \"zerolinecolor\": \"white\"}, \"zaxis\": {\"backgroundcolor\": \"#E5ECF6\", \"gridcolor\": \"white\", \"gridwidth\": 2, \"linecolor\": \"white\", \"showbackground\": true, \"ticks\": \"\", \"zerolinecolor\": \"white\"}}, \"shapedefaults\": {\"line\": {\"color\": \"#2a3f5f\"}}, \"ternary\": {\"aaxis\": {\"gridcolor\": \"white\", \"linecolor\": \"white\", \"ticks\": \"\"}, \"baxis\": {\"gridcolor\": \"white\", \"linecolor\": \"white\", \"ticks\": \"\"}, \"bgcolor\": \"#E5ECF6\", \"caxis\": {\"gridcolor\": \"white\", \"linecolor\": \"white\", \"ticks\": \"\"}}, \"title\": {\"x\": 0.05}, \"xaxis\": {\"automargin\": true, \"gridcolor\": \"white\", \"linecolor\": \"white\", \"ticks\": \"\", \"title\": {\"standoff\": 15}, \"zerolinecolor\": \"white\", \"zerolinewidth\": 2}, \"yaxis\": {\"automargin\": true, \"gridcolor\": \"white\", \"linecolor\": \"white\", \"ticks\": \"\", \"title\": {\"standoff\": 15}, \"zerolinecolor\": \"white\", \"zerolinewidth\": 2}}}, \"title\": {\"font\": {\"color\": \"#4D5663\"}}, \"xaxis\": {\"gridcolor\": \"#E1E5ED\", \"showgrid\": true, \"tickfont\": {\"color\": \"#4D5663\"}, \"title\": {\"font\": {\"color\": \"#4D5663\"}, \"text\": \"\"}, \"zerolinecolor\": \"#E1E5ED\"}, \"xaxis2\": {\"anchor\": \"y2\", \"gridcolor\": \"#E1E5ED\", \"showgrid\": true, \"showticklabels\": false, \"tickfont\": {\"color\": \"#4D5663\"}, \"title\": {\"font\": {\"color\": \"#4D5663\"}, \"text\": \"\"}, \"zerolinecolor\": \"#E1E5ED\"}, \"yaxis\": {\"domain\": [0.3, 1], \"gridcolor\": \"#E1E5ED\", \"showgrid\": true, \"tickfont\": {\"color\": \"#4D5663\"}, \"title\": {\"font\": {\"color\": \"#4D5663\"}, \"text\": \"\"}, \"zerolinecolor\": \"#E1E5ED\"}, \"yaxis2\": {\"domain\": [0, 0.25], \"gridcolor\": \"#E1E5ED\", \"showgrid\": true, \"tickfont\": {\"color\": \"#4D5663\"}, \"title\": {\"font\": {\"color\": \"#4D5663\"}, \"text\": \"Spread\"}, \"zerolinecolor\": \"#E1E5ED\"}},                        {\"showLink\": true, \"linkText\": \"Export to plot.ly\", \"plotlyServerURL\": \"https://plot.ly\", \"responsive\": true}                    ).then(function(){\n",
       "                            \n",
       "var gd = document.getElementById('b99c3797-5e41-4aa7-8502-372af16a81e5');\n",
       "var x = new MutationObserver(function (mutations, observer) {{\n",
       "        var display = window.getComputedStyle(gd).display;\n",
       "        if (!display || display === 'none') {{\n",
       "            console.log([gd, 'removed!']);\n",
       "            Plotly.purge(gd);\n",
       "            observer.disconnect();\n",
       "        }}\n",
       "}});\n",
       "\n",
       "// Listen for the removal of the full notebook cells\n",
       "var notebookContainer = gd.closest('#notebook-container');\n",
       "if (notebookContainer) {{\n",
       "    x.observe(notebookContainer, {childList: true});\n",
       "}}\n",
       "\n",
       "// Listen for the clearing of the current output cell\n",
       "var outputEl = gd.closest('.output');\n",
       "if (outputEl) {{\n",
       "    x.observe(outputEl, {childList: true});\n",
       "}}\n",
       "\n",
       "                        })                };                });            </script>        </div>"
      ]
     },
     "metadata": {},
     "output_type": "display_data"
    }
   ],
   "source": [
    "df[['A','B']].iplot(kind='spread')"
   ]
  },
  {
   "cell_type": "markdown",
   "metadata": {},
   "source": [
    "## histogram"
   ]
  },
  {
   "cell_type": "code",
   "execution_count": 18,
   "metadata": {},
   "outputs": [
    {
     "data": {
      "application/vnd.plotly.v1+json": {
       "config": {
        "linkText": "Export to plot.ly",
        "plotlyServerURL": "https://plot.ly",
        "showLink": true
       },
       "data": [
        {
         "histfunc": "count",
         "histnorm": "",
         "marker": {
          "color": "rgba(255, 153, 51, 1.0)",
          "line": {
           "color": "#4D5663",
           "width": 1.3
          }
         },
         "name": "A",
         "nbinsx": 25,
         "opacity": 0.8,
         "orientation": "v",
         "type": "histogram",
         "x": [
          -0.19413006811794645,
          1.6873452436372878,
          -0.06033814051572481,
          1.127241606699178,
          0.4249481578883776,
          -0.474771738742198,
          0.698211057555185,
          2.3585197847599058,
          0.2525076034946605,
          -1.0036563379066212,
          0.6536456432532819,
          -0.49369169397422796,
          -0.040726414634479166,
          -1.2885506743387969,
          -0.6020672152154837,
          -0.3648634665112078,
          0.8550055279946877,
          -0.17651701401783582,
          -0.19397655363332744,
          -0.5974369876080038,
          1.0008277559296812,
          1.3800382984728465,
          1.842995649951157,
          -0.3934532452291988,
          1.775188837143746,
          -0.10482980330404865,
          1.4332963698722747,
          2.104609929509668,
          -1.3107212075382997,
          -1.4251183393240168,
          -1.7439730133074343,
          0.13983069925649397,
          -0.1489846483553503,
          1.2371640170336395,
          1.4546617303712968,
          -1.9221666452059851,
          1.1196152585742165,
          -1.5414060431672485,
          0.23091464060285513,
          -0.1795998073426502,
          0.3568798660024454,
          0.07031144664084961,
          -0.2847388574307799,
          -2.0255021671344045,
          -0.8162924399503177,
          -1.1554189247537237,
          0.3272815669839693,
          1.2433458954860341,
          -0.8592310438158935,
          -0.12255589607043708,
          -2.9330462306596297,
          0.825075419527729,
          -1.3838364250794792,
          0.47002291759059917,
          0.16019366964864235,
          -0.6695497233597274,
          0.6571492065201427,
          -1.0362928866265888,
          0.6000371947768279,
          -1.0852365770917878,
          0.6699417739632818,
          -0.7799693098199959,
          -2.0855814299603646,
          -0.44145574032885965,
          -1.2931539005533357,
          0.2526285871877972,
          0.43845672549827974,
          -2.308093329442031,
          -1.0337271695209675,
          -1.3010430922089382,
          -0.7449131497770748,
          1.2401792295516962,
          0.6122413017452012,
          0.8534369987201077,
          1.312831009581544,
          1.662951815482871,
          -0.3316120266169116,
          1.743694974660214,
          -0.13013299703260145,
          -0.29376058235490393,
          -1.0956253739601314,
          -0.8838304978530539,
          -1.8595140265346404,
          0.9873673295542541,
          -1.169455618514835,
          -1.3958825951619405,
          0.934004187216018,
          0.5383689930416583,
          0.8591407374766785,
          -0.720859277854418,
          0.42481480563062385,
          0.853917076970644,
          -0.49934487596276067,
          -1.3070911630905448,
          -0.48970691464979793,
          -0.4844952353948526,
          -0.5719609784077725,
          -1.1871246172535055,
          1.3930489740217789,
          1.0687185676705941
         ]
        }
       ],
       "layout": {
        "barmode": "overlay",
        "legend": {
         "bgcolor": "#F5F6F9",
         "font": {
          "color": "#4D5663"
         }
        },
        "paper_bgcolor": "#F5F6F9",
        "plot_bgcolor": "#F5F6F9",
        "template": {
         "data": {
          "bar": [
           {
            "error_x": {
             "color": "#2a3f5f"
            },
            "error_y": {
             "color": "#2a3f5f"
            },
            "marker": {
             "line": {
              "color": "#E5ECF6",
              "width": 0.5
             }
            },
            "type": "bar"
           }
          ],
          "barpolar": [
           {
            "marker": {
             "line": {
              "color": "#E5ECF6",
              "width": 0.5
             }
            },
            "type": "barpolar"
           }
          ],
          "carpet": [
           {
            "aaxis": {
             "endlinecolor": "#2a3f5f",
             "gridcolor": "white",
             "linecolor": "white",
             "minorgridcolor": "white",
             "startlinecolor": "#2a3f5f"
            },
            "baxis": {
             "endlinecolor": "#2a3f5f",
             "gridcolor": "white",
             "linecolor": "white",
             "minorgridcolor": "white",
             "startlinecolor": "#2a3f5f"
            },
            "type": "carpet"
           }
          ],
          "choropleth": [
           {
            "colorbar": {
             "outlinewidth": 0,
             "ticks": ""
            },
            "type": "choropleth"
           }
          ],
          "contour": [
           {
            "colorbar": {
             "outlinewidth": 0,
             "ticks": ""
            },
            "colorscale": [
             [
              0,
              "#0d0887"
             ],
             [
              0.1111111111111111,
              "#46039f"
             ],
             [
              0.2222222222222222,
              "#7201a8"
             ],
             [
              0.3333333333333333,
              "#9c179e"
             ],
             [
              0.4444444444444444,
              "#bd3786"
             ],
             [
              0.5555555555555556,
              "#d8576b"
             ],
             [
              0.6666666666666666,
              "#ed7953"
             ],
             [
              0.7777777777777778,
              "#fb9f3a"
             ],
             [
              0.8888888888888888,
              "#fdca26"
             ],
             [
              1,
              "#f0f921"
             ]
            ],
            "type": "contour"
           }
          ],
          "contourcarpet": [
           {
            "colorbar": {
             "outlinewidth": 0,
             "ticks": ""
            },
            "type": "contourcarpet"
           }
          ],
          "heatmap": [
           {
            "colorbar": {
             "outlinewidth": 0,
             "ticks": ""
            },
            "colorscale": [
             [
              0,
              "#0d0887"
             ],
             [
              0.1111111111111111,
              "#46039f"
             ],
             [
              0.2222222222222222,
              "#7201a8"
             ],
             [
              0.3333333333333333,
              "#9c179e"
             ],
             [
              0.4444444444444444,
              "#bd3786"
             ],
             [
              0.5555555555555556,
              "#d8576b"
             ],
             [
              0.6666666666666666,
              "#ed7953"
             ],
             [
              0.7777777777777778,
              "#fb9f3a"
             ],
             [
              0.8888888888888888,
              "#fdca26"
             ],
             [
              1,
              "#f0f921"
             ]
            ],
            "type": "heatmap"
           }
          ],
          "heatmapgl": [
           {
            "colorbar": {
             "outlinewidth": 0,
             "ticks": ""
            },
            "colorscale": [
             [
              0,
              "#0d0887"
             ],
             [
              0.1111111111111111,
              "#46039f"
             ],
             [
              0.2222222222222222,
              "#7201a8"
             ],
             [
              0.3333333333333333,
              "#9c179e"
             ],
             [
              0.4444444444444444,
              "#bd3786"
             ],
             [
              0.5555555555555556,
              "#d8576b"
             ],
             [
              0.6666666666666666,
              "#ed7953"
             ],
             [
              0.7777777777777778,
              "#fb9f3a"
             ],
             [
              0.8888888888888888,
              "#fdca26"
             ],
             [
              1,
              "#f0f921"
             ]
            ],
            "type": "heatmapgl"
           }
          ],
          "histogram": [
           {
            "marker": {
             "colorbar": {
              "outlinewidth": 0,
              "ticks": ""
             }
            },
            "type": "histogram"
           }
          ],
          "histogram2d": [
           {
            "colorbar": {
             "outlinewidth": 0,
             "ticks": ""
            },
            "colorscale": [
             [
              0,
              "#0d0887"
             ],
             [
              0.1111111111111111,
              "#46039f"
             ],
             [
              0.2222222222222222,
              "#7201a8"
             ],
             [
              0.3333333333333333,
              "#9c179e"
             ],
             [
              0.4444444444444444,
              "#bd3786"
             ],
             [
              0.5555555555555556,
              "#d8576b"
             ],
             [
              0.6666666666666666,
              "#ed7953"
             ],
             [
              0.7777777777777778,
              "#fb9f3a"
             ],
             [
              0.8888888888888888,
              "#fdca26"
             ],
             [
              1,
              "#f0f921"
             ]
            ],
            "type": "histogram2d"
           }
          ],
          "histogram2dcontour": [
           {
            "colorbar": {
             "outlinewidth": 0,
             "ticks": ""
            },
            "colorscale": [
             [
              0,
              "#0d0887"
             ],
             [
              0.1111111111111111,
              "#46039f"
             ],
             [
              0.2222222222222222,
              "#7201a8"
             ],
             [
              0.3333333333333333,
              "#9c179e"
             ],
             [
              0.4444444444444444,
              "#bd3786"
             ],
             [
              0.5555555555555556,
              "#d8576b"
             ],
             [
              0.6666666666666666,
              "#ed7953"
             ],
             [
              0.7777777777777778,
              "#fb9f3a"
             ],
             [
              0.8888888888888888,
              "#fdca26"
             ],
             [
              1,
              "#f0f921"
             ]
            ],
            "type": "histogram2dcontour"
           }
          ],
          "mesh3d": [
           {
            "colorbar": {
             "outlinewidth": 0,
             "ticks": ""
            },
            "type": "mesh3d"
           }
          ],
          "parcoords": [
           {
            "line": {
             "colorbar": {
              "outlinewidth": 0,
              "ticks": ""
             }
            },
            "type": "parcoords"
           }
          ],
          "pie": [
           {
            "automargin": true,
            "type": "pie"
           }
          ],
          "scatter": [
           {
            "marker": {
             "colorbar": {
              "outlinewidth": 0,
              "ticks": ""
             }
            },
            "type": "scatter"
           }
          ],
          "scatter3d": [
           {
            "line": {
             "colorbar": {
              "outlinewidth": 0,
              "ticks": ""
             }
            },
            "marker": {
             "colorbar": {
              "outlinewidth": 0,
              "ticks": ""
             }
            },
            "type": "scatter3d"
           }
          ],
          "scattercarpet": [
           {
            "marker": {
             "colorbar": {
              "outlinewidth": 0,
              "ticks": ""
             }
            },
            "type": "scattercarpet"
           }
          ],
          "scattergeo": [
           {
            "marker": {
             "colorbar": {
              "outlinewidth": 0,
              "ticks": ""
             }
            },
            "type": "scattergeo"
           }
          ],
          "scattergl": [
           {
            "marker": {
             "colorbar": {
              "outlinewidth": 0,
              "ticks": ""
             }
            },
            "type": "scattergl"
           }
          ],
          "scattermapbox": [
           {
            "marker": {
             "colorbar": {
              "outlinewidth": 0,
              "ticks": ""
             }
            },
            "type": "scattermapbox"
           }
          ],
          "scatterpolar": [
           {
            "marker": {
             "colorbar": {
              "outlinewidth": 0,
              "ticks": ""
             }
            },
            "type": "scatterpolar"
           }
          ],
          "scatterpolargl": [
           {
            "marker": {
             "colorbar": {
              "outlinewidth": 0,
              "ticks": ""
             }
            },
            "type": "scatterpolargl"
           }
          ],
          "scatterternary": [
           {
            "marker": {
             "colorbar": {
              "outlinewidth": 0,
              "ticks": ""
             }
            },
            "type": "scatterternary"
           }
          ],
          "surface": [
           {
            "colorbar": {
             "outlinewidth": 0,
             "ticks": ""
            },
            "colorscale": [
             [
              0,
              "#0d0887"
             ],
             [
              0.1111111111111111,
              "#46039f"
             ],
             [
              0.2222222222222222,
              "#7201a8"
             ],
             [
              0.3333333333333333,
              "#9c179e"
             ],
             [
              0.4444444444444444,
              "#bd3786"
             ],
             [
              0.5555555555555556,
              "#d8576b"
             ],
             [
              0.6666666666666666,
              "#ed7953"
             ],
             [
              0.7777777777777778,
              "#fb9f3a"
             ],
             [
              0.8888888888888888,
              "#fdca26"
             ],
             [
              1,
              "#f0f921"
             ]
            ],
            "type": "surface"
           }
          ],
          "table": [
           {
            "cells": {
             "fill": {
              "color": "#EBF0F8"
             },
             "line": {
              "color": "white"
             }
            },
            "header": {
             "fill": {
              "color": "#C8D4E3"
             },
             "line": {
              "color": "white"
             }
            },
            "type": "table"
           }
          ]
         },
         "layout": {
          "annotationdefaults": {
           "arrowcolor": "#2a3f5f",
           "arrowhead": 0,
           "arrowwidth": 1
          },
          "autotypenumbers": "strict",
          "coloraxis": {
           "colorbar": {
            "outlinewidth": 0,
            "ticks": ""
           }
          },
          "colorscale": {
           "diverging": [
            [
             0,
             "#8e0152"
            ],
            [
             0.1,
             "#c51b7d"
            ],
            [
             0.2,
             "#de77ae"
            ],
            [
             0.3,
             "#f1b6da"
            ],
            [
             0.4,
             "#fde0ef"
            ],
            [
             0.5,
             "#f7f7f7"
            ],
            [
             0.6,
             "#e6f5d0"
            ],
            [
             0.7,
             "#b8e186"
            ],
            [
             0.8,
             "#7fbc41"
            ],
            [
             0.9,
             "#4d9221"
            ],
            [
             1,
             "#276419"
            ]
           ],
           "sequential": [
            [
             0,
             "#0d0887"
            ],
            [
             0.1111111111111111,
             "#46039f"
            ],
            [
             0.2222222222222222,
             "#7201a8"
            ],
            [
             0.3333333333333333,
             "#9c179e"
            ],
            [
             0.4444444444444444,
             "#bd3786"
            ],
            [
             0.5555555555555556,
             "#d8576b"
            ],
            [
             0.6666666666666666,
             "#ed7953"
            ],
            [
             0.7777777777777778,
             "#fb9f3a"
            ],
            [
             0.8888888888888888,
             "#fdca26"
            ],
            [
             1,
             "#f0f921"
            ]
           ],
           "sequentialminus": [
            [
             0,
             "#0d0887"
            ],
            [
             0.1111111111111111,
             "#46039f"
            ],
            [
             0.2222222222222222,
             "#7201a8"
            ],
            [
             0.3333333333333333,
             "#9c179e"
            ],
            [
             0.4444444444444444,
             "#bd3786"
            ],
            [
             0.5555555555555556,
             "#d8576b"
            ],
            [
             0.6666666666666666,
             "#ed7953"
            ],
            [
             0.7777777777777778,
             "#fb9f3a"
            ],
            [
             0.8888888888888888,
             "#fdca26"
            ],
            [
             1,
             "#f0f921"
            ]
           ]
          },
          "colorway": [
           "#636efa",
           "#EF553B",
           "#00cc96",
           "#ab63fa",
           "#FFA15A",
           "#19d3f3",
           "#FF6692",
           "#B6E880",
           "#FF97FF",
           "#FECB52"
          ],
          "font": {
           "color": "#2a3f5f"
          },
          "geo": {
           "bgcolor": "white",
           "lakecolor": "white",
           "landcolor": "#E5ECF6",
           "showlakes": true,
           "showland": true,
           "subunitcolor": "white"
          },
          "hoverlabel": {
           "align": "left"
          },
          "hovermode": "closest",
          "mapbox": {
           "style": "light"
          },
          "paper_bgcolor": "white",
          "plot_bgcolor": "#E5ECF6",
          "polar": {
           "angularaxis": {
            "gridcolor": "white",
            "linecolor": "white",
            "ticks": ""
           },
           "bgcolor": "#E5ECF6",
           "radialaxis": {
            "gridcolor": "white",
            "linecolor": "white",
            "ticks": ""
           }
          },
          "scene": {
           "xaxis": {
            "backgroundcolor": "#E5ECF6",
            "gridcolor": "white",
            "gridwidth": 2,
            "linecolor": "white",
            "showbackground": true,
            "ticks": "",
            "zerolinecolor": "white"
           },
           "yaxis": {
            "backgroundcolor": "#E5ECF6",
            "gridcolor": "white",
            "gridwidth": 2,
            "linecolor": "white",
            "showbackground": true,
            "ticks": "",
            "zerolinecolor": "white"
           },
           "zaxis": {
            "backgroundcolor": "#E5ECF6",
            "gridcolor": "white",
            "gridwidth": 2,
            "linecolor": "white",
            "showbackground": true,
            "ticks": "",
            "zerolinecolor": "white"
           }
          },
          "shapedefaults": {
           "line": {
            "color": "#2a3f5f"
           }
          },
          "ternary": {
           "aaxis": {
            "gridcolor": "white",
            "linecolor": "white",
            "ticks": ""
           },
           "baxis": {
            "gridcolor": "white",
            "linecolor": "white",
            "ticks": ""
           },
           "bgcolor": "#E5ECF6",
           "caxis": {
            "gridcolor": "white",
            "linecolor": "white",
            "ticks": ""
           }
          },
          "title": {
           "x": 0.05
          },
          "xaxis": {
           "automargin": true,
           "gridcolor": "white",
           "linecolor": "white",
           "ticks": "",
           "title": {
            "standoff": 15
           },
           "zerolinecolor": "white",
           "zerolinewidth": 2
          },
          "yaxis": {
           "automargin": true,
           "gridcolor": "white",
           "linecolor": "white",
           "ticks": "",
           "title": {
            "standoff": 15
           },
           "zerolinecolor": "white",
           "zerolinewidth": 2
          }
         }
        },
        "title": {
         "font": {
          "color": "#4D5663"
         }
        },
        "xaxis": {
         "gridcolor": "#E1E5ED",
         "showgrid": true,
         "tickfont": {
          "color": "#4D5663"
         },
         "title": {
          "font": {
           "color": "#4D5663"
          },
          "text": ""
         },
         "zerolinecolor": "#E1E5ED"
        },
        "yaxis": {
         "gridcolor": "#E1E5ED",
         "showgrid": true,
         "tickfont": {
          "color": "#4D5663"
         },
         "title": {
          "font": {
           "color": "#4D5663"
          },
          "text": ""
         },
         "zerolinecolor": "#E1E5ED"
        }
       }
      },
      "text/html": [
       "<div>                            <div id=\"b050da06-9fb0-4c66-bba1-a969df527dc4\" class=\"plotly-graph-div\" style=\"height:525px; width:100%;\"></div>            <script type=\"text/javascript\">                require([\"plotly\"], function(Plotly) {                    window.PLOTLYENV=window.PLOTLYENV || {};\n",
       "                    window.PLOTLYENV.BASE_URL='https://plot.ly';                                    if (document.getElementById(\"b050da06-9fb0-4c66-bba1-a969df527dc4\")) {                    Plotly.newPlot(                        \"b050da06-9fb0-4c66-bba1-a969df527dc4\",                        [{\"histfunc\": \"count\", \"histnorm\": \"\", \"marker\": {\"color\": \"rgba(255, 153, 51, 1.0)\", \"line\": {\"color\": \"#4D5663\", \"width\": 1.3}}, \"name\": \"A\", \"nbinsx\": 25, \"opacity\": 0.8, \"orientation\": \"v\", \"type\": \"histogram\", \"x\": [-0.19413006811794645, 1.6873452436372878, -0.06033814051572481, 1.127241606699178, 0.4249481578883776, -0.474771738742198, 0.698211057555185, 2.3585197847599058, 0.2525076034946605, -1.0036563379066212, 0.6536456432532819, -0.49369169397422796, -0.040726414634479166, -1.2885506743387969, -0.6020672152154837, -0.3648634665112078, 0.8550055279946877, -0.17651701401783582, -0.19397655363332744, -0.5974369876080038, 1.0008277559296812, 1.3800382984728465, 1.842995649951157, -0.3934532452291988, 1.775188837143746, -0.10482980330404865, 1.4332963698722747, 2.104609929509668, -1.3107212075382997, -1.4251183393240168, -1.7439730133074343, 0.13983069925649397, -0.1489846483553503, 1.2371640170336395, 1.4546617303712968, -1.9221666452059851, 1.1196152585742165, -1.5414060431672485, 0.23091464060285513, -0.1795998073426502, 0.3568798660024454, 0.07031144664084961, -0.2847388574307799, -2.0255021671344045, -0.8162924399503177, -1.1554189247537237, 0.3272815669839693, 1.2433458954860341, -0.8592310438158935, -0.12255589607043708, -2.9330462306596297, 0.825075419527729, -1.3838364250794792, 0.47002291759059917, 0.16019366964864235, -0.6695497233597274, 0.6571492065201427, -1.0362928866265888, 0.6000371947768279, -1.0852365770917878, 0.6699417739632818, -0.7799693098199959, -2.0855814299603646, -0.44145574032885965, -1.2931539005533357, 0.2526285871877972, 0.43845672549827974, -2.308093329442031, -1.0337271695209675, -1.3010430922089382, -0.7449131497770748, 1.2401792295516962, 0.6122413017452012, 0.8534369987201077, 1.312831009581544, 1.662951815482871, -0.3316120266169116, 1.743694974660214, -0.13013299703260145, -0.29376058235490393, -1.0956253739601314, -0.8838304978530539, -1.8595140265346404, 0.9873673295542541, -1.169455618514835, -1.3958825951619405, 0.934004187216018, 0.5383689930416583, 0.8591407374766785, -0.720859277854418, 0.42481480563062385, 0.853917076970644, -0.49934487596276067, -1.3070911630905448, -0.48970691464979793, -0.4844952353948526, -0.5719609784077725, -1.1871246172535055, 1.3930489740217789, 1.0687185676705941]}],                        {\"barmode\": \"overlay\", \"legend\": {\"bgcolor\": \"#F5F6F9\", \"font\": {\"color\": \"#4D5663\"}}, \"paper_bgcolor\": \"#F5F6F9\", \"plot_bgcolor\": \"#F5F6F9\", \"template\": {\"data\": {\"bar\": [{\"error_x\": {\"color\": \"#2a3f5f\"}, \"error_y\": {\"color\": \"#2a3f5f\"}, \"marker\": {\"line\": {\"color\": \"#E5ECF6\", \"width\": 0.5}}, \"type\": \"bar\"}], \"barpolar\": [{\"marker\": {\"line\": {\"color\": \"#E5ECF6\", \"width\": 0.5}}, \"type\": \"barpolar\"}], \"carpet\": [{\"aaxis\": {\"endlinecolor\": \"#2a3f5f\", \"gridcolor\": \"white\", \"linecolor\": \"white\", \"minorgridcolor\": \"white\", \"startlinecolor\": \"#2a3f5f\"}, \"baxis\": {\"endlinecolor\": \"#2a3f5f\", \"gridcolor\": \"white\", \"linecolor\": \"white\", \"minorgridcolor\": \"white\", \"startlinecolor\": \"#2a3f5f\"}, \"type\": \"carpet\"}], \"choropleth\": [{\"colorbar\": {\"outlinewidth\": 0, \"ticks\": \"\"}, \"type\": \"choropleth\"}], \"contour\": [{\"colorbar\": {\"outlinewidth\": 0, \"ticks\": \"\"}, \"colorscale\": [[0.0, \"#0d0887\"], [0.1111111111111111, \"#46039f\"], [0.2222222222222222, \"#7201a8\"], [0.3333333333333333, \"#9c179e\"], [0.4444444444444444, \"#bd3786\"], [0.5555555555555556, \"#d8576b\"], [0.6666666666666666, \"#ed7953\"], [0.7777777777777778, \"#fb9f3a\"], [0.8888888888888888, \"#fdca26\"], [1.0, \"#f0f921\"]], \"type\": \"contour\"}], \"contourcarpet\": [{\"colorbar\": {\"outlinewidth\": 0, \"ticks\": \"\"}, \"type\": \"contourcarpet\"}], \"heatmap\": [{\"colorbar\": {\"outlinewidth\": 0, \"ticks\": \"\"}, \"colorscale\": [[0.0, \"#0d0887\"], [0.1111111111111111, \"#46039f\"], [0.2222222222222222, \"#7201a8\"], [0.3333333333333333, \"#9c179e\"], [0.4444444444444444, \"#bd3786\"], [0.5555555555555556, \"#d8576b\"], [0.6666666666666666, \"#ed7953\"], [0.7777777777777778, \"#fb9f3a\"], [0.8888888888888888, \"#fdca26\"], [1.0, \"#f0f921\"]], \"type\": \"heatmap\"}], \"heatmapgl\": [{\"colorbar\": {\"outlinewidth\": 0, \"ticks\": \"\"}, \"colorscale\": [[0.0, \"#0d0887\"], [0.1111111111111111, \"#46039f\"], [0.2222222222222222, \"#7201a8\"], [0.3333333333333333, \"#9c179e\"], [0.4444444444444444, \"#bd3786\"], [0.5555555555555556, \"#d8576b\"], [0.6666666666666666, \"#ed7953\"], [0.7777777777777778, \"#fb9f3a\"], [0.8888888888888888, \"#fdca26\"], [1.0, \"#f0f921\"]], \"type\": \"heatmapgl\"}], \"histogram\": [{\"marker\": {\"colorbar\": {\"outlinewidth\": 0, \"ticks\": \"\"}}, \"type\": \"histogram\"}], \"histogram2d\": [{\"colorbar\": {\"outlinewidth\": 0, \"ticks\": \"\"}, \"colorscale\": [[0.0, \"#0d0887\"], [0.1111111111111111, \"#46039f\"], [0.2222222222222222, \"#7201a8\"], [0.3333333333333333, \"#9c179e\"], [0.4444444444444444, \"#bd3786\"], [0.5555555555555556, \"#d8576b\"], [0.6666666666666666, \"#ed7953\"], [0.7777777777777778, \"#fb9f3a\"], [0.8888888888888888, \"#fdca26\"], [1.0, \"#f0f921\"]], \"type\": \"histogram2d\"}], \"histogram2dcontour\": [{\"colorbar\": {\"outlinewidth\": 0, \"ticks\": \"\"}, \"colorscale\": [[0.0, \"#0d0887\"], [0.1111111111111111, \"#46039f\"], [0.2222222222222222, \"#7201a8\"], [0.3333333333333333, \"#9c179e\"], [0.4444444444444444, \"#bd3786\"], [0.5555555555555556, \"#d8576b\"], [0.6666666666666666, \"#ed7953\"], [0.7777777777777778, \"#fb9f3a\"], [0.8888888888888888, \"#fdca26\"], [1.0, \"#f0f921\"]], \"type\": \"histogram2dcontour\"}], \"mesh3d\": [{\"colorbar\": {\"outlinewidth\": 0, \"ticks\": \"\"}, \"type\": \"mesh3d\"}], \"parcoords\": [{\"line\": {\"colorbar\": {\"outlinewidth\": 0, \"ticks\": \"\"}}, \"type\": \"parcoords\"}], \"pie\": [{\"automargin\": true, \"type\": \"pie\"}], \"scatter\": [{\"marker\": {\"colorbar\": {\"outlinewidth\": 0, \"ticks\": \"\"}}, \"type\": \"scatter\"}], \"scatter3d\": [{\"line\": {\"colorbar\": {\"outlinewidth\": 0, \"ticks\": \"\"}}, \"marker\": {\"colorbar\": {\"outlinewidth\": 0, \"ticks\": \"\"}}, \"type\": \"scatter3d\"}], \"scattercarpet\": [{\"marker\": {\"colorbar\": {\"outlinewidth\": 0, \"ticks\": \"\"}}, \"type\": \"scattercarpet\"}], \"scattergeo\": [{\"marker\": {\"colorbar\": {\"outlinewidth\": 0, \"ticks\": \"\"}}, \"type\": \"scattergeo\"}], \"scattergl\": [{\"marker\": {\"colorbar\": {\"outlinewidth\": 0, \"ticks\": \"\"}}, \"type\": \"scattergl\"}], \"scattermapbox\": [{\"marker\": {\"colorbar\": {\"outlinewidth\": 0, \"ticks\": \"\"}}, \"type\": \"scattermapbox\"}], \"scatterpolar\": [{\"marker\": {\"colorbar\": {\"outlinewidth\": 0, \"ticks\": \"\"}}, \"type\": \"scatterpolar\"}], \"scatterpolargl\": [{\"marker\": {\"colorbar\": {\"outlinewidth\": 0, \"ticks\": \"\"}}, \"type\": \"scatterpolargl\"}], \"scatterternary\": [{\"marker\": {\"colorbar\": {\"outlinewidth\": 0, \"ticks\": \"\"}}, \"type\": \"scatterternary\"}], \"surface\": [{\"colorbar\": {\"outlinewidth\": 0, \"ticks\": \"\"}, \"colorscale\": [[0.0, \"#0d0887\"], [0.1111111111111111, \"#46039f\"], [0.2222222222222222, \"#7201a8\"], [0.3333333333333333, \"#9c179e\"], [0.4444444444444444, \"#bd3786\"], [0.5555555555555556, \"#d8576b\"], [0.6666666666666666, \"#ed7953\"], [0.7777777777777778, \"#fb9f3a\"], [0.8888888888888888, \"#fdca26\"], [1.0, \"#f0f921\"]], \"type\": \"surface\"}], \"table\": [{\"cells\": {\"fill\": {\"color\": \"#EBF0F8\"}, \"line\": {\"color\": \"white\"}}, \"header\": {\"fill\": {\"color\": \"#C8D4E3\"}, \"line\": {\"color\": \"white\"}}, \"type\": \"table\"}]}, \"layout\": {\"annotationdefaults\": {\"arrowcolor\": \"#2a3f5f\", \"arrowhead\": 0, \"arrowwidth\": 1}, \"autotypenumbers\": \"strict\", \"coloraxis\": {\"colorbar\": {\"outlinewidth\": 0, \"ticks\": \"\"}}, \"colorscale\": {\"diverging\": [[0, \"#8e0152\"], [0.1, \"#c51b7d\"], [0.2, \"#de77ae\"], [0.3, \"#f1b6da\"], [0.4, \"#fde0ef\"], [0.5, \"#f7f7f7\"], [0.6, \"#e6f5d0\"], [0.7, \"#b8e186\"], [0.8, \"#7fbc41\"], [0.9, \"#4d9221\"], [1, \"#276419\"]], \"sequential\": [[0.0, \"#0d0887\"], [0.1111111111111111, \"#46039f\"], [0.2222222222222222, \"#7201a8\"], [0.3333333333333333, \"#9c179e\"], [0.4444444444444444, \"#bd3786\"], [0.5555555555555556, \"#d8576b\"], [0.6666666666666666, \"#ed7953\"], [0.7777777777777778, \"#fb9f3a\"], [0.8888888888888888, \"#fdca26\"], [1.0, \"#f0f921\"]], \"sequentialminus\": [[0.0, \"#0d0887\"], [0.1111111111111111, \"#46039f\"], [0.2222222222222222, \"#7201a8\"], [0.3333333333333333, \"#9c179e\"], [0.4444444444444444, \"#bd3786\"], [0.5555555555555556, \"#d8576b\"], [0.6666666666666666, \"#ed7953\"], [0.7777777777777778, \"#fb9f3a\"], [0.8888888888888888, \"#fdca26\"], [1.0, \"#f0f921\"]]}, \"colorway\": [\"#636efa\", \"#EF553B\", \"#00cc96\", \"#ab63fa\", \"#FFA15A\", \"#19d3f3\", \"#FF6692\", \"#B6E880\", \"#FF97FF\", \"#FECB52\"], \"font\": {\"color\": \"#2a3f5f\"}, \"geo\": {\"bgcolor\": \"white\", \"lakecolor\": \"white\", \"landcolor\": \"#E5ECF6\", \"showlakes\": true, \"showland\": true, \"subunitcolor\": \"white\"}, \"hoverlabel\": {\"align\": \"left\"}, \"hovermode\": \"closest\", \"mapbox\": {\"style\": \"light\"}, \"paper_bgcolor\": \"white\", \"plot_bgcolor\": \"#E5ECF6\", \"polar\": {\"angularaxis\": {\"gridcolor\": \"white\", \"linecolor\": \"white\", \"ticks\": \"\"}, \"bgcolor\": \"#E5ECF6\", \"radialaxis\": {\"gridcolor\": \"white\", \"linecolor\": \"white\", \"ticks\": \"\"}}, \"scene\": {\"xaxis\": {\"backgroundcolor\": \"#E5ECF6\", \"gridcolor\": \"white\", \"gridwidth\": 2, \"linecolor\": \"white\", \"showbackground\": true, \"ticks\": \"\", \"zerolinecolor\": \"white\"}, \"yaxis\": {\"backgroundcolor\": \"#E5ECF6\", \"gridcolor\": \"white\", \"gridwidth\": 2, \"linecolor\": \"white\", \"showbackground\": true, \"ticks\": \"\", \"zerolinecolor\": \"white\"}, \"zaxis\": {\"backgroundcolor\": \"#E5ECF6\", \"gridcolor\": \"white\", \"gridwidth\": 2, \"linecolor\": \"white\", \"showbackground\": true, \"ticks\": \"\", \"zerolinecolor\": \"white\"}}, \"shapedefaults\": {\"line\": {\"color\": \"#2a3f5f\"}}, \"ternary\": {\"aaxis\": {\"gridcolor\": \"white\", \"linecolor\": \"white\", \"ticks\": \"\"}, \"baxis\": {\"gridcolor\": \"white\", \"linecolor\": \"white\", \"ticks\": \"\"}, \"bgcolor\": \"#E5ECF6\", \"caxis\": {\"gridcolor\": \"white\", \"linecolor\": \"white\", \"ticks\": \"\"}}, \"title\": {\"x\": 0.05}, \"xaxis\": {\"automargin\": true, \"gridcolor\": \"white\", \"linecolor\": \"white\", \"ticks\": \"\", \"title\": {\"standoff\": 15}, \"zerolinecolor\": \"white\", \"zerolinewidth\": 2}, \"yaxis\": {\"automargin\": true, \"gridcolor\": \"white\", \"linecolor\": \"white\", \"ticks\": \"\", \"title\": {\"standoff\": 15}, \"zerolinecolor\": \"white\", \"zerolinewidth\": 2}}}, \"title\": {\"font\": {\"color\": \"#4D5663\"}}, \"xaxis\": {\"gridcolor\": \"#E1E5ED\", \"showgrid\": true, \"tickfont\": {\"color\": \"#4D5663\"}, \"title\": {\"font\": {\"color\": \"#4D5663\"}, \"text\": \"\"}, \"zerolinecolor\": \"#E1E5ED\"}, \"yaxis\": {\"gridcolor\": \"#E1E5ED\", \"showgrid\": true, \"tickfont\": {\"color\": \"#4D5663\"}, \"title\": {\"font\": {\"color\": \"#4D5663\"}, \"text\": \"\"}, \"zerolinecolor\": \"#E1E5ED\"}},                        {\"showLink\": true, \"linkText\": \"Export to plot.ly\", \"plotlyServerURL\": \"https://plot.ly\", \"responsive\": true}                    ).then(function(){\n",
       "                            \n",
       "var gd = document.getElementById('b050da06-9fb0-4c66-bba1-a969df527dc4');\n",
       "var x = new MutationObserver(function (mutations, observer) {{\n",
       "        var display = window.getComputedStyle(gd).display;\n",
       "        if (!display || display === 'none') {{\n",
       "            console.log([gd, 'removed!']);\n",
       "            Plotly.purge(gd);\n",
       "            observer.disconnect();\n",
       "        }}\n",
       "}});\n",
       "\n",
       "// Listen for the removal of the full notebook cells\n",
       "var notebookContainer = gd.closest('#notebook-container');\n",
       "if (notebookContainer) {{\n",
       "    x.observe(notebookContainer, {childList: true});\n",
       "}}\n",
       "\n",
       "// Listen for the clearing of the current output cell\n",
       "var outputEl = gd.closest('.output');\n",
       "if (outputEl) {{\n",
       "    x.observe(outputEl, {childList: true});\n",
       "}}\n",
       "\n",
       "                        })                };                });            </script>        </div>"
      ]
     },
     "metadata": {},
     "output_type": "display_data"
    }
   ],
   "source": [
    "df['A'].iplot(kind='hist',bins=25)"
   ]
  },
  {
   "cell_type": "code",
   "execution_count": 19,
   "metadata": {},
   "outputs": [
    {
     "data": {
      "application/vnd.plotly.v1+json": {
       "config": {
        "linkText": "Export to plot.ly",
        "plotlyServerURL": "https://plot.ly",
        "showLink": true
       },
       "data": [
        {
         "marker": {
          "color": [
           "rgb(255, 153, 51)",
           "rgb(55, 128, 191)",
           "rgb(50, 171, 96)",
           "rgb(128, 0, 128)",
           "rgb(219, 64, 82)",
           "rgb(0, 128, 128)",
           "rgb(255, 255, 51)",
           "rgb(128, 128, 0)",
           "rgb(251, 128, 114)",
           "rgb(128, 177, 211)"
          ],
          "line": {
           "width": 1.3
          },
          "size": [
           88,
           83,
           36,
           60,
           51,
           60,
           53,
           34,
           66,
           50,
           30,
           54,
           83,
           54,
           33,
           71,
           75,
           83,
           55,
           105,
           36,
           44,
           61,
           56,
           32,
           63,
           35,
           108,
           78,
           55,
           32,
           63,
           74,
           27,
           55,
           67,
           52,
           43,
           12,
           87,
           93,
           40,
           58,
           64,
           86,
           81,
           46,
           93,
           42,
           22,
           50,
           72,
           36,
           112,
           32,
           81,
           27,
           18,
           51,
           28,
           88,
           48,
           85,
           88,
           78,
           79,
           90,
           59,
           75,
           55,
           95,
           32,
           52,
           35,
           46,
           50,
           44,
           57,
           64,
           79,
           79,
           111,
           78,
           61,
           107,
           41,
           65,
           34,
           84,
           57,
           50,
           90,
           42,
           28,
           80,
           58,
           47,
           36,
           48,
           90
          ],
          "symbol": "circle"
         },
         "mode": "markers",
         "text": "",
         "type": "scatter",
         "x": [
          -0.19413006811794645,
          1.6873452436372878,
          -0.06033814051572481,
          1.127241606699178,
          0.4249481578883776,
          -0.474771738742198,
          0.698211057555185,
          2.3585197847599058,
          0.2525076034946605,
          -1.0036563379066212,
          0.6536456432532819,
          -0.49369169397422796,
          -0.040726414634479166,
          -1.2885506743387969,
          -0.6020672152154837,
          -0.3648634665112078,
          0.8550055279946877,
          -0.17651701401783582,
          -0.19397655363332744,
          -0.5974369876080038,
          1.0008277559296812,
          1.3800382984728465,
          1.842995649951157,
          -0.3934532452291988,
          1.775188837143746,
          -0.10482980330404865,
          1.4332963698722747,
          2.104609929509668,
          -1.3107212075382997,
          -1.4251183393240168,
          -1.7439730133074343,
          0.13983069925649397,
          -0.1489846483553503,
          1.2371640170336395,
          1.4546617303712968,
          -1.9221666452059851,
          1.1196152585742165,
          -1.5414060431672485,
          0.23091464060285513,
          -0.1795998073426502,
          0.3568798660024454,
          0.07031144664084961,
          -0.2847388574307799,
          -2.0255021671344045,
          -0.8162924399503177,
          -1.1554189247537237,
          0.3272815669839693,
          1.2433458954860341,
          -0.8592310438158935,
          -0.12255589607043708,
          -2.9330462306596297,
          0.825075419527729,
          -1.3838364250794792,
          0.47002291759059917,
          0.16019366964864235,
          -0.6695497233597274,
          0.6571492065201427,
          -1.0362928866265888,
          0.6000371947768279,
          -1.0852365770917878,
          0.6699417739632818,
          -0.7799693098199959,
          -2.0855814299603646,
          -0.44145574032885965,
          -1.2931539005533357,
          0.2526285871877972,
          0.43845672549827974,
          -2.308093329442031,
          -1.0337271695209675,
          -1.3010430922089382,
          -0.7449131497770748,
          1.2401792295516962,
          0.6122413017452012,
          0.8534369987201077,
          1.312831009581544,
          1.662951815482871,
          -0.3316120266169116,
          1.743694974660214,
          -0.13013299703260145,
          -0.29376058235490393,
          -1.0956253739601314,
          -0.8838304978530539,
          -1.8595140265346404,
          0.9873673295542541,
          -1.169455618514835,
          -1.3958825951619405,
          0.934004187216018,
          0.5383689930416583,
          0.8591407374766785,
          -0.720859277854418,
          0.42481480563062385,
          0.853917076970644,
          -0.49934487596276067,
          -1.3070911630905448,
          -0.48970691464979793,
          -0.4844952353948526,
          -0.5719609784077725,
          -1.1871246172535055,
          1.3930489740217789,
          1.0687185676705941
         ],
         "y": [
          -1.3611066114771493,
          -0.9404925242020148,
          1.3722116473992234,
          1.7322354728534157,
          -0.30694083887020157,
          1.309104354467893,
          0.5167954353662241,
          1.6441571752434938,
          -0.4134000317423506,
          0.5862823464153141,
          -0.3656583696810447,
          -0.40036097875741194,
          -1.9283670925827068,
          -0.0708327897680354,
          1.1470858843451797,
          0.5255863969656889,
          2.068481598216057,
          -0.49383691804073476,
          -1.487171100606758,
          0.4061167279907759,
          -0.8039282604159369,
          -0.6138178483047706,
          -1.9994750228413507,
          -0.004233993427505336,
          -0.49269365124873,
          1.237631824582306,
          -0.2949322231299584,
          2.1918300320617243,
          0.07799139301538806,
          -1.1305133413357529,
          1.0476162128924136,
          0.3538543745858851,
          -0.6868036177964602,
          -0.11308818102274441,
          0.038389249561694566,
          -0.4257780082736259,
          0.30863654237506444,
          -0.9622296623279092,
          -1.4032359603804845,
          0.17011448873309684,
          -0.35102564009368653,
          1.6472531050230457,
          -0.0017095784216665632,
          -0.0802585463635855,
          -0.575165817878663,
          -0.1657590963488005,
          -0.3027385815977633,
          -1.9616424942909296,
          -1.0595263589326296,
          0.28209798325173263,
          -2.0820126828445544,
          1.8275024342636472,
          0.5621274107848366,
          1.2420771711415866,
          0.7722407212744912,
          -0.9751223011313264,
          -1.102383352433531,
          0.4918739774394961,
          0.3487522046764612,
          -1.54710965071441,
          -0.8007558152026161,
          -0.9175078799164796,
          -0.7142573010425983,
          0.07227775378214862,
          0.9006310625650061,
          0.5780860324163493,
          -0.6580487515865606,
          -0.9596497293206537,
          0.9447780056152655,
          0.22755580790266747,
          -0.9266910380099435,
          0.623537292539532,
          1.5961122826254042,
          1.625671033487804,
          0.20979766304248096,
          0.997780750833331,
          -0.2060883820505985,
          -1.0512210349747726,
          -0.5917818884538694,
          0.14740204061721746,
          1.108594612789978,
          -0.7950490675748462,
          1.0228236643021653,
          -0.6954751231068863,
          0.6351958883736164,
          0.5992249242207415,
          -1.1854834697675771,
          -0.9681946986435691,
          1.2351166042413806,
          -0.5123916078822467,
          0.3585394032102082,
          1.4113603363595246,
          -0.41841125808042157,
          -1.113792321118681,
          0.6698608955320294,
          -1.0729019997914118,
          0.7960213296027061,
          0.016233231262760002,
          -0.8170973228582855,
          0.9156937186180036
         ]
        }
       ],
       "layout": {
        "legend": {
         "bgcolor": "#F5F6F9",
         "font": {
          "color": "#4D5663"
         }
        },
        "paper_bgcolor": "#F5F6F9",
        "plot_bgcolor": "#F5F6F9",
        "template": {
         "data": {
          "bar": [
           {
            "error_x": {
             "color": "#2a3f5f"
            },
            "error_y": {
             "color": "#2a3f5f"
            },
            "marker": {
             "line": {
              "color": "#E5ECF6",
              "width": 0.5
             }
            },
            "type": "bar"
           }
          ],
          "barpolar": [
           {
            "marker": {
             "line": {
              "color": "#E5ECF6",
              "width": 0.5
             }
            },
            "type": "barpolar"
           }
          ],
          "carpet": [
           {
            "aaxis": {
             "endlinecolor": "#2a3f5f",
             "gridcolor": "white",
             "linecolor": "white",
             "minorgridcolor": "white",
             "startlinecolor": "#2a3f5f"
            },
            "baxis": {
             "endlinecolor": "#2a3f5f",
             "gridcolor": "white",
             "linecolor": "white",
             "minorgridcolor": "white",
             "startlinecolor": "#2a3f5f"
            },
            "type": "carpet"
           }
          ],
          "choropleth": [
           {
            "colorbar": {
             "outlinewidth": 0,
             "ticks": ""
            },
            "type": "choropleth"
           }
          ],
          "contour": [
           {
            "colorbar": {
             "outlinewidth": 0,
             "ticks": ""
            },
            "colorscale": [
             [
              0,
              "#0d0887"
             ],
             [
              0.1111111111111111,
              "#46039f"
             ],
             [
              0.2222222222222222,
              "#7201a8"
             ],
             [
              0.3333333333333333,
              "#9c179e"
             ],
             [
              0.4444444444444444,
              "#bd3786"
             ],
             [
              0.5555555555555556,
              "#d8576b"
             ],
             [
              0.6666666666666666,
              "#ed7953"
             ],
             [
              0.7777777777777778,
              "#fb9f3a"
             ],
             [
              0.8888888888888888,
              "#fdca26"
             ],
             [
              1,
              "#f0f921"
             ]
            ],
            "type": "contour"
           }
          ],
          "contourcarpet": [
           {
            "colorbar": {
             "outlinewidth": 0,
             "ticks": ""
            },
            "type": "contourcarpet"
           }
          ],
          "heatmap": [
           {
            "colorbar": {
             "outlinewidth": 0,
             "ticks": ""
            },
            "colorscale": [
             [
              0,
              "#0d0887"
             ],
             [
              0.1111111111111111,
              "#46039f"
             ],
             [
              0.2222222222222222,
              "#7201a8"
             ],
             [
              0.3333333333333333,
              "#9c179e"
             ],
             [
              0.4444444444444444,
              "#bd3786"
             ],
             [
              0.5555555555555556,
              "#d8576b"
             ],
             [
              0.6666666666666666,
              "#ed7953"
             ],
             [
              0.7777777777777778,
              "#fb9f3a"
             ],
             [
              0.8888888888888888,
              "#fdca26"
             ],
             [
              1,
              "#f0f921"
             ]
            ],
            "type": "heatmap"
           }
          ],
          "heatmapgl": [
           {
            "colorbar": {
             "outlinewidth": 0,
             "ticks": ""
            },
            "colorscale": [
             [
              0,
              "#0d0887"
             ],
             [
              0.1111111111111111,
              "#46039f"
             ],
             [
              0.2222222222222222,
              "#7201a8"
             ],
             [
              0.3333333333333333,
              "#9c179e"
             ],
             [
              0.4444444444444444,
              "#bd3786"
             ],
             [
              0.5555555555555556,
              "#d8576b"
             ],
             [
              0.6666666666666666,
              "#ed7953"
             ],
             [
              0.7777777777777778,
              "#fb9f3a"
             ],
             [
              0.8888888888888888,
              "#fdca26"
             ],
             [
              1,
              "#f0f921"
             ]
            ],
            "type": "heatmapgl"
           }
          ],
          "histogram": [
           {
            "marker": {
             "colorbar": {
              "outlinewidth": 0,
              "ticks": ""
             }
            },
            "type": "histogram"
           }
          ],
          "histogram2d": [
           {
            "colorbar": {
             "outlinewidth": 0,
             "ticks": ""
            },
            "colorscale": [
             [
              0,
              "#0d0887"
             ],
             [
              0.1111111111111111,
              "#46039f"
             ],
             [
              0.2222222222222222,
              "#7201a8"
             ],
             [
              0.3333333333333333,
              "#9c179e"
             ],
             [
              0.4444444444444444,
              "#bd3786"
             ],
             [
              0.5555555555555556,
              "#d8576b"
             ],
             [
              0.6666666666666666,
              "#ed7953"
             ],
             [
              0.7777777777777778,
              "#fb9f3a"
             ],
             [
              0.8888888888888888,
              "#fdca26"
             ],
             [
              1,
              "#f0f921"
             ]
            ],
            "type": "histogram2d"
           }
          ],
          "histogram2dcontour": [
           {
            "colorbar": {
             "outlinewidth": 0,
             "ticks": ""
            },
            "colorscale": [
             [
              0,
              "#0d0887"
             ],
             [
              0.1111111111111111,
              "#46039f"
             ],
             [
              0.2222222222222222,
              "#7201a8"
             ],
             [
              0.3333333333333333,
              "#9c179e"
             ],
             [
              0.4444444444444444,
              "#bd3786"
             ],
             [
              0.5555555555555556,
              "#d8576b"
             ],
             [
              0.6666666666666666,
              "#ed7953"
             ],
             [
              0.7777777777777778,
              "#fb9f3a"
             ],
             [
              0.8888888888888888,
              "#fdca26"
             ],
             [
              1,
              "#f0f921"
             ]
            ],
            "type": "histogram2dcontour"
           }
          ],
          "mesh3d": [
           {
            "colorbar": {
             "outlinewidth": 0,
             "ticks": ""
            },
            "type": "mesh3d"
           }
          ],
          "parcoords": [
           {
            "line": {
             "colorbar": {
              "outlinewidth": 0,
              "ticks": ""
             }
            },
            "type": "parcoords"
           }
          ],
          "pie": [
           {
            "automargin": true,
            "type": "pie"
           }
          ],
          "scatter": [
           {
            "marker": {
             "colorbar": {
              "outlinewidth": 0,
              "ticks": ""
             }
            },
            "type": "scatter"
           }
          ],
          "scatter3d": [
           {
            "line": {
             "colorbar": {
              "outlinewidth": 0,
              "ticks": ""
             }
            },
            "marker": {
             "colorbar": {
              "outlinewidth": 0,
              "ticks": ""
             }
            },
            "type": "scatter3d"
           }
          ],
          "scattercarpet": [
           {
            "marker": {
             "colorbar": {
              "outlinewidth": 0,
              "ticks": ""
             }
            },
            "type": "scattercarpet"
           }
          ],
          "scattergeo": [
           {
            "marker": {
             "colorbar": {
              "outlinewidth": 0,
              "ticks": ""
             }
            },
            "type": "scattergeo"
           }
          ],
          "scattergl": [
           {
            "marker": {
             "colorbar": {
              "outlinewidth": 0,
              "ticks": ""
             }
            },
            "type": "scattergl"
           }
          ],
          "scattermapbox": [
           {
            "marker": {
             "colorbar": {
              "outlinewidth": 0,
              "ticks": ""
             }
            },
            "type": "scattermapbox"
           }
          ],
          "scatterpolar": [
           {
            "marker": {
             "colorbar": {
              "outlinewidth": 0,
              "ticks": ""
             }
            },
            "type": "scatterpolar"
           }
          ],
          "scatterpolargl": [
           {
            "marker": {
             "colorbar": {
              "outlinewidth": 0,
              "ticks": ""
             }
            },
            "type": "scatterpolargl"
           }
          ],
          "scatterternary": [
           {
            "marker": {
             "colorbar": {
              "outlinewidth": 0,
              "ticks": ""
             }
            },
            "type": "scatterternary"
           }
          ],
          "surface": [
           {
            "colorbar": {
             "outlinewidth": 0,
             "ticks": ""
            },
            "colorscale": [
             [
              0,
              "#0d0887"
             ],
             [
              0.1111111111111111,
              "#46039f"
             ],
             [
              0.2222222222222222,
              "#7201a8"
             ],
             [
              0.3333333333333333,
              "#9c179e"
             ],
             [
              0.4444444444444444,
              "#bd3786"
             ],
             [
              0.5555555555555556,
              "#d8576b"
             ],
             [
              0.6666666666666666,
              "#ed7953"
             ],
             [
              0.7777777777777778,
              "#fb9f3a"
             ],
             [
              0.8888888888888888,
              "#fdca26"
             ],
             [
              1,
              "#f0f921"
             ]
            ],
            "type": "surface"
           }
          ],
          "table": [
           {
            "cells": {
             "fill": {
              "color": "#EBF0F8"
             },
             "line": {
              "color": "white"
             }
            },
            "header": {
             "fill": {
              "color": "#C8D4E3"
             },
             "line": {
              "color": "white"
             }
            },
            "type": "table"
           }
          ]
         },
         "layout": {
          "annotationdefaults": {
           "arrowcolor": "#2a3f5f",
           "arrowhead": 0,
           "arrowwidth": 1
          },
          "autotypenumbers": "strict",
          "coloraxis": {
           "colorbar": {
            "outlinewidth": 0,
            "ticks": ""
           }
          },
          "colorscale": {
           "diverging": [
            [
             0,
             "#8e0152"
            ],
            [
             0.1,
             "#c51b7d"
            ],
            [
             0.2,
             "#de77ae"
            ],
            [
             0.3,
             "#f1b6da"
            ],
            [
             0.4,
             "#fde0ef"
            ],
            [
             0.5,
             "#f7f7f7"
            ],
            [
             0.6,
             "#e6f5d0"
            ],
            [
             0.7,
             "#b8e186"
            ],
            [
             0.8,
             "#7fbc41"
            ],
            [
             0.9,
             "#4d9221"
            ],
            [
             1,
             "#276419"
            ]
           ],
           "sequential": [
            [
             0,
             "#0d0887"
            ],
            [
             0.1111111111111111,
             "#46039f"
            ],
            [
             0.2222222222222222,
             "#7201a8"
            ],
            [
             0.3333333333333333,
             "#9c179e"
            ],
            [
             0.4444444444444444,
             "#bd3786"
            ],
            [
             0.5555555555555556,
             "#d8576b"
            ],
            [
             0.6666666666666666,
             "#ed7953"
            ],
            [
             0.7777777777777778,
             "#fb9f3a"
            ],
            [
             0.8888888888888888,
             "#fdca26"
            ],
            [
             1,
             "#f0f921"
            ]
           ],
           "sequentialminus": [
            [
             0,
             "#0d0887"
            ],
            [
             0.1111111111111111,
             "#46039f"
            ],
            [
             0.2222222222222222,
             "#7201a8"
            ],
            [
             0.3333333333333333,
             "#9c179e"
            ],
            [
             0.4444444444444444,
             "#bd3786"
            ],
            [
             0.5555555555555556,
             "#d8576b"
            ],
            [
             0.6666666666666666,
             "#ed7953"
            ],
            [
             0.7777777777777778,
             "#fb9f3a"
            ],
            [
             0.8888888888888888,
             "#fdca26"
            ],
            [
             1,
             "#f0f921"
            ]
           ]
          },
          "colorway": [
           "#636efa",
           "#EF553B",
           "#00cc96",
           "#ab63fa",
           "#FFA15A",
           "#19d3f3",
           "#FF6692",
           "#B6E880",
           "#FF97FF",
           "#FECB52"
          ],
          "font": {
           "color": "#2a3f5f"
          },
          "geo": {
           "bgcolor": "white",
           "lakecolor": "white",
           "landcolor": "#E5ECF6",
           "showlakes": true,
           "showland": true,
           "subunitcolor": "white"
          },
          "hoverlabel": {
           "align": "left"
          },
          "hovermode": "closest",
          "mapbox": {
           "style": "light"
          },
          "paper_bgcolor": "white",
          "plot_bgcolor": "#E5ECF6",
          "polar": {
           "angularaxis": {
            "gridcolor": "white",
            "linecolor": "white",
            "ticks": ""
           },
           "bgcolor": "#E5ECF6",
           "radialaxis": {
            "gridcolor": "white",
            "linecolor": "white",
            "ticks": ""
           }
          },
          "scene": {
           "xaxis": {
            "backgroundcolor": "#E5ECF6",
            "gridcolor": "white",
            "gridwidth": 2,
            "linecolor": "white",
            "showbackground": true,
            "ticks": "",
            "zerolinecolor": "white"
           },
           "yaxis": {
            "backgroundcolor": "#E5ECF6",
            "gridcolor": "white",
            "gridwidth": 2,
            "linecolor": "white",
            "showbackground": true,
            "ticks": "",
            "zerolinecolor": "white"
           },
           "zaxis": {
            "backgroundcolor": "#E5ECF6",
            "gridcolor": "white",
            "gridwidth": 2,
            "linecolor": "white",
            "showbackground": true,
            "ticks": "",
            "zerolinecolor": "white"
           }
          },
          "shapedefaults": {
           "line": {
            "color": "#2a3f5f"
           }
          },
          "ternary": {
           "aaxis": {
            "gridcolor": "white",
            "linecolor": "white",
            "ticks": ""
           },
           "baxis": {
            "gridcolor": "white",
            "linecolor": "white",
            "ticks": ""
           },
           "bgcolor": "#E5ECF6",
           "caxis": {
            "gridcolor": "white",
            "linecolor": "white",
            "ticks": ""
           }
          },
          "title": {
           "x": 0.05
          },
          "xaxis": {
           "automargin": true,
           "gridcolor": "white",
           "linecolor": "white",
           "ticks": "",
           "title": {
            "standoff": 15
           },
           "zerolinecolor": "white",
           "zerolinewidth": 2
          },
          "yaxis": {
           "automargin": true,
           "gridcolor": "white",
           "linecolor": "white",
           "ticks": "",
           "title": {
            "standoff": 15
           },
           "zerolinecolor": "white",
           "zerolinewidth": 2
          }
         }
        },
        "title": {
         "font": {
          "color": "#4D5663"
         }
        },
        "xaxis": {
         "gridcolor": "#E1E5ED",
         "showgrid": true,
         "tickfont": {
          "color": "#4D5663"
         },
         "title": {
          "font": {
           "color": "#4D5663"
          },
          "text": ""
         },
         "zerolinecolor": "#E1E5ED"
        },
        "yaxis": {
         "gridcolor": "#E1E5ED",
         "showgrid": true,
         "tickfont": {
          "color": "#4D5663"
         },
         "title": {
          "font": {
           "color": "#4D5663"
          },
          "text": ""
         },
         "zerolinecolor": "#E1E5ED"
        }
       }
      },
      "text/html": [
       "<div>                            <div id=\"1b59e39e-45ca-4d50-897e-f0afbc770a5d\" class=\"plotly-graph-div\" style=\"height:525px; width:100%;\"></div>            <script type=\"text/javascript\">                require([\"plotly\"], function(Plotly) {                    window.PLOTLYENV=window.PLOTLYENV || {};\n",
       "                    window.PLOTLYENV.BASE_URL='https://plot.ly';                                    if (document.getElementById(\"1b59e39e-45ca-4d50-897e-f0afbc770a5d\")) {                    Plotly.newPlot(                        \"1b59e39e-45ca-4d50-897e-f0afbc770a5d\",                        [{\"marker\": {\"color\": [\"rgb(255, 153, 51)\", \"rgb(55, 128, 191)\", \"rgb(50, 171, 96)\", \"rgb(128, 0, 128)\", \"rgb(219, 64, 82)\", \"rgb(0, 128, 128)\", \"rgb(255, 255, 51)\", \"rgb(128, 128, 0)\", \"rgb(251, 128, 114)\", \"rgb(128, 177, 211)\"], \"line\": {\"width\": 1.3}, \"size\": [88, 83, 36, 60, 51, 60, 53, 34, 66, 50, 30, 54, 83, 54, 33, 71, 75, 83, 55, 105, 36, 44, 61, 56, 32, 63, 35, 108, 78, 55, 32, 63, 74, 27, 55, 67, 52, 43, 12, 87, 93, 40, 58, 64, 86, 81, 46, 93, 42, 22, 50, 72, 36, 112, 32, 81, 27, 18, 51, 28, 88, 48, 85, 88, 78, 79, 90, 59, 75, 55, 95, 32, 52, 35, 46, 50, 44, 57, 64, 79, 79, 111, 78, 61, 107, 41, 65, 34, 84, 57, 50, 90, 42, 28, 80, 58, 47, 36, 48, 90], \"symbol\": \"circle\"}, \"mode\": \"markers\", \"text\": \"\", \"type\": \"scatter\", \"x\": [-0.19413006811794645, 1.6873452436372878, -0.06033814051572481, 1.127241606699178, 0.4249481578883776, -0.474771738742198, 0.698211057555185, 2.3585197847599058, 0.2525076034946605, -1.0036563379066212, 0.6536456432532819, -0.49369169397422796, -0.040726414634479166, -1.2885506743387969, -0.6020672152154837, -0.3648634665112078, 0.8550055279946877, -0.17651701401783582, -0.19397655363332744, -0.5974369876080038, 1.0008277559296812, 1.3800382984728465, 1.842995649951157, -0.3934532452291988, 1.775188837143746, -0.10482980330404865, 1.4332963698722747, 2.104609929509668, -1.3107212075382997, -1.4251183393240168, -1.7439730133074343, 0.13983069925649397, -0.1489846483553503, 1.2371640170336395, 1.4546617303712968, -1.9221666452059851, 1.1196152585742165, -1.5414060431672485, 0.23091464060285513, -0.1795998073426502, 0.3568798660024454, 0.07031144664084961, -0.2847388574307799, -2.0255021671344045, -0.8162924399503177, -1.1554189247537237, 0.3272815669839693, 1.2433458954860341, -0.8592310438158935, -0.12255589607043708, -2.9330462306596297, 0.825075419527729, -1.3838364250794792, 0.47002291759059917, 0.16019366964864235, -0.6695497233597274, 0.6571492065201427, -1.0362928866265888, 0.6000371947768279, -1.0852365770917878, 0.6699417739632818, -0.7799693098199959, -2.0855814299603646, -0.44145574032885965, -1.2931539005533357, 0.2526285871877972, 0.43845672549827974, -2.308093329442031, -1.0337271695209675, -1.3010430922089382, -0.7449131497770748, 1.2401792295516962, 0.6122413017452012, 0.8534369987201077, 1.312831009581544, 1.662951815482871, -0.3316120266169116, 1.743694974660214, -0.13013299703260145, -0.29376058235490393, -1.0956253739601314, -0.8838304978530539, -1.8595140265346404, 0.9873673295542541, -1.169455618514835, -1.3958825951619405, 0.934004187216018, 0.5383689930416583, 0.8591407374766785, -0.720859277854418, 0.42481480563062385, 0.853917076970644, -0.49934487596276067, -1.3070911630905448, -0.48970691464979793, -0.4844952353948526, -0.5719609784077725, -1.1871246172535055, 1.3930489740217789, 1.0687185676705941], \"y\": [-1.3611066114771493, -0.9404925242020148, 1.3722116473992234, 1.7322354728534157, -0.30694083887020157, 1.309104354467893, 0.5167954353662241, 1.6441571752434938, -0.4134000317423506, 0.5862823464153141, -0.3656583696810447, -0.40036097875741194, -1.9283670925827068, -0.0708327897680354, 1.1470858843451797, 0.5255863969656889, 2.068481598216057, -0.49383691804073476, -1.487171100606758, 0.4061167279907759, -0.8039282604159369, -0.6138178483047706, -1.9994750228413507, -0.004233993427505336, -0.49269365124873, 1.237631824582306, -0.2949322231299584, 2.1918300320617243, 0.07799139301538806, -1.1305133413357529, 1.0476162128924136, 0.3538543745858851, -0.6868036177964602, -0.11308818102274441, 0.038389249561694566, -0.4257780082736259, 0.30863654237506444, -0.9622296623279092, -1.4032359603804845, 0.17011448873309684, -0.35102564009368653, 1.6472531050230457, -0.0017095784216665632, -0.0802585463635855, -0.575165817878663, -0.1657590963488005, -0.3027385815977633, -1.9616424942909296, -1.0595263589326296, 0.28209798325173263, -2.0820126828445544, 1.8275024342636472, 0.5621274107848366, 1.2420771711415866, 0.7722407212744912, -0.9751223011313264, -1.102383352433531, 0.4918739774394961, 0.3487522046764612, -1.54710965071441, -0.8007558152026161, -0.9175078799164796, -0.7142573010425983, 0.07227775378214862, 0.9006310625650061, 0.5780860324163493, -0.6580487515865606, -0.9596497293206537, 0.9447780056152655, 0.22755580790266747, -0.9266910380099435, 0.623537292539532, 1.5961122826254042, 1.625671033487804, 0.20979766304248096, 0.997780750833331, -0.2060883820505985, -1.0512210349747726, -0.5917818884538694, 0.14740204061721746, 1.108594612789978, -0.7950490675748462, 1.0228236643021653, -0.6954751231068863, 0.6351958883736164, 0.5992249242207415, -1.1854834697675771, -0.9681946986435691, 1.2351166042413806, -0.5123916078822467, 0.3585394032102082, 1.4113603363595246, -0.41841125808042157, -1.113792321118681, 0.6698608955320294, -1.0729019997914118, 0.7960213296027061, 0.016233231262760002, -0.8170973228582855, 0.9156937186180036]}],                        {\"legend\": {\"bgcolor\": \"#F5F6F9\", \"font\": {\"color\": \"#4D5663\"}}, \"paper_bgcolor\": \"#F5F6F9\", \"plot_bgcolor\": \"#F5F6F9\", \"template\": {\"data\": {\"bar\": [{\"error_x\": {\"color\": \"#2a3f5f\"}, \"error_y\": {\"color\": \"#2a3f5f\"}, \"marker\": {\"line\": {\"color\": \"#E5ECF6\", \"width\": 0.5}}, \"type\": \"bar\"}], \"barpolar\": [{\"marker\": {\"line\": {\"color\": \"#E5ECF6\", \"width\": 0.5}}, \"type\": \"barpolar\"}], \"carpet\": [{\"aaxis\": {\"endlinecolor\": \"#2a3f5f\", \"gridcolor\": \"white\", \"linecolor\": \"white\", \"minorgridcolor\": \"white\", \"startlinecolor\": \"#2a3f5f\"}, \"baxis\": {\"endlinecolor\": \"#2a3f5f\", \"gridcolor\": \"white\", \"linecolor\": \"white\", \"minorgridcolor\": \"white\", \"startlinecolor\": \"#2a3f5f\"}, \"type\": \"carpet\"}], \"choropleth\": [{\"colorbar\": {\"outlinewidth\": 0, \"ticks\": \"\"}, \"type\": \"choropleth\"}], \"contour\": [{\"colorbar\": {\"outlinewidth\": 0, \"ticks\": \"\"}, \"colorscale\": [[0.0, \"#0d0887\"], [0.1111111111111111, \"#46039f\"], [0.2222222222222222, \"#7201a8\"], [0.3333333333333333, \"#9c179e\"], [0.4444444444444444, \"#bd3786\"], [0.5555555555555556, \"#d8576b\"], [0.6666666666666666, \"#ed7953\"], [0.7777777777777778, \"#fb9f3a\"], [0.8888888888888888, \"#fdca26\"], [1.0, \"#f0f921\"]], \"type\": \"contour\"}], \"contourcarpet\": [{\"colorbar\": {\"outlinewidth\": 0, \"ticks\": \"\"}, \"type\": \"contourcarpet\"}], \"heatmap\": [{\"colorbar\": {\"outlinewidth\": 0, \"ticks\": \"\"}, \"colorscale\": [[0.0, \"#0d0887\"], [0.1111111111111111, \"#46039f\"], [0.2222222222222222, \"#7201a8\"], [0.3333333333333333, \"#9c179e\"], [0.4444444444444444, \"#bd3786\"], [0.5555555555555556, \"#d8576b\"], [0.6666666666666666, \"#ed7953\"], [0.7777777777777778, \"#fb9f3a\"], [0.8888888888888888, \"#fdca26\"], [1.0, \"#f0f921\"]], \"type\": \"heatmap\"}], \"heatmapgl\": [{\"colorbar\": {\"outlinewidth\": 0, \"ticks\": \"\"}, \"colorscale\": [[0.0, \"#0d0887\"], [0.1111111111111111, \"#46039f\"], [0.2222222222222222, \"#7201a8\"], [0.3333333333333333, \"#9c179e\"], [0.4444444444444444, \"#bd3786\"], [0.5555555555555556, \"#d8576b\"], [0.6666666666666666, \"#ed7953\"], [0.7777777777777778, \"#fb9f3a\"], [0.8888888888888888, \"#fdca26\"], [1.0, \"#f0f921\"]], \"type\": \"heatmapgl\"}], \"histogram\": [{\"marker\": {\"colorbar\": {\"outlinewidth\": 0, \"ticks\": \"\"}}, \"type\": \"histogram\"}], \"histogram2d\": [{\"colorbar\": {\"outlinewidth\": 0, \"ticks\": \"\"}, \"colorscale\": [[0.0, \"#0d0887\"], [0.1111111111111111, \"#46039f\"], [0.2222222222222222, \"#7201a8\"], [0.3333333333333333, \"#9c179e\"], [0.4444444444444444, \"#bd3786\"], [0.5555555555555556, \"#d8576b\"], [0.6666666666666666, \"#ed7953\"], [0.7777777777777778, \"#fb9f3a\"], [0.8888888888888888, \"#fdca26\"], [1.0, \"#f0f921\"]], \"type\": \"histogram2d\"}], \"histogram2dcontour\": [{\"colorbar\": {\"outlinewidth\": 0, \"ticks\": \"\"}, \"colorscale\": [[0.0, \"#0d0887\"], [0.1111111111111111, \"#46039f\"], [0.2222222222222222, \"#7201a8\"], [0.3333333333333333, \"#9c179e\"], [0.4444444444444444, \"#bd3786\"], [0.5555555555555556, \"#d8576b\"], [0.6666666666666666, \"#ed7953\"], [0.7777777777777778, \"#fb9f3a\"], [0.8888888888888888, \"#fdca26\"], [1.0, \"#f0f921\"]], \"type\": \"histogram2dcontour\"}], \"mesh3d\": [{\"colorbar\": {\"outlinewidth\": 0, \"ticks\": \"\"}, \"type\": \"mesh3d\"}], \"parcoords\": [{\"line\": {\"colorbar\": {\"outlinewidth\": 0, \"ticks\": \"\"}}, \"type\": \"parcoords\"}], \"pie\": [{\"automargin\": true, \"type\": \"pie\"}], \"scatter\": [{\"marker\": {\"colorbar\": {\"outlinewidth\": 0, \"ticks\": \"\"}}, \"type\": \"scatter\"}], \"scatter3d\": [{\"line\": {\"colorbar\": {\"outlinewidth\": 0, \"ticks\": \"\"}}, \"marker\": {\"colorbar\": {\"outlinewidth\": 0, \"ticks\": \"\"}}, \"type\": \"scatter3d\"}], \"scattercarpet\": [{\"marker\": {\"colorbar\": {\"outlinewidth\": 0, \"ticks\": \"\"}}, \"type\": \"scattercarpet\"}], \"scattergeo\": [{\"marker\": {\"colorbar\": {\"outlinewidth\": 0, \"ticks\": \"\"}}, \"type\": \"scattergeo\"}], \"scattergl\": [{\"marker\": {\"colorbar\": {\"outlinewidth\": 0, \"ticks\": \"\"}}, \"type\": \"scattergl\"}], \"scattermapbox\": [{\"marker\": {\"colorbar\": {\"outlinewidth\": 0, \"ticks\": \"\"}}, \"type\": \"scattermapbox\"}], \"scatterpolar\": [{\"marker\": {\"colorbar\": {\"outlinewidth\": 0, \"ticks\": \"\"}}, \"type\": \"scatterpolar\"}], \"scatterpolargl\": [{\"marker\": {\"colorbar\": {\"outlinewidth\": 0, \"ticks\": \"\"}}, \"type\": \"scatterpolargl\"}], \"scatterternary\": [{\"marker\": {\"colorbar\": {\"outlinewidth\": 0, \"ticks\": \"\"}}, \"type\": \"scatterternary\"}], \"surface\": [{\"colorbar\": {\"outlinewidth\": 0, \"ticks\": \"\"}, \"colorscale\": [[0.0, \"#0d0887\"], [0.1111111111111111, \"#46039f\"], [0.2222222222222222, \"#7201a8\"], [0.3333333333333333, \"#9c179e\"], [0.4444444444444444, \"#bd3786\"], [0.5555555555555556, \"#d8576b\"], [0.6666666666666666, \"#ed7953\"], [0.7777777777777778, \"#fb9f3a\"], [0.8888888888888888, \"#fdca26\"], [1.0, \"#f0f921\"]], \"type\": \"surface\"}], \"table\": [{\"cells\": {\"fill\": {\"color\": \"#EBF0F8\"}, \"line\": {\"color\": \"white\"}}, \"header\": {\"fill\": {\"color\": \"#C8D4E3\"}, \"line\": {\"color\": \"white\"}}, \"type\": \"table\"}]}, \"layout\": {\"annotationdefaults\": {\"arrowcolor\": \"#2a3f5f\", \"arrowhead\": 0, \"arrowwidth\": 1}, \"autotypenumbers\": \"strict\", \"coloraxis\": {\"colorbar\": {\"outlinewidth\": 0, \"ticks\": \"\"}}, \"colorscale\": {\"diverging\": [[0, \"#8e0152\"], [0.1, \"#c51b7d\"], [0.2, \"#de77ae\"], [0.3, \"#f1b6da\"], [0.4, \"#fde0ef\"], [0.5, \"#f7f7f7\"], [0.6, \"#e6f5d0\"], [0.7, \"#b8e186\"], [0.8, \"#7fbc41\"], [0.9, \"#4d9221\"], [1, \"#276419\"]], \"sequential\": [[0.0, \"#0d0887\"], [0.1111111111111111, \"#46039f\"], [0.2222222222222222, \"#7201a8\"], [0.3333333333333333, \"#9c179e\"], [0.4444444444444444, \"#bd3786\"], [0.5555555555555556, \"#d8576b\"], [0.6666666666666666, \"#ed7953\"], [0.7777777777777778, \"#fb9f3a\"], [0.8888888888888888, \"#fdca26\"], [1.0, \"#f0f921\"]], \"sequentialminus\": [[0.0, \"#0d0887\"], [0.1111111111111111, \"#46039f\"], [0.2222222222222222, \"#7201a8\"], [0.3333333333333333, \"#9c179e\"], [0.4444444444444444, \"#bd3786\"], [0.5555555555555556, \"#d8576b\"], [0.6666666666666666, \"#ed7953\"], [0.7777777777777778, \"#fb9f3a\"], [0.8888888888888888, \"#fdca26\"], [1.0, \"#f0f921\"]]}, \"colorway\": [\"#636efa\", \"#EF553B\", \"#00cc96\", \"#ab63fa\", \"#FFA15A\", \"#19d3f3\", \"#FF6692\", \"#B6E880\", \"#FF97FF\", \"#FECB52\"], \"font\": {\"color\": \"#2a3f5f\"}, \"geo\": {\"bgcolor\": \"white\", \"lakecolor\": \"white\", \"landcolor\": \"#E5ECF6\", \"showlakes\": true, \"showland\": true, \"subunitcolor\": \"white\"}, \"hoverlabel\": {\"align\": \"left\"}, \"hovermode\": \"closest\", \"mapbox\": {\"style\": \"light\"}, \"paper_bgcolor\": \"white\", \"plot_bgcolor\": \"#E5ECF6\", \"polar\": {\"angularaxis\": {\"gridcolor\": \"white\", \"linecolor\": \"white\", \"ticks\": \"\"}, \"bgcolor\": \"#E5ECF6\", \"radialaxis\": {\"gridcolor\": \"white\", \"linecolor\": \"white\", \"ticks\": \"\"}}, \"scene\": {\"xaxis\": {\"backgroundcolor\": \"#E5ECF6\", \"gridcolor\": \"white\", \"gridwidth\": 2, \"linecolor\": \"white\", \"showbackground\": true, \"ticks\": \"\", \"zerolinecolor\": \"white\"}, \"yaxis\": {\"backgroundcolor\": \"#E5ECF6\", \"gridcolor\": \"white\", \"gridwidth\": 2, \"linecolor\": \"white\", \"showbackground\": true, \"ticks\": \"\", \"zerolinecolor\": \"white\"}, \"zaxis\": {\"backgroundcolor\": \"#E5ECF6\", \"gridcolor\": \"white\", \"gridwidth\": 2, \"linecolor\": \"white\", \"showbackground\": true, \"ticks\": \"\", \"zerolinecolor\": \"white\"}}, \"shapedefaults\": {\"line\": {\"color\": \"#2a3f5f\"}}, \"ternary\": {\"aaxis\": {\"gridcolor\": \"white\", \"linecolor\": \"white\", \"ticks\": \"\"}, \"baxis\": {\"gridcolor\": \"white\", \"linecolor\": \"white\", \"ticks\": \"\"}, \"bgcolor\": \"#E5ECF6\", \"caxis\": {\"gridcolor\": \"white\", \"linecolor\": \"white\", \"ticks\": \"\"}}, \"title\": {\"x\": 0.05}, \"xaxis\": {\"automargin\": true, \"gridcolor\": \"white\", \"linecolor\": \"white\", \"ticks\": \"\", \"title\": {\"standoff\": 15}, \"zerolinecolor\": \"white\", \"zerolinewidth\": 2}, \"yaxis\": {\"automargin\": true, \"gridcolor\": \"white\", \"linecolor\": \"white\", \"ticks\": \"\", \"title\": {\"standoff\": 15}, \"zerolinecolor\": \"white\", \"zerolinewidth\": 2}}}, \"title\": {\"font\": {\"color\": \"#4D5663\"}}, \"xaxis\": {\"gridcolor\": \"#E1E5ED\", \"showgrid\": true, \"tickfont\": {\"color\": \"#4D5663\"}, \"title\": {\"font\": {\"color\": \"#4D5663\"}, \"text\": \"\"}, \"zerolinecolor\": \"#E1E5ED\"}, \"yaxis\": {\"gridcolor\": \"#E1E5ED\", \"showgrid\": true, \"tickfont\": {\"color\": \"#4D5663\"}, \"title\": {\"font\": {\"color\": \"#4D5663\"}, \"text\": \"\"}, \"zerolinecolor\": \"#E1E5ED\"}},                        {\"showLink\": true, \"linkText\": \"Export to plot.ly\", \"plotlyServerURL\": \"https://plot.ly\", \"responsive\": true}                    ).then(function(){\n",
       "                            \n",
       "var gd = document.getElementById('1b59e39e-45ca-4d50-897e-f0afbc770a5d');\n",
       "var x = new MutationObserver(function (mutations, observer) {{\n",
       "        var display = window.getComputedStyle(gd).display;\n",
       "        if (!display || display === 'none') {{\n",
       "            console.log([gd, 'removed!']);\n",
       "            Plotly.purge(gd);\n",
       "            observer.disconnect();\n",
       "        }}\n",
       "}});\n",
       "\n",
       "// Listen for the removal of the full notebook cells\n",
       "var notebookContainer = gd.closest('#notebook-container');\n",
       "if (notebookContainer) {{\n",
       "    x.observe(notebookContainer, {childList: true});\n",
       "}}\n",
       "\n",
       "// Listen for the clearing of the current output cell\n",
       "var outputEl = gd.closest('.output');\n",
       "if (outputEl) {{\n",
       "    x.observe(outputEl, {childList: true});\n",
       "}}\n",
       "\n",
       "                        })                };                });            </script>        </div>"
      ]
     },
     "metadata": {},
     "output_type": "display_data"
    }
   ],
   "source": [
    "df.iplot(kind='bubble',x='A',y='B',size='C')"
   ]
  },
  {
   "cell_type": "markdown",
   "metadata": {},
   "source": [
    "## scatter_matrix()\n",
    "\n",
    "Similar to sns.pairplot()"
   ]
  },
  {
   "cell_type": "code",
   "execution_count": 20,
   "metadata": {},
   "outputs": [
    {
     "data": {
      "application/vnd.plotly.v1+json": {
       "config": {
        "linkText": "Export to plot.ly",
        "plotlyServerURL": "https://plot.ly",
        "showLink": true
       },
       "data": [
        {
         "histfunc": "count",
         "histnorm": "",
         "marker": {
          "color": "rgba(255, 153, 51, 1.0)",
          "line": {
           "color": "#4D5663",
           "width": 1.3
          }
         },
         "name": "A",
         "nbinsx": 10,
         "opacity": 0.8,
         "orientation": "v",
         "type": "histogram",
         "x": [
          -0.19413006811794645,
          1.6873452436372878,
          -0.06033814051572481,
          1.127241606699178,
          0.4249481578883776,
          -0.474771738742198,
          0.698211057555185,
          2.3585197847599058,
          0.2525076034946605,
          -1.0036563379066212,
          0.6536456432532819,
          -0.49369169397422796,
          -0.040726414634479166,
          -1.2885506743387969,
          -0.6020672152154837,
          -0.3648634665112078,
          0.8550055279946877,
          -0.17651701401783582,
          -0.19397655363332744,
          -0.5974369876080038,
          1.0008277559296812,
          1.3800382984728465,
          1.842995649951157,
          -0.3934532452291988,
          1.775188837143746,
          -0.10482980330404865,
          1.4332963698722747,
          2.104609929509668,
          -1.3107212075382997,
          -1.4251183393240168,
          -1.7439730133074343,
          0.13983069925649397,
          -0.1489846483553503,
          1.2371640170336395,
          1.4546617303712968,
          -1.9221666452059851,
          1.1196152585742165,
          -1.5414060431672485,
          0.23091464060285513,
          -0.1795998073426502,
          0.3568798660024454,
          0.07031144664084961,
          -0.2847388574307799,
          -2.0255021671344045,
          -0.8162924399503177,
          -1.1554189247537237,
          0.3272815669839693,
          1.2433458954860341,
          -0.8592310438158935,
          -0.12255589607043708,
          -2.9330462306596297,
          0.825075419527729,
          -1.3838364250794792,
          0.47002291759059917,
          0.16019366964864235,
          -0.6695497233597274,
          0.6571492065201427,
          -1.0362928866265888,
          0.6000371947768279,
          -1.0852365770917878,
          0.6699417739632818,
          -0.7799693098199959,
          -2.0855814299603646,
          -0.44145574032885965,
          -1.2931539005533357,
          0.2526285871877972,
          0.43845672549827974,
          -2.308093329442031,
          -1.0337271695209675,
          -1.3010430922089382,
          -0.7449131497770748,
          1.2401792295516962,
          0.6122413017452012,
          0.8534369987201077,
          1.312831009581544,
          1.662951815482871,
          -0.3316120266169116,
          1.743694974660214,
          -0.13013299703260145,
          -0.29376058235490393,
          -1.0956253739601314,
          -0.8838304978530539,
          -1.8595140265346404,
          0.9873673295542541,
          -1.169455618514835,
          -1.3958825951619405,
          0.934004187216018,
          0.5383689930416583,
          0.8591407374766785,
          -0.720859277854418,
          0.42481480563062385,
          0.853917076970644,
          -0.49934487596276067,
          -1.3070911630905448,
          -0.48970691464979793,
          -0.4844952353948526,
          -0.5719609784077725,
          -1.1871246172535055,
          1.3930489740217789,
          1.0687185676705941
         ],
         "xaxis": "x",
         "yaxis": "y"
        },
        {
         "line": {
          "color": "rgba(128, 128, 128, 1.0)",
          "dash": "solid",
          "shape": "linear",
          "width": 1.3
         },
         "marker": {
          "size": 2,
          "symbol": "circle"
         },
         "mode": "markers",
         "name": "A",
         "text": "",
         "type": "scatter",
         "x": [
          -1.3611066114771493,
          -0.9404925242020148,
          1.3722116473992234,
          1.7322354728534157,
          -0.30694083887020157,
          1.309104354467893,
          0.5167954353662241,
          1.6441571752434938,
          -0.4134000317423506,
          0.5862823464153141,
          -0.3656583696810447,
          -0.40036097875741194,
          -1.9283670925827068,
          -0.0708327897680354,
          1.1470858843451797,
          0.5255863969656889,
          2.068481598216057,
          -0.49383691804073476,
          -1.487171100606758,
          0.4061167279907759,
          -0.8039282604159369,
          -0.6138178483047706,
          -1.9994750228413507,
          -0.004233993427505336,
          -0.49269365124873,
          1.237631824582306,
          -0.2949322231299584,
          2.1918300320617243,
          0.07799139301538806,
          -1.1305133413357529,
          1.0476162128924136,
          0.3538543745858851,
          -0.6868036177964602,
          -0.11308818102274441,
          0.038389249561694566,
          -0.4257780082736259,
          0.30863654237506444,
          -0.9622296623279092,
          -1.4032359603804845,
          0.17011448873309684,
          -0.35102564009368653,
          1.6472531050230457,
          -0.0017095784216665632,
          -0.0802585463635855,
          -0.575165817878663,
          -0.1657590963488005,
          -0.3027385815977633,
          -1.9616424942909296,
          -1.0595263589326296,
          0.28209798325173263,
          -2.0820126828445544,
          1.8275024342636472,
          0.5621274107848366,
          1.2420771711415866,
          0.7722407212744912,
          -0.9751223011313264,
          -1.102383352433531,
          0.4918739774394961,
          0.3487522046764612,
          -1.54710965071441,
          -0.8007558152026161,
          -0.9175078799164796,
          -0.7142573010425983,
          0.07227775378214862,
          0.9006310625650061,
          0.5780860324163493,
          -0.6580487515865606,
          -0.9596497293206537,
          0.9447780056152655,
          0.22755580790266747,
          -0.9266910380099435,
          0.623537292539532,
          1.5961122826254042,
          1.625671033487804,
          0.20979766304248096,
          0.997780750833331,
          -0.2060883820505985,
          -1.0512210349747726,
          -0.5917818884538694,
          0.14740204061721746,
          1.108594612789978,
          -0.7950490675748462,
          1.0228236643021653,
          -0.6954751231068863,
          0.6351958883736164,
          0.5992249242207415,
          -1.1854834697675771,
          -0.9681946986435691,
          1.2351166042413806,
          -0.5123916078822467,
          0.3585394032102082,
          1.4113603363595246,
          -0.41841125808042157,
          -1.113792321118681,
          0.6698608955320294,
          -1.0729019997914118,
          0.7960213296027061,
          0.016233231262760002,
          -0.8170973228582855,
          0.9156937186180036
         ],
         "xaxis": "x2",
         "y": [
          -0.19413006811794645,
          1.6873452436372878,
          -0.06033814051572481,
          1.127241606699178,
          0.4249481578883776,
          -0.474771738742198,
          0.698211057555185,
          2.3585197847599058,
          0.2525076034946605,
          -1.0036563379066212,
          0.6536456432532819,
          -0.49369169397422796,
          -0.040726414634479166,
          -1.2885506743387969,
          -0.6020672152154837,
          -0.3648634665112078,
          0.8550055279946877,
          -0.17651701401783582,
          -0.19397655363332744,
          -0.5974369876080038,
          1.0008277559296812,
          1.3800382984728465,
          1.842995649951157,
          -0.3934532452291988,
          1.775188837143746,
          -0.10482980330404865,
          1.4332963698722747,
          2.104609929509668,
          -1.3107212075382997,
          -1.4251183393240168,
          -1.7439730133074343,
          0.13983069925649397,
          -0.1489846483553503,
          1.2371640170336395,
          1.4546617303712968,
          -1.9221666452059851,
          1.1196152585742165,
          -1.5414060431672485,
          0.23091464060285513,
          -0.1795998073426502,
          0.3568798660024454,
          0.07031144664084961,
          -0.2847388574307799,
          -2.0255021671344045,
          -0.8162924399503177,
          -1.1554189247537237,
          0.3272815669839693,
          1.2433458954860341,
          -0.8592310438158935,
          -0.12255589607043708,
          -2.9330462306596297,
          0.825075419527729,
          -1.3838364250794792,
          0.47002291759059917,
          0.16019366964864235,
          -0.6695497233597274,
          0.6571492065201427,
          -1.0362928866265888,
          0.6000371947768279,
          -1.0852365770917878,
          0.6699417739632818,
          -0.7799693098199959,
          -2.0855814299603646,
          -0.44145574032885965,
          -1.2931539005533357,
          0.2526285871877972,
          0.43845672549827974,
          -2.308093329442031,
          -1.0337271695209675,
          -1.3010430922089382,
          -0.7449131497770748,
          1.2401792295516962,
          0.6122413017452012,
          0.8534369987201077,
          1.312831009581544,
          1.662951815482871,
          -0.3316120266169116,
          1.743694974660214,
          -0.13013299703260145,
          -0.29376058235490393,
          -1.0956253739601314,
          -0.8838304978530539,
          -1.8595140265346404,
          0.9873673295542541,
          -1.169455618514835,
          -1.3958825951619405,
          0.934004187216018,
          0.5383689930416583,
          0.8591407374766785,
          -0.720859277854418,
          0.42481480563062385,
          0.853917076970644,
          -0.49934487596276067,
          -1.3070911630905448,
          -0.48970691464979793,
          -0.4844952353948526,
          -0.5719609784077725,
          -1.1871246172535055,
          1.3930489740217789,
          1.0687185676705941
         ],
         "yaxis": "y2"
        },
        {
         "line": {
          "color": "rgba(128, 128, 128, 1.0)",
          "dash": "solid",
          "shape": "linear",
          "width": 1.3
         },
         "marker": {
          "size": 2,
          "symbol": "circle"
         },
         "mode": "markers",
         "name": "A",
         "text": "",
         "type": "scatter",
         "x": [
          1.1140000563102914,
          0.9179111192891231,
          -1.188893946688415,
          -0.13114065312801368,
          -0.5073065118302527,
          -0.09311221148029948,
          -0.40309858035619506,
          -1.2941013357609827,
          0.1522616172187679,
          -0.5686042910003242,
          -1.4286613086018733,
          -0.3781713795523727,
          0.9331227361823387,
          -0.37323223165875363,
          -1.2944234062713793,
          0.37687384815416897,
          0.5383864472562093,
          0.9195673961256198,
          -0.3235223820041577,
          1.8727485081926467,
          -1.1795816875266778,
          -0.8449949840723888,
          -0.08170021400646502,
          -0.286192565615934,
          -1.3748756883851165,
          0.010926462554086724,
          -1.2328496843628618,
          2.0348838456214176,
          0.7000633511884815,
          -0.35531942399480254,
          -1.3406610705744013,
          0.01864999286216511,
          0.5094391286396842,
          -1.5836916726094383,
          -0.3451019978525569,
          0.20728312534209858,
          -0.47075281728892493,
          -0.8495495198337799,
          -2.27462312634757,
          1.079188580241099,
          1.3734873349909233,
          -0.9887079292764147,
          -0.19846970539638176,
          0.05555537080006787,
          1.0484174095692995,
          0.8413944546834128,
          -0.7442255295790747,
          1.35177853019317,
          -0.9227955558679611,
          -1.7848428894509274,
          -0.5376159353749289,
          0.42513207851628615,
          -1.1757641125658604,
          2.181435776931965,
          -1.3438381707387712,
          0.8337444045407011,
          -1.5632258506764016,
          -2.005299736675884,
          -0.512145200699896,
          -1.53512757582114,
          1.1256314278115334,
          -0.6368906250105119,
          1.012714720029981,
          1.14227675351933,
          0.6768707978526404,
          0.7408747509514002,
          1.208987844444804,
          -0.1696233626484463,
          0.533747518286306,
          -0.3238050911571481,
          1.4373066693923289,
          -1.3749462604913611,
          -0.47634446509526457,
          -1.2352209629271114,
          -0.7201741134971659,
          -0.5644507478376956,
          -0.8185475418091991,
          -0.2373988288623339,
          0.0525329787130495,
          0.7152312336106041,
          0.7515669310370038,
          2.1725115233636845,
          0.6709486950696367,
          -0.061786962023700744,
          1.99790878884932,
          -0.950474140726602,
          0.10347883137981151,
          -1.2619653553943295,
          0.9560693039796121,
          -0.24808316128268526,
          -0.5646307550129808,
          1.2111527593269058,
          -0.9052042719227168,
          -1.5476361898746265,
          0.7908770935839322,
          -0.19067333565555433,
          -0.696414490205117,
          -1.2008177650951006,
          -0.6279644058254207,
          1.2065146144924799
         ],
         "xaxis": "x3",
         "y": [
          -0.19413006811794645,
          1.6873452436372878,
          -0.06033814051572481,
          1.127241606699178,
          0.4249481578883776,
          -0.474771738742198,
          0.698211057555185,
          2.3585197847599058,
          0.2525076034946605,
          -1.0036563379066212,
          0.6536456432532819,
          -0.49369169397422796,
          -0.040726414634479166,
          -1.2885506743387969,
          -0.6020672152154837,
          -0.3648634665112078,
          0.8550055279946877,
          -0.17651701401783582,
          -0.19397655363332744,
          -0.5974369876080038,
          1.0008277559296812,
          1.3800382984728465,
          1.842995649951157,
          -0.3934532452291988,
          1.775188837143746,
          -0.10482980330404865,
          1.4332963698722747,
          2.104609929509668,
          -1.3107212075382997,
          -1.4251183393240168,
          -1.7439730133074343,
          0.13983069925649397,
          -0.1489846483553503,
          1.2371640170336395,
          1.4546617303712968,
          -1.9221666452059851,
          1.1196152585742165,
          -1.5414060431672485,
          0.23091464060285513,
          -0.1795998073426502,
          0.3568798660024454,
          0.07031144664084961,
          -0.2847388574307799,
          -2.0255021671344045,
          -0.8162924399503177,
          -1.1554189247537237,
          0.3272815669839693,
          1.2433458954860341,
          -0.8592310438158935,
          -0.12255589607043708,
          -2.9330462306596297,
          0.825075419527729,
          -1.3838364250794792,
          0.47002291759059917,
          0.16019366964864235,
          -0.6695497233597274,
          0.6571492065201427,
          -1.0362928866265888,
          0.6000371947768279,
          -1.0852365770917878,
          0.6699417739632818,
          -0.7799693098199959,
          -2.0855814299603646,
          -0.44145574032885965,
          -1.2931539005533357,
          0.2526285871877972,
          0.43845672549827974,
          -2.308093329442031,
          -1.0337271695209675,
          -1.3010430922089382,
          -0.7449131497770748,
          1.2401792295516962,
          0.6122413017452012,
          0.8534369987201077,
          1.312831009581544,
          1.662951815482871,
          -0.3316120266169116,
          1.743694974660214,
          -0.13013299703260145,
          -0.29376058235490393,
          -1.0956253739601314,
          -0.8838304978530539,
          -1.8595140265346404,
          0.9873673295542541,
          -1.169455618514835,
          -1.3958825951619405,
          0.934004187216018,
          0.5383689930416583,
          0.8591407374766785,
          -0.720859277854418,
          0.42481480563062385,
          0.853917076970644,
          -0.49934487596276067,
          -1.3070911630905448,
          -0.48970691464979793,
          -0.4844952353948526,
          -0.5719609784077725,
          -1.1871246172535055,
          1.3930489740217789,
          1.0687185676705941
         ],
         "yaxis": "y3"
        },
        {
         "line": {
          "color": "rgba(128, 128, 128, 1.0)",
          "dash": "solid",
          "shape": "linear",
          "width": 1.3
         },
         "marker": {
          "size": 2,
          "symbol": "circle"
         },
         "mode": "markers",
         "name": "A",
         "text": "",
         "type": "scatter",
         "x": [
          0.5320751007912108,
          -0.44975930030199057,
          -1.6771656542045301,
          -0.44091591284909243,
          -1.2851308015526384,
          -0.7672921960404369,
          -0.6840520694104756,
          -0.6289566167996111,
          0.6170199863296312,
          1.5550761236361315,
          -1.1446406031185345,
          0.7479360181353207,
          -0.6950321487313877,
          0.5142116978702493,
          -0.05006610246305449,
          -1.2706903369398972,
          0.9337105505915513,
          0.02165987886009008,
          -1.2383746732693224,
          1.01583752659063,
          -1.5344942838895572,
          -1.7971611010933033,
          0.012282015431504915,
          -1.248470325798801,
          -0.751727321058121,
          -2.273936072897154,
          1.7158873760344808,
          0.7321212780290757,
          -0.8102477927166142,
          1.1576824094414746,
          1.0583851117702763,
          0.49939834857688903,
          -1.971629393028559,
          -0.19322930214937295,
          0.0012406867894250626,
          -0.4342478017479121,
          1.095708912865221,
          0.2670904432193301,
          -1.190003807101934,
          -1.824817137720109,
          0.6501051336568515,
          -0.7750100630892506,
          -2.6817732386921604,
          1.3755485210745413,
          -0.4566373399656553,
          0.21588239064332343,
          -0.3475715417473595,
          1.335959388515564,
          0.39092724768516396,
          -1.8090022241329922,
          -0.05083863408104635,
          0.19966595619373337,
          0.18988135074015444,
          1.5879808284339636,
          2.7361373772078283,
          -1.0197215028317126,
          -1.6130798488874252,
          0.5008144907488354,
          -0.9054816200020326,
          -0.35278425688605897,
          0.07276996573600186,
          -0.11367312835682204,
          -0.4706793706580518,
          -0.7936352667864787,
          -0.073325399871544,
          -0.43098695473405396,
          -0.0021861177911710124,
          0.5205942760047915,
          1.125066587272659,
          -0.2653476580169145,
          1.230584153756348,
          0.5793011352848095,
          0.029628537268579048,
          -1.4374169864346782,
          -0.5203916972600846,
          -0.4696135290321071,
          -0.39830013019241006,
          0.9383185262511324,
          0.7502574495111625,
          -0.6580610391754727,
          -1.1133388387574064,
          0.548548678120502,
          -1.0798445834426695,
          -0.041307743482665464,
          0.23662982761887102,
          0.42647950801796736,
          1.08235850983857,
          -0.9200774076240209,
          0.6218461906103815,
          -0.23433028578862783,
          -0.8251050806726193,
          0.9333061973048289,
          -0.38522662207844394,
          -0.06723256007858268,
          -0.12573699866268626,
          0.7054772877188187,
          -0.22895083135905175,
          -0.15635726896667954,
          -0.4138384484948669,
          0.7292057746683822
         ],
         "xaxis": "x4",
         "y": [
          -0.19413006811794645,
          1.6873452436372878,
          -0.06033814051572481,
          1.127241606699178,
          0.4249481578883776,
          -0.474771738742198,
          0.698211057555185,
          2.3585197847599058,
          0.2525076034946605,
          -1.0036563379066212,
          0.6536456432532819,
          -0.49369169397422796,
          -0.040726414634479166,
          -1.2885506743387969,
          -0.6020672152154837,
          -0.3648634665112078,
          0.8550055279946877,
          -0.17651701401783582,
          -0.19397655363332744,
          -0.5974369876080038,
          1.0008277559296812,
          1.3800382984728465,
          1.842995649951157,
          -0.3934532452291988,
          1.775188837143746,
          -0.10482980330404865,
          1.4332963698722747,
          2.104609929509668,
          -1.3107212075382997,
          -1.4251183393240168,
          -1.7439730133074343,
          0.13983069925649397,
          -0.1489846483553503,
          1.2371640170336395,
          1.4546617303712968,
          -1.9221666452059851,
          1.1196152585742165,
          -1.5414060431672485,
          0.23091464060285513,
          -0.1795998073426502,
          0.3568798660024454,
          0.07031144664084961,
          -0.2847388574307799,
          -2.0255021671344045,
          -0.8162924399503177,
          -1.1554189247537237,
          0.3272815669839693,
          1.2433458954860341,
          -0.8592310438158935,
          -0.12255589607043708,
          -2.9330462306596297,
          0.825075419527729,
          -1.3838364250794792,
          0.47002291759059917,
          0.16019366964864235,
          -0.6695497233597274,
          0.6571492065201427,
          -1.0362928866265888,
          0.6000371947768279,
          -1.0852365770917878,
          0.6699417739632818,
          -0.7799693098199959,
          -2.0855814299603646,
          -0.44145574032885965,
          -1.2931539005533357,
          0.2526285871877972,
          0.43845672549827974,
          -2.308093329442031,
          -1.0337271695209675,
          -1.3010430922089382,
          -0.7449131497770748,
          1.2401792295516962,
          0.6122413017452012,
          0.8534369987201077,
          1.312831009581544,
          1.662951815482871,
          -0.3316120266169116,
          1.743694974660214,
          -0.13013299703260145,
          -0.29376058235490393,
          -1.0956253739601314,
          -0.8838304978530539,
          -1.8595140265346404,
          0.9873673295542541,
          -1.169455618514835,
          -1.3958825951619405,
          0.934004187216018,
          0.5383689930416583,
          0.8591407374766785,
          -0.720859277854418,
          0.42481480563062385,
          0.853917076970644,
          -0.49934487596276067,
          -1.3070911630905448,
          -0.48970691464979793,
          -0.4844952353948526,
          -0.5719609784077725,
          -1.1871246172535055,
          1.3930489740217789,
          1.0687185676705941
         ],
         "yaxis": "y4"
        },
        {
         "line": {
          "color": "rgba(128, 128, 128, 1.0)",
          "dash": "solid",
          "shape": "linear",
          "width": 1.3
         },
         "marker": {
          "size": 2,
          "symbol": "circle"
         },
         "mode": "markers",
         "name": "B",
         "text": "",
         "type": "scatter",
         "x": [
          -0.19413006811794645,
          1.6873452436372878,
          -0.06033814051572481,
          1.127241606699178,
          0.4249481578883776,
          -0.474771738742198,
          0.698211057555185,
          2.3585197847599058,
          0.2525076034946605,
          -1.0036563379066212,
          0.6536456432532819,
          -0.49369169397422796,
          -0.040726414634479166,
          -1.2885506743387969,
          -0.6020672152154837,
          -0.3648634665112078,
          0.8550055279946877,
          -0.17651701401783582,
          -0.19397655363332744,
          -0.5974369876080038,
          1.0008277559296812,
          1.3800382984728465,
          1.842995649951157,
          -0.3934532452291988,
          1.775188837143746,
          -0.10482980330404865,
          1.4332963698722747,
          2.104609929509668,
          -1.3107212075382997,
          -1.4251183393240168,
          -1.7439730133074343,
          0.13983069925649397,
          -0.1489846483553503,
          1.2371640170336395,
          1.4546617303712968,
          -1.9221666452059851,
          1.1196152585742165,
          -1.5414060431672485,
          0.23091464060285513,
          -0.1795998073426502,
          0.3568798660024454,
          0.07031144664084961,
          -0.2847388574307799,
          -2.0255021671344045,
          -0.8162924399503177,
          -1.1554189247537237,
          0.3272815669839693,
          1.2433458954860341,
          -0.8592310438158935,
          -0.12255589607043708,
          -2.9330462306596297,
          0.825075419527729,
          -1.3838364250794792,
          0.47002291759059917,
          0.16019366964864235,
          -0.6695497233597274,
          0.6571492065201427,
          -1.0362928866265888,
          0.6000371947768279,
          -1.0852365770917878,
          0.6699417739632818,
          -0.7799693098199959,
          -2.0855814299603646,
          -0.44145574032885965,
          -1.2931539005533357,
          0.2526285871877972,
          0.43845672549827974,
          -2.308093329442031,
          -1.0337271695209675,
          -1.3010430922089382,
          -0.7449131497770748,
          1.2401792295516962,
          0.6122413017452012,
          0.8534369987201077,
          1.312831009581544,
          1.662951815482871,
          -0.3316120266169116,
          1.743694974660214,
          -0.13013299703260145,
          -0.29376058235490393,
          -1.0956253739601314,
          -0.8838304978530539,
          -1.8595140265346404,
          0.9873673295542541,
          -1.169455618514835,
          -1.3958825951619405,
          0.934004187216018,
          0.5383689930416583,
          0.8591407374766785,
          -0.720859277854418,
          0.42481480563062385,
          0.853917076970644,
          -0.49934487596276067,
          -1.3070911630905448,
          -0.48970691464979793,
          -0.4844952353948526,
          -0.5719609784077725,
          -1.1871246172535055,
          1.3930489740217789,
          1.0687185676705941
         ],
         "xaxis": "x5",
         "y": [
          -1.3611066114771493,
          -0.9404925242020148,
          1.3722116473992234,
          1.7322354728534157,
          -0.30694083887020157,
          1.309104354467893,
          0.5167954353662241,
          1.6441571752434938,
          -0.4134000317423506,
          0.5862823464153141,
          -0.3656583696810447,
          -0.40036097875741194,
          -1.9283670925827068,
          -0.0708327897680354,
          1.1470858843451797,
          0.5255863969656889,
          2.068481598216057,
          -0.49383691804073476,
          -1.487171100606758,
          0.4061167279907759,
          -0.8039282604159369,
          -0.6138178483047706,
          -1.9994750228413507,
          -0.004233993427505336,
          -0.49269365124873,
          1.237631824582306,
          -0.2949322231299584,
          2.1918300320617243,
          0.07799139301538806,
          -1.1305133413357529,
          1.0476162128924136,
          0.3538543745858851,
          -0.6868036177964602,
          -0.11308818102274441,
          0.038389249561694566,
          -0.4257780082736259,
          0.30863654237506444,
          -0.9622296623279092,
          -1.4032359603804845,
          0.17011448873309684,
          -0.35102564009368653,
          1.6472531050230457,
          -0.0017095784216665632,
          -0.0802585463635855,
          -0.575165817878663,
          -0.1657590963488005,
          -0.3027385815977633,
          -1.9616424942909296,
          -1.0595263589326296,
          0.28209798325173263,
          -2.0820126828445544,
          1.8275024342636472,
          0.5621274107848366,
          1.2420771711415866,
          0.7722407212744912,
          -0.9751223011313264,
          -1.102383352433531,
          0.4918739774394961,
          0.3487522046764612,
          -1.54710965071441,
          -0.8007558152026161,
          -0.9175078799164796,
          -0.7142573010425983,
          0.07227775378214862,
          0.9006310625650061,
          0.5780860324163493,
          -0.6580487515865606,
          -0.9596497293206537,
          0.9447780056152655,
          0.22755580790266747,
          -0.9266910380099435,
          0.623537292539532,
          1.5961122826254042,
          1.625671033487804,
          0.20979766304248096,
          0.997780750833331,
          -0.2060883820505985,
          -1.0512210349747726,
          -0.5917818884538694,
          0.14740204061721746,
          1.108594612789978,
          -0.7950490675748462,
          1.0228236643021653,
          -0.6954751231068863,
          0.6351958883736164,
          0.5992249242207415,
          -1.1854834697675771,
          -0.9681946986435691,
          1.2351166042413806,
          -0.5123916078822467,
          0.3585394032102082,
          1.4113603363595246,
          -0.41841125808042157,
          -1.113792321118681,
          0.6698608955320294,
          -1.0729019997914118,
          0.7960213296027061,
          0.016233231262760002,
          -0.8170973228582855,
          0.9156937186180036
         ],
         "yaxis": "y5"
        },
        {
         "histfunc": "count",
         "histnorm": "",
         "marker": {
          "color": "rgba(55, 128, 191, 1.0)",
          "line": {
           "color": "#4D5663",
           "width": 1.3
          }
         },
         "name": "B",
         "nbinsx": 10,
         "opacity": 0.8,
         "orientation": "v",
         "type": "histogram",
         "x": [
          -1.3611066114771493,
          -0.9404925242020148,
          1.3722116473992234,
          1.7322354728534157,
          -0.30694083887020157,
          1.309104354467893,
          0.5167954353662241,
          1.6441571752434938,
          -0.4134000317423506,
          0.5862823464153141,
          -0.3656583696810447,
          -0.40036097875741194,
          -1.9283670925827068,
          -0.0708327897680354,
          1.1470858843451797,
          0.5255863969656889,
          2.068481598216057,
          -0.49383691804073476,
          -1.487171100606758,
          0.4061167279907759,
          -0.8039282604159369,
          -0.6138178483047706,
          -1.9994750228413507,
          -0.004233993427505336,
          -0.49269365124873,
          1.237631824582306,
          -0.2949322231299584,
          2.1918300320617243,
          0.07799139301538806,
          -1.1305133413357529,
          1.0476162128924136,
          0.3538543745858851,
          -0.6868036177964602,
          -0.11308818102274441,
          0.038389249561694566,
          -0.4257780082736259,
          0.30863654237506444,
          -0.9622296623279092,
          -1.4032359603804845,
          0.17011448873309684,
          -0.35102564009368653,
          1.6472531050230457,
          -0.0017095784216665632,
          -0.0802585463635855,
          -0.575165817878663,
          -0.1657590963488005,
          -0.3027385815977633,
          -1.9616424942909296,
          -1.0595263589326296,
          0.28209798325173263,
          -2.0820126828445544,
          1.8275024342636472,
          0.5621274107848366,
          1.2420771711415866,
          0.7722407212744912,
          -0.9751223011313264,
          -1.102383352433531,
          0.4918739774394961,
          0.3487522046764612,
          -1.54710965071441,
          -0.8007558152026161,
          -0.9175078799164796,
          -0.7142573010425983,
          0.07227775378214862,
          0.9006310625650061,
          0.5780860324163493,
          -0.6580487515865606,
          -0.9596497293206537,
          0.9447780056152655,
          0.22755580790266747,
          -0.9266910380099435,
          0.623537292539532,
          1.5961122826254042,
          1.625671033487804,
          0.20979766304248096,
          0.997780750833331,
          -0.2060883820505985,
          -1.0512210349747726,
          -0.5917818884538694,
          0.14740204061721746,
          1.108594612789978,
          -0.7950490675748462,
          1.0228236643021653,
          -0.6954751231068863,
          0.6351958883736164,
          0.5992249242207415,
          -1.1854834697675771,
          -0.9681946986435691,
          1.2351166042413806,
          -0.5123916078822467,
          0.3585394032102082,
          1.4113603363595246,
          -0.41841125808042157,
          -1.113792321118681,
          0.6698608955320294,
          -1.0729019997914118,
          0.7960213296027061,
          0.016233231262760002,
          -0.8170973228582855,
          0.9156937186180036
         ],
         "xaxis": "x6",
         "yaxis": "y6"
        },
        {
         "line": {
          "color": "rgba(128, 128, 128, 1.0)",
          "dash": "solid",
          "shape": "linear",
          "width": 1.3
         },
         "marker": {
          "size": 2,
          "symbol": "circle"
         },
         "mode": "markers",
         "name": "B",
         "text": "",
         "type": "scatter",
         "x": [
          1.1140000563102914,
          0.9179111192891231,
          -1.188893946688415,
          -0.13114065312801368,
          -0.5073065118302527,
          -0.09311221148029948,
          -0.40309858035619506,
          -1.2941013357609827,
          0.1522616172187679,
          -0.5686042910003242,
          -1.4286613086018733,
          -0.3781713795523727,
          0.9331227361823387,
          -0.37323223165875363,
          -1.2944234062713793,
          0.37687384815416897,
          0.5383864472562093,
          0.9195673961256198,
          -0.3235223820041577,
          1.8727485081926467,
          -1.1795816875266778,
          -0.8449949840723888,
          -0.08170021400646502,
          -0.286192565615934,
          -1.3748756883851165,
          0.010926462554086724,
          -1.2328496843628618,
          2.0348838456214176,
          0.7000633511884815,
          -0.35531942399480254,
          -1.3406610705744013,
          0.01864999286216511,
          0.5094391286396842,
          -1.5836916726094383,
          -0.3451019978525569,
          0.20728312534209858,
          -0.47075281728892493,
          -0.8495495198337799,
          -2.27462312634757,
          1.079188580241099,
          1.3734873349909233,
          -0.9887079292764147,
          -0.19846970539638176,
          0.05555537080006787,
          1.0484174095692995,
          0.8413944546834128,
          -0.7442255295790747,
          1.35177853019317,
          -0.9227955558679611,
          -1.7848428894509274,
          -0.5376159353749289,
          0.42513207851628615,
          -1.1757641125658604,
          2.181435776931965,
          -1.3438381707387712,
          0.8337444045407011,
          -1.5632258506764016,
          -2.005299736675884,
          -0.512145200699896,
          -1.53512757582114,
          1.1256314278115334,
          -0.6368906250105119,
          1.012714720029981,
          1.14227675351933,
          0.6768707978526404,
          0.7408747509514002,
          1.208987844444804,
          -0.1696233626484463,
          0.533747518286306,
          -0.3238050911571481,
          1.4373066693923289,
          -1.3749462604913611,
          -0.47634446509526457,
          -1.2352209629271114,
          -0.7201741134971659,
          -0.5644507478376956,
          -0.8185475418091991,
          -0.2373988288623339,
          0.0525329787130495,
          0.7152312336106041,
          0.7515669310370038,
          2.1725115233636845,
          0.6709486950696367,
          -0.061786962023700744,
          1.99790878884932,
          -0.950474140726602,
          0.10347883137981151,
          -1.2619653553943295,
          0.9560693039796121,
          -0.24808316128268526,
          -0.5646307550129808,
          1.2111527593269058,
          -0.9052042719227168,
          -1.5476361898746265,
          0.7908770935839322,
          -0.19067333565555433,
          -0.696414490205117,
          -1.2008177650951006,
          -0.6279644058254207,
          1.2065146144924799
         ],
         "xaxis": "x7",
         "y": [
          -1.3611066114771493,
          -0.9404925242020148,
          1.3722116473992234,
          1.7322354728534157,
          -0.30694083887020157,
          1.309104354467893,
          0.5167954353662241,
          1.6441571752434938,
          -0.4134000317423506,
          0.5862823464153141,
          -0.3656583696810447,
          -0.40036097875741194,
          -1.9283670925827068,
          -0.0708327897680354,
          1.1470858843451797,
          0.5255863969656889,
          2.068481598216057,
          -0.49383691804073476,
          -1.487171100606758,
          0.4061167279907759,
          -0.8039282604159369,
          -0.6138178483047706,
          -1.9994750228413507,
          -0.004233993427505336,
          -0.49269365124873,
          1.237631824582306,
          -0.2949322231299584,
          2.1918300320617243,
          0.07799139301538806,
          -1.1305133413357529,
          1.0476162128924136,
          0.3538543745858851,
          -0.6868036177964602,
          -0.11308818102274441,
          0.038389249561694566,
          -0.4257780082736259,
          0.30863654237506444,
          -0.9622296623279092,
          -1.4032359603804845,
          0.17011448873309684,
          -0.35102564009368653,
          1.6472531050230457,
          -0.0017095784216665632,
          -0.0802585463635855,
          -0.575165817878663,
          -0.1657590963488005,
          -0.3027385815977633,
          -1.9616424942909296,
          -1.0595263589326296,
          0.28209798325173263,
          -2.0820126828445544,
          1.8275024342636472,
          0.5621274107848366,
          1.2420771711415866,
          0.7722407212744912,
          -0.9751223011313264,
          -1.102383352433531,
          0.4918739774394961,
          0.3487522046764612,
          -1.54710965071441,
          -0.8007558152026161,
          -0.9175078799164796,
          -0.7142573010425983,
          0.07227775378214862,
          0.9006310625650061,
          0.5780860324163493,
          -0.6580487515865606,
          -0.9596497293206537,
          0.9447780056152655,
          0.22755580790266747,
          -0.9266910380099435,
          0.623537292539532,
          1.5961122826254042,
          1.625671033487804,
          0.20979766304248096,
          0.997780750833331,
          -0.2060883820505985,
          -1.0512210349747726,
          -0.5917818884538694,
          0.14740204061721746,
          1.108594612789978,
          -0.7950490675748462,
          1.0228236643021653,
          -0.6954751231068863,
          0.6351958883736164,
          0.5992249242207415,
          -1.1854834697675771,
          -0.9681946986435691,
          1.2351166042413806,
          -0.5123916078822467,
          0.3585394032102082,
          1.4113603363595246,
          -0.41841125808042157,
          -1.113792321118681,
          0.6698608955320294,
          -1.0729019997914118,
          0.7960213296027061,
          0.016233231262760002,
          -0.8170973228582855,
          0.9156937186180036
         ],
         "yaxis": "y7"
        },
        {
         "line": {
          "color": "rgba(128, 128, 128, 1.0)",
          "dash": "solid",
          "shape": "linear",
          "width": 1.3
         },
         "marker": {
          "size": 2,
          "symbol": "circle"
         },
         "mode": "markers",
         "name": "B",
         "text": "",
         "type": "scatter",
         "x": [
          0.5320751007912108,
          -0.44975930030199057,
          -1.6771656542045301,
          -0.44091591284909243,
          -1.2851308015526384,
          -0.7672921960404369,
          -0.6840520694104756,
          -0.6289566167996111,
          0.6170199863296312,
          1.5550761236361315,
          -1.1446406031185345,
          0.7479360181353207,
          -0.6950321487313877,
          0.5142116978702493,
          -0.05006610246305449,
          -1.2706903369398972,
          0.9337105505915513,
          0.02165987886009008,
          -1.2383746732693224,
          1.01583752659063,
          -1.5344942838895572,
          -1.7971611010933033,
          0.012282015431504915,
          -1.248470325798801,
          -0.751727321058121,
          -2.273936072897154,
          1.7158873760344808,
          0.7321212780290757,
          -0.8102477927166142,
          1.1576824094414746,
          1.0583851117702763,
          0.49939834857688903,
          -1.971629393028559,
          -0.19322930214937295,
          0.0012406867894250626,
          -0.4342478017479121,
          1.095708912865221,
          0.2670904432193301,
          -1.190003807101934,
          -1.824817137720109,
          0.6501051336568515,
          -0.7750100630892506,
          -2.6817732386921604,
          1.3755485210745413,
          -0.4566373399656553,
          0.21588239064332343,
          -0.3475715417473595,
          1.335959388515564,
          0.39092724768516396,
          -1.8090022241329922,
          -0.05083863408104635,
          0.19966595619373337,
          0.18988135074015444,
          1.5879808284339636,
          2.7361373772078283,
          -1.0197215028317126,
          -1.6130798488874252,
          0.5008144907488354,
          -0.9054816200020326,
          -0.35278425688605897,
          0.07276996573600186,
          -0.11367312835682204,
          -0.4706793706580518,
          -0.7936352667864787,
          -0.073325399871544,
          -0.43098695473405396,
          -0.0021861177911710124,
          0.5205942760047915,
          1.125066587272659,
          -0.2653476580169145,
          1.230584153756348,
          0.5793011352848095,
          0.029628537268579048,
          -1.4374169864346782,
          -0.5203916972600846,
          -0.4696135290321071,
          -0.39830013019241006,
          0.9383185262511324,
          0.7502574495111625,
          -0.6580610391754727,
          -1.1133388387574064,
          0.548548678120502,
          -1.0798445834426695,
          -0.041307743482665464,
          0.23662982761887102,
          0.42647950801796736,
          1.08235850983857,
          -0.9200774076240209,
          0.6218461906103815,
          -0.23433028578862783,
          -0.8251050806726193,
          0.9333061973048289,
          -0.38522662207844394,
          -0.06723256007858268,
          -0.12573699866268626,
          0.7054772877188187,
          -0.22895083135905175,
          -0.15635726896667954,
          -0.4138384484948669,
          0.7292057746683822
         ],
         "xaxis": "x8",
         "y": [
          -1.3611066114771493,
          -0.9404925242020148,
          1.3722116473992234,
          1.7322354728534157,
          -0.30694083887020157,
          1.309104354467893,
          0.5167954353662241,
          1.6441571752434938,
          -0.4134000317423506,
          0.5862823464153141,
          -0.3656583696810447,
          -0.40036097875741194,
          -1.9283670925827068,
          -0.0708327897680354,
          1.1470858843451797,
          0.5255863969656889,
          2.068481598216057,
          -0.49383691804073476,
          -1.487171100606758,
          0.4061167279907759,
          -0.8039282604159369,
          -0.6138178483047706,
          -1.9994750228413507,
          -0.004233993427505336,
          -0.49269365124873,
          1.237631824582306,
          -0.2949322231299584,
          2.1918300320617243,
          0.07799139301538806,
          -1.1305133413357529,
          1.0476162128924136,
          0.3538543745858851,
          -0.6868036177964602,
          -0.11308818102274441,
          0.038389249561694566,
          -0.4257780082736259,
          0.30863654237506444,
          -0.9622296623279092,
          -1.4032359603804845,
          0.17011448873309684,
          -0.35102564009368653,
          1.6472531050230457,
          -0.0017095784216665632,
          -0.0802585463635855,
          -0.575165817878663,
          -0.1657590963488005,
          -0.3027385815977633,
          -1.9616424942909296,
          -1.0595263589326296,
          0.28209798325173263,
          -2.0820126828445544,
          1.8275024342636472,
          0.5621274107848366,
          1.2420771711415866,
          0.7722407212744912,
          -0.9751223011313264,
          -1.102383352433531,
          0.4918739774394961,
          0.3487522046764612,
          -1.54710965071441,
          -0.8007558152026161,
          -0.9175078799164796,
          -0.7142573010425983,
          0.07227775378214862,
          0.9006310625650061,
          0.5780860324163493,
          -0.6580487515865606,
          -0.9596497293206537,
          0.9447780056152655,
          0.22755580790266747,
          -0.9266910380099435,
          0.623537292539532,
          1.5961122826254042,
          1.625671033487804,
          0.20979766304248096,
          0.997780750833331,
          -0.2060883820505985,
          -1.0512210349747726,
          -0.5917818884538694,
          0.14740204061721746,
          1.108594612789978,
          -0.7950490675748462,
          1.0228236643021653,
          -0.6954751231068863,
          0.6351958883736164,
          0.5992249242207415,
          -1.1854834697675771,
          -0.9681946986435691,
          1.2351166042413806,
          -0.5123916078822467,
          0.3585394032102082,
          1.4113603363595246,
          -0.41841125808042157,
          -1.113792321118681,
          0.6698608955320294,
          -1.0729019997914118,
          0.7960213296027061,
          0.016233231262760002,
          -0.8170973228582855,
          0.9156937186180036
         ],
         "yaxis": "y8"
        },
        {
         "line": {
          "color": "rgba(128, 128, 128, 1.0)",
          "dash": "solid",
          "shape": "linear",
          "width": 1.3
         },
         "marker": {
          "size": 2,
          "symbol": "circle"
         },
         "mode": "markers",
         "name": "C",
         "text": "",
         "type": "scatter",
         "x": [
          -0.19413006811794645,
          1.6873452436372878,
          -0.06033814051572481,
          1.127241606699178,
          0.4249481578883776,
          -0.474771738742198,
          0.698211057555185,
          2.3585197847599058,
          0.2525076034946605,
          -1.0036563379066212,
          0.6536456432532819,
          -0.49369169397422796,
          -0.040726414634479166,
          -1.2885506743387969,
          -0.6020672152154837,
          -0.3648634665112078,
          0.8550055279946877,
          -0.17651701401783582,
          -0.19397655363332744,
          -0.5974369876080038,
          1.0008277559296812,
          1.3800382984728465,
          1.842995649951157,
          -0.3934532452291988,
          1.775188837143746,
          -0.10482980330404865,
          1.4332963698722747,
          2.104609929509668,
          -1.3107212075382997,
          -1.4251183393240168,
          -1.7439730133074343,
          0.13983069925649397,
          -0.1489846483553503,
          1.2371640170336395,
          1.4546617303712968,
          -1.9221666452059851,
          1.1196152585742165,
          -1.5414060431672485,
          0.23091464060285513,
          -0.1795998073426502,
          0.3568798660024454,
          0.07031144664084961,
          -0.2847388574307799,
          -2.0255021671344045,
          -0.8162924399503177,
          -1.1554189247537237,
          0.3272815669839693,
          1.2433458954860341,
          -0.8592310438158935,
          -0.12255589607043708,
          -2.9330462306596297,
          0.825075419527729,
          -1.3838364250794792,
          0.47002291759059917,
          0.16019366964864235,
          -0.6695497233597274,
          0.6571492065201427,
          -1.0362928866265888,
          0.6000371947768279,
          -1.0852365770917878,
          0.6699417739632818,
          -0.7799693098199959,
          -2.0855814299603646,
          -0.44145574032885965,
          -1.2931539005533357,
          0.2526285871877972,
          0.43845672549827974,
          -2.308093329442031,
          -1.0337271695209675,
          -1.3010430922089382,
          -0.7449131497770748,
          1.2401792295516962,
          0.6122413017452012,
          0.8534369987201077,
          1.312831009581544,
          1.662951815482871,
          -0.3316120266169116,
          1.743694974660214,
          -0.13013299703260145,
          -0.29376058235490393,
          -1.0956253739601314,
          -0.8838304978530539,
          -1.8595140265346404,
          0.9873673295542541,
          -1.169455618514835,
          -1.3958825951619405,
          0.934004187216018,
          0.5383689930416583,
          0.8591407374766785,
          -0.720859277854418,
          0.42481480563062385,
          0.853917076970644,
          -0.49934487596276067,
          -1.3070911630905448,
          -0.48970691464979793,
          -0.4844952353948526,
          -0.5719609784077725,
          -1.1871246172535055,
          1.3930489740217789,
          1.0687185676705941
         ],
         "xaxis": "x9",
         "y": [
          1.1140000563102914,
          0.9179111192891231,
          -1.188893946688415,
          -0.13114065312801368,
          -0.5073065118302527,
          -0.09311221148029948,
          -0.40309858035619506,
          -1.2941013357609827,
          0.1522616172187679,
          -0.5686042910003242,
          -1.4286613086018733,
          -0.3781713795523727,
          0.9331227361823387,
          -0.37323223165875363,
          -1.2944234062713793,
          0.37687384815416897,
          0.5383864472562093,
          0.9195673961256198,
          -0.3235223820041577,
          1.8727485081926467,
          -1.1795816875266778,
          -0.8449949840723888,
          -0.08170021400646502,
          -0.286192565615934,
          -1.3748756883851165,
          0.010926462554086724,
          -1.2328496843628618,
          2.0348838456214176,
          0.7000633511884815,
          -0.35531942399480254,
          -1.3406610705744013,
          0.01864999286216511,
          0.5094391286396842,
          -1.5836916726094383,
          -0.3451019978525569,
          0.20728312534209858,
          -0.47075281728892493,
          -0.8495495198337799,
          -2.27462312634757,
          1.079188580241099,
          1.3734873349909233,
          -0.9887079292764147,
          -0.19846970539638176,
          0.05555537080006787,
          1.0484174095692995,
          0.8413944546834128,
          -0.7442255295790747,
          1.35177853019317,
          -0.9227955558679611,
          -1.7848428894509274,
          -0.5376159353749289,
          0.42513207851628615,
          -1.1757641125658604,
          2.181435776931965,
          -1.3438381707387712,
          0.8337444045407011,
          -1.5632258506764016,
          -2.005299736675884,
          -0.512145200699896,
          -1.53512757582114,
          1.1256314278115334,
          -0.6368906250105119,
          1.012714720029981,
          1.14227675351933,
          0.6768707978526404,
          0.7408747509514002,
          1.208987844444804,
          -0.1696233626484463,
          0.533747518286306,
          -0.3238050911571481,
          1.4373066693923289,
          -1.3749462604913611,
          -0.47634446509526457,
          -1.2352209629271114,
          -0.7201741134971659,
          -0.5644507478376956,
          -0.8185475418091991,
          -0.2373988288623339,
          0.0525329787130495,
          0.7152312336106041,
          0.7515669310370038,
          2.1725115233636845,
          0.6709486950696367,
          -0.061786962023700744,
          1.99790878884932,
          -0.950474140726602,
          0.10347883137981151,
          -1.2619653553943295,
          0.9560693039796121,
          -0.24808316128268526,
          -0.5646307550129808,
          1.2111527593269058,
          -0.9052042719227168,
          -1.5476361898746265,
          0.7908770935839322,
          -0.19067333565555433,
          -0.696414490205117,
          -1.2008177650951006,
          -0.6279644058254207,
          1.2065146144924799
         ],
         "yaxis": "y9"
        },
        {
         "line": {
          "color": "rgba(128, 128, 128, 1.0)",
          "dash": "solid",
          "shape": "linear",
          "width": 1.3
         },
         "marker": {
          "size": 2,
          "symbol": "circle"
         },
         "mode": "markers",
         "name": "C",
         "text": "",
         "type": "scatter",
         "x": [
          -1.3611066114771493,
          -0.9404925242020148,
          1.3722116473992234,
          1.7322354728534157,
          -0.30694083887020157,
          1.309104354467893,
          0.5167954353662241,
          1.6441571752434938,
          -0.4134000317423506,
          0.5862823464153141,
          -0.3656583696810447,
          -0.40036097875741194,
          -1.9283670925827068,
          -0.0708327897680354,
          1.1470858843451797,
          0.5255863969656889,
          2.068481598216057,
          -0.49383691804073476,
          -1.487171100606758,
          0.4061167279907759,
          -0.8039282604159369,
          -0.6138178483047706,
          -1.9994750228413507,
          -0.004233993427505336,
          -0.49269365124873,
          1.237631824582306,
          -0.2949322231299584,
          2.1918300320617243,
          0.07799139301538806,
          -1.1305133413357529,
          1.0476162128924136,
          0.3538543745858851,
          -0.6868036177964602,
          -0.11308818102274441,
          0.038389249561694566,
          -0.4257780082736259,
          0.30863654237506444,
          -0.9622296623279092,
          -1.4032359603804845,
          0.17011448873309684,
          -0.35102564009368653,
          1.6472531050230457,
          -0.0017095784216665632,
          -0.0802585463635855,
          -0.575165817878663,
          -0.1657590963488005,
          -0.3027385815977633,
          -1.9616424942909296,
          -1.0595263589326296,
          0.28209798325173263,
          -2.0820126828445544,
          1.8275024342636472,
          0.5621274107848366,
          1.2420771711415866,
          0.7722407212744912,
          -0.9751223011313264,
          -1.102383352433531,
          0.4918739774394961,
          0.3487522046764612,
          -1.54710965071441,
          -0.8007558152026161,
          -0.9175078799164796,
          -0.7142573010425983,
          0.07227775378214862,
          0.9006310625650061,
          0.5780860324163493,
          -0.6580487515865606,
          -0.9596497293206537,
          0.9447780056152655,
          0.22755580790266747,
          -0.9266910380099435,
          0.623537292539532,
          1.5961122826254042,
          1.625671033487804,
          0.20979766304248096,
          0.997780750833331,
          -0.2060883820505985,
          -1.0512210349747726,
          -0.5917818884538694,
          0.14740204061721746,
          1.108594612789978,
          -0.7950490675748462,
          1.0228236643021653,
          -0.6954751231068863,
          0.6351958883736164,
          0.5992249242207415,
          -1.1854834697675771,
          -0.9681946986435691,
          1.2351166042413806,
          -0.5123916078822467,
          0.3585394032102082,
          1.4113603363595246,
          -0.41841125808042157,
          -1.113792321118681,
          0.6698608955320294,
          -1.0729019997914118,
          0.7960213296027061,
          0.016233231262760002,
          -0.8170973228582855,
          0.9156937186180036
         ],
         "xaxis": "x10",
         "y": [
          1.1140000563102914,
          0.9179111192891231,
          -1.188893946688415,
          -0.13114065312801368,
          -0.5073065118302527,
          -0.09311221148029948,
          -0.40309858035619506,
          -1.2941013357609827,
          0.1522616172187679,
          -0.5686042910003242,
          -1.4286613086018733,
          -0.3781713795523727,
          0.9331227361823387,
          -0.37323223165875363,
          -1.2944234062713793,
          0.37687384815416897,
          0.5383864472562093,
          0.9195673961256198,
          -0.3235223820041577,
          1.8727485081926467,
          -1.1795816875266778,
          -0.8449949840723888,
          -0.08170021400646502,
          -0.286192565615934,
          -1.3748756883851165,
          0.010926462554086724,
          -1.2328496843628618,
          2.0348838456214176,
          0.7000633511884815,
          -0.35531942399480254,
          -1.3406610705744013,
          0.01864999286216511,
          0.5094391286396842,
          -1.5836916726094383,
          -0.3451019978525569,
          0.20728312534209858,
          -0.47075281728892493,
          -0.8495495198337799,
          -2.27462312634757,
          1.079188580241099,
          1.3734873349909233,
          -0.9887079292764147,
          -0.19846970539638176,
          0.05555537080006787,
          1.0484174095692995,
          0.8413944546834128,
          -0.7442255295790747,
          1.35177853019317,
          -0.9227955558679611,
          -1.7848428894509274,
          -0.5376159353749289,
          0.42513207851628615,
          -1.1757641125658604,
          2.181435776931965,
          -1.3438381707387712,
          0.8337444045407011,
          -1.5632258506764016,
          -2.005299736675884,
          -0.512145200699896,
          -1.53512757582114,
          1.1256314278115334,
          -0.6368906250105119,
          1.012714720029981,
          1.14227675351933,
          0.6768707978526404,
          0.7408747509514002,
          1.208987844444804,
          -0.1696233626484463,
          0.533747518286306,
          -0.3238050911571481,
          1.4373066693923289,
          -1.3749462604913611,
          -0.47634446509526457,
          -1.2352209629271114,
          -0.7201741134971659,
          -0.5644507478376956,
          -0.8185475418091991,
          -0.2373988288623339,
          0.0525329787130495,
          0.7152312336106041,
          0.7515669310370038,
          2.1725115233636845,
          0.6709486950696367,
          -0.061786962023700744,
          1.99790878884932,
          -0.950474140726602,
          0.10347883137981151,
          -1.2619653553943295,
          0.9560693039796121,
          -0.24808316128268526,
          -0.5646307550129808,
          1.2111527593269058,
          -0.9052042719227168,
          -1.5476361898746265,
          0.7908770935839322,
          -0.19067333565555433,
          -0.696414490205117,
          -1.2008177650951006,
          -0.6279644058254207,
          1.2065146144924799
         ],
         "yaxis": "y10"
        },
        {
         "histfunc": "count",
         "histnorm": "",
         "marker": {
          "color": "rgba(50, 171, 96, 1.0)",
          "line": {
           "color": "#4D5663",
           "width": 1.3
          }
         },
         "name": "C",
         "nbinsx": 10,
         "opacity": 0.8,
         "orientation": "v",
         "type": "histogram",
         "x": [
          1.1140000563102914,
          0.9179111192891231,
          -1.188893946688415,
          -0.13114065312801368,
          -0.5073065118302527,
          -0.09311221148029948,
          -0.40309858035619506,
          -1.2941013357609827,
          0.1522616172187679,
          -0.5686042910003242,
          -1.4286613086018733,
          -0.3781713795523727,
          0.9331227361823387,
          -0.37323223165875363,
          -1.2944234062713793,
          0.37687384815416897,
          0.5383864472562093,
          0.9195673961256198,
          -0.3235223820041577,
          1.8727485081926467,
          -1.1795816875266778,
          -0.8449949840723888,
          -0.08170021400646502,
          -0.286192565615934,
          -1.3748756883851165,
          0.010926462554086724,
          -1.2328496843628618,
          2.0348838456214176,
          0.7000633511884815,
          -0.35531942399480254,
          -1.3406610705744013,
          0.01864999286216511,
          0.5094391286396842,
          -1.5836916726094383,
          -0.3451019978525569,
          0.20728312534209858,
          -0.47075281728892493,
          -0.8495495198337799,
          -2.27462312634757,
          1.079188580241099,
          1.3734873349909233,
          -0.9887079292764147,
          -0.19846970539638176,
          0.05555537080006787,
          1.0484174095692995,
          0.8413944546834128,
          -0.7442255295790747,
          1.35177853019317,
          -0.9227955558679611,
          -1.7848428894509274,
          -0.5376159353749289,
          0.42513207851628615,
          -1.1757641125658604,
          2.181435776931965,
          -1.3438381707387712,
          0.8337444045407011,
          -1.5632258506764016,
          -2.005299736675884,
          -0.512145200699896,
          -1.53512757582114,
          1.1256314278115334,
          -0.6368906250105119,
          1.012714720029981,
          1.14227675351933,
          0.6768707978526404,
          0.7408747509514002,
          1.208987844444804,
          -0.1696233626484463,
          0.533747518286306,
          -0.3238050911571481,
          1.4373066693923289,
          -1.3749462604913611,
          -0.47634446509526457,
          -1.2352209629271114,
          -0.7201741134971659,
          -0.5644507478376956,
          -0.8185475418091991,
          -0.2373988288623339,
          0.0525329787130495,
          0.7152312336106041,
          0.7515669310370038,
          2.1725115233636845,
          0.6709486950696367,
          -0.061786962023700744,
          1.99790878884932,
          -0.950474140726602,
          0.10347883137981151,
          -1.2619653553943295,
          0.9560693039796121,
          -0.24808316128268526,
          -0.5646307550129808,
          1.2111527593269058,
          -0.9052042719227168,
          -1.5476361898746265,
          0.7908770935839322,
          -0.19067333565555433,
          -0.696414490205117,
          -1.2008177650951006,
          -0.6279644058254207,
          1.2065146144924799
         ],
         "xaxis": "x11",
         "yaxis": "y11"
        },
        {
         "line": {
          "color": "rgba(128, 128, 128, 1.0)",
          "dash": "solid",
          "shape": "linear",
          "width": 1.3
         },
         "marker": {
          "size": 2,
          "symbol": "circle"
         },
         "mode": "markers",
         "name": "C",
         "text": "",
         "type": "scatter",
         "x": [
          0.5320751007912108,
          -0.44975930030199057,
          -1.6771656542045301,
          -0.44091591284909243,
          -1.2851308015526384,
          -0.7672921960404369,
          -0.6840520694104756,
          -0.6289566167996111,
          0.6170199863296312,
          1.5550761236361315,
          -1.1446406031185345,
          0.7479360181353207,
          -0.6950321487313877,
          0.5142116978702493,
          -0.05006610246305449,
          -1.2706903369398972,
          0.9337105505915513,
          0.02165987886009008,
          -1.2383746732693224,
          1.01583752659063,
          -1.5344942838895572,
          -1.7971611010933033,
          0.012282015431504915,
          -1.248470325798801,
          -0.751727321058121,
          -2.273936072897154,
          1.7158873760344808,
          0.7321212780290757,
          -0.8102477927166142,
          1.1576824094414746,
          1.0583851117702763,
          0.49939834857688903,
          -1.971629393028559,
          -0.19322930214937295,
          0.0012406867894250626,
          -0.4342478017479121,
          1.095708912865221,
          0.2670904432193301,
          -1.190003807101934,
          -1.824817137720109,
          0.6501051336568515,
          -0.7750100630892506,
          -2.6817732386921604,
          1.3755485210745413,
          -0.4566373399656553,
          0.21588239064332343,
          -0.3475715417473595,
          1.335959388515564,
          0.39092724768516396,
          -1.8090022241329922,
          -0.05083863408104635,
          0.19966595619373337,
          0.18988135074015444,
          1.5879808284339636,
          2.7361373772078283,
          -1.0197215028317126,
          -1.6130798488874252,
          0.5008144907488354,
          -0.9054816200020326,
          -0.35278425688605897,
          0.07276996573600186,
          -0.11367312835682204,
          -0.4706793706580518,
          -0.7936352667864787,
          -0.073325399871544,
          -0.43098695473405396,
          -0.0021861177911710124,
          0.5205942760047915,
          1.125066587272659,
          -0.2653476580169145,
          1.230584153756348,
          0.5793011352848095,
          0.029628537268579048,
          -1.4374169864346782,
          -0.5203916972600846,
          -0.4696135290321071,
          -0.39830013019241006,
          0.9383185262511324,
          0.7502574495111625,
          -0.6580610391754727,
          -1.1133388387574064,
          0.548548678120502,
          -1.0798445834426695,
          -0.041307743482665464,
          0.23662982761887102,
          0.42647950801796736,
          1.08235850983857,
          -0.9200774076240209,
          0.6218461906103815,
          -0.23433028578862783,
          -0.8251050806726193,
          0.9333061973048289,
          -0.38522662207844394,
          -0.06723256007858268,
          -0.12573699866268626,
          0.7054772877188187,
          -0.22895083135905175,
          -0.15635726896667954,
          -0.4138384484948669,
          0.7292057746683822
         ],
         "xaxis": "x12",
         "y": [
          1.1140000563102914,
          0.9179111192891231,
          -1.188893946688415,
          -0.13114065312801368,
          -0.5073065118302527,
          -0.09311221148029948,
          -0.40309858035619506,
          -1.2941013357609827,
          0.1522616172187679,
          -0.5686042910003242,
          -1.4286613086018733,
          -0.3781713795523727,
          0.9331227361823387,
          -0.37323223165875363,
          -1.2944234062713793,
          0.37687384815416897,
          0.5383864472562093,
          0.9195673961256198,
          -0.3235223820041577,
          1.8727485081926467,
          -1.1795816875266778,
          -0.8449949840723888,
          -0.08170021400646502,
          -0.286192565615934,
          -1.3748756883851165,
          0.010926462554086724,
          -1.2328496843628618,
          2.0348838456214176,
          0.7000633511884815,
          -0.35531942399480254,
          -1.3406610705744013,
          0.01864999286216511,
          0.5094391286396842,
          -1.5836916726094383,
          -0.3451019978525569,
          0.20728312534209858,
          -0.47075281728892493,
          -0.8495495198337799,
          -2.27462312634757,
          1.079188580241099,
          1.3734873349909233,
          -0.9887079292764147,
          -0.19846970539638176,
          0.05555537080006787,
          1.0484174095692995,
          0.8413944546834128,
          -0.7442255295790747,
          1.35177853019317,
          -0.9227955558679611,
          -1.7848428894509274,
          -0.5376159353749289,
          0.42513207851628615,
          -1.1757641125658604,
          2.181435776931965,
          -1.3438381707387712,
          0.8337444045407011,
          -1.5632258506764016,
          -2.005299736675884,
          -0.512145200699896,
          -1.53512757582114,
          1.1256314278115334,
          -0.6368906250105119,
          1.012714720029981,
          1.14227675351933,
          0.6768707978526404,
          0.7408747509514002,
          1.208987844444804,
          -0.1696233626484463,
          0.533747518286306,
          -0.3238050911571481,
          1.4373066693923289,
          -1.3749462604913611,
          -0.47634446509526457,
          -1.2352209629271114,
          -0.7201741134971659,
          -0.5644507478376956,
          -0.8185475418091991,
          -0.2373988288623339,
          0.0525329787130495,
          0.7152312336106041,
          0.7515669310370038,
          2.1725115233636845,
          0.6709486950696367,
          -0.061786962023700744,
          1.99790878884932,
          -0.950474140726602,
          0.10347883137981151,
          -1.2619653553943295,
          0.9560693039796121,
          -0.24808316128268526,
          -0.5646307550129808,
          1.2111527593269058,
          -0.9052042719227168,
          -1.5476361898746265,
          0.7908770935839322,
          -0.19067333565555433,
          -0.696414490205117,
          -1.2008177650951006,
          -0.6279644058254207,
          1.2065146144924799
         ],
         "yaxis": "y12"
        },
        {
         "line": {
          "color": "rgba(128, 128, 128, 1.0)",
          "dash": "solid",
          "shape": "linear",
          "width": 1.3
         },
         "marker": {
          "size": 2,
          "symbol": "circle"
         },
         "mode": "markers",
         "name": "D",
         "text": "",
         "type": "scatter",
         "x": [
          -0.19413006811794645,
          1.6873452436372878,
          -0.06033814051572481,
          1.127241606699178,
          0.4249481578883776,
          -0.474771738742198,
          0.698211057555185,
          2.3585197847599058,
          0.2525076034946605,
          -1.0036563379066212,
          0.6536456432532819,
          -0.49369169397422796,
          -0.040726414634479166,
          -1.2885506743387969,
          -0.6020672152154837,
          -0.3648634665112078,
          0.8550055279946877,
          -0.17651701401783582,
          -0.19397655363332744,
          -0.5974369876080038,
          1.0008277559296812,
          1.3800382984728465,
          1.842995649951157,
          -0.3934532452291988,
          1.775188837143746,
          -0.10482980330404865,
          1.4332963698722747,
          2.104609929509668,
          -1.3107212075382997,
          -1.4251183393240168,
          -1.7439730133074343,
          0.13983069925649397,
          -0.1489846483553503,
          1.2371640170336395,
          1.4546617303712968,
          -1.9221666452059851,
          1.1196152585742165,
          -1.5414060431672485,
          0.23091464060285513,
          -0.1795998073426502,
          0.3568798660024454,
          0.07031144664084961,
          -0.2847388574307799,
          -2.0255021671344045,
          -0.8162924399503177,
          -1.1554189247537237,
          0.3272815669839693,
          1.2433458954860341,
          -0.8592310438158935,
          -0.12255589607043708,
          -2.9330462306596297,
          0.825075419527729,
          -1.3838364250794792,
          0.47002291759059917,
          0.16019366964864235,
          -0.6695497233597274,
          0.6571492065201427,
          -1.0362928866265888,
          0.6000371947768279,
          -1.0852365770917878,
          0.6699417739632818,
          -0.7799693098199959,
          -2.0855814299603646,
          -0.44145574032885965,
          -1.2931539005533357,
          0.2526285871877972,
          0.43845672549827974,
          -2.308093329442031,
          -1.0337271695209675,
          -1.3010430922089382,
          -0.7449131497770748,
          1.2401792295516962,
          0.6122413017452012,
          0.8534369987201077,
          1.312831009581544,
          1.662951815482871,
          -0.3316120266169116,
          1.743694974660214,
          -0.13013299703260145,
          -0.29376058235490393,
          -1.0956253739601314,
          -0.8838304978530539,
          -1.8595140265346404,
          0.9873673295542541,
          -1.169455618514835,
          -1.3958825951619405,
          0.934004187216018,
          0.5383689930416583,
          0.8591407374766785,
          -0.720859277854418,
          0.42481480563062385,
          0.853917076970644,
          -0.49934487596276067,
          -1.3070911630905448,
          -0.48970691464979793,
          -0.4844952353948526,
          -0.5719609784077725,
          -1.1871246172535055,
          1.3930489740217789,
          1.0687185676705941
         ],
         "xaxis": "x13",
         "y": [
          0.5320751007912108,
          -0.44975930030199057,
          -1.6771656542045301,
          -0.44091591284909243,
          -1.2851308015526384,
          -0.7672921960404369,
          -0.6840520694104756,
          -0.6289566167996111,
          0.6170199863296312,
          1.5550761236361315,
          -1.1446406031185345,
          0.7479360181353207,
          -0.6950321487313877,
          0.5142116978702493,
          -0.05006610246305449,
          -1.2706903369398972,
          0.9337105505915513,
          0.02165987886009008,
          -1.2383746732693224,
          1.01583752659063,
          -1.5344942838895572,
          -1.7971611010933033,
          0.012282015431504915,
          -1.248470325798801,
          -0.751727321058121,
          -2.273936072897154,
          1.7158873760344808,
          0.7321212780290757,
          -0.8102477927166142,
          1.1576824094414746,
          1.0583851117702763,
          0.49939834857688903,
          -1.971629393028559,
          -0.19322930214937295,
          0.0012406867894250626,
          -0.4342478017479121,
          1.095708912865221,
          0.2670904432193301,
          -1.190003807101934,
          -1.824817137720109,
          0.6501051336568515,
          -0.7750100630892506,
          -2.6817732386921604,
          1.3755485210745413,
          -0.4566373399656553,
          0.21588239064332343,
          -0.3475715417473595,
          1.335959388515564,
          0.39092724768516396,
          -1.8090022241329922,
          -0.05083863408104635,
          0.19966595619373337,
          0.18988135074015444,
          1.5879808284339636,
          2.7361373772078283,
          -1.0197215028317126,
          -1.6130798488874252,
          0.5008144907488354,
          -0.9054816200020326,
          -0.35278425688605897,
          0.07276996573600186,
          -0.11367312835682204,
          -0.4706793706580518,
          -0.7936352667864787,
          -0.073325399871544,
          -0.43098695473405396,
          -0.0021861177911710124,
          0.5205942760047915,
          1.125066587272659,
          -0.2653476580169145,
          1.230584153756348,
          0.5793011352848095,
          0.029628537268579048,
          -1.4374169864346782,
          -0.5203916972600846,
          -0.4696135290321071,
          -0.39830013019241006,
          0.9383185262511324,
          0.7502574495111625,
          -0.6580610391754727,
          -1.1133388387574064,
          0.548548678120502,
          -1.0798445834426695,
          -0.041307743482665464,
          0.23662982761887102,
          0.42647950801796736,
          1.08235850983857,
          -0.9200774076240209,
          0.6218461906103815,
          -0.23433028578862783,
          -0.8251050806726193,
          0.9333061973048289,
          -0.38522662207844394,
          -0.06723256007858268,
          -0.12573699866268626,
          0.7054772877188187,
          -0.22895083135905175,
          -0.15635726896667954,
          -0.4138384484948669,
          0.7292057746683822
         ],
         "yaxis": "y13"
        },
        {
         "line": {
          "color": "rgba(128, 128, 128, 1.0)",
          "dash": "solid",
          "shape": "linear",
          "width": 1.3
         },
         "marker": {
          "size": 2,
          "symbol": "circle"
         },
         "mode": "markers",
         "name": "D",
         "text": "",
         "type": "scatter",
         "x": [
          -1.3611066114771493,
          -0.9404925242020148,
          1.3722116473992234,
          1.7322354728534157,
          -0.30694083887020157,
          1.309104354467893,
          0.5167954353662241,
          1.6441571752434938,
          -0.4134000317423506,
          0.5862823464153141,
          -0.3656583696810447,
          -0.40036097875741194,
          -1.9283670925827068,
          -0.0708327897680354,
          1.1470858843451797,
          0.5255863969656889,
          2.068481598216057,
          -0.49383691804073476,
          -1.487171100606758,
          0.4061167279907759,
          -0.8039282604159369,
          -0.6138178483047706,
          -1.9994750228413507,
          -0.004233993427505336,
          -0.49269365124873,
          1.237631824582306,
          -0.2949322231299584,
          2.1918300320617243,
          0.07799139301538806,
          -1.1305133413357529,
          1.0476162128924136,
          0.3538543745858851,
          -0.6868036177964602,
          -0.11308818102274441,
          0.038389249561694566,
          -0.4257780082736259,
          0.30863654237506444,
          -0.9622296623279092,
          -1.4032359603804845,
          0.17011448873309684,
          -0.35102564009368653,
          1.6472531050230457,
          -0.0017095784216665632,
          -0.0802585463635855,
          -0.575165817878663,
          -0.1657590963488005,
          -0.3027385815977633,
          -1.9616424942909296,
          -1.0595263589326296,
          0.28209798325173263,
          -2.0820126828445544,
          1.8275024342636472,
          0.5621274107848366,
          1.2420771711415866,
          0.7722407212744912,
          -0.9751223011313264,
          -1.102383352433531,
          0.4918739774394961,
          0.3487522046764612,
          -1.54710965071441,
          -0.8007558152026161,
          -0.9175078799164796,
          -0.7142573010425983,
          0.07227775378214862,
          0.9006310625650061,
          0.5780860324163493,
          -0.6580487515865606,
          -0.9596497293206537,
          0.9447780056152655,
          0.22755580790266747,
          -0.9266910380099435,
          0.623537292539532,
          1.5961122826254042,
          1.625671033487804,
          0.20979766304248096,
          0.997780750833331,
          -0.2060883820505985,
          -1.0512210349747726,
          -0.5917818884538694,
          0.14740204061721746,
          1.108594612789978,
          -0.7950490675748462,
          1.0228236643021653,
          -0.6954751231068863,
          0.6351958883736164,
          0.5992249242207415,
          -1.1854834697675771,
          -0.9681946986435691,
          1.2351166042413806,
          -0.5123916078822467,
          0.3585394032102082,
          1.4113603363595246,
          -0.41841125808042157,
          -1.113792321118681,
          0.6698608955320294,
          -1.0729019997914118,
          0.7960213296027061,
          0.016233231262760002,
          -0.8170973228582855,
          0.9156937186180036
         ],
         "xaxis": "x14",
         "y": [
          0.5320751007912108,
          -0.44975930030199057,
          -1.6771656542045301,
          -0.44091591284909243,
          -1.2851308015526384,
          -0.7672921960404369,
          -0.6840520694104756,
          -0.6289566167996111,
          0.6170199863296312,
          1.5550761236361315,
          -1.1446406031185345,
          0.7479360181353207,
          -0.6950321487313877,
          0.5142116978702493,
          -0.05006610246305449,
          -1.2706903369398972,
          0.9337105505915513,
          0.02165987886009008,
          -1.2383746732693224,
          1.01583752659063,
          -1.5344942838895572,
          -1.7971611010933033,
          0.012282015431504915,
          -1.248470325798801,
          -0.751727321058121,
          -2.273936072897154,
          1.7158873760344808,
          0.7321212780290757,
          -0.8102477927166142,
          1.1576824094414746,
          1.0583851117702763,
          0.49939834857688903,
          -1.971629393028559,
          -0.19322930214937295,
          0.0012406867894250626,
          -0.4342478017479121,
          1.095708912865221,
          0.2670904432193301,
          -1.190003807101934,
          -1.824817137720109,
          0.6501051336568515,
          -0.7750100630892506,
          -2.6817732386921604,
          1.3755485210745413,
          -0.4566373399656553,
          0.21588239064332343,
          -0.3475715417473595,
          1.335959388515564,
          0.39092724768516396,
          -1.8090022241329922,
          -0.05083863408104635,
          0.19966595619373337,
          0.18988135074015444,
          1.5879808284339636,
          2.7361373772078283,
          -1.0197215028317126,
          -1.6130798488874252,
          0.5008144907488354,
          -0.9054816200020326,
          -0.35278425688605897,
          0.07276996573600186,
          -0.11367312835682204,
          -0.4706793706580518,
          -0.7936352667864787,
          -0.073325399871544,
          -0.43098695473405396,
          -0.0021861177911710124,
          0.5205942760047915,
          1.125066587272659,
          -0.2653476580169145,
          1.230584153756348,
          0.5793011352848095,
          0.029628537268579048,
          -1.4374169864346782,
          -0.5203916972600846,
          -0.4696135290321071,
          -0.39830013019241006,
          0.9383185262511324,
          0.7502574495111625,
          -0.6580610391754727,
          -1.1133388387574064,
          0.548548678120502,
          -1.0798445834426695,
          -0.041307743482665464,
          0.23662982761887102,
          0.42647950801796736,
          1.08235850983857,
          -0.9200774076240209,
          0.6218461906103815,
          -0.23433028578862783,
          -0.8251050806726193,
          0.9333061973048289,
          -0.38522662207844394,
          -0.06723256007858268,
          -0.12573699866268626,
          0.7054772877188187,
          -0.22895083135905175,
          -0.15635726896667954,
          -0.4138384484948669,
          0.7292057746683822
         ],
         "yaxis": "y14"
        },
        {
         "line": {
          "color": "rgba(128, 128, 128, 1.0)",
          "dash": "solid",
          "shape": "linear",
          "width": 1.3
         },
         "marker": {
          "size": 2,
          "symbol": "circle"
         },
         "mode": "markers",
         "name": "D",
         "text": "",
         "type": "scatter",
         "x": [
          1.1140000563102914,
          0.9179111192891231,
          -1.188893946688415,
          -0.13114065312801368,
          -0.5073065118302527,
          -0.09311221148029948,
          -0.40309858035619506,
          -1.2941013357609827,
          0.1522616172187679,
          -0.5686042910003242,
          -1.4286613086018733,
          -0.3781713795523727,
          0.9331227361823387,
          -0.37323223165875363,
          -1.2944234062713793,
          0.37687384815416897,
          0.5383864472562093,
          0.9195673961256198,
          -0.3235223820041577,
          1.8727485081926467,
          -1.1795816875266778,
          -0.8449949840723888,
          -0.08170021400646502,
          -0.286192565615934,
          -1.3748756883851165,
          0.010926462554086724,
          -1.2328496843628618,
          2.0348838456214176,
          0.7000633511884815,
          -0.35531942399480254,
          -1.3406610705744013,
          0.01864999286216511,
          0.5094391286396842,
          -1.5836916726094383,
          -0.3451019978525569,
          0.20728312534209858,
          -0.47075281728892493,
          -0.8495495198337799,
          -2.27462312634757,
          1.079188580241099,
          1.3734873349909233,
          -0.9887079292764147,
          -0.19846970539638176,
          0.05555537080006787,
          1.0484174095692995,
          0.8413944546834128,
          -0.7442255295790747,
          1.35177853019317,
          -0.9227955558679611,
          -1.7848428894509274,
          -0.5376159353749289,
          0.42513207851628615,
          -1.1757641125658604,
          2.181435776931965,
          -1.3438381707387712,
          0.8337444045407011,
          -1.5632258506764016,
          -2.005299736675884,
          -0.512145200699896,
          -1.53512757582114,
          1.1256314278115334,
          -0.6368906250105119,
          1.012714720029981,
          1.14227675351933,
          0.6768707978526404,
          0.7408747509514002,
          1.208987844444804,
          -0.1696233626484463,
          0.533747518286306,
          -0.3238050911571481,
          1.4373066693923289,
          -1.3749462604913611,
          -0.47634446509526457,
          -1.2352209629271114,
          -0.7201741134971659,
          -0.5644507478376956,
          -0.8185475418091991,
          -0.2373988288623339,
          0.0525329787130495,
          0.7152312336106041,
          0.7515669310370038,
          2.1725115233636845,
          0.6709486950696367,
          -0.061786962023700744,
          1.99790878884932,
          -0.950474140726602,
          0.10347883137981151,
          -1.2619653553943295,
          0.9560693039796121,
          -0.24808316128268526,
          -0.5646307550129808,
          1.2111527593269058,
          -0.9052042719227168,
          -1.5476361898746265,
          0.7908770935839322,
          -0.19067333565555433,
          -0.696414490205117,
          -1.2008177650951006,
          -0.6279644058254207,
          1.2065146144924799
         ],
         "xaxis": "x15",
         "y": [
          0.5320751007912108,
          -0.44975930030199057,
          -1.6771656542045301,
          -0.44091591284909243,
          -1.2851308015526384,
          -0.7672921960404369,
          -0.6840520694104756,
          -0.6289566167996111,
          0.6170199863296312,
          1.5550761236361315,
          -1.1446406031185345,
          0.7479360181353207,
          -0.6950321487313877,
          0.5142116978702493,
          -0.05006610246305449,
          -1.2706903369398972,
          0.9337105505915513,
          0.02165987886009008,
          -1.2383746732693224,
          1.01583752659063,
          -1.5344942838895572,
          -1.7971611010933033,
          0.012282015431504915,
          -1.248470325798801,
          -0.751727321058121,
          -2.273936072897154,
          1.7158873760344808,
          0.7321212780290757,
          -0.8102477927166142,
          1.1576824094414746,
          1.0583851117702763,
          0.49939834857688903,
          -1.971629393028559,
          -0.19322930214937295,
          0.0012406867894250626,
          -0.4342478017479121,
          1.095708912865221,
          0.2670904432193301,
          -1.190003807101934,
          -1.824817137720109,
          0.6501051336568515,
          -0.7750100630892506,
          -2.6817732386921604,
          1.3755485210745413,
          -0.4566373399656553,
          0.21588239064332343,
          -0.3475715417473595,
          1.335959388515564,
          0.39092724768516396,
          -1.8090022241329922,
          -0.05083863408104635,
          0.19966595619373337,
          0.18988135074015444,
          1.5879808284339636,
          2.7361373772078283,
          -1.0197215028317126,
          -1.6130798488874252,
          0.5008144907488354,
          -0.9054816200020326,
          -0.35278425688605897,
          0.07276996573600186,
          -0.11367312835682204,
          -0.4706793706580518,
          -0.7936352667864787,
          -0.073325399871544,
          -0.43098695473405396,
          -0.0021861177911710124,
          0.5205942760047915,
          1.125066587272659,
          -0.2653476580169145,
          1.230584153756348,
          0.5793011352848095,
          0.029628537268579048,
          -1.4374169864346782,
          -0.5203916972600846,
          -0.4696135290321071,
          -0.39830013019241006,
          0.9383185262511324,
          0.7502574495111625,
          -0.6580610391754727,
          -1.1133388387574064,
          0.548548678120502,
          -1.0798445834426695,
          -0.041307743482665464,
          0.23662982761887102,
          0.42647950801796736,
          1.08235850983857,
          -0.9200774076240209,
          0.6218461906103815,
          -0.23433028578862783,
          -0.8251050806726193,
          0.9333061973048289,
          -0.38522662207844394,
          -0.06723256007858268,
          -0.12573699866268626,
          0.7054772877188187,
          -0.22895083135905175,
          -0.15635726896667954,
          -0.4138384484948669,
          0.7292057746683822
         ],
         "yaxis": "y15"
        },
        {
         "histfunc": "count",
         "histnorm": "",
         "marker": {
          "color": "rgba(128, 0, 128, 1.0)",
          "line": {
           "color": "#4D5663",
           "width": 1.3
          }
         },
         "name": "D",
         "nbinsx": 10,
         "opacity": 0.8,
         "orientation": "v",
         "type": "histogram",
         "x": [
          0.5320751007912108,
          -0.44975930030199057,
          -1.6771656542045301,
          -0.44091591284909243,
          -1.2851308015526384,
          -0.7672921960404369,
          -0.6840520694104756,
          -0.6289566167996111,
          0.6170199863296312,
          1.5550761236361315,
          -1.1446406031185345,
          0.7479360181353207,
          -0.6950321487313877,
          0.5142116978702493,
          -0.05006610246305449,
          -1.2706903369398972,
          0.9337105505915513,
          0.02165987886009008,
          -1.2383746732693224,
          1.01583752659063,
          -1.5344942838895572,
          -1.7971611010933033,
          0.012282015431504915,
          -1.248470325798801,
          -0.751727321058121,
          -2.273936072897154,
          1.7158873760344808,
          0.7321212780290757,
          -0.8102477927166142,
          1.1576824094414746,
          1.0583851117702763,
          0.49939834857688903,
          -1.971629393028559,
          -0.19322930214937295,
          0.0012406867894250626,
          -0.4342478017479121,
          1.095708912865221,
          0.2670904432193301,
          -1.190003807101934,
          -1.824817137720109,
          0.6501051336568515,
          -0.7750100630892506,
          -2.6817732386921604,
          1.3755485210745413,
          -0.4566373399656553,
          0.21588239064332343,
          -0.3475715417473595,
          1.335959388515564,
          0.39092724768516396,
          -1.8090022241329922,
          -0.05083863408104635,
          0.19966595619373337,
          0.18988135074015444,
          1.5879808284339636,
          2.7361373772078283,
          -1.0197215028317126,
          -1.6130798488874252,
          0.5008144907488354,
          -0.9054816200020326,
          -0.35278425688605897,
          0.07276996573600186,
          -0.11367312835682204,
          -0.4706793706580518,
          -0.7936352667864787,
          -0.073325399871544,
          -0.43098695473405396,
          -0.0021861177911710124,
          0.5205942760047915,
          1.125066587272659,
          -0.2653476580169145,
          1.230584153756348,
          0.5793011352848095,
          0.029628537268579048,
          -1.4374169864346782,
          -0.5203916972600846,
          -0.4696135290321071,
          -0.39830013019241006,
          0.9383185262511324,
          0.7502574495111625,
          -0.6580610391754727,
          -1.1133388387574064,
          0.548548678120502,
          -1.0798445834426695,
          -0.041307743482665464,
          0.23662982761887102,
          0.42647950801796736,
          1.08235850983857,
          -0.9200774076240209,
          0.6218461906103815,
          -0.23433028578862783,
          -0.8251050806726193,
          0.9333061973048289,
          -0.38522662207844394,
          -0.06723256007858268,
          -0.12573699866268626,
          0.7054772877188187,
          -0.22895083135905175,
          -0.15635726896667954,
          -0.4138384484948669,
          0.7292057746683822
         ],
         "xaxis": "x16",
         "yaxis": "y16"
        }
       ],
       "layout": {
        "bargap": 0.02,
        "legend": {
         "bgcolor": "#F5F6F9",
         "font": {
          "color": "#4D5663"
         }
        },
        "paper_bgcolor": "#F5F6F9",
        "plot_bgcolor": "#F5F6F9",
        "showlegend": false,
        "template": {
         "data": {
          "bar": [
           {
            "error_x": {
             "color": "#2a3f5f"
            },
            "error_y": {
             "color": "#2a3f5f"
            },
            "marker": {
             "line": {
              "color": "#E5ECF6",
              "width": 0.5
             }
            },
            "type": "bar"
           }
          ],
          "barpolar": [
           {
            "marker": {
             "line": {
              "color": "#E5ECF6",
              "width": 0.5
             }
            },
            "type": "barpolar"
           }
          ],
          "carpet": [
           {
            "aaxis": {
             "endlinecolor": "#2a3f5f",
             "gridcolor": "white",
             "linecolor": "white",
             "minorgridcolor": "white",
             "startlinecolor": "#2a3f5f"
            },
            "baxis": {
             "endlinecolor": "#2a3f5f",
             "gridcolor": "white",
             "linecolor": "white",
             "minorgridcolor": "white",
             "startlinecolor": "#2a3f5f"
            },
            "type": "carpet"
           }
          ],
          "choropleth": [
           {
            "colorbar": {
             "outlinewidth": 0,
             "ticks": ""
            },
            "type": "choropleth"
           }
          ],
          "contour": [
           {
            "colorbar": {
             "outlinewidth": 0,
             "ticks": ""
            },
            "colorscale": [
             [
              0,
              "#0d0887"
             ],
             [
              0.1111111111111111,
              "#46039f"
             ],
             [
              0.2222222222222222,
              "#7201a8"
             ],
             [
              0.3333333333333333,
              "#9c179e"
             ],
             [
              0.4444444444444444,
              "#bd3786"
             ],
             [
              0.5555555555555556,
              "#d8576b"
             ],
             [
              0.6666666666666666,
              "#ed7953"
             ],
             [
              0.7777777777777778,
              "#fb9f3a"
             ],
             [
              0.8888888888888888,
              "#fdca26"
             ],
             [
              1,
              "#f0f921"
             ]
            ],
            "type": "contour"
           }
          ],
          "contourcarpet": [
           {
            "colorbar": {
             "outlinewidth": 0,
             "ticks": ""
            },
            "type": "contourcarpet"
           }
          ],
          "heatmap": [
           {
            "colorbar": {
             "outlinewidth": 0,
             "ticks": ""
            },
            "colorscale": [
             [
              0,
              "#0d0887"
             ],
             [
              0.1111111111111111,
              "#46039f"
             ],
             [
              0.2222222222222222,
              "#7201a8"
             ],
             [
              0.3333333333333333,
              "#9c179e"
             ],
             [
              0.4444444444444444,
              "#bd3786"
             ],
             [
              0.5555555555555556,
              "#d8576b"
             ],
             [
              0.6666666666666666,
              "#ed7953"
             ],
             [
              0.7777777777777778,
              "#fb9f3a"
             ],
             [
              0.8888888888888888,
              "#fdca26"
             ],
             [
              1,
              "#f0f921"
             ]
            ],
            "type": "heatmap"
           }
          ],
          "heatmapgl": [
           {
            "colorbar": {
             "outlinewidth": 0,
             "ticks": ""
            },
            "colorscale": [
             [
              0,
              "#0d0887"
             ],
             [
              0.1111111111111111,
              "#46039f"
             ],
             [
              0.2222222222222222,
              "#7201a8"
             ],
             [
              0.3333333333333333,
              "#9c179e"
             ],
             [
              0.4444444444444444,
              "#bd3786"
             ],
             [
              0.5555555555555556,
              "#d8576b"
             ],
             [
              0.6666666666666666,
              "#ed7953"
             ],
             [
              0.7777777777777778,
              "#fb9f3a"
             ],
             [
              0.8888888888888888,
              "#fdca26"
             ],
             [
              1,
              "#f0f921"
             ]
            ],
            "type": "heatmapgl"
           }
          ],
          "histogram": [
           {
            "marker": {
             "colorbar": {
              "outlinewidth": 0,
              "ticks": ""
             }
            },
            "type": "histogram"
           }
          ],
          "histogram2d": [
           {
            "colorbar": {
             "outlinewidth": 0,
             "ticks": ""
            },
            "colorscale": [
             [
              0,
              "#0d0887"
             ],
             [
              0.1111111111111111,
              "#46039f"
             ],
             [
              0.2222222222222222,
              "#7201a8"
             ],
             [
              0.3333333333333333,
              "#9c179e"
             ],
             [
              0.4444444444444444,
              "#bd3786"
             ],
             [
              0.5555555555555556,
              "#d8576b"
             ],
             [
              0.6666666666666666,
              "#ed7953"
             ],
             [
              0.7777777777777778,
              "#fb9f3a"
             ],
             [
              0.8888888888888888,
              "#fdca26"
             ],
             [
              1,
              "#f0f921"
             ]
            ],
            "type": "histogram2d"
           }
          ],
          "histogram2dcontour": [
           {
            "colorbar": {
             "outlinewidth": 0,
             "ticks": ""
            },
            "colorscale": [
             [
              0,
              "#0d0887"
             ],
             [
              0.1111111111111111,
              "#46039f"
             ],
             [
              0.2222222222222222,
              "#7201a8"
             ],
             [
              0.3333333333333333,
              "#9c179e"
             ],
             [
              0.4444444444444444,
              "#bd3786"
             ],
             [
              0.5555555555555556,
              "#d8576b"
             ],
             [
              0.6666666666666666,
              "#ed7953"
             ],
             [
              0.7777777777777778,
              "#fb9f3a"
             ],
             [
              0.8888888888888888,
              "#fdca26"
             ],
             [
              1,
              "#f0f921"
             ]
            ],
            "type": "histogram2dcontour"
           }
          ],
          "mesh3d": [
           {
            "colorbar": {
             "outlinewidth": 0,
             "ticks": ""
            },
            "type": "mesh3d"
           }
          ],
          "parcoords": [
           {
            "line": {
             "colorbar": {
              "outlinewidth": 0,
              "ticks": ""
             }
            },
            "type": "parcoords"
           }
          ],
          "pie": [
           {
            "automargin": true,
            "type": "pie"
           }
          ],
          "scatter": [
           {
            "marker": {
             "colorbar": {
              "outlinewidth": 0,
              "ticks": ""
             }
            },
            "type": "scatter"
           }
          ],
          "scatter3d": [
           {
            "line": {
             "colorbar": {
              "outlinewidth": 0,
              "ticks": ""
             }
            },
            "marker": {
             "colorbar": {
              "outlinewidth": 0,
              "ticks": ""
             }
            },
            "type": "scatter3d"
           }
          ],
          "scattercarpet": [
           {
            "marker": {
             "colorbar": {
              "outlinewidth": 0,
              "ticks": ""
             }
            },
            "type": "scattercarpet"
           }
          ],
          "scattergeo": [
           {
            "marker": {
             "colorbar": {
              "outlinewidth": 0,
              "ticks": ""
             }
            },
            "type": "scattergeo"
           }
          ],
          "scattergl": [
           {
            "marker": {
             "colorbar": {
              "outlinewidth": 0,
              "ticks": ""
             }
            },
            "type": "scattergl"
           }
          ],
          "scattermapbox": [
           {
            "marker": {
             "colorbar": {
              "outlinewidth": 0,
              "ticks": ""
             }
            },
            "type": "scattermapbox"
           }
          ],
          "scatterpolar": [
           {
            "marker": {
             "colorbar": {
              "outlinewidth": 0,
              "ticks": ""
             }
            },
            "type": "scatterpolar"
           }
          ],
          "scatterpolargl": [
           {
            "marker": {
             "colorbar": {
              "outlinewidth": 0,
              "ticks": ""
             }
            },
            "type": "scatterpolargl"
           }
          ],
          "scatterternary": [
           {
            "marker": {
             "colorbar": {
              "outlinewidth": 0,
              "ticks": ""
             }
            },
            "type": "scatterternary"
           }
          ],
          "surface": [
           {
            "colorbar": {
             "outlinewidth": 0,
             "ticks": ""
            },
            "colorscale": [
             [
              0,
              "#0d0887"
             ],
             [
              0.1111111111111111,
              "#46039f"
             ],
             [
              0.2222222222222222,
              "#7201a8"
             ],
             [
              0.3333333333333333,
              "#9c179e"
             ],
             [
              0.4444444444444444,
              "#bd3786"
             ],
             [
              0.5555555555555556,
              "#d8576b"
             ],
             [
              0.6666666666666666,
              "#ed7953"
             ],
             [
              0.7777777777777778,
              "#fb9f3a"
             ],
             [
              0.8888888888888888,
              "#fdca26"
             ],
             [
              1,
              "#f0f921"
             ]
            ],
            "type": "surface"
           }
          ],
          "table": [
           {
            "cells": {
             "fill": {
              "color": "#EBF0F8"
             },
             "line": {
              "color": "white"
             }
            },
            "header": {
             "fill": {
              "color": "#C8D4E3"
             },
             "line": {
              "color": "white"
             }
            },
            "type": "table"
           }
          ]
         },
         "layout": {
          "annotationdefaults": {
           "arrowcolor": "#2a3f5f",
           "arrowhead": 0,
           "arrowwidth": 1
          },
          "autotypenumbers": "strict",
          "coloraxis": {
           "colorbar": {
            "outlinewidth": 0,
            "ticks": ""
           }
          },
          "colorscale": {
           "diverging": [
            [
             0,
             "#8e0152"
            ],
            [
             0.1,
             "#c51b7d"
            ],
            [
             0.2,
             "#de77ae"
            ],
            [
             0.3,
             "#f1b6da"
            ],
            [
             0.4,
             "#fde0ef"
            ],
            [
             0.5,
             "#f7f7f7"
            ],
            [
             0.6,
             "#e6f5d0"
            ],
            [
             0.7,
             "#b8e186"
            ],
            [
             0.8,
             "#7fbc41"
            ],
            [
             0.9,
             "#4d9221"
            ],
            [
             1,
             "#276419"
            ]
           ],
           "sequential": [
            [
             0,
             "#0d0887"
            ],
            [
             0.1111111111111111,
             "#46039f"
            ],
            [
             0.2222222222222222,
             "#7201a8"
            ],
            [
             0.3333333333333333,
             "#9c179e"
            ],
            [
             0.4444444444444444,
             "#bd3786"
            ],
            [
             0.5555555555555556,
             "#d8576b"
            ],
            [
             0.6666666666666666,
             "#ed7953"
            ],
            [
             0.7777777777777778,
             "#fb9f3a"
            ],
            [
             0.8888888888888888,
             "#fdca26"
            ],
            [
             1,
             "#f0f921"
            ]
           ],
           "sequentialminus": [
            [
             0,
             "#0d0887"
            ],
            [
             0.1111111111111111,
             "#46039f"
            ],
            [
             0.2222222222222222,
             "#7201a8"
            ],
            [
             0.3333333333333333,
             "#9c179e"
            ],
            [
             0.4444444444444444,
             "#bd3786"
            ],
            [
             0.5555555555555556,
             "#d8576b"
            ],
            [
             0.6666666666666666,
             "#ed7953"
            ],
            [
             0.7777777777777778,
             "#fb9f3a"
            ],
            [
             0.8888888888888888,
             "#fdca26"
            ],
            [
             1,
             "#f0f921"
            ]
           ]
          },
          "colorway": [
           "#636efa",
           "#EF553B",
           "#00cc96",
           "#ab63fa",
           "#FFA15A",
           "#19d3f3",
           "#FF6692",
           "#B6E880",
           "#FF97FF",
           "#FECB52"
          ],
          "font": {
           "color": "#2a3f5f"
          },
          "geo": {
           "bgcolor": "white",
           "lakecolor": "white",
           "landcolor": "#E5ECF6",
           "showlakes": true,
           "showland": true,
           "subunitcolor": "white"
          },
          "hoverlabel": {
           "align": "left"
          },
          "hovermode": "closest",
          "mapbox": {
           "style": "light"
          },
          "paper_bgcolor": "white",
          "plot_bgcolor": "#E5ECF6",
          "polar": {
           "angularaxis": {
            "gridcolor": "white",
            "linecolor": "white",
            "ticks": ""
           },
           "bgcolor": "#E5ECF6",
           "radialaxis": {
            "gridcolor": "white",
            "linecolor": "white",
            "ticks": ""
           }
          },
          "scene": {
           "xaxis": {
            "backgroundcolor": "#E5ECF6",
            "gridcolor": "white",
            "gridwidth": 2,
            "linecolor": "white",
            "showbackground": true,
            "ticks": "",
            "zerolinecolor": "white"
           },
           "yaxis": {
            "backgroundcolor": "#E5ECF6",
            "gridcolor": "white",
            "gridwidth": 2,
            "linecolor": "white",
            "showbackground": true,
            "ticks": "",
            "zerolinecolor": "white"
           },
           "zaxis": {
            "backgroundcolor": "#E5ECF6",
            "gridcolor": "white",
            "gridwidth": 2,
            "linecolor": "white",
            "showbackground": true,
            "ticks": "",
            "zerolinecolor": "white"
           }
          },
          "shapedefaults": {
           "line": {
            "color": "#2a3f5f"
           }
          },
          "ternary": {
           "aaxis": {
            "gridcolor": "white",
            "linecolor": "white",
            "ticks": ""
           },
           "baxis": {
            "gridcolor": "white",
            "linecolor": "white",
            "ticks": ""
           },
           "bgcolor": "#E5ECF6",
           "caxis": {
            "gridcolor": "white",
            "linecolor": "white",
            "ticks": ""
           }
          },
          "title": {
           "x": 0.05
          },
          "xaxis": {
           "automargin": true,
           "gridcolor": "white",
           "linecolor": "white",
           "ticks": "",
           "title": {
            "standoff": 15
           },
           "zerolinecolor": "white",
           "zerolinewidth": 2
          },
          "yaxis": {
           "automargin": true,
           "gridcolor": "white",
           "linecolor": "white",
           "ticks": "",
           "title": {
            "standoff": 15
           },
           "zerolinecolor": "white",
           "zerolinewidth": 2
          }
         }
        },
        "title": {
         "font": {
          "color": "#4D5663"
         }
        },
        "xaxis": {
         "anchor": "y",
         "domain": [
          0,
          0.2125
         ],
         "gridcolor": "#E1E5ED",
         "showgrid": false,
         "tickfont": {
          "color": "#4D5663"
         },
         "title": {
          "font": {
           "color": "#4D5663"
          },
          "text": ""
         },
         "zerolinecolor": "#E1E5ED"
        },
        "xaxis10": {
         "anchor": "y10",
         "domain": [
          0.2625,
          0.475
         ],
         "gridcolor": "#E1E5ED",
         "showgrid": false,
         "tickfont": {
          "color": "#4D5663"
         },
         "title": {
          "font": {
           "color": "#4D5663"
          },
          "text": ""
         },
         "zerolinecolor": "#E1E5ED"
        },
        "xaxis11": {
         "anchor": "y11",
         "domain": [
          0.525,
          0.7375
         ],
         "gridcolor": "#E1E5ED",
         "showgrid": false,
         "tickfont": {
          "color": "#4D5663"
         },
         "title": {
          "font": {
           "color": "#4D5663"
          },
          "text": ""
         },
         "zerolinecolor": "#E1E5ED"
        },
        "xaxis12": {
         "anchor": "y12",
         "domain": [
          0.7875,
          1
         ],
         "gridcolor": "#E1E5ED",
         "showgrid": false,
         "tickfont": {
          "color": "#4D5663"
         },
         "title": {
          "font": {
           "color": "#4D5663"
          },
          "text": ""
         },
         "zerolinecolor": "#E1E5ED"
        },
        "xaxis13": {
         "anchor": "y13",
         "domain": [
          0,
          0.2125
         ],
         "gridcolor": "#E1E5ED",
         "showgrid": false,
         "tickfont": {
          "color": "#4D5663"
         },
         "title": {
          "font": {
           "color": "#4D5663"
          },
          "text": ""
         },
         "zerolinecolor": "#E1E5ED"
        },
        "xaxis14": {
         "anchor": "y14",
         "domain": [
          0.2625,
          0.475
         ],
         "gridcolor": "#E1E5ED",
         "showgrid": false,
         "tickfont": {
          "color": "#4D5663"
         },
         "title": {
          "font": {
           "color": "#4D5663"
          },
          "text": ""
         },
         "zerolinecolor": "#E1E5ED"
        },
        "xaxis15": {
         "anchor": "y15",
         "domain": [
          0.525,
          0.7375
         ],
         "gridcolor": "#E1E5ED",
         "showgrid": false,
         "tickfont": {
          "color": "#4D5663"
         },
         "title": {
          "font": {
           "color": "#4D5663"
          },
          "text": ""
         },
         "zerolinecolor": "#E1E5ED"
        },
        "xaxis16": {
         "anchor": "y16",
         "domain": [
          0.7875,
          1
         ],
         "gridcolor": "#E1E5ED",
         "showgrid": false,
         "tickfont": {
          "color": "#4D5663"
         },
         "title": {
          "font": {
           "color": "#4D5663"
          },
          "text": ""
         },
         "zerolinecolor": "#E1E5ED"
        },
        "xaxis2": {
         "anchor": "y2",
         "domain": [
          0.2625,
          0.475
         ],
         "gridcolor": "#E1E5ED",
         "showgrid": false,
         "tickfont": {
          "color": "#4D5663"
         },
         "title": {
          "font": {
           "color": "#4D5663"
          },
          "text": ""
         },
         "zerolinecolor": "#E1E5ED"
        },
        "xaxis3": {
         "anchor": "y3",
         "domain": [
          0.525,
          0.7375
         ],
         "gridcolor": "#E1E5ED",
         "showgrid": false,
         "tickfont": {
          "color": "#4D5663"
         },
         "title": {
          "font": {
           "color": "#4D5663"
          },
          "text": ""
         },
         "zerolinecolor": "#E1E5ED"
        },
        "xaxis4": {
         "anchor": "y4",
         "domain": [
          0.7875,
          1
         ],
         "gridcolor": "#E1E5ED",
         "showgrid": false,
         "tickfont": {
          "color": "#4D5663"
         },
         "title": {
          "font": {
           "color": "#4D5663"
          },
          "text": ""
         },
         "zerolinecolor": "#E1E5ED"
        },
        "xaxis5": {
         "anchor": "y5",
         "domain": [
          0,
          0.2125
         ],
         "gridcolor": "#E1E5ED",
         "showgrid": false,
         "tickfont": {
          "color": "#4D5663"
         },
         "title": {
          "font": {
           "color": "#4D5663"
          },
          "text": ""
         },
         "zerolinecolor": "#E1E5ED"
        },
        "xaxis6": {
         "anchor": "y6",
         "domain": [
          0.2625,
          0.475
         ],
         "gridcolor": "#E1E5ED",
         "showgrid": false,
         "tickfont": {
          "color": "#4D5663"
         },
         "title": {
          "font": {
           "color": "#4D5663"
          },
          "text": ""
         },
         "zerolinecolor": "#E1E5ED"
        },
        "xaxis7": {
         "anchor": "y7",
         "domain": [
          0.525,
          0.7375
         ],
         "gridcolor": "#E1E5ED",
         "showgrid": false,
         "tickfont": {
          "color": "#4D5663"
         },
         "title": {
          "font": {
           "color": "#4D5663"
          },
          "text": ""
         },
         "zerolinecolor": "#E1E5ED"
        },
        "xaxis8": {
         "anchor": "y8",
         "domain": [
          0.7875,
          1
         ],
         "gridcolor": "#E1E5ED",
         "showgrid": false,
         "tickfont": {
          "color": "#4D5663"
         },
         "title": {
          "font": {
           "color": "#4D5663"
          },
          "text": ""
         },
         "zerolinecolor": "#E1E5ED"
        },
        "xaxis9": {
         "anchor": "y9",
         "domain": [
          0,
          0.2125
         ],
         "gridcolor": "#E1E5ED",
         "showgrid": false,
         "tickfont": {
          "color": "#4D5663"
         },
         "title": {
          "font": {
           "color": "#4D5663"
          },
          "text": ""
         },
         "zerolinecolor": "#E1E5ED"
        },
        "yaxis": {
         "anchor": "x",
         "domain": [
          0.8025,
          1
         ],
         "gridcolor": "#E1E5ED",
         "showgrid": false,
         "tickfont": {
          "color": "#4D5663"
         },
         "title": {
          "font": {
           "color": "#4D5663"
          },
          "text": ""
         },
         "zerolinecolor": "#E1E5ED"
        },
        "yaxis10": {
         "anchor": "x10",
         "domain": [
          0.2675,
          0.465
         ],
         "gridcolor": "#E1E5ED",
         "showgrid": false,
         "tickfont": {
          "color": "#4D5663"
         },
         "title": {
          "font": {
           "color": "#4D5663"
          },
          "text": ""
         },
         "zerolinecolor": "#E1E5ED"
        },
        "yaxis11": {
         "anchor": "x11",
         "domain": [
          0.2675,
          0.465
         ],
         "gridcolor": "#E1E5ED",
         "showgrid": false,
         "tickfont": {
          "color": "#4D5663"
         },
         "title": {
          "font": {
           "color": "#4D5663"
          },
          "text": ""
         },
         "zerolinecolor": "#E1E5ED"
        },
        "yaxis12": {
         "anchor": "x12",
         "domain": [
          0.2675,
          0.465
         ],
         "gridcolor": "#E1E5ED",
         "showgrid": false,
         "tickfont": {
          "color": "#4D5663"
         },
         "title": {
          "font": {
           "color": "#4D5663"
          },
          "text": ""
         },
         "zerolinecolor": "#E1E5ED"
        },
        "yaxis13": {
         "anchor": "x13",
         "domain": [
          0,
          0.1975
         ],
         "gridcolor": "#E1E5ED",
         "showgrid": false,
         "tickfont": {
          "color": "#4D5663"
         },
         "title": {
          "font": {
           "color": "#4D5663"
          },
          "text": ""
         },
         "zerolinecolor": "#E1E5ED"
        },
        "yaxis14": {
         "anchor": "x14",
         "domain": [
          0,
          0.1975
         ],
         "gridcolor": "#E1E5ED",
         "showgrid": false,
         "tickfont": {
          "color": "#4D5663"
         },
         "title": {
          "font": {
           "color": "#4D5663"
          },
          "text": ""
         },
         "zerolinecolor": "#E1E5ED"
        },
        "yaxis15": {
         "anchor": "x15",
         "domain": [
          0,
          0.1975
         ],
         "gridcolor": "#E1E5ED",
         "showgrid": false,
         "tickfont": {
          "color": "#4D5663"
         },
         "title": {
          "font": {
           "color": "#4D5663"
          },
          "text": ""
         },
         "zerolinecolor": "#E1E5ED"
        },
        "yaxis16": {
         "anchor": "x16",
         "domain": [
          0,
          0.1975
         ],
         "gridcolor": "#E1E5ED",
         "showgrid": false,
         "tickfont": {
          "color": "#4D5663"
         },
         "title": {
          "font": {
           "color": "#4D5663"
          },
          "text": ""
         },
         "zerolinecolor": "#E1E5ED"
        },
        "yaxis2": {
         "anchor": "x2",
         "domain": [
          0.8025,
          1
         ],
         "gridcolor": "#E1E5ED",
         "showgrid": false,
         "tickfont": {
          "color": "#4D5663"
         },
         "title": {
          "font": {
           "color": "#4D5663"
          },
          "text": ""
         },
         "zerolinecolor": "#E1E5ED"
        },
        "yaxis3": {
         "anchor": "x3",
         "domain": [
          0.8025,
          1
         ],
         "gridcolor": "#E1E5ED",
         "showgrid": false,
         "tickfont": {
          "color": "#4D5663"
         },
         "title": {
          "font": {
           "color": "#4D5663"
          },
          "text": ""
         },
         "zerolinecolor": "#E1E5ED"
        },
        "yaxis4": {
         "anchor": "x4",
         "domain": [
          0.8025,
          1
         ],
         "gridcolor": "#E1E5ED",
         "showgrid": false,
         "tickfont": {
          "color": "#4D5663"
         },
         "title": {
          "font": {
           "color": "#4D5663"
          },
          "text": ""
         },
         "zerolinecolor": "#E1E5ED"
        },
        "yaxis5": {
         "anchor": "x5",
         "domain": [
          0.535,
          0.7325
         ],
         "gridcolor": "#E1E5ED",
         "showgrid": false,
         "tickfont": {
          "color": "#4D5663"
         },
         "title": {
          "font": {
           "color": "#4D5663"
          },
          "text": ""
         },
         "zerolinecolor": "#E1E5ED"
        },
        "yaxis6": {
         "anchor": "x6",
         "domain": [
          0.535,
          0.7325
         ],
         "gridcolor": "#E1E5ED",
         "showgrid": false,
         "tickfont": {
          "color": "#4D5663"
         },
         "title": {
          "font": {
           "color": "#4D5663"
          },
          "text": ""
         },
         "zerolinecolor": "#E1E5ED"
        },
        "yaxis7": {
         "anchor": "x7",
         "domain": [
          0.535,
          0.7325
         ],
         "gridcolor": "#E1E5ED",
         "showgrid": false,
         "tickfont": {
          "color": "#4D5663"
         },
         "title": {
          "font": {
           "color": "#4D5663"
          },
          "text": ""
         },
         "zerolinecolor": "#E1E5ED"
        },
        "yaxis8": {
         "anchor": "x8",
         "domain": [
          0.535,
          0.7325
         ],
         "gridcolor": "#E1E5ED",
         "showgrid": false,
         "tickfont": {
          "color": "#4D5663"
         },
         "title": {
          "font": {
           "color": "#4D5663"
          },
          "text": ""
         },
         "zerolinecolor": "#E1E5ED"
        },
        "yaxis9": {
         "anchor": "x9",
         "domain": [
          0.2675,
          0.465
         ],
         "gridcolor": "#E1E5ED",
         "showgrid": false,
         "tickfont": {
          "color": "#4D5663"
         },
         "title": {
          "font": {
           "color": "#4D5663"
          },
          "text": ""
         },
         "zerolinecolor": "#E1E5ED"
        }
       }
      },
      "text/html": [
       "<div>                            <div id=\"29dcc373-ce6b-4cb1-88ee-ad2e2c6f885c\" class=\"plotly-graph-div\" style=\"height:525px; width:100%;\"></div>            <script type=\"text/javascript\">                require([\"plotly\"], function(Plotly) {                    window.PLOTLYENV=window.PLOTLYENV || {};\n",
       "                    window.PLOTLYENV.BASE_URL='https://plot.ly';                                    if (document.getElementById(\"29dcc373-ce6b-4cb1-88ee-ad2e2c6f885c\")) {                    Plotly.newPlot(                        \"29dcc373-ce6b-4cb1-88ee-ad2e2c6f885c\",                        [{\"histfunc\": \"count\", \"histnorm\": \"\", \"marker\": {\"color\": \"rgba(255, 153, 51, 1.0)\", \"line\": {\"color\": \"#4D5663\", \"width\": 1.3}}, \"name\": \"A\", \"nbinsx\": 10, \"opacity\": 0.8, \"orientation\": \"v\", \"type\": \"histogram\", \"x\": [-0.19413006811794645, 1.6873452436372878, -0.06033814051572481, 1.127241606699178, 0.4249481578883776, -0.474771738742198, 0.698211057555185, 2.3585197847599058, 0.2525076034946605, -1.0036563379066212, 0.6536456432532819, -0.49369169397422796, -0.040726414634479166, -1.2885506743387969, -0.6020672152154837, -0.3648634665112078, 0.8550055279946877, -0.17651701401783582, -0.19397655363332744, -0.5974369876080038, 1.0008277559296812, 1.3800382984728465, 1.842995649951157, -0.3934532452291988, 1.775188837143746, -0.10482980330404865, 1.4332963698722747, 2.104609929509668, -1.3107212075382997, -1.4251183393240168, -1.7439730133074343, 0.13983069925649397, -0.1489846483553503, 1.2371640170336395, 1.4546617303712968, -1.9221666452059851, 1.1196152585742165, -1.5414060431672485, 0.23091464060285513, -0.1795998073426502, 0.3568798660024454, 0.07031144664084961, -0.2847388574307799, -2.0255021671344045, -0.8162924399503177, -1.1554189247537237, 0.3272815669839693, 1.2433458954860341, -0.8592310438158935, -0.12255589607043708, -2.9330462306596297, 0.825075419527729, -1.3838364250794792, 0.47002291759059917, 0.16019366964864235, -0.6695497233597274, 0.6571492065201427, -1.0362928866265888, 0.6000371947768279, -1.0852365770917878, 0.6699417739632818, -0.7799693098199959, -2.0855814299603646, -0.44145574032885965, -1.2931539005533357, 0.2526285871877972, 0.43845672549827974, -2.308093329442031, -1.0337271695209675, -1.3010430922089382, -0.7449131497770748, 1.2401792295516962, 0.6122413017452012, 0.8534369987201077, 1.312831009581544, 1.662951815482871, -0.3316120266169116, 1.743694974660214, -0.13013299703260145, -0.29376058235490393, -1.0956253739601314, -0.8838304978530539, -1.8595140265346404, 0.9873673295542541, -1.169455618514835, -1.3958825951619405, 0.934004187216018, 0.5383689930416583, 0.8591407374766785, -0.720859277854418, 0.42481480563062385, 0.853917076970644, -0.49934487596276067, -1.3070911630905448, -0.48970691464979793, -0.4844952353948526, -0.5719609784077725, -1.1871246172535055, 1.3930489740217789, 1.0687185676705941], \"xaxis\": \"x\", \"yaxis\": \"y\"}, {\"line\": {\"color\": \"rgba(128, 128, 128, 1.0)\", \"dash\": \"solid\", \"shape\": \"linear\", \"width\": 1.3}, \"marker\": {\"size\": 2, \"symbol\": \"circle\"}, \"mode\": \"markers\", \"name\": \"A\", \"text\": \"\", \"type\": \"scatter\", \"x\": [-1.3611066114771493, -0.9404925242020148, 1.3722116473992234, 1.7322354728534157, -0.30694083887020157, 1.309104354467893, 0.5167954353662241, 1.6441571752434938, -0.4134000317423506, 0.5862823464153141, -0.3656583696810447, -0.40036097875741194, -1.9283670925827068, -0.0708327897680354, 1.1470858843451797, 0.5255863969656889, 2.068481598216057, -0.49383691804073476, -1.487171100606758, 0.4061167279907759, -0.8039282604159369, -0.6138178483047706, -1.9994750228413507, -0.004233993427505336, -0.49269365124873, 1.237631824582306, -0.2949322231299584, 2.1918300320617243, 0.07799139301538806, -1.1305133413357529, 1.0476162128924136, 0.3538543745858851, -0.6868036177964602, -0.11308818102274441, 0.038389249561694566, -0.4257780082736259, 0.30863654237506444, -0.9622296623279092, -1.4032359603804845, 0.17011448873309684, -0.35102564009368653, 1.6472531050230457, -0.0017095784216665632, -0.0802585463635855, -0.575165817878663, -0.1657590963488005, -0.3027385815977633, -1.9616424942909296, -1.0595263589326296, 0.28209798325173263, -2.0820126828445544, 1.8275024342636472, 0.5621274107848366, 1.2420771711415866, 0.7722407212744912, -0.9751223011313264, -1.102383352433531, 0.4918739774394961, 0.3487522046764612, -1.54710965071441, -0.8007558152026161, -0.9175078799164796, -0.7142573010425983, 0.07227775378214862, 0.9006310625650061, 0.5780860324163493, -0.6580487515865606, -0.9596497293206537, 0.9447780056152655, 0.22755580790266747, -0.9266910380099435, 0.623537292539532, 1.5961122826254042, 1.625671033487804, 0.20979766304248096, 0.997780750833331, -0.2060883820505985, -1.0512210349747726, -0.5917818884538694, 0.14740204061721746, 1.108594612789978, -0.7950490675748462, 1.0228236643021653, -0.6954751231068863, 0.6351958883736164, 0.5992249242207415, -1.1854834697675771, -0.9681946986435691, 1.2351166042413806, -0.5123916078822467, 0.3585394032102082, 1.4113603363595246, -0.41841125808042157, -1.113792321118681, 0.6698608955320294, -1.0729019997914118, 0.7960213296027061, 0.016233231262760002, -0.8170973228582855, 0.9156937186180036], \"xaxis\": \"x2\", \"y\": [-0.19413006811794645, 1.6873452436372878, -0.06033814051572481, 1.127241606699178, 0.4249481578883776, -0.474771738742198, 0.698211057555185, 2.3585197847599058, 0.2525076034946605, -1.0036563379066212, 0.6536456432532819, -0.49369169397422796, -0.040726414634479166, -1.2885506743387969, -0.6020672152154837, -0.3648634665112078, 0.8550055279946877, -0.17651701401783582, -0.19397655363332744, -0.5974369876080038, 1.0008277559296812, 1.3800382984728465, 1.842995649951157, -0.3934532452291988, 1.775188837143746, -0.10482980330404865, 1.4332963698722747, 2.104609929509668, -1.3107212075382997, -1.4251183393240168, -1.7439730133074343, 0.13983069925649397, -0.1489846483553503, 1.2371640170336395, 1.4546617303712968, -1.9221666452059851, 1.1196152585742165, -1.5414060431672485, 0.23091464060285513, -0.1795998073426502, 0.3568798660024454, 0.07031144664084961, -0.2847388574307799, -2.0255021671344045, -0.8162924399503177, -1.1554189247537237, 0.3272815669839693, 1.2433458954860341, -0.8592310438158935, -0.12255589607043708, -2.9330462306596297, 0.825075419527729, -1.3838364250794792, 0.47002291759059917, 0.16019366964864235, -0.6695497233597274, 0.6571492065201427, -1.0362928866265888, 0.6000371947768279, -1.0852365770917878, 0.6699417739632818, -0.7799693098199959, -2.0855814299603646, -0.44145574032885965, -1.2931539005533357, 0.2526285871877972, 0.43845672549827974, -2.308093329442031, -1.0337271695209675, -1.3010430922089382, -0.7449131497770748, 1.2401792295516962, 0.6122413017452012, 0.8534369987201077, 1.312831009581544, 1.662951815482871, -0.3316120266169116, 1.743694974660214, -0.13013299703260145, -0.29376058235490393, -1.0956253739601314, -0.8838304978530539, -1.8595140265346404, 0.9873673295542541, -1.169455618514835, -1.3958825951619405, 0.934004187216018, 0.5383689930416583, 0.8591407374766785, -0.720859277854418, 0.42481480563062385, 0.853917076970644, -0.49934487596276067, -1.3070911630905448, -0.48970691464979793, -0.4844952353948526, -0.5719609784077725, -1.1871246172535055, 1.3930489740217789, 1.0687185676705941], \"yaxis\": \"y2\"}, {\"line\": {\"color\": \"rgba(128, 128, 128, 1.0)\", \"dash\": \"solid\", \"shape\": \"linear\", \"width\": 1.3}, \"marker\": {\"size\": 2, \"symbol\": \"circle\"}, \"mode\": \"markers\", \"name\": \"A\", \"text\": \"\", \"type\": \"scatter\", \"x\": [1.1140000563102914, 0.9179111192891231, -1.188893946688415, -0.13114065312801368, -0.5073065118302527, -0.09311221148029948, -0.40309858035619506, -1.2941013357609827, 0.1522616172187679, -0.5686042910003242, -1.4286613086018733, -0.3781713795523727, 0.9331227361823387, -0.37323223165875363, -1.2944234062713793, 0.37687384815416897, 0.5383864472562093, 0.9195673961256198, -0.3235223820041577, 1.8727485081926467, -1.1795816875266778, -0.8449949840723888, -0.08170021400646502, -0.286192565615934, -1.3748756883851165, 0.010926462554086724, -1.2328496843628618, 2.0348838456214176, 0.7000633511884815, -0.35531942399480254, -1.3406610705744013, 0.01864999286216511, 0.5094391286396842, -1.5836916726094383, -0.3451019978525569, 0.20728312534209858, -0.47075281728892493, -0.8495495198337799, -2.27462312634757, 1.079188580241099, 1.3734873349909233, -0.9887079292764147, -0.19846970539638176, 0.05555537080006787, 1.0484174095692995, 0.8413944546834128, -0.7442255295790747, 1.35177853019317, -0.9227955558679611, -1.7848428894509274, -0.5376159353749289, 0.42513207851628615, -1.1757641125658604, 2.181435776931965, -1.3438381707387712, 0.8337444045407011, -1.5632258506764016, -2.005299736675884, -0.512145200699896, -1.53512757582114, 1.1256314278115334, -0.6368906250105119, 1.012714720029981, 1.14227675351933, 0.6768707978526404, 0.7408747509514002, 1.208987844444804, -0.1696233626484463, 0.533747518286306, -0.3238050911571481, 1.4373066693923289, -1.3749462604913611, -0.47634446509526457, -1.2352209629271114, -0.7201741134971659, -0.5644507478376956, -0.8185475418091991, -0.2373988288623339, 0.0525329787130495, 0.7152312336106041, 0.7515669310370038, 2.1725115233636845, 0.6709486950696367, -0.061786962023700744, 1.99790878884932, -0.950474140726602, 0.10347883137981151, -1.2619653553943295, 0.9560693039796121, -0.24808316128268526, -0.5646307550129808, 1.2111527593269058, -0.9052042719227168, -1.5476361898746265, 0.7908770935839322, -0.19067333565555433, -0.696414490205117, -1.2008177650951006, -0.6279644058254207, 1.2065146144924799], \"xaxis\": \"x3\", \"y\": [-0.19413006811794645, 1.6873452436372878, -0.06033814051572481, 1.127241606699178, 0.4249481578883776, -0.474771738742198, 0.698211057555185, 2.3585197847599058, 0.2525076034946605, -1.0036563379066212, 0.6536456432532819, -0.49369169397422796, -0.040726414634479166, -1.2885506743387969, -0.6020672152154837, -0.3648634665112078, 0.8550055279946877, -0.17651701401783582, -0.19397655363332744, -0.5974369876080038, 1.0008277559296812, 1.3800382984728465, 1.842995649951157, -0.3934532452291988, 1.775188837143746, -0.10482980330404865, 1.4332963698722747, 2.104609929509668, -1.3107212075382997, -1.4251183393240168, -1.7439730133074343, 0.13983069925649397, -0.1489846483553503, 1.2371640170336395, 1.4546617303712968, -1.9221666452059851, 1.1196152585742165, -1.5414060431672485, 0.23091464060285513, -0.1795998073426502, 0.3568798660024454, 0.07031144664084961, -0.2847388574307799, -2.0255021671344045, -0.8162924399503177, -1.1554189247537237, 0.3272815669839693, 1.2433458954860341, -0.8592310438158935, -0.12255589607043708, -2.9330462306596297, 0.825075419527729, -1.3838364250794792, 0.47002291759059917, 0.16019366964864235, -0.6695497233597274, 0.6571492065201427, -1.0362928866265888, 0.6000371947768279, -1.0852365770917878, 0.6699417739632818, -0.7799693098199959, -2.0855814299603646, -0.44145574032885965, -1.2931539005533357, 0.2526285871877972, 0.43845672549827974, -2.308093329442031, -1.0337271695209675, -1.3010430922089382, -0.7449131497770748, 1.2401792295516962, 0.6122413017452012, 0.8534369987201077, 1.312831009581544, 1.662951815482871, -0.3316120266169116, 1.743694974660214, -0.13013299703260145, -0.29376058235490393, -1.0956253739601314, -0.8838304978530539, -1.8595140265346404, 0.9873673295542541, -1.169455618514835, -1.3958825951619405, 0.934004187216018, 0.5383689930416583, 0.8591407374766785, -0.720859277854418, 0.42481480563062385, 0.853917076970644, -0.49934487596276067, -1.3070911630905448, -0.48970691464979793, -0.4844952353948526, -0.5719609784077725, -1.1871246172535055, 1.3930489740217789, 1.0687185676705941], \"yaxis\": \"y3\"}, {\"line\": {\"color\": \"rgba(128, 128, 128, 1.0)\", \"dash\": \"solid\", \"shape\": \"linear\", \"width\": 1.3}, \"marker\": {\"size\": 2, \"symbol\": \"circle\"}, \"mode\": \"markers\", \"name\": \"A\", \"text\": \"\", \"type\": \"scatter\", \"x\": [0.5320751007912108, -0.44975930030199057, -1.6771656542045301, -0.44091591284909243, -1.2851308015526384, -0.7672921960404369, -0.6840520694104756, -0.6289566167996111, 0.6170199863296312, 1.5550761236361315, -1.1446406031185345, 0.7479360181353207, -0.6950321487313877, 0.5142116978702493, -0.05006610246305449, -1.2706903369398972, 0.9337105505915513, 0.02165987886009008, -1.2383746732693224, 1.01583752659063, -1.5344942838895572, -1.7971611010933033, 0.012282015431504915, -1.248470325798801, -0.751727321058121, -2.273936072897154, 1.7158873760344808, 0.7321212780290757, -0.8102477927166142, 1.1576824094414746, 1.0583851117702763, 0.49939834857688903, -1.971629393028559, -0.19322930214937295, 0.0012406867894250626, -0.4342478017479121, 1.095708912865221, 0.2670904432193301, -1.190003807101934, -1.824817137720109, 0.6501051336568515, -0.7750100630892506, -2.6817732386921604, 1.3755485210745413, -0.4566373399656553, 0.21588239064332343, -0.3475715417473595, 1.335959388515564, 0.39092724768516396, -1.8090022241329922, -0.05083863408104635, 0.19966595619373337, 0.18988135074015444, 1.5879808284339636, 2.7361373772078283, -1.0197215028317126, -1.6130798488874252, 0.5008144907488354, -0.9054816200020326, -0.35278425688605897, 0.07276996573600186, -0.11367312835682204, -0.4706793706580518, -0.7936352667864787, -0.073325399871544, -0.43098695473405396, -0.0021861177911710124, 0.5205942760047915, 1.125066587272659, -0.2653476580169145, 1.230584153756348, 0.5793011352848095, 0.029628537268579048, -1.4374169864346782, -0.5203916972600846, -0.4696135290321071, -0.39830013019241006, 0.9383185262511324, 0.7502574495111625, -0.6580610391754727, -1.1133388387574064, 0.548548678120502, -1.0798445834426695, -0.041307743482665464, 0.23662982761887102, 0.42647950801796736, 1.08235850983857, -0.9200774076240209, 0.6218461906103815, -0.23433028578862783, -0.8251050806726193, 0.9333061973048289, -0.38522662207844394, -0.06723256007858268, -0.12573699866268626, 0.7054772877188187, -0.22895083135905175, -0.15635726896667954, -0.4138384484948669, 0.7292057746683822], \"xaxis\": \"x4\", \"y\": [-0.19413006811794645, 1.6873452436372878, -0.06033814051572481, 1.127241606699178, 0.4249481578883776, -0.474771738742198, 0.698211057555185, 2.3585197847599058, 0.2525076034946605, -1.0036563379066212, 0.6536456432532819, -0.49369169397422796, -0.040726414634479166, -1.2885506743387969, -0.6020672152154837, -0.3648634665112078, 0.8550055279946877, -0.17651701401783582, -0.19397655363332744, -0.5974369876080038, 1.0008277559296812, 1.3800382984728465, 1.842995649951157, -0.3934532452291988, 1.775188837143746, -0.10482980330404865, 1.4332963698722747, 2.104609929509668, -1.3107212075382997, -1.4251183393240168, -1.7439730133074343, 0.13983069925649397, -0.1489846483553503, 1.2371640170336395, 1.4546617303712968, -1.9221666452059851, 1.1196152585742165, -1.5414060431672485, 0.23091464060285513, -0.1795998073426502, 0.3568798660024454, 0.07031144664084961, -0.2847388574307799, -2.0255021671344045, -0.8162924399503177, -1.1554189247537237, 0.3272815669839693, 1.2433458954860341, -0.8592310438158935, -0.12255589607043708, -2.9330462306596297, 0.825075419527729, -1.3838364250794792, 0.47002291759059917, 0.16019366964864235, -0.6695497233597274, 0.6571492065201427, -1.0362928866265888, 0.6000371947768279, -1.0852365770917878, 0.6699417739632818, -0.7799693098199959, -2.0855814299603646, -0.44145574032885965, -1.2931539005533357, 0.2526285871877972, 0.43845672549827974, -2.308093329442031, -1.0337271695209675, -1.3010430922089382, -0.7449131497770748, 1.2401792295516962, 0.6122413017452012, 0.8534369987201077, 1.312831009581544, 1.662951815482871, -0.3316120266169116, 1.743694974660214, -0.13013299703260145, -0.29376058235490393, -1.0956253739601314, -0.8838304978530539, -1.8595140265346404, 0.9873673295542541, -1.169455618514835, -1.3958825951619405, 0.934004187216018, 0.5383689930416583, 0.8591407374766785, -0.720859277854418, 0.42481480563062385, 0.853917076970644, -0.49934487596276067, -1.3070911630905448, -0.48970691464979793, -0.4844952353948526, -0.5719609784077725, -1.1871246172535055, 1.3930489740217789, 1.0687185676705941], \"yaxis\": \"y4\"}, {\"line\": {\"color\": \"rgba(128, 128, 128, 1.0)\", \"dash\": \"solid\", \"shape\": \"linear\", \"width\": 1.3}, \"marker\": {\"size\": 2, \"symbol\": \"circle\"}, \"mode\": \"markers\", \"name\": \"B\", \"text\": \"\", \"type\": \"scatter\", \"x\": [-0.19413006811794645, 1.6873452436372878, -0.06033814051572481, 1.127241606699178, 0.4249481578883776, -0.474771738742198, 0.698211057555185, 2.3585197847599058, 0.2525076034946605, -1.0036563379066212, 0.6536456432532819, -0.49369169397422796, -0.040726414634479166, -1.2885506743387969, -0.6020672152154837, -0.3648634665112078, 0.8550055279946877, -0.17651701401783582, -0.19397655363332744, -0.5974369876080038, 1.0008277559296812, 1.3800382984728465, 1.842995649951157, -0.3934532452291988, 1.775188837143746, -0.10482980330404865, 1.4332963698722747, 2.104609929509668, -1.3107212075382997, -1.4251183393240168, -1.7439730133074343, 0.13983069925649397, -0.1489846483553503, 1.2371640170336395, 1.4546617303712968, -1.9221666452059851, 1.1196152585742165, -1.5414060431672485, 0.23091464060285513, -0.1795998073426502, 0.3568798660024454, 0.07031144664084961, -0.2847388574307799, -2.0255021671344045, -0.8162924399503177, -1.1554189247537237, 0.3272815669839693, 1.2433458954860341, -0.8592310438158935, -0.12255589607043708, -2.9330462306596297, 0.825075419527729, -1.3838364250794792, 0.47002291759059917, 0.16019366964864235, -0.6695497233597274, 0.6571492065201427, -1.0362928866265888, 0.6000371947768279, -1.0852365770917878, 0.6699417739632818, -0.7799693098199959, -2.0855814299603646, -0.44145574032885965, -1.2931539005533357, 0.2526285871877972, 0.43845672549827974, -2.308093329442031, -1.0337271695209675, -1.3010430922089382, -0.7449131497770748, 1.2401792295516962, 0.6122413017452012, 0.8534369987201077, 1.312831009581544, 1.662951815482871, -0.3316120266169116, 1.743694974660214, -0.13013299703260145, -0.29376058235490393, -1.0956253739601314, -0.8838304978530539, -1.8595140265346404, 0.9873673295542541, -1.169455618514835, -1.3958825951619405, 0.934004187216018, 0.5383689930416583, 0.8591407374766785, -0.720859277854418, 0.42481480563062385, 0.853917076970644, -0.49934487596276067, -1.3070911630905448, -0.48970691464979793, -0.4844952353948526, -0.5719609784077725, -1.1871246172535055, 1.3930489740217789, 1.0687185676705941], \"xaxis\": \"x5\", \"y\": [-1.3611066114771493, -0.9404925242020148, 1.3722116473992234, 1.7322354728534157, -0.30694083887020157, 1.309104354467893, 0.5167954353662241, 1.6441571752434938, -0.4134000317423506, 0.5862823464153141, -0.3656583696810447, -0.40036097875741194, -1.9283670925827068, -0.0708327897680354, 1.1470858843451797, 0.5255863969656889, 2.068481598216057, -0.49383691804073476, -1.487171100606758, 0.4061167279907759, -0.8039282604159369, -0.6138178483047706, -1.9994750228413507, -0.004233993427505336, -0.49269365124873, 1.237631824582306, -0.2949322231299584, 2.1918300320617243, 0.07799139301538806, -1.1305133413357529, 1.0476162128924136, 0.3538543745858851, -0.6868036177964602, -0.11308818102274441, 0.038389249561694566, -0.4257780082736259, 0.30863654237506444, -0.9622296623279092, -1.4032359603804845, 0.17011448873309684, -0.35102564009368653, 1.6472531050230457, -0.0017095784216665632, -0.0802585463635855, -0.575165817878663, -0.1657590963488005, -0.3027385815977633, -1.9616424942909296, -1.0595263589326296, 0.28209798325173263, -2.0820126828445544, 1.8275024342636472, 0.5621274107848366, 1.2420771711415866, 0.7722407212744912, -0.9751223011313264, -1.102383352433531, 0.4918739774394961, 0.3487522046764612, -1.54710965071441, -0.8007558152026161, -0.9175078799164796, -0.7142573010425983, 0.07227775378214862, 0.9006310625650061, 0.5780860324163493, -0.6580487515865606, -0.9596497293206537, 0.9447780056152655, 0.22755580790266747, -0.9266910380099435, 0.623537292539532, 1.5961122826254042, 1.625671033487804, 0.20979766304248096, 0.997780750833331, -0.2060883820505985, -1.0512210349747726, -0.5917818884538694, 0.14740204061721746, 1.108594612789978, -0.7950490675748462, 1.0228236643021653, -0.6954751231068863, 0.6351958883736164, 0.5992249242207415, -1.1854834697675771, -0.9681946986435691, 1.2351166042413806, -0.5123916078822467, 0.3585394032102082, 1.4113603363595246, -0.41841125808042157, -1.113792321118681, 0.6698608955320294, -1.0729019997914118, 0.7960213296027061, 0.016233231262760002, -0.8170973228582855, 0.9156937186180036], \"yaxis\": \"y5\"}, {\"histfunc\": \"count\", \"histnorm\": \"\", \"marker\": {\"color\": \"rgba(55, 128, 191, 1.0)\", \"line\": {\"color\": \"#4D5663\", \"width\": 1.3}}, \"name\": \"B\", \"nbinsx\": 10, \"opacity\": 0.8, \"orientation\": \"v\", \"type\": \"histogram\", \"x\": [-1.3611066114771493, -0.9404925242020148, 1.3722116473992234, 1.7322354728534157, -0.30694083887020157, 1.309104354467893, 0.5167954353662241, 1.6441571752434938, -0.4134000317423506, 0.5862823464153141, -0.3656583696810447, -0.40036097875741194, -1.9283670925827068, -0.0708327897680354, 1.1470858843451797, 0.5255863969656889, 2.068481598216057, -0.49383691804073476, -1.487171100606758, 0.4061167279907759, -0.8039282604159369, -0.6138178483047706, -1.9994750228413507, -0.004233993427505336, -0.49269365124873, 1.237631824582306, -0.2949322231299584, 2.1918300320617243, 0.07799139301538806, -1.1305133413357529, 1.0476162128924136, 0.3538543745858851, -0.6868036177964602, -0.11308818102274441, 0.038389249561694566, -0.4257780082736259, 0.30863654237506444, -0.9622296623279092, -1.4032359603804845, 0.17011448873309684, -0.35102564009368653, 1.6472531050230457, -0.0017095784216665632, -0.0802585463635855, -0.575165817878663, -0.1657590963488005, -0.3027385815977633, -1.9616424942909296, -1.0595263589326296, 0.28209798325173263, -2.0820126828445544, 1.8275024342636472, 0.5621274107848366, 1.2420771711415866, 0.7722407212744912, -0.9751223011313264, -1.102383352433531, 0.4918739774394961, 0.3487522046764612, -1.54710965071441, -0.8007558152026161, -0.9175078799164796, -0.7142573010425983, 0.07227775378214862, 0.9006310625650061, 0.5780860324163493, -0.6580487515865606, -0.9596497293206537, 0.9447780056152655, 0.22755580790266747, -0.9266910380099435, 0.623537292539532, 1.5961122826254042, 1.625671033487804, 0.20979766304248096, 0.997780750833331, -0.2060883820505985, -1.0512210349747726, -0.5917818884538694, 0.14740204061721746, 1.108594612789978, -0.7950490675748462, 1.0228236643021653, -0.6954751231068863, 0.6351958883736164, 0.5992249242207415, -1.1854834697675771, -0.9681946986435691, 1.2351166042413806, -0.5123916078822467, 0.3585394032102082, 1.4113603363595246, -0.41841125808042157, -1.113792321118681, 0.6698608955320294, -1.0729019997914118, 0.7960213296027061, 0.016233231262760002, -0.8170973228582855, 0.9156937186180036], \"xaxis\": \"x6\", \"yaxis\": \"y6\"}, {\"line\": {\"color\": \"rgba(128, 128, 128, 1.0)\", \"dash\": \"solid\", \"shape\": \"linear\", \"width\": 1.3}, \"marker\": {\"size\": 2, \"symbol\": \"circle\"}, \"mode\": \"markers\", \"name\": \"B\", \"text\": \"\", \"type\": \"scatter\", \"x\": [1.1140000563102914, 0.9179111192891231, -1.188893946688415, -0.13114065312801368, -0.5073065118302527, -0.09311221148029948, -0.40309858035619506, -1.2941013357609827, 0.1522616172187679, -0.5686042910003242, -1.4286613086018733, -0.3781713795523727, 0.9331227361823387, -0.37323223165875363, -1.2944234062713793, 0.37687384815416897, 0.5383864472562093, 0.9195673961256198, -0.3235223820041577, 1.8727485081926467, -1.1795816875266778, -0.8449949840723888, -0.08170021400646502, -0.286192565615934, -1.3748756883851165, 0.010926462554086724, -1.2328496843628618, 2.0348838456214176, 0.7000633511884815, -0.35531942399480254, -1.3406610705744013, 0.01864999286216511, 0.5094391286396842, -1.5836916726094383, -0.3451019978525569, 0.20728312534209858, -0.47075281728892493, -0.8495495198337799, -2.27462312634757, 1.079188580241099, 1.3734873349909233, -0.9887079292764147, -0.19846970539638176, 0.05555537080006787, 1.0484174095692995, 0.8413944546834128, -0.7442255295790747, 1.35177853019317, -0.9227955558679611, -1.7848428894509274, -0.5376159353749289, 0.42513207851628615, -1.1757641125658604, 2.181435776931965, -1.3438381707387712, 0.8337444045407011, -1.5632258506764016, -2.005299736675884, -0.512145200699896, -1.53512757582114, 1.1256314278115334, -0.6368906250105119, 1.012714720029981, 1.14227675351933, 0.6768707978526404, 0.7408747509514002, 1.208987844444804, -0.1696233626484463, 0.533747518286306, -0.3238050911571481, 1.4373066693923289, -1.3749462604913611, -0.47634446509526457, -1.2352209629271114, -0.7201741134971659, -0.5644507478376956, -0.8185475418091991, -0.2373988288623339, 0.0525329787130495, 0.7152312336106041, 0.7515669310370038, 2.1725115233636845, 0.6709486950696367, -0.061786962023700744, 1.99790878884932, -0.950474140726602, 0.10347883137981151, -1.2619653553943295, 0.9560693039796121, -0.24808316128268526, -0.5646307550129808, 1.2111527593269058, -0.9052042719227168, -1.5476361898746265, 0.7908770935839322, -0.19067333565555433, -0.696414490205117, -1.2008177650951006, -0.6279644058254207, 1.2065146144924799], \"xaxis\": \"x7\", \"y\": [-1.3611066114771493, -0.9404925242020148, 1.3722116473992234, 1.7322354728534157, -0.30694083887020157, 1.309104354467893, 0.5167954353662241, 1.6441571752434938, -0.4134000317423506, 0.5862823464153141, -0.3656583696810447, -0.40036097875741194, -1.9283670925827068, -0.0708327897680354, 1.1470858843451797, 0.5255863969656889, 2.068481598216057, -0.49383691804073476, -1.487171100606758, 0.4061167279907759, -0.8039282604159369, -0.6138178483047706, -1.9994750228413507, -0.004233993427505336, -0.49269365124873, 1.237631824582306, -0.2949322231299584, 2.1918300320617243, 0.07799139301538806, -1.1305133413357529, 1.0476162128924136, 0.3538543745858851, -0.6868036177964602, -0.11308818102274441, 0.038389249561694566, -0.4257780082736259, 0.30863654237506444, -0.9622296623279092, -1.4032359603804845, 0.17011448873309684, -0.35102564009368653, 1.6472531050230457, -0.0017095784216665632, -0.0802585463635855, -0.575165817878663, -0.1657590963488005, -0.3027385815977633, -1.9616424942909296, -1.0595263589326296, 0.28209798325173263, -2.0820126828445544, 1.8275024342636472, 0.5621274107848366, 1.2420771711415866, 0.7722407212744912, -0.9751223011313264, -1.102383352433531, 0.4918739774394961, 0.3487522046764612, -1.54710965071441, -0.8007558152026161, -0.9175078799164796, -0.7142573010425983, 0.07227775378214862, 0.9006310625650061, 0.5780860324163493, -0.6580487515865606, -0.9596497293206537, 0.9447780056152655, 0.22755580790266747, -0.9266910380099435, 0.623537292539532, 1.5961122826254042, 1.625671033487804, 0.20979766304248096, 0.997780750833331, -0.2060883820505985, -1.0512210349747726, -0.5917818884538694, 0.14740204061721746, 1.108594612789978, -0.7950490675748462, 1.0228236643021653, -0.6954751231068863, 0.6351958883736164, 0.5992249242207415, -1.1854834697675771, -0.9681946986435691, 1.2351166042413806, -0.5123916078822467, 0.3585394032102082, 1.4113603363595246, -0.41841125808042157, -1.113792321118681, 0.6698608955320294, -1.0729019997914118, 0.7960213296027061, 0.016233231262760002, -0.8170973228582855, 0.9156937186180036], \"yaxis\": \"y7\"}, {\"line\": {\"color\": \"rgba(128, 128, 128, 1.0)\", \"dash\": \"solid\", \"shape\": \"linear\", \"width\": 1.3}, \"marker\": {\"size\": 2, \"symbol\": \"circle\"}, \"mode\": \"markers\", \"name\": \"B\", \"text\": \"\", \"type\": \"scatter\", \"x\": [0.5320751007912108, -0.44975930030199057, -1.6771656542045301, -0.44091591284909243, -1.2851308015526384, -0.7672921960404369, -0.6840520694104756, -0.6289566167996111, 0.6170199863296312, 1.5550761236361315, -1.1446406031185345, 0.7479360181353207, -0.6950321487313877, 0.5142116978702493, -0.05006610246305449, -1.2706903369398972, 0.9337105505915513, 0.02165987886009008, -1.2383746732693224, 1.01583752659063, -1.5344942838895572, -1.7971611010933033, 0.012282015431504915, -1.248470325798801, -0.751727321058121, -2.273936072897154, 1.7158873760344808, 0.7321212780290757, -0.8102477927166142, 1.1576824094414746, 1.0583851117702763, 0.49939834857688903, -1.971629393028559, -0.19322930214937295, 0.0012406867894250626, -0.4342478017479121, 1.095708912865221, 0.2670904432193301, -1.190003807101934, -1.824817137720109, 0.6501051336568515, -0.7750100630892506, -2.6817732386921604, 1.3755485210745413, -0.4566373399656553, 0.21588239064332343, -0.3475715417473595, 1.335959388515564, 0.39092724768516396, -1.8090022241329922, -0.05083863408104635, 0.19966595619373337, 0.18988135074015444, 1.5879808284339636, 2.7361373772078283, -1.0197215028317126, -1.6130798488874252, 0.5008144907488354, -0.9054816200020326, -0.35278425688605897, 0.07276996573600186, -0.11367312835682204, -0.4706793706580518, -0.7936352667864787, -0.073325399871544, -0.43098695473405396, -0.0021861177911710124, 0.5205942760047915, 1.125066587272659, -0.2653476580169145, 1.230584153756348, 0.5793011352848095, 0.029628537268579048, -1.4374169864346782, -0.5203916972600846, -0.4696135290321071, -0.39830013019241006, 0.9383185262511324, 0.7502574495111625, -0.6580610391754727, -1.1133388387574064, 0.548548678120502, -1.0798445834426695, -0.041307743482665464, 0.23662982761887102, 0.42647950801796736, 1.08235850983857, -0.9200774076240209, 0.6218461906103815, -0.23433028578862783, -0.8251050806726193, 0.9333061973048289, -0.38522662207844394, -0.06723256007858268, -0.12573699866268626, 0.7054772877188187, -0.22895083135905175, -0.15635726896667954, -0.4138384484948669, 0.7292057746683822], \"xaxis\": \"x8\", \"y\": [-1.3611066114771493, -0.9404925242020148, 1.3722116473992234, 1.7322354728534157, -0.30694083887020157, 1.309104354467893, 0.5167954353662241, 1.6441571752434938, -0.4134000317423506, 0.5862823464153141, -0.3656583696810447, -0.40036097875741194, -1.9283670925827068, -0.0708327897680354, 1.1470858843451797, 0.5255863969656889, 2.068481598216057, -0.49383691804073476, -1.487171100606758, 0.4061167279907759, -0.8039282604159369, -0.6138178483047706, -1.9994750228413507, -0.004233993427505336, -0.49269365124873, 1.237631824582306, -0.2949322231299584, 2.1918300320617243, 0.07799139301538806, -1.1305133413357529, 1.0476162128924136, 0.3538543745858851, -0.6868036177964602, -0.11308818102274441, 0.038389249561694566, -0.4257780082736259, 0.30863654237506444, -0.9622296623279092, -1.4032359603804845, 0.17011448873309684, -0.35102564009368653, 1.6472531050230457, -0.0017095784216665632, -0.0802585463635855, -0.575165817878663, -0.1657590963488005, -0.3027385815977633, -1.9616424942909296, -1.0595263589326296, 0.28209798325173263, -2.0820126828445544, 1.8275024342636472, 0.5621274107848366, 1.2420771711415866, 0.7722407212744912, -0.9751223011313264, -1.102383352433531, 0.4918739774394961, 0.3487522046764612, -1.54710965071441, -0.8007558152026161, -0.9175078799164796, -0.7142573010425983, 0.07227775378214862, 0.9006310625650061, 0.5780860324163493, -0.6580487515865606, -0.9596497293206537, 0.9447780056152655, 0.22755580790266747, -0.9266910380099435, 0.623537292539532, 1.5961122826254042, 1.625671033487804, 0.20979766304248096, 0.997780750833331, -0.2060883820505985, -1.0512210349747726, -0.5917818884538694, 0.14740204061721746, 1.108594612789978, -0.7950490675748462, 1.0228236643021653, -0.6954751231068863, 0.6351958883736164, 0.5992249242207415, -1.1854834697675771, -0.9681946986435691, 1.2351166042413806, -0.5123916078822467, 0.3585394032102082, 1.4113603363595246, -0.41841125808042157, -1.113792321118681, 0.6698608955320294, -1.0729019997914118, 0.7960213296027061, 0.016233231262760002, -0.8170973228582855, 0.9156937186180036], \"yaxis\": \"y8\"}, {\"line\": {\"color\": \"rgba(128, 128, 128, 1.0)\", \"dash\": \"solid\", \"shape\": \"linear\", \"width\": 1.3}, \"marker\": {\"size\": 2, \"symbol\": \"circle\"}, \"mode\": \"markers\", \"name\": \"C\", \"text\": \"\", \"type\": \"scatter\", \"x\": [-0.19413006811794645, 1.6873452436372878, -0.06033814051572481, 1.127241606699178, 0.4249481578883776, -0.474771738742198, 0.698211057555185, 2.3585197847599058, 0.2525076034946605, -1.0036563379066212, 0.6536456432532819, -0.49369169397422796, -0.040726414634479166, -1.2885506743387969, -0.6020672152154837, -0.3648634665112078, 0.8550055279946877, -0.17651701401783582, -0.19397655363332744, -0.5974369876080038, 1.0008277559296812, 1.3800382984728465, 1.842995649951157, -0.3934532452291988, 1.775188837143746, -0.10482980330404865, 1.4332963698722747, 2.104609929509668, -1.3107212075382997, -1.4251183393240168, -1.7439730133074343, 0.13983069925649397, -0.1489846483553503, 1.2371640170336395, 1.4546617303712968, -1.9221666452059851, 1.1196152585742165, -1.5414060431672485, 0.23091464060285513, -0.1795998073426502, 0.3568798660024454, 0.07031144664084961, -0.2847388574307799, -2.0255021671344045, -0.8162924399503177, -1.1554189247537237, 0.3272815669839693, 1.2433458954860341, -0.8592310438158935, -0.12255589607043708, -2.9330462306596297, 0.825075419527729, -1.3838364250794792, 0.47002291759059917, 0.16019366964864235, -0.6695497233597274, 0.6571492065201427, -1.0362928866265888, 0.6000371947768279, -1.0852365770917878, 0.6699417739632818, -0.7799693098199959, -2.0855814299603646, -0.44145574032885965, -1.2931539005533357, 0.2526285871877972, 0.43845672549827974, -2.308093329442031, -1.0337271695209675, -1.3010430922089382, -0.7449131497770748, 1.2401792295516962, 0.6122413017452012, 0.8534369987201077, 1.312831009581544, 1.662951815482871, -0.3316120266169116, 1.743694974660214, -0.13013299703260145, -0.29376058235490393, -1.0956253739601314, -0.8838304978530539, -1.8595140265346404, 0.9873673295542541, -1.169455618514835, -1.3958825951619405, 0.934004187216018, 0.5383689930416583, 0.8591407374766785, -0.720859277854418, 0.42481480563062385, 0.853917076970644, -0.49934487596276067, -1.3070911630905448, -0.48970691464979793, -0.4844952353948526, -0.5719609784077725, -1.1871246172535055, 1.3930489740217789, 1.0687185676705941], \"xaxis\": \"x9\", \"y\": [1.1140000563102914, 0.9179111192891231, -1.188893946688415, -0.13114065312801368, -0.5073065118302527, -0.09311221148029948, -0.40309858035619506, -1.2941013357609827, 0.1522616172187679, -0.5686042910003242, -1.4286613086018733, -0.3781713795523727, 0.9331227361823387, -0.37323223165875363, -1.2944234062713793, 0.37687384815416897, 0.5383864472562093, 0.9195673961256198, -0.3235223820041577, 1.8727485081926467, -1.1795816875266778, -0.8449949840723888, -0.08170021400646502, -0.286192565615934, -1.3748756883851165, 0.010926462554086724, -1.2328496843628618, 2.0348838456214176, 0.7000633511884815, -0.35531942399480254, -1.3406610705744013, 0.01864999286216511, 0.5094391286396842, -1.5836916726094383, -0.3451019978525569, 0.20728312534209858, -0.47075281728892493, -0.8495495198337799, -2.27462312634757, 1.079188580241099, 1.3734873349909233, -0.9887079292764147, -0.19846970539638176, 0.05555537080006787, 1.0484174095692995, 0.8413944546834128, -0.7442255295790747, 1.35177853019317, -0.9227955558679611, -1.7848428894509274, -0.5376159353749289, 0.42513207851628615, -1.1757641125658604, 2.181435776931965, -1.3438381707387712, 0.8337444045407011, -1.5632258506764016, -2.005299736675884, -0.512145200699896, -1.53512757582114, 1.1256314278115334, -0.6368906250105119, 1.012714720029981, 1.14227675351933, 0.6768707978526404, 0.7408747509514002, 1.208987844444804, -0.1696233626484463, 0.533747518286306, -0.3238050911571481, 1.4373066693923289, -1.3749462604913611, -0.47634446509526457, -1.2352209629271114, -0.7201741134971659, -0.5644507478376956, -0.8185475418091991, -0.2373988288623339, 0.0525329787130495, 0.7152312336106041, 0.7515669310370038, 2.1725115233636845, 0.6709486950696367, -0.061786962023700744, 1.99790878884932, -0.950474140726602, 0.10347883137981151, -1.2619653553943295, 0.9560693039796121, -0.24808316128268526, -0.5646307550129808, 1.2111527593269058, -0.9052042719227168, -1.5476361898746265, 0.7908770935839322, -0.19067333565555433, -0.696414490205117, -1.2008177650951006, -0.6279644058254207, 1.2065146144924799], \"yaxis\": \"y9\"}, {\"line\": {\"color\": \"rgba(128, 128, 128, 1.0)\", \"dash\": \"solid\", \"shape\": \"linear\", \"width\": 1.3}, \"marker\": {\"size\": 2, \"symbol\": \"circle\"}, \"mode\": \"markers\", \"name\": \"C\", \"text\": \"\", \"type\": \"scatter\", \"x\": [-1.3611066114771493, -0.9404925242020148, 1.3722116473992234, 1.7322354728534157, -0.30694083887020157, 1.309104354467893, 0.5167954353662241, 1.6441571752434938, -0.4134000317423506, 0.5862823464153141, -0.3656583696810447, -0.40036097875741194, -1.9283670925827068, -0.0708327897680354, 1.1470858843451797, 0.5255863969656889, 2.068481598216057, -0.49383691804073476, -1.487171100606758, 0.4061167279907759, -0.8039282604159369, -0.6138178483047706, -1.9994750228413507, -0.004233993427505336, -0.49269365124873, 1.237631824582306, -0.2949322231299584, 2.1918300320617243, 0.07799139301538806, -1.1305133413357529, 1.0476162128924136, 0.3538543745858851, -0.6868036177964602, -0.11308818102274441, 0.038389249561694566, -0.4257780082736259, 0.30863654237506444, -0.9622296623279092, -1.4032359603804845, 0.17011448873309684, -0.35102564009368653, 1.6472531050230457, -0.0017095784216665632, -0.0802585463635855, -0.575165817878663, -0.1657590963488005, -0.3027385815977633, -1.9616424942909296, -1.0595263589326296, 0.28209798325173263, -2.0820126828445544, 1.8275024342636472, 0.5621274107848366, 1.2420771711415866, 0.7722407212744912, -0.9751223011313264, -1.102383352433531, 0.4918739774394961, 0.3487522046764612, -1.54710965071441, -0.8007558152026161, -0.9175078799164796, -0.7142573010425983, 0.07227775378214862, 0.9006310625650061, 0.5780860324163493, -0.6580487515865606, -0.9596497293206537, 0.9447780056152655, 0.22755580790266747, -0.9266910380099435, 0.623537292539532, 1.5961122826254042, 1.625671033487804, 0.20979766304248096, 0.997780750833331, -0.2060883820505985, -1.0512210349747726, -0.5917818884538694, 0.14740204061721746, 1.108594612789978, -0.7950490675748462, 1.0228236643021653, -0.6954751231068863, 0.6351958883736164, 0.5992249242207415, -1.1854834697675771, -0.9681946986435691, 1.2351166042413806, -0.5123916078822467, 0.3585394032102082, 1.4113603363595246, -0.41841125808042157, -1.113792321118681, 0.6698608955320294, -1.0729019997914118, 0.7960213296027061, 0.016233231262760002, -0.8170973228582855, 0.9156937186180036], \"xaxis\": \"x10\", \"y\": [1.1140000563102914, 0.9179111192891231, -1.188893946688415, -0.13114065312801368, -0.5073065118302527, -0.09311221148029948, -0.40309858035619506, -1.2941013357609827, 0.1522616172187679, -0.5686042910003242, -1.4286613086018733, -0.3781713795523727, 0.9331227361823387, -0.37323223165875363, -1.2944234062713793, 0.37687384815416897, 0.5383864472562093, 0.9195673961256198, -0.3235223820041577, 1.8727485081926467, -1.1795816875266778, -0.8449949840723888, -0.08170021400646502, -0.286192565615934, -1.3748756883851165, 0.010926462554086724, -1.2328496843628618, 2.0348838456214176, 0.7000633511884815, -0.35531942399480254, -1.3406610705744013, 0.01864999286216511, 0.5094391286396842, -1.5836916726094383, -0.3451019978525569, 0.20728312534209858, -0.47075281728892493, -0.8495495198337799, -2.27462312634757, 1.079188580241099, 1.3734873349909233, -0.9887079292764147, -0.19846970539638176, 0.05555537080006787, 1.0484174095692995, 0.8413944546834128, -0.7442255295790747, 1.35177853019317, -0.9227955558679611, -1.7848428894509274, -0.5376159353749289, 0.42513207851628615, -1.1757641125658604, 2.181435776931965, -1.3438381707387712, 0.8337444045407011, -1.5632258506764016, -2.005299736675884, -0.512145200699896, -1.53512757582114, 1.1256314278115334, -0.6368906250105119, 1.012714720029981, 1.14227675351933, 0.6768707978526404, 0.7408747509514002, 1.208987844444804, -0.1696233626484463, 0.533747518286306, -0.3238050911571481, 1.4373066693923289, -1.3749462604913611, -0.47634446509526457, -1.2352209629271114, -0.7201741134971659, -0.5644507478376956, -0.8185475418091991, -0.2373988288623339, 0.0525329787130495, 0.7152312336106041, 0.7515669310370038, 2.1725115233636845, 0.6709486950696367, -0.061786962023700744, 1.99790878884932, -0.950474140726602, 0.10347883137981151, -1.2619653553943295, 0.9560693039796121, -0.24808316128268526, -0.5646307550129808, 1.2111527593269058, -0.9052042719227168, -1.5476361898746265, 0.7908770935839322, -0.19067333565555433, -0.696414490205117, -1.2008177650951006, -0.6279644058254207, 1.2065146144924799], \"yaxis\": \"y10\"}, {\"histfunc\": \"count\", \"histnorm\": \"\", \"marker\": {\"color\": \"rgba(50, 171, 96, 1.0)\", \"line\": {\"color\": \"#4D5663\", \"width\": 1.3}}, \"name\": \"C\", \"nbinsx\": 10, \"opacity\": 0.8, \"orientation\": \"v\", \"type\": \"histogram\", \"x\": [1.1140000563102914, 0.9179111192891231, -1.188893946688415, -0.13114065312801368, -0.5073065118302527, -0.09311221148029948, -0.40309858035619506, -1.2941013357609827, 0.1522616172187679, -0.5686042910003242, -1.4286613086018733, -0.3781713795523727, 0.9331227361823387, -0.37323223165875363, -1.2944234062713793, 0.37687384815416897, 0.5383864472562093, 0.9195673961256198, -0.3235223820041577, 1.8727485081926467, -1.1795816875266778, -0.8449949840723888, -0.08170021400646502, -0.286192565615934, -1.3748756883851165, 0.010926462554086724, -1.2328496843628618, 2.0348838456214176, 0.7000633511884815, -0.35531942399480254, -1.3406610705744013, 0.01864999286216511, 0.5094391286396842, -1.5836916726094383, -0.3451019978525569, 0.20728312534209858, -0.47075281728892493, -0.8495495198337799, -2.27462312634757, 1.079188580241099, 1.3734873349909233, -0.9887079292764147, -0.19846970539638176, 0.05555537080006787, 1.0484174095692995, 0.8413944546834128, -0.7442255295790747, 1.35177853019317, -0.9227955558679611, -1.7848428894509274, -0.5376159353749289, 0.42513207851628615, -1.1757641125658604, 2.181435776931965, -1.3438381707387712, 0.8337444045407011, -1.5632258506764016, -2.005299736675884, -0.512145200699896, -1.53512757582114, 1.1256314278115334, -0.6368906250105119, 1.012714720029981, 1.14227675351933, 0.6768707978526404, 0.7408747509514002, 1.208987844444804, -0.1696233626484463, 0.533747518286306, -0.3238050911571481, 1.4373066693923289, -1.3749462604913611, -0.47634446509526457, -1.2352209629271114, -0.7201741134971659, -0.5644507478376956, -0.8185475418091991, -0.2373988288623339, 0.0525329787130495, 0.7152312336106041, 0.7515669310370038, 2.1725115233636845, 0.6709486950696367, -0.061786962023700744, 1.99790878884932, -0.950474140726602, 0.10347883137981151, -1.2619653553943295, 0.9560693039796121, -0.24808316128268526, -0.5646307550129808, 1.2111527593269058, -0.9052042719227168, -1.5476361898746265, 0.7908770935839322, -0.19067333565555433, -0.696414490205117, -1.2008177650951006, -0.6279644058254207, 1.2065146144924799], \"xaxis\": \"x11\", \"yaxis\": \"y11\"}, {\"line\": {\"color\": \"rgba(128, 128, 128, 1.0)\", \"dash\": \"solid\", \"shape\": \"linear\", \"width\": 1.3}, \"marker\": {\"size\": 2, \"symbol\": \"circle\"}, \"mode\": \"markers\", \"name\": \"C\", \"text\": \"\", \"type\": \"scatter\", \"x\": [0.5320751007912108, -0.44975930030199057, -1.6771656542045301, -0.44091591284909243, -1.2851308015526384, -0.7672921960404369, -0.6840520694104756, -0.6289566167996111, 0.6170199863296312, 1.5550761236361315, -1.1446406031185345, 0.7479360181353207, -0.6950321487313877, 0.5142116978702493, -0.05006610246305449, -1.2706903369398972, 0.9337105505915513, 0.02165987886009008, -1.2383746732693224, 1.01583752659063, -1.5344942838895572, -1.7971611010933033, 0.012282015431504915, -1.248470325798801, -0.751727321058121, -2.273936072897154, 1.7158873760344808, 0.7321212780290757, -0.8102477927166142, 1.1576824094414746, 1.0583851117702763, 0.49939834857688903, -1.971629393028559, -0.19322930214937295, 0.0012406867894250626, -0.4342478017479121, 1.095708912865221, 0.2670904432193301, -1.190003807101934, -1.824817137720109, 0.6501051336568515, -0.7750100630892506, -2.6817732386921604, 1.3755485210745413, -0.4566373399656553, 0.21588239064332343, -0.3475715417473595, 1.335959388515564, 0.39092724768516396, -1.8090022241329922, -0.05083863408104635, 0.19966595619373337, 0.18988135074015444, 1.5879808284339636, 2.7361373772078283, -1.0197215028317126, -1.6130798488874252, 0.5008144907488354, -0.9054816200020326, -0.35278425688605897, 0.07276996573600186, -0.11367312835682204, -0.4706793706580518, -0.7936352667864787, -0.073325399871544, -0.43098695473405396, -0.0021861177911710124, 0.5205942760047915, 1.125066587272659, -0.2653476580169145, 1.230584153756348, 0.5793011352848095, 0.029628537268579048, -1.4374169864346782, -0.5203916972600846, -0.4696135290321071, -0.39830013019241006, 0.9383185262511324, 0.7502574495111625, -0.6580610391754727, -1.1133388387574064, 0.548548678120502, -1.0798445834426695, -0.041307743482665464, 0.23662982761887102, 0.42647950801796736, 1.08235850983857, -0.9200774076240209, 0.6218461906103815, -0.23433028578862783, -0.8251050806726193, 0.9333061973048289, -0.38522662207844394, -0.06723256007858268, -0.12573699866268626, 0.7054772877188187, -0.22895083135905175, -0.15635726896667954, -0.4138384484948669, 0.7292057746683822], \"xaxis\": \"x12\", \"y\": [1.1140000563102914, 0.9179111192891231, -1.188893946688415, -0.13114065312801368, -0.5073065118302527, -0.09311221148029948, -0.40309858035619506, -1.2941013357609827, 0.1522616172187679, -0.5686042910003242, -1.4286613086018733, -0.3781713795523727, 0.9331227361823387, -0.37323223165875363, -1.2944234062713793, 0.37687384815416897, 0.5383864472562093, 0.9195673961256198, -0.3235223820041577, 1.8727485081926467, -1.1795816875266778, -0.8449949840723888, -0.08170021400646502, -0.286192565615934, -1.3748756883851165, 0.010926462554086724, -1.2328496843628618, 2.0348838456214176, 0.7000633511884815, -0.35531942399480254, -1.3406610705744013, 0.01864999286216511, 0.5094391286396842, -1.5836916726094383, -0.3451019978525569, 0.20728312534209858, -0.47075281728892493, -0.8495495198337799, -2.27462312634757, 1.079188580241099, 1.3734873349909233, -0.9887079292764147, -0.19846970539638176, 0.05555537080006787, 1.0484174095692995, 0.8413944546834128, -0.7442255295790747, 1.35177853019317, -0.9227955558679611, -1.7848428894509274, -0.5376159353749289, 0.42513207851628615, -1.1757641125658604, 2.181435776931965, -1.3438381707387712, 0.8337444045407011, -1.5632258506764016, -2.005299736675884, -0.512145200699896, -1.53512757582114, 1.1256314278115334, -0.6368906250105119, 1.012714720029981, 1.14227675351933, 0.6768707978526404, 0.7408747509514002, 1.208987844444804, -0.1696233626484463, 0.533747518286306, -0.3238050911571481, 1.4373066693923289, -1.3749462604913611, -0.47634446509526457, -1.2352209629271114, -0.7201741134971659, -0.5644507478376956, -0.8185475418091991, -0.2373988288623339, 0.0525329787130495, 0.7152312336106041, 0.7515669310370038, 2.1725115233636845, 0.6709486950696367, -0.061786962023700744, 1.99790878884932, -0.950474140726602, 0.10347883137981151, -1.2619653553943295, 0.9560693039796121, -0.24808316128268526, -0.5646307550129808, 1.2111527593269058, -0.9052042719227168, -1.5476361898746265, 0.7908770935839322, -0.19067333565555433, -0.696414490205117, -1.2008177650951006, -0.6279644058254207, 1.2065146144924799], \"yaxis\": \"y12\"}, {\"line\": {\"color\": \"rgba(128, 128, 128, 1.0)\", \"dash\": \"solid\", \"shape\": \"linear\", \"width\": 1.3}, \"marker\": {\"size\": 2, \"symbol\": \"circle\"}, \"mode\": \"markers\", \"name\": \"D\", \"text\": \"\", \"type\": \"scatter\", \"x\": [-0.19413006811794645, 1.6873452436372878, -0.06033814051572481, 1.127241606699178, 0.4249481578883776, -0.474771738742198, 0.698211057555185, 2.3585197847599058, 0.2525076034946605, -1.0036563379066212, 0.6536456432532819, -0.49369169397422796, -0.040726414634479166, -1.2885506743387969, -0.6020672152154837, -0.3648634665112078, 0.8550055279946877, -0.17651701401783582, -0.19397655363332744, -0.5974369876080038, 1.0008277559296812, 1.3800382984728465, 1.842995649951157, -0.3934532452291988, 1.775188837143746, -0.10482980330404865, 1.4332963698722747, 2.104609929509668, -1.3107212075382997, -1.4251183393240168, -1.7439730133074343, 0.13983069925649397, -0.1489846483553503, 1.2371640170336395, 1.4546617303712968, -1.9221666452059851, 1.1196152585742165, -1.5414060431672485, 0.23091464060285513, -0.1795998073426502, 0.3568798660024454, 0.07031144664084961, -0.2847388574307799, -2.0255021671344045, -0.8162924399503177, -1.1554189247537237, 0.3272815669839693, 1.2433458954860341, -0.8592310438158935, -0.12255589607043708, -2.9330462306596297, 0.825075419527729, -1.3838364250794792, 0.47002291759059917, 0.16019366964864235, -0.6695497233597274, 0.6571492065201427, -1.0362928866265888, 0.6000371947768279, -1.0852365770917878, 0.6699417739632818, -0.7799693098199959, -2.0855814299603646, -0.44145574032885965, -1.2931539005533357, 0.2526285871877972, 0.43845672549827974, -2.308093329442031, -1.0337271695209675, -1.3010430922089382, -0.7449131497770748, 1.2401792295516962, 0.6122413017452012, 0.8534369987201077, 1.312831009581544, 1.662951815482871, -0.3316120266169116, 1.743694974660214, -0.13013299703260145, -0.29376058235490393, -1.0956253739601314, -0.8838304978530539, -1.8595140265346404, 0.9873673295542541, -1.169455618514835, -1.3958825951619405, 0.934004187216018, 0.5383689930416583, 0.8591407374766785, -0.720859277854418, 0.42481480563062385, 0.853917076970644, -0.49934487596276067, -1.3070911630905448, -0.48970691464979793, -0.4844952353948526, -0.5719609784077725, -1.1871246172535055, 1.3930489740217789, 1.0687185676705941], \"xaxis\": \"x13\", \"y\": [0.5320751007912108, -0.44975930030199057, -1.6771656542045301, -0.44091591284909243, -1.2851308015526384, -0.7672921960404369, -0.6840520694104756, -0.6289566167996111, 0.6170199863296312, 1.5550761236361315, -1.1446406031185345, 0.7479360181353207, -0.6950321487313877, 0.5142116978702493, -0.05006610246305449, -1.2706903369398972, 0.9337105505915513, 0.02165987886009008, -1.2383746732693224, 1.01583752659063, -1.5344942838895572, -1.7971611010933033, 0.012282015431504915, -1.248470325798801, -0.751727321058121, -2.273936072897154, 1.7158873760344808, 0.7321212780290757, -0.8102477927166142, 1.1576824094414746, 1.0583851117702763, 0.49939834857688903, -1.971629393028559, -0.19322930214937295, 0.0012406867894250626, -0.4342478017479121, 1.095708912865221, 0.2670904432193301, -1.190003807101934, -1.824817137720109, 0.6501051336568515, -0.7750100630892506, -2.6817732386921604, 1.3755485210745413, -0.4566373399656553, 0.21588239064332343, -0.3475715417473595, 1.335959388515564, 0.39092724768516396, -1.8090022241329922, -0.05083863408104635, 0.19966595619373337, 0.18988135074015444, 1.5879808284339636, 2.7361373772078283, -1.0197215028317126, -1.6130798488874252, 0.5008144907488354, -0.9054816200020326, -0.35278425688605897, 0.07276996573600186, -0.11367312835682204, -0.4706793706580518, -0.7936352667864787, -0.073325399871544, -0.43098695473405396, -0.0021861177911710124, 0.5205942760047915, 1.125066587272659, -0.2653476580169145, 1.230584153756348, 0.5793011352848095, 0.029628537268579048, -1.4374169864346782, -0.5203916972600846, -0.4696135290321071, -0.39830013019241006, 0.9383185262511324, 0.7502574495111625, -0.6580610391754727, -1.1133388387574064, 0.548548678120502, -1.0798445834426695, -0.041307743482665464, 0.23662982761887102, 0.42647950801796736, 1.08235850983857, -0.9200774076240209, 0.6218461906103815, -0.23433028578862783, -0.8251050806726193, 0.9333061973048289, -0.38522662207844394, -0.06723256007858268, -0.12573699866268626, 0.7054772877188187, -0.22895083135905175, -0.15635726896667954, -0.4138384484948669, 0.7292057746683822], \"yaxis\": \"y13\"}, {\"line\": {\"color\": \"rgba(128, 128, 128, 1.0)\", \"dash\": \"solid\", \"shape\": \"linear\", \"width\": 1.3}, \"marker\": {\"size\": 2, \"symbol\": \"circle\"}, \"mode\": \"markers\", \"name\": \"D\", \"text\": \"\", \"type\": \"scatter\", \"x\": [-1.3611066114771493, -0.9404925242020148, 1.3722116473992234, 1.7322354728534157, -0.30694083887020157, 1.309104354467893, 0.5167954353662241, 1.6441571752434938, -0.4134000317423506, 0.5862823464153141, -0.3656583696810447, -0.40036097875741194, -1.9283670925827068, -0.0708327897680354, 1.1470858843451797, 0.5255863969656889, 2.068481598216057, -0.49383691804073476, -1.487171100606758, 0.4061167279907759, -0.8039282604159369, -0.6138178483047706, -1.9994750228413507, -0.004233993427505336, -0.49269365124873, 1.237631824582306, -0.2949322231299584, 2.1918300320617243, 0.07799139301538806, -1.1305133413357529, 1.0476162128924136, 0.3538543745858851, -0.6868036177964602, -0.11308818102274441, 0.038389249561694566, -0.4257780082736259, 0.30863654237506444, -0.9622296623279092, -1.4032359603804845, 0.17011448873309684, -0.35102564009368653, 1.6472531050230457, -0.0017095784216665632, -0.0802585463635855, -0.575165817878663, -0.1657590963488005, -0.3027385815977633, -1.9616424942909296, -1.0595263589326296, 0.28209798325173263, -2.0820126828445544, 1.8275024342636472, 0.5621274107848366, 1.2420771711415866, 0.7722407212744912, -0.9751223011313264, -1.102383352433531, 0.4918739774394961, 0.3487522046764612, -1.54710965071441, -0.8007558152026161, -0.9175078799164796, -0.7142573010425983, 0.07227775378214862, 0.9006310625650061, 0.5780860324163493, -0.6580487515865606, -0.9596497293206537, 0.9447780056152655, 0.22755580790266747, -0.9266910380099435, 0.623537292539532, 1.5961122826254042, 1.625671033487804, 0.20979766304248096, 0.997780750833331, -0.2060883820505985, -1.0512210349747726, -0.5917818884538694, 0.14740204061721746, 1.108594612789978, -0.7950490675748462, 1.0228236643021653, -0.6954751231068863, 0.6351958883736164, 0.5992249242207415, -1.1854834697675771, -0.9681946986435691, 1.2351166042413806, -0.5123916078822467, 0.3585394032102082, 1.4113603363595246, -0.41841125808042157, -1.113792321118681, 0.6698608955320294, -1.0729019997914118, 0.7960213296027061, 0.016233231262760002, -0.8170973228582855, 0.9156937186180036], \"xaxis\": \"x14\", \"y\": [0.5320751007912108, -0.44975930030199057, -1.6771656542045301, -0.44091591284909243, -1.2851308015526384, -0.7672921960404369, -0.6840520694104756, -0.6289566167996111, 0.6170199863296312, 1.5550761236361315, -1.1446406031185345, 0.7479360181353207, -0.6950321487313877, 0.5142116978702493, -0.05006610246305449, -1.2706903369398972, 0.9337105505915513, 0.02165987886009008, -1.2383746732693224, 1.01583752659063, -1.5344942838895572, -1.7971611010933033, 0.012282015431504915, -1.248470325798801, -0.751727321058121, -2.273936072897154, 1.7158873760344808, 0.7321212780290757, -0.8102477927166142, 1.1576824094414746, 1.0583851117702763, 0.49939834857688903, -1.971629393028559, -0.19322930214937295, 0.0012406867894250626, -0.4342478017479121, 1.095708912865221, 0.2670904432193301, -1.190003807101934, -1.824817137720109, 0.6501051336568515, -0.7750100630892506, -2.6817732386921604, 1.3755485210745413, -0.4566373399656553, 0.21588239064332343, -0.3475715417473595, 1.335959388515564, 0.39092724768516396, -1.8090022241329922, -0.05083863408104635, 0.19966595619373337, 0.18988135074015444, 1.5879808284339636, 2.7361373772078283, -1.0197215028317126, -1.6130798488874252, 0.5008144907488354, -0.9054816200020326, -0.35278425688605897, 0.07276996573600186, -0.11367312835682204, -0.4706793706580518, -0.7936352667864787, -0.073325399871544, -0.43098695473405396, -0.0021861177911710124, 0.5205942760047915, 1.125066587272659, -0.2653476580169145, 1.230584153756348, 0.5793011352848095, 0.029628537268579048, -1.4374169864346782, -0.5203916972600846, -0.4696135290321071, -0.39830013019241006, 0.9383185262511324, 0.7502574495111625, -0.6580610391754727, -1.1133388387574064, 0.548548678120502, -1.0798445834426695, -0.041307743482665464, 0.23662982761887102, 0.42647950801796736, 1.08235850983857, -0.9200774076240209, 0.6218461906103815, -0.23433028578862783, -0.8251050806726193, 0.9333061973048289, -0.38522662207844394, -0.06723256007858268, -0.12573699866268626, 0.7054772877188187, -0.22895083135905175, -0.15635726896667954, -0.4138384484948669, 0.7292057746683822], \"yaxis\": \"y14\"}, {\"line\": {\"color\": \"rgba(128, 128, 128, 1.0)\", \"dash\": \"solid\", \"shape\": \"linear\", \"width\": 1.3}, \"marker\": {\"size\": 2, \"symbol\": \"circle\"}, \"mode\": \"markers\", \"name\": \"D\", \"text\": \"\", \"type\": \"scatter\", \"x\": [1.1140000563102914, 0.9179111192891231, -1.188893946688415, -0.13114065312801368, -0.5073065118302527, -0.09311221148029948, -0.40309858035619506, -1.2941013357609827, 0.1522616172187679, -0.5686042910003242, -1.4286613086018733, -0.3781713795523727, 0.9331227361823387, -0.37323223165875363, -1.2944234062713793, 0.37687384815416897, 0.5383864472562093, 0.9195673961256198, -0.3235223820041577, 1.8727485081926467, -1.1795816875266778, -0.8449949840723888, -0.08170021400646502, -0.286192565615934, -1.3748756883851165, 0.010926462554086724, -1.2328496843628618, 2.0348838456214176, 0.7000633511884815, -0.35531942399480254, -1.3406610705744013, 0.01864999286216511, 0.5094391286396842, -1.5836916726094383, -0.3451019978525569, 0.20728312534209858, -0.47075281728892493, -0.8495495198337799, -2.27462312634757, 1.079188580241099, 1.3734873349909233, -0.9887079292764147, -0.19846970539638176, 0.05555537080006787, 1.0484174095692995, 0.8413944546834128, -0.7442255295790747, 1.35177853019317, -0.9227955558679611, -1.7848428894509274, -0.5376159353749289, 0.42513207851628615, -1.1757641125658604, 2.181435776931965, -1.3438381707387712, 0.8337444045407011, -1.5632258506764016, -2.005299736675884, -0.512145200699896, -1.53512757582114, 1.1256314278115334, -0.6368906250105119, 1.012714720029981, 1.14227675351933, 0.6768707978526404, 0.7408747509514002, 1.208987844444804, -0.1696233626484463, 0.533747518286306, -0.3238050911571481, 1.4373066693923289, -1.3749462604913611, -0.47634446509526457, -1.2352209629271114, -0.7201741134971659, -0.5644507478376956, -0.8185475418091991, -0.2373988288623339, 0.0525329787130495, 0.7152312336106041, 0.7515669310370038, 2.1725115233636845, 0.6709486950696367, -0.061786962023700744, 1.99790878884932, -0.950474140726602, 0.10347883137981151, -1.2619653553943295, 0.9560693039796121, -0.24808316128268526, -0.5646307550129808, 1.2111527593269058, -0.9052042719227168, -1.5476361898746265, 0.7908770935839322, -0.19067333565555433, -0.696414490205117, -1.2008177650951006, -0.6279644058254207, 1.2065146144924799], \"xaxis\": \"x15\", \"y\": [0.5320751007912108, -0.44975930030199057, -1.6771656542045301, -0.44091591284909243, -1.2851308015526384, -0.7672921960404369, -0.6840520694104756, -0.6289566167996111, 0.6170199863296312, 1.5550761236361315, -1.1446406031185345, 0.7479360181353207, -0.6950321487313877, 0.5142116978702493, -0.05006610246305449, -1.2706903369398972, 0.9337105505915513, 0.02165987886009008, -1.2383746732693224, 1.01583752659063, -1.5344942838895572, -1.7971611010933033, 0.012282015431504915, -1.248470325798801, -0.751727321058121, -2.273936072897154, 1.7158873760344808, 0.7321212780290757, -0.8102477927166142, 1.1576824094414746, 1.0583851117702763, 0.49939834857688903, -1.971629393028559, -0.19322930214937295, 0.0012406867894250626, -0.4342478017479121, 1.095708912865221, 0.2670904432193301, -1.190003807101934, -1.824817137720109, 0.6501051336568515, -0.7750100630892506, -2.6817732386921604, 1.3755485210745413, -0.4566373399656553, 0.21588239064332343, -0.3475715417473595, 1.335959388515564, 0.39092724768516396, -1.8090022241329922, -0.05083863408104635, 0.19966595619373337, 0.18988135074015444, 1.5879808284339636, 2.7361373772078283, -1.0197215028317126, -1.6130798488874252, 0.5008144907488354, -0.9054816200020326, -0.35278425688605897, 0.07276996573600186, -0.11367312835682204, -0.4706793706580518, -0.7936352667864787, -0.073325399871544, -0.43098695473405396, -0.0021861177911710124, 0.5205942760047915, 1.125066587272659, -0.2653476580169145, 1.230584153756348, 0.5793011352848095, 0.029628537268579048, -1.4374169864346782, -0.5203916972600846, -0.4696135290321071, -0.39830013019241006, 0.9383185262511324, 0.7502574495111625, -0.6580610391754727, -1.1133388387574064, 0.548548678120502, -1.0798445834426695, -0.041307743482665464, 0.23662982761887102, 0.42647950801796736, 1.08235850983857, -0.9200774076240209, 0.6218461906103815, -0.23433028578862783, -0.8251050806726193, 0.9333061973048289, -0.38522662207844394, -0.06723256007858268, -0.12573699866268626, 0.7054772877188187, -0.22895083135905175, -0.15635726896667954, -0.4138384484948669, 0.7292057746683822], \"yaxis\": \"y15\"}, {\"histfunc\": \"count\", \"histnorm\": \"\", \"marker\": {\"color\": \"rgba(128, 0, 128, 1.0)\", \"line\": {\"color\": \"#4D5663\", \"width\": 1.3}}, \"name\": \"D\", \"nbinsx\": 10, \"opacity\": 0.8, \"orientation\": \"v\", \"type\": \"histogram\", \"x\": [0.5320751007912108, -0.44975930030199057, -1.6771656542045301, -0.44091591284909243, -1.2851308015526384, -0.7672921960404369, -0.6840520694104756, -0.6289566167996111, 0.6170199863296312, 1.5550761236361315, -1.1446406031185345, 0.7479360181353207, -0.6950321487313877, 0.5142116978702493, -0.05006610246305449, -1.2706903369398972, 0.9337105505915513, 0.02165987886009008, -1.2383746732693224, 1.01583752659063, -1.5344942838895572, -1.7971611010933033, 0.012282015431504915, -1.248470325798801, -0.751727321058121, -2.273936072897154, 1.7158873760344808, 0.7321212780290757, -0.8102477927166142, 1.1576824094414746, 1.0583851117702763, 0.49939834857688903, -1.971629393028559, -0.19322930214937295, 0.0012406867894250626, -0.4342478017479121, 1.095708912865221, 0.2670904432193301, -1.190003807101934, -1.824817137720109, 0.6501051336568515, -0.7750100630892506, -2.6817732386921604, 1.3755485210745413, -0.4566373399656553, 0.21588239064332343, -0.3475715417473595, 1.335959388515564, 0.39092724768516396, -1.8090022241329922, -0.05083863408104635, 0.19966595619373337, 0.18988135074015444, 1.5879808284339636, 2.7361373772078283, -1.0197215028317126, -1.6130798488874252, 0.5008144907488354, -0.9054816200020326, -0.35278425688605897, 0.07276996573600186, -0.11367312835682204, -0.4706793706580518, -0.7936352667864787, -0.073325399871544, -0.43098695473405396, -0.0021861177911710124, 0.5205942760047915, 1.125066587272659, -0.2653476580169145, 1.230584153756348, 0.5793011352848095, 0.029628537268579048, -1.4374169864346782, -0.5203916972600846, -0.4696135290321071, -0.39830013019241006, 0.9383185262511324, 0.7502574495111625, -0.6580610391754727, -1.1133388387574064, 0.548548678120502, -1.0798445834426695, -0.041307743482665464, 0.23662982761887102, 0.42647950801796736, 1.08235850983857, -0.9200774076240209, 0.6218461906103815, -0.23433028578862783, -0.8251050806726193, 0.9333061973048289, -0.38522662207844394, -0.06723256007858268, -0.12573699866268626, 0.7054772877188187, -0.22895083135905175, -0.15635726896667954, -0.4138384484948669, 0.7292057746683822], \"xaxis\": \"x16\", \"yaxis\": \"y16\"}],                        {\"bargap\": 0.02, \"legend\": {\"bgcolor\": \"#F5F6F9\", \"font\": {\"color\": \"#4D5663\"}}, \"paper_bgcolor\": \"#F5F6F9\", \"plot_bgcolor\": \"#F5F6F9\", \"showlegend\": false, \"template\": {\"data\": {\"bar\": [{\"error_x\": {\"color\": \"#2a3f5f\"}, \"error_y\": {\"color\": \"#2a3f5f\"}, \"marker\": {\"line\": {\"color\": \"#E5ECF6\", \"width\": 0.5}}, \"type\": \"bar\"}], \"barpolar\": [{\"marker\": {\"line\": {\"color\": \"#E5ECF6\", \"width\": 0.5}}, \"type\": \"barpolar\"}], \"carpet\": [{\"aaxis\": {\"endlinecolor\": \"#2a3f5f\", \"gridcolor\": \"white\", \"linecolor\": \"white\", \"minorgridcolor\": \"white\", \"startlinecolor\": \"#2a3f5f\"}, \"baxis\": {\"endlinecolor\": \"#2a3f5f\", \"gridcolor\": \"white\", \"linecolor\": \"white\", \"minorgridcolor\": \"white\", \"startlinecolor\": \"#2a3f5f\"}, \"type\": \"carpet\"}], \"choropleth\": [{\"colorbar\": {\"outlinewidth\": 0, \"ticks\": \"\"}, \"type\": \"choropleth\"}], \"contour\": [{\"colorbar\": {\"outlinewidth\": 0, \"ticks\": \"\"}, \"colorscale\": [[0.0, \"#0d0887\"], [0.1111111111111111, \"#46039f\"], [0.2222222222222222, \"#7201a8\"], [0.3333333333333333, \"#9c179e\"], [0.4444444444444444, \"#bd3786\"], [0.5555555555555556, \"#d8576b\"], [0.6666666666666666, \"#ed7953\"], [0.7777777777777778, \"#fb9f3a\"], [0.8888888888888888, \"#fdca26\"], [1.0, \"#f0f921\"]], \"type\": \"contour\"}], \"contourcarpet\": [{\"colorbar\": {\"outlinewidth\": 0, \"ticks\": \"\"}, \"type\": \"contourcarpet\"}], \"heatmap\": [{\"colorbar\": {\"outlinewidth\": 0, \"ticks\": \"\"}, \"colorscale\": [[0.0, \"#0d0887\"], [0.1111111111111111, \"#46039f\"], [0.2222222222222222, \"#7201a8\"], [0.3333333333333333, \"#9c179e\"], [0.4444444444444444, \"#bd3786\"], [0.5555555555555556, \"#d8576b\"], [0.6666666666666666, \"#ed7953\"], [0.7777777777777778, \"#fb9f3a\"], [0.8888888888888888, \"#fdca26\"], [1.0, \"#f0f921\"]], \"type\": \"heatmap\"}], \"heatmapgl\": [{\"colorbar\": {\"outlinewidth\": 0, \"ticks\": \"\"}, \"colorscale\": [[0.0, \"#0d0887\"], [0.1111111111111111, \"#46039f\"], [0.2222222222222222, \"#7201a8\"], [0.3333333333333333, \"#9c179e\"], [0.4444444444444444, \"#bd3786\"], [0.5555555555555556, \"#d8576b\"], [0.6666666666666666, \"#ed7953\"], [0.7777777777777778, \"#fb9f3a\"], [0.8888888888888888, \"#fdca26\"], [1.0, \"#f0f921\"]], \"type\": \"heatmapgl\"}], \"histogram\": [{\"marker\": {\"colorbar\": {\"outlinewidth\": 0, \"ticks\": \"\"}}, \"type\": \"histogram\"}], \"histogram2d\": [{\"colorbar\": {\"outlinewidth\": 0, \"ticks\": \"\"}, \"colorscale\": [[0.0, \"#0d0887\"], [0.1111111111111111, \"#46039f\"], [0.2222222222222222, \"#7201a8\"], [0.3333333333333333, \"#9c179e\"], [0.4444444444444444, \"#bd3786\"], [0.5555555555555556, \"#d8576b\"], [0.6666666666666666, \"#ed7953\"], [0.7777777777777778, \"#fb9f3a\"], [0.8888888888888888, \"#fdca26\"], [1.0, \"#f0f921\"]], \"type\": \"histogram2d\"}], \"histogram2dcontour\": [{\"colorbar\": {\"outlinewidth\": 0, \"ticks\": \"\"}, \"colorscale\": [[0.0, \"#0d0887\"], [0.1111111111111111, \"#46039f\"], [0.2222222222222222, \"#7201a8\"], [0.3333333333333333, \"#9c179e\"], [0.4444444444444444, \"#bd3786\"], [0.5555555555555556, \"#d8576b\"], [0.6666666666666666, \"#ed7953\"], [0.7777777777777778, \"#fb9f3a\"], [0.8888888888888888, \"#fdca26\"], [1.0, \"#f0f921\"]], \"type\": \"histogram2dcontour\"}], \"mesh3d\": [{\"colorbar\": {\"outlinewidth\": 0, \"ticks\": \"\"}, \"type\": \"mesh3d\"}], \"parcoords\": [{\"line\": {\"colorbar\": {\"outlinewidth\": 0, \"ticks\": \"\"}}, \"type\": \"parcoords\"}], \"pie\": [{\"automargin\": true, \"type\": \"pie\"}], \"scatter\": [{\"marker\": {\"colorbar\": {\"outlinewidth\": 0, \"ticks\": \"\"}}, \"type\": \"scatter\"}], \"scatter3d\": [{\"line\": {\"colorbar\": {\"outlinewidth\": 0, \"ticks\": \"\"}}, \"marker\": {\"colorbar\": {\"outlinewidth\": 0, \"ticks\": \"\"}}, \"type\": \"scatter3d\"}], \"scattercarpet\": [{\"marker\": {\"colorbar\": {\"outlinewidth\": 0, \"ticks\": \"\"}}, \"type\": \"scattercarpet\"}], \"scattergeo\": [{\"marker\": {\"colorbar\": {\"outlinewidth\": 0, \"ticks\": \"\"}}, \"type\": \"scattergeo\"}], \"scattergl\": [{\"marker\": {\"colorbar\": {\"outlinewidth\": 0, \"ticks\": \"\"}}, \"type\": \"scattergl\"}], \"scattermapbox\": [{\"marker\": {\"colorbar\": {\"outlinewidth\": 0, \"ticks\": \"\"}}, \"type\": \"scattermapbox\"}], \"scatterpolar\": [{\"marker\": {\"colorbar\": {\"outlinewidth\": 0, \"ticks\": \"\"}}, \"type\": \"scatterpolar\"}], \"scatterpolargl\": [{\"marker\": {\"colorbar\": {\"outlinewidth\": 0, \"ticks\": \"\"}}, \"type\": \"scatterpolargl\"}], \"scatterternary\": [{\"marker\": {\"colorbar\": {\"outlinewidth\": 0, \"ticks\": \"\"}}, \"type\": \"scatterternary\"}], \"surface\": [{\"colorbar\": {\"outlinewidth\": 0, \"ticks\": \"\"}, \"colorscale\": [[0.0, \"#0d0887\"], [0.1111111111111111, \"#46039f\"], [0.2222222222222222, \"#7201a8\"], [0.3333333333333333, \"#9c179e\"], [0.4444444444444444, \"#bd3786\"], [0.5555555555555556, \"#d8576b\"], [0.6666666666666666, \"#ed7953\"], [0.7777777777777778, \"#fb9f3a\"], [0.8888888888888888, \"#fdca26\"], [1.0, \"#f0f921\"]], \"type\": \"surface\"}], \"table\": [{\"cells\": {\"fill\": {\"color\": \"#EBF0F8\"}, \"line\": {\"color\": \"white\"}}, \"header\": {\"fill\": {\"color\": \"#C8D4E3\"}, \"line\": {\"color\": \"white\"}}, \"type\": \"table\"}]}, \"layout\": {\"annotationdefaults\": {\"arrowcolor\": \"#2a3f5f\", \"arrowhead\": 0, \"arrowwidth\": 1}, \"autotypenumbers\": \"strict\", \"coloraxis\": {\"colorbar\": {\"outlinewidth\": 0, \"ticks\": \"\"}}, \"colorscale\": {\"diverging\": [[0, \"#8e0152\"], [0.1, \"#c51b7d\"], [0.2, \"#de77ae\"], [0.3, \"#f1b6da\"], [0.4, \"#fde0ef\"], [0.5, \"#f7f7f7\"], [0.6, \"#e6f5d0\"], [0.7, \"#b8e186\"], [0.8, \"#7fbc41\"], [0.9, \"#4d9221\"], [1, \"#276419\"]], \"sequential\": [[0.0, \"#0d0887\"], [0.1111111111111111, \"#46039f\"], [0.2222222222222222, \"#7201a8\"], [0.3333333333333333, \"#9c179e\"], [0.4444444444444444, \"#bd3786\"], [0.5555555555555556, \"#d8576b\"], [0.6666666666666666, \"#ed7953\"], [0.7777777777777778, \"#fb9f3a\"], [0.8888888888888888, \"#fdca26\"], [1.0, \"#f0f921\"]], \"sequentialminus\": [[0.0, \"#0d0887\"], [0.1111111111111111, \"#46039f\"], [0.2222222222222222, \"#7201a8\"], [0.3333333333333333, \"#9c179e\"], [0.4444444444444444, \"#bd3786\"], [0.5555555555555556, \"#d8576b\"], [0.6666666666666666, \"#ed7953\"], [0.7777777777777778, \"#fb9f3a\"], [0.8888888888888888, \"#fdca26\"], [1.0, \"#f0f921\"]]}, \"colorway\": [\"#636efa\", \"#EF553B\", \"#00cc96\", \"#ab63fa\", \"#FFA15A\", \"#19d3f3\", \"#FF6692\", \"#B6E880\", \"#FF97FF\", \"#FECB52\"], \"font\": {\"color\": \"#2a3f5f\"}, \"geo\": {\"bgcolor\": \"white\", \"lakecolor\": \"white\", \"landcolor\": \"#E5ECF6\", \"showlakes\": true, \"showland\": true, \"subunitcolor\": \"white\"}, \"hoverlabel\": {\"align\": \"left\"}, \"hovermode\": \"closest\", \"mapbox\": {\"style\": \"light\"}, \"paper_bgcolor\": \"white\", \"plot_bgcolor\": \"#E5ECF6\", \"polar\": {\"angularaxis\": {\"gridcolor\": \"white\", \"linecolor\": \"white\", \"ticks\": \"\"}, \"bgcolor\": \"#E5ECF6\", \"radialaxis\": {\"gridcolor\": \"white\", \"linecolor\": \"white\", \"ticks\": \"\"}}, \"scene\": {\"xaxis\": {\"backgroundcolor\": \"#E5ECF6\", \"gridcolor\": \"white\", \"gridwidth\": 2, \"linecolor\": \"white\", \"showbackground\": true, \"ticks\": \"\", \"zerolinecolor\": \"white\"}, \"yaxis\": {\"backgroundcolor\": \"#E5ECF6\", \"gridcolor\": \"white\", \"gridwidth\": 2, \"linecolor\": \"white\", \"showbackground\": true, \"ticks\": \"\", \"zerolinecolor\": \"white\"}, \"zaxis\": {\"backgroundcolor\": \"#E5ECF6\", \"gridcolor\": \"white\", \"gridwidth\": 2, \"linecolor\": \"white\", \"showbackground\": true, \"ticks\": \"\", \"zerolinecolor\": \"white\"}}, \"shapedefaults\": {\"line\": {\"color\": \"#2a3f5f\"}}, \"ternary\": {\"aaxis\": {\"gridcolor\": \"white\", \"linecolor\": \"white\", \"ticks\": \"\"}, \"baxis\": {\"gridcolor\": \"white\", \"linecolor\": \"white\", \"ticks\": \"\"}, \"bgcolor\": \"#E5ECF6\", \"caxis\": {\"gridcolor\": \"white\", \"linecolor\": \"white\", \"ticks\": \"\"}}, \"title\": {\"x\": 0.05}, \"xaxis\": {\"automargin\": true, \"gridcolor\": \"white\", \"linecolor\": \"white\", \"ticks\": \"\", \"title\": {\"standoff\": 15}, \"zerolinecolor\": \"white\", \"zerolinewidth\": 2}, \"yaxis\": {\"automargin\": true, \"gridcolor\": \"white\", \"linecolor\": \"white\", \"ticks\": \"\", \"title\": {\"standoff\": 15}, \"zerolinecolor\": \"white\", \"zerolinewidth\": 2}}}, \"title\": {\"font\": {\"color\": \"#4D5663\"}}, \"xaxis\": {\"anchor\": \"y\", \"domain\": [0.0, 0.2125], \"gridcolor\": \"#E1E5ED\", \"showgrid\": false, \"tickfont\": {\"color\": \"#4D5663\"}, \"title\": {\"font\": {\"color\": \"#4D5663\"}, \"text\": \"\"}, \"zerolinecolor\": \"#E1E5ED\"}, \"xaxis10\": {\"anchor\": \"y10\", \"domain\": [0.2625, 0.475], \"gridcolor\": \"#E1E5ED\", \"showgrid\": false, \"tickfont\": {\"color\": \"#4D5663\"}, \"title\": {\"font\": {\"color\": \"#4D5663\"}, \"text\": \"\"}, \"zerolinecolor\": \"#E1E5ED\"}, \"xaxis11\": {\"anchor\": \"y11\", \"domain\": [0.525, 0.7375], \"gridcolor\": \"#E1E5ED\", \"showgrid\": false, \"tickfont\": {\"color\": \"#4D5663\"}, \"title\": {\"font\": {\"color\": \"#4D5663\"}, \"text\": \"\"}, \"zerolinecolor\": \"#E1E5ED\"}, \"xaxis12\": {\"anchor\": \"y12\", \"domain\": [0.7875, 1.0], \"gridcolor\": \"#E1E5ED\", \"showgrid\": false, \"tickfont\": {\"color\": \"#4D5663\"}, \"title\": {\"font\": {\"color\": \"#4D5663\"}, \"text\": \"\"}, \"zerolinecolor\": \"#E1E5ED\"}, \"xaxis13\": {\"anchor\": \"y13\", \"domain\": [0.0, 0.2125], \"gridcolor\": \"#E1E5ED\", \"showgrid\": false, \"tickfont\": {\"color\": \"#4D5663\"}, \"title\": {\"font\": {\"color\": \"#4D5663\"}, \"text\": \"\"}, \"zerolinecolor\": \"#E1E5ED\"}, \"xaxis14\": {\"anchor\": \"y14\", \"domain\": [0.2625, 0.475], \"gridcolor\": \"#E1E5ED\", \"showgrid\": false, \"tickfont\": {\"color\": \"#4D5663\"}, \"title\": {\"font\": {\"color\": \"#4D5663\"}, \"text\": \"\"}, \"zerolinecolor\": \"#E1E5ED\"}, \"xaxis15\": {\"anchor\": \"y15\", \"domain\": [0.525, 0.7375], \"gridcolor\": \"#E1E5ED\", \"showgrid\": false, \"tickfont\": {\"color\": \"#4D5663\"}, \"title\": {\"font\": {\"color\": \"#4D5663\"}, \"text\": \"\"}, \"zerolinecolor\": \"#E1E5ED\"}, \"xaxis16\": {\"anchor\": \"y16\", \"domain\": [0.7875, 1.0], \"gridcolor\": \"#E1E5ED\", \"showgrid\": false, \"tickfont\": {\"color\": \"#4D5663\"}, \"title\": {\"font\": {\"color\": \"#4D5663\"}, \"text\": \"\"}, \"zerolinecolor\": \"#E1E5ED\"}, \"xaxis2\": {\"anchor\": \"y2\", \"domain\": [0.2625, 0.475], \"gridcolor\": \"#E1E5ED\", \"showgrid\": false, \"tickfont\": {\"color\": \"#4D5663\"}, \"title\": {\"font\": {\"color\": \"#4D5663\"}, \"text\": \"\"}, \"zerolinecolor\": \"#E1E5ED\"}, \"xaxis3\": {\"anchor\": \"y3\", \"domain\": [0.525, 0.7375], \"gridcolor\": \"#E1E5ED\", \"showgrid\": false, \"tickfont\": {\"color\": \"#4D5663\"}, \"title\": {\"font\": {\"color\": \"#4D5663\"}, \"text\": \"\"}, \"zerolinecolor\": \"#E1E5ED\"}, \"xaxis4\": {\"anchor\": \"y4\", \"domain\": [0.7875, 1.0], \"gridcolor\": \"#E1E5ED\", \"showgrid\": false, \"tickfont\": {\"color\": \"#4D5663\"}, \"title\": {\"font\": {\"color\": \"#4D5663\"}, \"text\": \"\"}, \"zerolinecolor\": \"#E1E5ED\"}, \"xaxis5\": {\"anchor\": \"y5\", \"domain\": [0.0, 0.2125], \"gridcolor\": \"#E1E5ED\", \"showgrid\": false, \"tickfont\": {\"color\": \"#4D5663\"}, \"title\": {\"font\": {\"color\": \"#4D5663\"}, \"text\": \"\"}, \"zerolinecolor\": \"#E1E5ED\"}, \"xaxis6\": {\"anchor\": \"y6\", \"domain\": [0.2625, 0.475], \"gridcolor\": \"#E1E5ED\", \"showgrid\": false, \"tickfont\": {\"color\": \"#4D5663\"}, \"title\": {\"font\": {\"color\": \"#4D5663\"}, \"text\": \"\"}, \"zerolinecolor\": \"#E1E5ED\"}, \"xaxis7\": {\"anchor\": \"y7\", \"domain\": [0.525, 0.7375], \"gridcolor\": \"#E1E5ED\", \"showgrid\": false, \"tickfont\": {\"color\": \"#4D5663\"}, \"title\": {\"font\": {\"color\": \"#4D5663\"}, \"text\": \"\"}, \"zerolinecolor\": \"#E1E5ED\"}, \"xaxis8\": {\"anchor\": \"y8\", \"domain\": [0.7875, 1.0], \"gridcolor\": \"#E1E5ED\", \"showgrid\": false, \"tickfont\": {\"color\": \"#4D5663\"}, \"title\": {\"font\": {\"color\": \"#4D5663\"}, \"text\": \"\"}, \"zerolinecolor\": \"#E1E5ED\"}, \"xaxis9\": {\"anchor\": \"y9\", \"domain\": [0.0, 0.2125], \"gridcolor\": \"#E1E5ED\", \"showgrid\": false, \"tickfont\": {\"color\": \"#4D5663\"}, \"title\": {\"font\": {\"color\": \"#4D5663\"}, \"text\": \"\"}, \"zerolinecolor\": \"#E1E5ED\"}, \"yaxis\": {\"anchor\": \"x\", \"domain\": [0.8025, 1.0], \"gridcolor\": \"#E1E5ED\", \"showgrid\": false, \"tickfont\": {\"color\": \"#4D5663\"}, \"title\": {\"font\": {\"color\": \"#4D5663\"}, \"text\": \"\"}, \"zerolinecolor\": \"#E1E5ED\"}, \"yaxis10\": {\"anchor\": \"x10\", \"domain\": [0.2675, 0.465], \"gridcolor\": \"#E1E5ED\", \"showgrid\": false, \"tickfont\": {\"color\": \"#4D5663\"}, \"title\": {\"font\": {\"color\": \"#4D5663\"}, \"text\": \"\"}, \"zerolinecolor\": \"#E1E5ED\"}, \"yaxis11\": {\"anchor\": \"x11\", \"domain\": [0.2675, 0.465], \"gridcolor\": \"#E1E5ED\", \"showgrid\": false, \"tickfont\": {\"color\": \"#4D5663\"}, \"title\": {\"font\": {\"color\": \"#4D5663\"}, \"text\": \"\"}, \"zerolinecolor\": \"#E1E5ED\"}, \"yaxis12\": {\"anchor\": \"x12\", \"domain\": [0.2675, 0.465], \"gridcolor\": \"#E1E5ED\", \"showgrid\": false, \"tickfont\": {\"color\": \"#4D5663\"}, \"title\": {\"font\": {\"color\": \"#4D5663\"}, \"text\": \"\"}, \"zerolinecolor\": \"#E1E5ED\"}, \"yaxis13\": {\"anchor\": \"x13\", \"domain\": [0.0, 0.1975], \"gridcolor\": \"#E1E5ED\", \"showgrid\": false, \"tickfont\": {\"color\": \"#4D5663\"}, \"title\": {\"font\": {\"color\": \"#4D5663\"}, \"text\": \"\"}, \"zerolinecolor\": \"#E1E5ED\"}, \"yaxis14\": {\"anchor\": \"x14\", \"domain\": [0.0, 0.1975], \"gridcolor\": \"#E1E5ED\", \"showgrid\": false, \"tickfont\": {\"color\": \"#4D5663\"}, \"title\": {\"font\": {\"color\": \"#4D5663\"}, \"text\": \"\"}, \"zerolinecolor\": \"#E1E5ED\"}, \"yaxis15\": {\"anchor\": \"x15\", \"domain\": [0.0, 0.1975], \"gridcolor\": \"#E1E5ED\", \"showgrid\": false, \"tickfont\": {\"color\": \"#4D5663\"}, \"title\": {\"font\": {\"color\": \"#4D5663\"}, \"text\": \"\"}, \"zerolinecolor\": \"#E1E5ED\"}, \"yaxis16\": {\"anchor\": \"x16\", \"domain\": [0.0, 0.1975], \"gridcolor\": \"#E1E5ED\", \"showgrid\": false, \"tickfont\": {\"color\": \"#4D5663\"}, \"title\": {\"font\": {\"color\": \"#4D5663\"}, \"text\": \"\"}, \"zerolinecolor\": \"#E1E5ED\"}, \"yaxis2\": {\"anchor\": \"x2\", \"domain\": [0.8025, 1.0], \"gridcolor\": \"#E1E5ED\", \"showgrid\": false, \"tickfont\": {\"color\": \"#4D5663\"}, \"title\": {\"font\": {\"color\": \"#4D5663\"}, \"text\": \"\"}, \"zerolinecolor\": \"#E1E5ED\"}, \"yaxis3\": {\"anchor\": \"x3\", \"domain\": [0.8025, 1.0], \"gridcolor\": \"#E1E5ED\", \"showgrid\": false, \"tickfont\": {\"color\": \"#4D5663\"}, \"title\": {\"font\": {\"color\": \"#4D5663\"}, \"text\": \"\"}, \"zerolinecolor\": \"#E1E5ED\"}, \"yaxis4\": {\"anchor\": \"x4\", \"domain\": [0.8025, 1.0], \"gridcolor\": \"#E1E5ED\", \"showgrid\": false, \"tickfont\": {\"color\": \"#4D5663\"}, \"title\": {\"font\": {\"color\": \"#4D5663\"}, \"text\": \"\"}, \"zerolinecolor\": \"#E1E5ED\"}, \"yaxis5\": {\"anchor\": \"x5\", \"domain\": [0.535, 0.7325], \"gridcolor\": \"#E1E5ED\", \"showgrid\": false, \"tickfont\": {\"color\": \"#4D5663\"}, \"title\": {\"font\": {\"color\": \"#4D5663\"}, \"text\": \"\"}, \"zerolinecolor\": \"#E1E5ED\"}, \"yaxis6\": {\"anchor\": \"x6\", \"domain\": [0.535, 0.7325], \"gridcolor\": \"#E1E5ED\", \"showgrid\": false, \"tickfont\": {\"color\": \"#4D5663\"}, \"title\": {\"font\": {\"color\": \"#4D5663\"}, \"text\": \"\"}, \"zerolinecolor\": \"#E1E5ED\"}, \"yaxis7\": {\"anchor\": \"x7\", \"domain\": [0.535, 0.7325], \"gridcolor\": \"#E1E5ED\", \"showgrid\": false, \"tickfont\": {\"color\": \"#4D5663\"}, \"title\": {\"font\": {\"color\": \"#4D5663\"}, \"text\": \"\"}, \"zerolinecolor\": \"#E1E5ED\"}, \"yaxis8\": {\"anchor\": \"x8\", \"domain\": [0.535, 0.7325], \"gridcolor\": \"#E1E5ED\", \"showgrid\": false, \"tickfont\": {\"color\": \"#4D5663\"}, \"title\": {\"font\": {\"color\": \"#4D5663\"}, \"text\": \"\"}, \"zerolinecolor\": \"#E1E5ED\"}, \"yaxis9\": {\"anchor\": \"x9\", \"domain\": [0.2675, 0.465], \"gridcolor\": \"#E1E5ED\", \"showgrid\": false, \"tickfont\": {\"color\": \"#4D5663\"}, \"title\": {\"font\": {\"color\": \"#4D5663\"}, \"text\": \"\"}, \"zerolinecolor\": \"#E1E5ED\"}},                        {\"showLink\": true, \"linkText\": \"Export to plot.ly\", \"plotlyServerURL\": \"https://plot.ly\", \"responsive\": true}                    ).then(function(){\n",
       "                            \n",
       "var gd = document.getElementById('29dcc373-ce6b-4cb1-88ee-ad2e2c6f885c');\n",
       "var x = new MutationObserver(function (mutations, observer) {{\n",
       "        var display = window.getComputedStyle(gd).display;\n",
       "        if (!display || display === 'none') {{\n",
       "            console.log([gd, 'removed!']);\n",
       "            Plotly.purge(gd);\n",
       "            observer.disconnect();\n",
       "        }}\n",
       "}});\n",
       "\n",
       "// Listen for the removal of the full notebook cells\n",
       "var notebookContainer = gd.closest('#notebook-container');\n",
       "if (notebookContainer) {{\n",
       "    x.observe(notebookContainer, {childList: true});\n",
       "}}\n",
       "\n",
       "// Listen for the clearing of the current output cell\n",
       "var outputEl = gd.closest('.output');\n",
       "if (outputEl) {{\n",
       "    x.observe(outputEl, {childList: true});\n",
       "}}\n",
       "\n",
       "                        })                };                });            </script>        </div>"
      ]
     },
     "metadata": {},
     "output_type": "display_data"
    }
   ],
   "source": [
    "df.scatter_matrix()"
   ]
  },
  {
   "cell_type": "markdown",
   "metadata": {
    "collapsed": true
   },
   "source": [
    "# SG done for the day!"
   ]
  }
 ],
 "metadata": {
  "kernelspec": {
   "display_name": "Python 3",
   "language": "python",
   "name": "python3"
  },
  "language_info": {
   "codemirror_mode": {
    "name": "ipython",
    "version": 3
   },
   "file_extension": ".py",
   "mimetype": "text/x-python",
   "name": "python",
   "nbconvert_exporter": "python",
   "pygments_lexer": "ipython3",
   "version": "3.8.5"
  }
 },
 "nbformat": 4,
 "nbformat_minor": 1
}
